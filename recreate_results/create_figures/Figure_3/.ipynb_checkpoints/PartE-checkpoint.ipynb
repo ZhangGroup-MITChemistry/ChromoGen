{
 "cells": [
  {
   "cell_type": "code",
   "execution_count": 1,
   "id": "b5a52dbd-58b1-431a-afac-77a042d5a5e4",
   "metadata": {},
   "outputs": [
    {
     "name": "stderr",
     "output_type": "stream",
     "text": [
      "2024-11-21 17:30:18.945436: W tensorflow/compiler/tf2tensorrt/utils/py_utils.cc:38] TF-TRT Warning: Could not find TensorRT\n"
     ]
    }
   ],
   "source": [
    "from ChromoGen.model.Diffuser.training_utils import ConfigDataset\n",
    "from ChromoGen import Conformations\n",
    "from concurrent.futures import ThreadPoolExecutor\n",
    "import matplotlib.pyplot as plt\n",
    "from tqdm.auto import tqdm\n",
    "from pathlib import Path\n",
    "import torch\n",
    "\n",
    "plt.style.use('../support/plot_style.txt')"
   ]
  },
  {
   "cell_type": "markdown",
   "id": "b0465d89-4536-45b3-aae6-84e27ee4c291",
   "metadata": {},
   "source": [
    "## Prep"
   ]
  },
  {
   "cell_type": "markdown",
   "id": "3c794872-0004-447b-89f6-822d16c6644c",
   "metadata": {},
   "source": [
    "Paths"
   ]
  },
  {
   "cell_type": "code",
   "execution_count": 2,
   "id": "1fc7c0f9-cbd9-4a3d-a769-6b78835bb2d9",
   "metadata": {},
   "outputs": [],
   "source": [
    "pdf_dir = Path('./pdfs/')\n",
    "cgen_conformations_dir = '../../downloaded_data/conformations/ChromoGen/genome_wide/GM12878/chrom_22/'\n",
    "formatted_dipc_data = '../../downloaded_data/conformations/DipC/processed_data.h5'\n",
    "temp_data_dir = './calc_results/'\n",
    "\n",
    "# To parallelize data loading/coordinate centering via ThreadPoolExecutor. \n",
    "# If you aren't on a distributed system, probably want max_workers=1 or the \n",
    "# file requests may slow down your data reads. \n",
    "# The bulk of the computation isn't parallelized BY ME since it happens on the CPU\n",
    "# (relatively few cores) using MDTraj, WHICH ALREADY PARALLELIZES across all the available cores.\n",
    "max_workers = None\n",
    "\n",
    "# Note: Not giving high-precision/gpu params because MDTraj doesn't work with either. \n",
    "# However, coordinates will be centered with double precision prior to MDTraj computations. "
   ]
  },
  {
   "cell_type": "markdown",
   "id": "cf9068ba-72a8-4ad8-8d14-3f5d3c1ba1b3",
   "metadata": {},
   "source": [
    "Format paths"
   ]
  },
  {
   "cell_type": "code",
   "execution_count": 3,
   "id": "71bf9048-cd3a-4678-9fa2-84f09ab48bb9",
   "metadata": {},
   "outputs": [
    {
     "ename": "AssertionError",
     "evalue": "",
     "output_type": "error",
     "traceback": [
      "\u001b[0;31m---------------------------------------------------------------------------\u001b[0m",
      "\u001b[0;31mAssertionError\u001b[0m                            Traceback (most recent call last)",
      "Cell \u001b[0;32mIn[3], line 9\u001b[0m\n\u001b[1;32m      6\u001b[0m \u001b[38;5;28;01massert\u001b[39;00m formatted_dipc_data\u001b[38;5;241m.\u001b[39mexists()\n\u001b[1;32m      8\u001b[0m temp_data_dir \u001b[38;5;241m=\u001b[39m Path(temp_data_dir)\n\u001b[0;32m----> 9\u001b[0m \u001b[38;5;28;01massert\u001b[39;00m temp_data_dir\u001b[38;5;241m.\u001b[39mexists()\n\u001b[1;32m     11\u001b[0m \u001b[38;5;28;01mif\u001b[39;00m max_workers \u001b[38;5;129;01mis\u001b[39;00m \u001b[38;5;129;01mnot\u001b[39;00m \u001b[38;5;28;01mNone\u001b[39;00m:\n\u001b[1;32m     12\u001b[0m     \u001b[38;5;28;01massert\u001b[39;00m \u001b[38;5;28misinstance\u001b[39m(max_workers,\u001b[38;5;28mint\u001b[39m) \u001b[38;5;129;01mand\u001b[39;00m max_workers \u001b[38;5;241m>\u001b[39m \u001b[38;5;241m0\u001b[39m\n",
      "\u001b[0;31mAssertionError\u001b[0m: "
     ]
    }
   ],
   "source": [
    "# data directories. Likely to exist if you cloned the repo. \n",
    "cgen_conformations_dir = Path(cgen_conformations_dir)\n",
    "assert cgen_conformations_dir.exists()\n",
    "\n",
    "formatted_dipc_data = Path(formatted_dipc_data)\n",
    "assert formatted_dipc_data.exists()\n",
    "\n",
    "temp_data_dir = Path(temp_data_dir)\n",
    "temp_data_dir.mkdir(exist_ok=True,parents=True)\n",
    "\n",
    "if max_workers is not None:\n",
    "    assert isinstance(max_workers,int) and max_workers > 0\n",
    "\n",
    "pdf_dir = Path(pdf_dir)\n",
    "pdf_dir.mkdir(exist_ok=True,parents=True)\n",
    "\n",
    "if (fn:=cgen_conformations_dir.name)[:6] == 'chrom_':\n",
    "    chroms = [fn.split('_')[-1]]\n",
    "else:\n",
    "    chroms = None"
   ]
  },
  {
   "cell_type": "markdown",
   "id": "fa94e468-73f9-46fe-b603-0d467501dcc1",
   "metadata": {},
   "source": [
    "Initialize Dip-C dataset"
   ]
  },
  {
   "cell_type": "code",
   "execution_count": null,
   "id": "916a6029-f25a-43e9-9479-b1ad283ebf9e",
   "metadata": {},
   "outputs": [],
   "source": [
    "config_ds = ConfigDataset(\n",
    "    str(formatted_dipc_data),\n",
    "    segment_length=64,\n",
    "    remove_diagonal=False,\n",
    "    batch_size=0,\n",
    "    normalize_distances=False, \n",
    "    geos=None,\n",
    "    organisms=None,\n",
    "    cell_types=None,\n",
    "    cell_numbers=None,\n",
    "    chroms=chroms, \n",
    "    replicates=None,\n",
    "    shuffle=False,\n",
    "    allow_overlap=True,\n",
    "    two_channels=False,\n",
    "    try_GPU=False,\n",
    "    mean_dist_fp=None,\n",
    "    mean_sq_dist_fp=None\n",
    ")"
   ]
  },
  {
   "cell_type": "markdown",
   "id": "f61398dc-ae5f-44d9-8291-4ab7e89811ed",
   "metadata": {},
   "source": [
    "## Compute statistics"
   ]
  },
  {
   "cell_type": "markdown",
   "id": "0d0548c7-aa22-431d-a72d-19e5aef18d5e",
   "metadata": {},
   "source": [
    "#### Support"
   ]
  },
  {
   "cell_type": "markdown",
   "id": "bff37a65-2bf5-4ab0-96fc-fdef76b95395",
   "metadata": {},
   "source": [
    "This will be run in parallel since IO is a significant factor in time to run this script"
   ]
  },
  {
   "cell_type": "code",
   "execution_count": null,
   "id": "f203c049-e40e-46a8-a0f5-f44f27175620",
   "metadata": {},
   "outputs": [],
   "source": [
    "def load_and_center_conformations(f):\n",
    "\n",
    "    ###\n",
    "    # Infer chromosome, start_idx from the filepath\n",
    "    chrom = f.parent.name.split('_')[-1]\n",
    "    start_idx = int(f.name.split('_')[2]) * 1000\n",
    "\n",
    "    ### \n",
    "    # Dip-C \n",
    "    \n",
    "    # Grab the Dip-C conformations (which are techincally already in memory but\n",
    "    # must be parsed) and info about which cell, replicate, etc., \n",
    "    # maternal/paternal chromosome, etc., they come from\n",
    "    info_df, coords = config_ds.fetch_specific_coords(chrom,start_idx)\n",
    "\n",
    "    # Remove replicates, which may otherwise bias the results\n",
    "    observed_chroms = []\n",
    "    rows_to_use = []\n",
    "    for i,row in info_df.iterrows():\n",
    "        info = (row.Cell,row.Lineage)\n",
    "        if info in observed_chroms:\n",
    "            continue\n",
    "        observed_chroms.append(info)\n",
    "        rows_to_use.append(i)\n",
    "    \n",
    "    dipc_conformations = Conformations(coords[rows_to_use,...])\n",
    "    \n",
    "    # Load/concatenate all the ChromoGen-inferred conformations\n",
    "    f2 = cgen_conformations_dir / f'start_idx_{start_idx//1000}_cond_scale_1.0_rescaled_phi_0.0.pt'\n",
    "    f1 = cgen_conformations_dir / f'start_idx_{start_idx//1000}_cond_scale_5.0_rescaled_phi_8.0.pt'\n",
    "    cgen_conformations = Conformations(f1).cat(Conformations(f2)).double_()\n",
    "\n",
    "    # Center coordinates\n",
    "    dipc_conformations = dipc_conformations.center_coordinates()\n",
    "    cgen_conformations = cgen_conformations.center_coordinates()\n",
    "\n",
    "    # Return on CPU & with single precision, which isn't technically necessary since the \n",
    "    # Conformations subclasses handle this dynamically, but it avoids the associated overhead.\n",
    "    return cgen_conformations.float_().cpu_(), dipc_conformations.float_().cpu_()"
   ]
  },
  {
   "cell_type": "markdown",
   "id": "77ec83c4-7158-402a-8a1a-7ca20cd338b8",
   "metadata": {},
   "source": [
    "This function does all the work."
   ]
  },
  {
   "cell_type": "code",
   "execution_count": null,
   "id": "cd872f57-a1b3-468a-9660-169ce88e8818",
   "metadata": {},
   "outputs": [],
   "source": [
    "def rmsd_calc_one_region(\n",
    "    cgen_conformations,\n",
    "    dipc_conformations,\n",
    "    cgen_conformations_dir = cgen_conformations_dir,\n",
    "    config_ds = config_ds\n",
    "):\n",
    "\n",
    "    # Compute all pairwise RMSD values\n",
    "    rmsds = []\n",
    "    for reference in dipc_conformations:\n",
    "        # Superpose the ChromoGen-inferred conformations onto the reference\n",
    "        # Clone the true coordinates since this happens in-place. \n",
    "        # Note that while I believe MDTraj.rmsd does this step automatically, \n",
    "        # I am doing it separately here for good measure. \n",
    "        cgen = cgen_conformations.clone().superpose(reference, use_mdtraj = True)\n",
    "\n",
    "        # RMSD calculation\n",
    "        rmsds.append(cgen.rmsd(reference, use_mdtraj = True))\n",
    "\n",
    "    # Stacking on dimension 0 makes dimensions (dipc index, cgen index)\n",
    "    rmsds = torch.stack(rmsds,dim=0)\n",
    "\n",
    "    # For conformations containing NaNs, MDTraj gives us a zero-valued RMSD.\n",
    "    # That's obviously wrong, so replace them with NaNs\n",
    "    rmsds[:,cgen.values.isnan().any(-1).any(-1)] = torch.nan\n",
    "    \n",
    "    return rmsds"
   ]
  },
  {
   "cell_type": "markdown",
   "id": "575ade08-747d-4e5d-93f1-866a5b48649a",
   "metadata": {},
   "source": [
    "### Compute the results"
   ]
  },
  {
   "cell_type": "markdown",
   "id": "43503e09-adcc-4363-aca8-678bb4fcbf9f",
   "metadata": {},
   "source": [
    "#### Pairwise RMSDs"
   ]
  },
  {
   "cell_type": "code",
   "execution_count": null,
   "id": "453a70ef-e1bf-4e87-83fd-7b948823567d",
   "metadata": {},
   "outputs": [],
   "source": [
    "result_fp = temp_data_dir / 'rmsd_results.pt'\n",
    "\n",
    "if False: #result_fp.exists():\n",
    "    rmsds = torch.load(result_fp)\n",
    "else:\n",
    "\n",
    "    # Iterate over files associated with one set of guidance parameters to avoid\n",
    "    # computing the same data multiple times. \n",
    "    files = list(cgen_conformations_dir.rglob('*cond_scale_1.0_rescaled_phi_0.0.pt'))\n",
    "    files.sort() # makes it easier to analyze specific datapoints later (if desired).\n",
    "    \n",
    "    # So that we can submit computations before all data is loaded \n",
    "    # but also don't run into issues where already-parallel MDTraj\n",
    "    # computations conflict with each other\n",
    "    executor1 = ThreadPoolExecutor(max_workers=1) \n",
    "    \n",
    "    with ThreadPoolExecutor(max_workers=max_workers) as executor:\n",
    "        load_futures = [\n",
    "            executor.submit(load_and_center_conformations,f)\n",
    "            for f in files\n",
    "        ]\n",
    "        compute_futures = []\n",
    "\n",
    "        for future in tqdm(load_futures,desc='Load progress'):\n",
    "            compute_futures.append(\n",
    "                executor1.submit(rmsd_calc_one_region,*future.result())\n",
    "            )\n",
    "    \n",
    "    rmsds = []\n",
    "    for future in tqdm(compute_futures,desc='Compute progress'):\n",
    "        rmsds.append(future.result())\n",
    "\n",
    "    rmsds = torch.cat(rmsds,dim=0)\n",
    "        \n",
    "    executor1.shutdown()\n",
    "\n",
    "    torch.save({'rmsds':rmsds}, result_fp)\n",
    "\n",
    "# Convert to nm\n",
    "rmsds*= 100"
   ]
  },
  {
   "cell_type": "markdown",
   "id": "422ee02c-10d7-42c6-b82c-e9f5d7ff21d6",
   "metadata": {},
   "source": [
    "Include cross-region analysis. This one takes a while!"
   ]
  },
  {
   "cell_type": "code",
   "execution_count": null,
   "id": "d5a3234c-2c38-44b3-8255-898e82a80601",
   "metadata": {},
   "outputs": [],
   "source": [
    "result_fp = temp_data_dir / 'rmsd_results_across_chromosome.pt'\n",
    "\n",
    "if result_fp.exists():\n",
    "    rmsds_chromosome_wide = torch.load(result_fp)\n",
    "else:\n",
    "\n",
    "    # Iterate over files associated with one set of guidance parameters to avoid\n",
    "    # computing the same data multiple times. \n",
    "    files = list(cgen_conformations_dir.rglob('*cond_scale_1.0_rescaled_phi_0.0.pt'))\n",
    "    files.sort() # makes it easier to analyze specific datapoints later (if desired).\n",
    "\n",
    "    # Load conformations\n",
    "    with ThreadPoolExecutor(max_workers=max_workers) as executor:\n",
    "        load_futures = [\n",
    "            executor.submit(load_and_center_conformations,f)\n",
    "            for f in files\n",
    "        ]\n",
    "        compute_futures = []\n",
    "\n",
    "        cgen, dipc = [], []\n",
    "        for future in tqdm(load_futures,desc='Load progress'):\n",
    "            a,b = future.result()\n",
    "            cgen.append(a)\n",
    "            dipc.append(b)\n",
    "\n",
    "    # Concatenate all the conformations\n",
    "    cgen = cgen[0].append(cgen[1:])\n",
    "    dipc = dipc[0].append(dipc[1:])\n",
    "\n",
    "    # compute RMSD values\n",
    "    rmsds_chromosome_wide = rmsd_calc_one_region(cgen,dipc)\n",
    "\n",
    "    # Save\n",
    "    torch.save(rmsds_chromosome_wide, result_fp)\n",
    "\n",
    "# Convert to nm\n",
    "rmsds_chromosome_wide*= 100"
   ]
  },
  {
   "cell_type": "markdown",
   "id": "1febfbfe-bbae-459c-a8ab-2fccea07fe4c",
   "metadata": {},
   "source": [
    "#### Compute the minimums & bin the data"
   ]
  },
  {
   "cell_type": "markdown",
   "id": "6c339bf8-c0e8-422a-97a1-d44c2ac8fb6a",
   "metadata": {},
   "source": [
    "Recall that dimensions are (Dip-C index, ChromoGen index), so we are finding the best ChromoGen-inferred structure for each Dip-C-inferred structure"
   ]
  },
  {
   "cell_type": "code",
   "execution_count": null,
   "id": "7a1bda22-3973-4994-8e6a-2488a2a844e2",
   "metadata": {},
   "outputs": [],
   "source": [
    "bins = torch.arange(0,1001,5,dtype=torch.float)\n",
    "\n",
    "# Conveniently, these functions ignore NaN values as-is when computing probability densities\n",
    "all_rmsds = torch.histogram(rmsds.flatten(),bins,density=True).hist.cpu().numpy()\n",
    "all_rmsds_chromosome_wide = torch.histogram(rmsds_chromosome_wide,bins,density=True).hist.cpu().numpy()\n",
    "\n",
    "# PyTorch ~for some reason~ doesn't have an nanmin method. So, replace the NaN values with \n",
    "# something deeeefinitely larger than the minimums before taking minimums\n",
    "rmsds[rmsds.isnan()] = 1_000_000_000\n",
    "rmsds_chromosome_wide[rmsds_chromosome_wide.isnan()] = 1_000_000_000\n",
    "\n",
    "# Bin the minimum values\n",
    "min_rmsds = torch.histogram(rmsds.min(1).values,bins,density=True).hist.cpu().numpy()\n",
    "min_rmsds_chromosome_wide = torch.histogram(rmsds_chromosome_wide.min(1).values,bins,density=True).hist.cpu().numpy()\n",
    "\n",
    "\n",
    "bins = bins.numpy()"
   ]
  },
  {
   "cell_type": "markdown",
   "id": "72b368a7-9279-4b8e-8e3f-87bea76736be",
   "metadata": {},
   "source": [
    "## Plot"
   ]
  },
  {
   "cell_type": "markdown",
   "id": "eb8efd2d-4d02-4188-9924-1b7173bf8053",
   "metadata": {},
   "source": [
    "Use the center of each bin as x-axis values. "
   ]
  },
  {
   "cell_type": "code",
   "execution_count": null,
   "id": "7eab87bf-7a65-4e4e-b465-8de7b44b749d",
   "metadata": {},
   "outputs": [],
   "source": [
    "x = (bins[1:] + bins[:-1]) / 2"
   ]
  },
  {
   "cell_type": "markdown",
   "id": "4d684ae1-65e8-4a7f-9c56-07c12b7071e9",
   "metadata": {},
   "source": [
    "Make the figure "
   ]
  },
  {
   "cell_type": "code",
   "execution_count": null,
   "id": "814ffdd2-9782-4ccc-addf-75d682612c29",
   "metadata": {},
   "outputs": [],
   "source": [
    "for rmsd_hist, rmsd_min_hist, fn in [\n",
    "    (all_rmsds,min_rmsds,'rmsds_within_region'),\n",
    "    (all_rmsds_chromosome_wide,min_rmsds_chromosome_wide,'rmsds_within_chromosome')\n",
    "]:\n",
    "\n",
    "    # Initialize\n",
    "    fig = plt.figure(figsize=(2.5,2.5))\n",
    "    ax = fig.add_subplot(111)\n",
    "    \n",
    "    # Plot the data\n",
    "    ax.plot(x,rmsd_hist,alpha=.5,label='All alignments')\n",
    "    ax.plot(x,rmsd_min_hist,alpha=.5,label='Best alignment')\n",
    "    \n",
    "    # Set limits\n",
    "    xlim = [150,675]\n",
    "    ax.set_xlim(xlim)\n",
    "    ymax = max(all_rmsds.max(),min_rmsds.max())\n",
    "    ylim = [-0.05 * ymax, 1.05 * ymax]\n",
    "    ax.set_ylim(ylim)\n",
    "    \n",
    "    # Set various labels\n",
    "    ax.set_title('ChromoGen-aligned Dip-C\\nstructures (chromosome 22)')\n",
    "    ax.set_xlabel('RMSD (nm)')\n",
    "    ax.set_ylabel('Probability density')\n",
    "    ax.legend(framealpha=0,fontsize='small')\n",
    "    \n",
    "    # Force the figure to be square\n",
    "    ax.set_aspect((xlim[1]-xlim[0])/(ylim[1]-ylim[0]))\n",
    "    \n",
    "    # Save\n",
    "    fig.savefig( (pdf_dir / fn).with_suffix('.pdf'), transparent=True)"
   ]
  }
 ],
 "metadata": {
  "kernelspec": {
   "display_name": "Python 3 (ipykernel)",
   "language": "python",
   "name": "python3"
  },
  "language_info": {
   "codemirror_mode": {
    "name": "ipython",
    "version": 3
   },
   "file_extension": ".py",
   "mimetype": "text/x-python",
   "name": "python",
   "nbconvert_exporter": "python",
   "pygments_lexer": "ipython3",
   "version": "3.10.12"
  }
 },
 "nbformat": 4,
 "nbformat_minor": 5
}
