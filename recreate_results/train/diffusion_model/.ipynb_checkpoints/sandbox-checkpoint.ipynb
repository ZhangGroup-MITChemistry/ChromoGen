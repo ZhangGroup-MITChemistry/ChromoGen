{
 "cells": [
  {
   "cell_type": "code",
   "execution_count": 1,
   "id": "1b9a4c8b-55bf-4802-b890-4cd7559323a5",
   "metadata": {},
   "outputs": [
    {
     "name": "stdout",
     "output_type": "stream",
     "text": [
      "IndexConversion.py  chrom_15.tar.gz  chrom_21.tar.gz  chrom_8.tar.gz\n",
      "chrom_1.tar.gz\t    chrom_16.tar.gz  chrom_22.tar.gz  chrom_9.tar.gz\n",
      "chrom_10.tar.gz     chrom_17.tar.gz  chrom_3.tar.gz   chrom_X.tar.gz\n",
      "chrom_11.tar.gz     chrom_18.tar.gz  chrom_4.tar.gz   extract_indices.py\n",
      "chrom_12.tar.gz     chrom_19.tar.gz  chrom_5.tar.gz   rosetta_stone.pkl\n",
      "chrom_13.tar.gz     chrom_2.tar.gz   chrom_6.tar.gz\n",
      "chrom_14.tar.gz     chrom_20.tar.gz  chrom_7.tar.gz\n"
     ]
    }
   ],
   "source": [
    "!ls ../../generate_data/embeddings/GM12878/"
   ]
  },
  {
   "cell_type": "code",
   "execution_count": 2,
   "id": "93b2e35e-a808-46e3-aa25-475c65ad4de6",
   "metadata": {},
   "outputs": [
    {
     "name": "stderr",
     "output_type": "stream",
     "text": [
      "2024-11-25 14:52:28.519398: W tensorflow/compiler/tf2tensorrt/utils/py_utils.cc:38] TF-TRT Warning: Could not find TensorRT\n"
     ]
    }
   ],
   "source": [
    "from ChromoGen import Conformations"
   ]
  },
  {
   "cell_type": "code",
   "execution_count": 3,
   "id": "322b8e1c-e344-48d9-8a3e-ae71fe18e6d2",
   "metadata": {},
   "outputs": [],
   "source": [
    "c = Conformations('../../downloaded_data/conformations/ChromoGen/genome_wide/GM12878/chrom_1/start_idx_92620_cond_scale_5.0_rescaled_phi_8.0.pt')\n",
    "d = c.distances\n",
    "\n",
    "nd = d.normalize().fold_()"
   ]
  },
  {
   "cell_type": "code",
   "execution_count": null,
   "id": "ce098875-2207-49d4-852d-6e48fd678872",
   "metadata": {},
   "outputs": [],
   "source": []
  }
 ],
 "metadata": {
  "kernelspec": {
   "display_name": "Python 3 (ipykernel)",
   "language": "python",
   "name": "python3"
  },
  "language_info": {
   "codemirror_mode": {
    "name": "ipython",
    "version": 3
   },
   "file_extension": ".py",
   "mimetype": "text/x-python",
   "name": "python",
   "nbconvert_exporter": "python",
   "pygments_lexer": "ipython3",
   "version": "3.10.12"
  }
 },
 "nbformat": 4,
 "nbformat_minor": 5
}
