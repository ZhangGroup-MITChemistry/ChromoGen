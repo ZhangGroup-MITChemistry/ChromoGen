{
 "cells": [
  {
   "cell_type": "code",
   "execution_count": 1,
   "id": "4d781e96-fe1f-4d91-ba40-fe5dc7464f2a",
   "metadata": {},
   "outputs": [],
   "source": [
    "import pandas as pd\n",
    "import torch\n",
    "import os\n",
    "import sys\n",
    "sys.path.insert(0,'../code/data_utils/')\n",
    "from ConfigDataset import ConfigDataset"
   ]
  },
  {
   "cell_type": "code",
   "execution_count": 9,
   "id": "0f88a69e-aacd-457e-9d8a-807f7f32719d",
   "metadata": {},
   "outputs": [
    {
     "data": {
      "text/plain": [
       "\"\\nall_config_datasets = {\\n    cell_number:{\\n        replicate:{\\n            chrom:ConfigDataset(\\n                '../data/processed_data.hdf5',\\n                segment_length=64,\\n                remove_diagonal=False,\\n                batch_size=0,\\n                normalize_distances=False,\\n                geos=None,\\n                organisms=None,\\n                cell_types=None,\\n                cell_numbers=[cell_number],\\n                chroms=['1','2'],\\n                replicates=[replicate],\\n                shuffle=True,\\n                allow_overlap=True,\\n                two_channels=False,\\n                try_GPU=False,\\n                mean_dist_fp=None,\\n                mean_sq_dist_fp=None\\n            ) for chrom in [*[str(k) for k in range(1,23)],'X']\\n        } for replicate in range(3)\\n    } for cell_number in range(1,18) if cell_number != 8\\n}\\n\""
      ]
     },
     "execution_count": 9,
     "metadata": {},
     "output_type": "execute_result"
    }
   ],
   "source": [
    "all_config_datasets = {}\n",
    "for cell_number in range(1,18):\n",
    "    if cell_number == 8:\n",
    "        continue\n",
    "    all_config_datasets[cell_number] = {}\n",
    "    for replicate in range(3):\n",
    "        all_config_datasets[cell_number][replicate] = {}\n",
    "        for chrom in [*[str(k) for k in range(1,23)],'X']:\n",
    "            try:\n",
    "                all_config_datasets[cell_number][replicate][chrom] = ConfigDataset(\n",
    "                    '../data/processed_data.hdf5',\n",
    "                    segment_length=64,\n",
    "                    remove_diagonal=False,\n",
    "                    batch_size=0,\n",
    "                    normalize_distances=False,\n",
    "                    geos=None,\n",
    "                    organisms=None,\n",
    "                    cell_types=None,\n",
    "                    cell_numbers=[cell_number],\n",
    "                    chroms=[chrom],\n",
    "                    replicates=[replicate],\n",
    "                    shuffle=True,\n",
    "                    allow_overlap=True,\n",
    "                    two_channels=False,\n",
    "                    try_GPU=False,\n",
    "                    mean_dist_fp=None,\n",
    "                    mean_sq_dist_fp=None\n",
    "                )\n",
    "            except:\n",
    "                continue\n",
    "            \n",
    "\n",
    "'''\n",
    "all_config_datasets = {\n",
    "    cell_number:{\n",
    "        replicate:{\n",
    "            chrom:ConfigDataset(\n",
    "                '../data/processed_data.hdf5',\n",
    "                segment_length=64,\n",
    "                remove_diagonal=False,\n",
    "                batch_size=0,\n",
    "                normalize_distances=False,\n",
    "                geos=None,\n",
    "                organisms=None,\n",
    "                cell_types=None,\n",
    "                cell_numbers=[cell_number],\n",
    "                chroms=['1','2'],\n",
    "                replicates=[replicate],\n",
    "                shuffle=True,\n",
    "                allow_overlap=True,\n",
    "                two_channels=False,\n",
    "                try_GPU=False,\n",
    "                mean_dist_fp=None,\n",
    "                mean_sq_dist_fp=None\n",
    "            ) for chrom in [*[str(k) for k in range(1,23)],'X']\n",
    "        } for replicate in range(3)\n",
    "    } for cell_number in range(1,18) if cell_number != 8\n",
    "}\n",
    "'''"
   ]
  },
  {
   "cell_type": "code",
   "execution_count": 10,
   "id": "67d6b930-9902-4478-a2cd-878d46261611",
   "metadata": {},
   "outputs": [
    {
     "data": {
      "text/plain": [
       "16"
      ]
     },
     "execution_count": 10,
     "metadata": {},
     "output_type": "execute_result"
    }
   ],
   "source": [
    "len(all_config_datasets)"
   ]
  },
  {
   "cell_type": "code",
   "execution_count": 11,
   "id": "63d407a4-54e1-40d9-8a85-968e56c03cb2",
   "metadata": {},
   "outputs": [],
   "source": [
    "n = 0\n",
    "for cell_number in all_config_datasets:\n",
    "    for replicate in all_config_datasets[cell_number]:\n",
    "        for chrom in all_config_datasets[cell_number][replicate]:\n",
    "            n+= 1"
   ]
  },
  {
   "cell_type": "code",
   "execution_count": null,
   "id": "4085e611-4cad-49d9-8e75-800a32b244d3",
   "metadata": {},
   "outputs": [],
   "source": []
  },
  {
   "cell_type": "code",
   "execution_count": 15,
   "id": "01d2e914-a3d9-4719-bea7-5f118e52c5b2",
   "metadata": {},
   "outputs": [],
   "source": [
    "raw_tan_data_dir = '../data/tan_single-cell_2018/'\n",
    "\n",
    "\n",
    "def get_cell_number(fp):\n",
    "    return int( fp.split('/')[-1].split('_')[-1].split('-')[0] )\n",
    "\n",
    "# Find the directories that actually contain \n",
    "all_dirs = [ raw_tan_data_dir + d for d in os.listdir( raw_tan_data_dir ) ]\n",
    "valid_dirs = []\n",
    "for d in all_dirs:\n",
    "\n",
    "    files = os.listdir(d)\n",
    "    contains_clean = False\n",
    "    for f in files: \n",
    "        if 'impute3.round4.clean.3dg' in f:\n",
    "            contains_clean = True\n",
    "            break\n",
    "\n",
    "    if contains_clean:\n",
    "        valid_dirs.append(\n",
    "            (\n",
    "                get_cell_number(d),\n",
    "                d\n",
    "            )\n",
    "        )\n",
    "valid_dirs.sort()\n"
   ]
  },
  {
   "cell_type": "code",
   "execution_count": 16,
   "id": "55d0673c-6197-401b-8627-5aed98afac4a",
   "metadata": {},
   "outputs": [],
   "source": [
    "def get_raw_coords(replicate_number,directory):\n",
    "\n",
    "    if directory[-1] != '/':\n",
    "        directory+= '/'\n",
    "\n",
    "    clean_structure_files = [f for f in os.listdir(directory) if 'impute3.round4.clean.3dg' in f]\n",
    "\n",
    "    for f in clean_structure_files:\n",
    "\n",
    "        \n",
    "        if '_rep1_' in f:\n",
    "            if replicate_number == 1:\n",
    "                filepath = directory + f\n",
    "                break\n",
    "        elif '_rep2_' in f:\n",
    "            if replicate_number == 2:\n",
    "                filepath = directory + f\n",
    "                break\n",
    "        elif replicate_number == 0:\n",
    "            filepath = directory + f\n",
    "\n",
    "    coord_df = pd.read_csv(\n",
    "        filepath,\n",
    "        sep='\\t',\n",
    "        header=None,\n",
    "        names=['Chromosome','Genomic_Index','x','y','z']\n",
    "    )\n",
    "    return coord_df"
   ]
  },
  {
   "cell_type": "code",
   "execution_count": 23,
   "id": "e084150b-09e4-4494-ad30-f7bfb9e55336",
   "metadata": {},
   "outputs": [],
   "source": [
    "valid_dirs = [\n",
    "    valid_dirs[0]\n",
    "]"
   ]
  },
  {
   "cell_type": "code",
   "execution_count": 24,
   "id": "6e6aef69-b574-4a84-8465-17b133a7f731",
   "metadata": {},
   "outputs": [
    {
     "data": {
      "text/plain": [
       "[(1, '../data/tan_single-cell_2018/Supp_GSM3271347_GM12878_Cell_1')]"
      ]
     },
     "execution_count": 24,
     "metadata": {},
     "output_type": "execute_result"
    }
   ],
   "source": [
    "valid_dirs"
   ]
  },
  {
   "cell_type": "code",
   "execution_count": null,
   "id": "a4c35271-5f7b-4b5d-be4b-b8e1635ed932",
   "metadata": {},
   "outputs": [],
   "source": []
  }
 ],
 "metadata": {
  "kernelspec": {
   "display_name": "Python 3 (ipykernel)",
   "language": "python",
   "name": "python3"
  },
  "language_info": {
   "codemirror_mode": {
    "name": "ipython",
    "version": 3
   },
   "file_extension": ".py",
   "mimetype": "text/x-python",
   "name": "python",
   "nbconvert_exporter": "python",
   "pygments_lexer": "ipython3",
   "version": "3.10.12"
  }
 },
 "nbformat": 4,
 "nbformat_minor": 5
}
