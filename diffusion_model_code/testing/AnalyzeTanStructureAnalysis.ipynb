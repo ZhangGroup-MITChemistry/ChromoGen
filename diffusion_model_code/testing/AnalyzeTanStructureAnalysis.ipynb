{
 "cells": [
  {
   "cell_type": "code",
   "execution_count": 1,
   "id": "c52298bb-62db-40c6-8bcf-ac384b839993",
   "metadata": {},
   "outputs": [],
   "source": [
    "import torch"
   ]
  },
  {
   "cell_type": "code",
   "execution_count": 4,
   "id": "c9cdf935-6ff9-4bee-a3cd-d18647d4a0fd",
   "metadata": {},
   "outputs": [
    {
     "data": {
      "text/plain": [
       "(12098638, 0)"
      ]
     },
     "execution_count": 4,
     "metadata": {},
     "output_type": "execute_result"
    }
   ],
   "source": [
    "all_mismatched_regions = {}\n",
    "total_conformations = 0 \n",
    "total_mismatches = 0 \n",
    "for cell_number in range(1,18):\n",
    "    if cell_number == 8:\n",
    "        continue\n",
    "\n",
    "    temp = torch.load(f'./all_mismatched_regions_{cell_number}.pt')[cell_number]\n",
    "\n",
    "    for rep in range(3):\n",
    "        total_conformations+= temp['n_regions'][rep] * 2 # *2 b/c paternal & maternal \n",
    "        total_mismatches+= len(temp['unmatched_regions'][rep])\n",
    "    \n",
    "    all_mismatched_regions[cell_number] = temp\n",
    "    del temp \n",
    "\n",
    "total_conformations, total_mismatches"
   ]
  },
  {
   "cell_type": "code",
   "execution_count": null,
   "id": "8a4ba2d2-c049-4f63-8a3d-0764cd198280",
   "metadata": {},
   "outputs": [],
   "source": []
  },
  {
   "cell_type": "code",
   "execution_count": null,
   "id": "dcec9b7e-19f2-4ffd-8132-df6dc03f5e88",
   "metadata": {},
   "outputs": [],
   "source": []
  }
 ],
 "metadata": {
  "kernelspec": {
   "display_name": "Python 3 (ipykernel)",
   "language": "python",
   "name": "python3"
  },
  "language_info": {
   "codemirror_mode": {
    "name": "ipython",
    "version": 3
   },
   "file_extension": ".py",
   "mimetype": "text/x-python",
   "name": "python",
   "nbconvert_exporter": "python",
   "pygments_lexer": "ipython3",
   "version": "3.10.12"
  }
 },
 "nbformat": 4,
 "nbformat_minor": 5
}
