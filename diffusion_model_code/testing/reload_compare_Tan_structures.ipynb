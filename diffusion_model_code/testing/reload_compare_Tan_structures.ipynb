{
 "cells": [
  {
   "cell_type": "code",
   "execution_count": 51,
   "id": "b62e7dc2-fa7e-47cc-adcb-a40a90364c3b",
   "metadata": {},
   "outputs": [],
   "source": [
    "import pandas as pd\n",
    "import torch\n",
    "import os\n",
    "import sys\n",
    "sys.path.insert(0,'../code/data_utils/')\n",
    "from ConfigDataset import ConfigDataset"
   ]
  },
  {
   "cell_type": "markdown",
   "id": "c0e84cba-ae06-42d9-afc2-ee0d0137cfd7",
   "metadata": {},
   "source": [
    "Get data pre-processed with my own code "
   ]
  },
  {
   "cell_type": "code",
   "execution_count": 29,
   "id": "3f288b9a-8234-4bc2-b37b-b1fe875a2e7a",
   "metadata": {},
   "outputs": [],
   "source": [
    "\n",
    "all_config_datasets = {\n",
    "    cell_number:{\n",
    "        replicate:ConfigDataset(\n",
    "            '../data/processed_data.hdf5',\n",
    "            segment_length=64,\n",
    "            remove_diagonal=False,\n",
    "            batch_size=0,\n",
    "            normalize_distances=False,\n",
    "            geos=None,\n",
    "            organisms=None,\n",
    "            cell_types=None,\n",
    "            cell_numbers=[cell_number],\n",
    "            chroms=None,\n",
    "            replicates=[replicate],\n",
    "            shuffle=True,\n",
    "            allow_overlap=True,\n",
    "            two_channels=False,\n",
    "            try_GPU=False,\n",
    "            mean_dist_fp=None,\n",
    "            mean_sq_dist_fp=None\n",
    "        ) for replicate in range(3)\n",
    "    } for cell_number in range(1,18) if cell_number != 8\n",
    "}\n",
    "\n",
    "'''\n",
    "config_ds = ConfigDataset(\n",
    "    '../data/processed_data.hdf5',\n",
    "    segment_length=64,\n",
    "    remove_diagonal=False,\n",
    "    batch_size=0,\n",
    "    normalize_distances=False,\n",
    "    geos=None,\n",
    "    organisms=None,\n",
    "    cell_types=None,\n",
    "    cell_numbers=None,\n",
    "    chroms=None,\n",
    "    replicates=None,\n",
    "    shuffle=True,\n",
    "    allow_overlap=True,\n",
    "    two_channels=False,\n",
    "    try_GPU=False,\n",
    "    mean_dist_fp=None,\n",
    "    mean_sq_dist_fp=None\n",
    ")\n",
    "'''"
   ]
  },
  {
   "cell_type": "markdown",
   "id": "2f7be651-cda9-408d-8829-9465b70d6614",
   "metadata": {},
   "source": [
    "Get data directly from the Tan files"
   ]
  },
  {
   "cell_type": "code",
   "execution_count": 19,
   "id": "096bbeab-4c7b-46e4-8dd6-4960ea3a0750",
   "metadata": {},
   "outputs": [],
   "source": [
    "raw_tan_data_dir = '../data/tan_single-cell_2018/'\n",
    "\n",
    "\n",
    "def get_cell_number(fp):\n",
    "    return int( fp.split('/')[-1].split('_')[-1].split('-')[0] )\n",
    "\n",
    "# Find the directories that actually contain \n",
    "all_dirs = [ raw_tan_data_dir + d for d in os.listdir( raw_tan_data_dir ) ]\n",
    "valid_dirs = []\n",
    "for d in all_dirs:\n",
    "\n",
    "    files = os.listdir(d)\n",
    "    contains_clean = False\n",
    "    for f in files: \n",
    "        if 'impute3.round4.clean.3dg' in f:\n",
    "            contains_clean = True\n",
    "            break\n",
    "\n",
    "    if contains_clean:\n",
    "        valid_dirs.append(\n",
    "            (\n",
    "                get_cell_number(d),\n",
    "                d\n",
    "            )\n",
    "        )\n",
    "valid_dirs.sort()\n"
   ]
  },
  {
   "cell_type": "code",
   "execution_count": 39,
   "id": "12eb6a40-16ab-4823-b87a-a04789a1bed0",
   "metadata": {},
   "outputs": [],
   "source": [
    "def get_raw_coords(replicate_number,directory):\n",
    "\n",
    "    if directory[-1] != '/':\n",
    "        directory+= '/'\n",
    "\n",
    "    clean_structure_files = [f for f in os.listdir(directory) if 'impute3.round4.clean.3dg' in f]\n",
    "\n",
    "    for f in clean_structure_files:\n",
    "\n",
    "        if '_rep1_' in f:\n",
    "            if replicate_number == 1:\n",
    "                filepath = directory + f\n",
    "                break\n",
    "        elif '_rep2_' in f:\n",
    "            if replicate_number == 2:\n",
    "                filepath = directory + f\n",
    "                break\n",
    "        elif replicate_number == 0:\n",
    "            filepath = directory + f\n",
    "\n",
    "    coord_df = pd.read_csv(\n",
    "        filepath,\n",
    "        sep='\\t',\n",
    "        header=None,\n",
    "        names=['Chromosome','Genomic_Index','x','y','z']\n",
    "    )\n",
    "    return coord_df"
   ]
  },
  {
   "cell_type": "code",
   "execution_count": 97,
   "id": "944db3eb-4333-4a01-9ff2-c98ea90b7002",
   "metadata": {},
   "outputs": [],
   "source": [
    "def extract_specific_region(sub_coord_df,genomic_index,region_length=64,resolution=20_000):\n",
    "\n",
    "    # Get the relevant region\n",
    "    sub_coord_df = sub_coord_df[ \n",
    "        (sub_coord_df.Genomic_Index >= genomic_index) & \n",
    "        ( sub_coord_df.Genomic_Index < genomic_index + resolution * region_length )  \n",
    "    ]\n",
    "    sub_coord_df = sub_coord_df.sort_values('Genomic_Index',axis=0,ignore_index=True)\n",
    "\n",
    "    # Fetch both maternal & paternal data\n",
    "    coords = []\n",
    "    for chrom in sub_coord_df.Chromosome.unique():\n",
    "        vals = torch.from_numpy(sub_coord_df[ sub_coord_df.Chromosome == chrom ][['x','y','z']].values)\n",
    "\n",
    "        if 'pat' in chrom:\n",
    "            coords.append(vals)\n",
    "        else:\n",
    "            coords.insert(0,vals)\n",
    "\n",
    "    return coords\n",
    "\n",
    "def compare_to_raw(cell_number, raw_directory, all_config_datasets=all_config_datasets):\n",
    "\n",
    "    unmatched_regions = [[],[],[]]\n",
    "    n_regions = []\n",
    "    \n",
    "    for replicate in range(0,3):\n",
    "\n",
    "        coord_df = get_raw_coords(replicate, raw_directory)\n",
    "\n",
    "        processed_data = all_config_datasets[cell_number][replicate]\n",
    "\n",
    "        genomic_regions = processed_data.get_genomic_regions()\n",
    "\n",
    "        n_regions.append( len(genomic_regions) )\n",
    "\n",
    "        for chrom in genomic_regions.Chromosome.unique():\n",
    "\n",
    "            chrom_regions = genomic_regions[ genomic_regions.Chromosome == chrom ]\n",
    "\n",
    "            sub_coord_df = coord_df[ (coord_df.Chromosome == f'{chrom}(mat)') | (coord_df.Chromosome == f'{chrom}(pat)')  ]\n",
    "            \n",
    "            for _,row in chrom_regions.iterrows():\n",
    "                genomic_index = row.Start\n",
    "                coord_info, processed_coords = processed_data.fetch_specific_coords(chrom,genomic_index)\n",
    "                raw_coords = extract_specific_region(sub_coord_df,genomic_index)\n",
    "                \n",
    "                if raw_coords is None or \\\n",
    "                not torch.allclose( processed_coords[coord_info.Lineage=='mat'].squeeze(), raw_coords[0] ) or \\\n",
    "                not torch.allclose( processed_coords[coord_info.Lineage=='pat'].squeeze(), raw_coords[1] ):\n",
    "                    unmatched_regions[replicate].append( (chrom,genomic_index) )\n",
    "\n",
    "    return unmatched_regions, n_regions"
   ]
  },
  {
   "cell_type": "code",
   "execution_count": 103,
   "id": "8e40da6d-97a5-4cb2-8387-f4ef31bb5c81",
   "metadata": {},
   "outputs": [
    {
     "name": "stdout",
     "output_type": "stream",
     "text": [
      "Cell 1: 1922.0202\n",
      "1 0 118163 0\n",
      "1 1 118284 0\n",
      "1 2 117986 0\n",
      "\n"
     ]
    },
    {
     "ename": "KeyboardInterrupt",
     "evalue": "",
     "output_type": "error",
     "traceback": [
      "\u001b[0;31m---------------------------------------------------------------------------\u001b[0m",
      "\u001b[0;31mKeyboardInterrupt\u001b[0m                         Traceback (most recent call last)",
      "Cell \u001b[0;32mIn[103], line 6\u001b[0m\n\u001b[1;32m      4\u001b[0m \u001b[38;5;28;01mfor\u001b[39;00m cell_number, directory \u001b[38;5;129;01min\u001b[39;00m valid_dirs:\n\u001b[1;32m      5\u001b[0m     t \u001b[38;5;241m=\u001b[39m \u001b[38;5;241m-\u001b[39mtime\u001b[38;5;241m.\u001b[39mtime()\n\u001b[0;32m----> 6\u001b[0m     unmatched_regions,n_regions \u001b[38;5;241m=\u001b[39m \u001b[43mcompare_to_raw\u001b[49m\u001b[43m(\u001b[49m\u001b[43mcell_number\u001b[49m\u001b[43m,\u001b[49m\u001b[43mdirectory\u001b[49m\u001b[43m)\u001b[49m\n\u001b[1;32m      7\u001b[0m     \u001b[38;5;28mprint\u001b[39m(\u001b[38;5;124mf\u001b[39m\u001b[38;5;124m'\u001b[39m\u001b[38;5;124mCell \u001b[39m\u001b[38;5;132;01m{\u001b[39;00mcell_number\u001b[38;5;132;01m}\u001b[39;00m\u001b[38;5;124m: \u001b[39m\u001b[38;5;132;01m{\u001b[39;00mtime\u001b[38;5;241m.\u001b[39mtime()\u001b[38;5;241m+\u001b[39mt\u001b[38;5;132;01m:\u001b[39;00m\u001b[38;5;124m.4f\u001b[39m\u001b[38;5;132;01m}\u001b[39;00m\u001b[38;5;124m'\u001b[39m)\n\u001b[1;32m      9\u001b[0m     \u001b[38;5;28;01mfor\u001b[39;00m replicate_number \u001b[38;5;129;01min\u001b[39;00m \u001b[38;5;28mrange\u001b[39m(\u001b[38;5;241m3\u001b[39m):\n",
      "Cell \u001b[0;32mIn[97], line 46\u001b[0m, in \u001b[0;36mcompare_to_raw\u001b[0;34m(cell_number, raw_directory, all_config_datasets)\u001b[0m\n\u001b[1;32m     44\u001b[0m genomic_index \u001b[38;5;241m=\u001b[39m row\u001b[38;5;241m.\u001b[39mStart\n\u001b[1;32m     45\u001b[0m coord_info, processed_coords \u001b[38;5;241m=\u001b[39m processed_data\u001b[38;5;241m.\u001b[39mfetch_specific_coords(chrom,genomic_index)\n\u001b[0;32m---> 46\u001b[0m raw_coords \u001b[38;5;241m=\u001b[39m \u001b[43mextract_specific_region\u001b[49m\u001b[43m(\u001b[49m\u001b[43msub_coord_df\u001b[49m\u001b[43m,\u001b[49m\u001b[43mgenomic_index\u001b[49m\u001b[43m)\u001b[49m\n\u001b[1;32m     48\u001b[0m \u001b[38;5;28;01mif\u001b[39;00m raw_coords \u001b[38;5;129;01mis\u001b[39;00m \u001b[38;5;28;01mNone\u001b[39;00m \u001b[38;5;129;01mor\u001b[39;00m \\\n\u001b[1;32m     49\u001b[0m \u001b[38;5;129;01mnot\u001b[39;00m torch\u001b[38;5;241m.\u001b[39mallclose( processed_coords[coord_info\u001b[38;5;241m.\u001b[39mLineage\u001b[38;5;241m==\u001b[39m\u001b[38;5;124m'\u001b[39m\u001b[38;5;124mmat\u001b[39m\u001b[38;5;124m'\u001b[39m]\u001b[38;5;241m.\u001b[39msqueeze(), raw_coords[\u001b[38;5;241m0\u001b[39m] ) \u001b[38;5;129;01mor\u001b[39;00m \\\n\u001b[1;32m     50\u001b[0m \u001b[38;5;129;01mnot\u001b[39;00m torch\u001b[38;5;241m.\u001b[39mallclose( processed_coords[coord_info\u001b[38;5;241m.\u001b[39mLineage\u001b[38;5;241m==\u001b[39m\u001b[38;5;124m'\u001b[39m\u001b[38;5;124mpat\u001b[39m\u001b[38;5;124m'\u001b[39m]\u001b[38;5;241m.\u001b[39msqueeze(), raw_coords[\u001b[38;5;241m1\u001b[39m] ):\n\u001b[1;32m     51\u001b[0m     unmatched_regions[replicate]\u001b[38;5;241m.\u001b[39mappend( (chrom,genomic_index) )\n",
      "Cell \u001b[0;32mIn[97], line 4\u001b[0m, in \u001b[0;36mextract_specific_region\u001b[0;34m(sub_coord_df, genomic_index, region_length, resolution)\u001b[0m\n\u001b[1;32m      1\u001b[0m \u001b[38;5;28;01mdef\u001b[39;00m \u001b[38;5;21mextract_specific_region\u001b[39m(sub_coord_df,genomic_index,region_length\u001b[38;5;241m=\u001b[39m\u001b[38;5;241m64\u001b[39m,resolution\u001b[38;5;241m=\u001b[39m\u001b[38;5;241m20_000\u001b[39m):\n\u001b[1;32m      2\u001b[0m \n\u001b[1;32m      3\u001b[0m     \u001b[38;5;66;03m# Get the relevant region\u001b[39;00m\n\u001b[0;32m----> 4\u001b[0m     sub_coord_df \u001b[38;5;241m=\u001b[39m \u001b[43msub_coord_df\u001b[49m\u001b[43m[\u001b[49m\u001b[43m \u001b[49m\n\u001b[1;32m      5\u001b[0m \u001b[43m        \u001b[49m\u001b[43m(\u001b[49m\u001b[43msub_coord_df\u001b[49m\u001b[38;5;241;43m.\u001b[39;49m\u001b[43mGenomic_Index\u001b[49m\u001b[43m \u001b[49m\u001b[38;5;241;43m>\u001b[39;49m\u001b[38;5;241;43m=\u001b[39;49m\u001b[43m \u001b[49m\u001b[43mgenomic_index\u001b[49m\u001b[43m)\u001b[49m\u001b[43m \u001b[49m\u001b[38;5;241;43m&\u001b[39;49m\u001b[43m \u001b[49m\n\u001b[1;32m      6\u001b[0m \u001b[43m        \u001b[49m\u001b[43m(\u001b[49m\u001b[43m \u001b[49m\u001b[43msub_coord_df\u001b[49m\u001b[38;5;241;43m.\u001b[39;49m\u001b[43mGenomic_Index\u001b[49m\u001b[43m \u001b[49m\u001b[38;5;241;43m<\u001b[39;49m\u001b[43m \u001b[49m\u001b[43mgenomic_index\u001b[49m\u001b[43m \u001b[49m\u001b[38;5;241;43m+\u001b[39;49m\u001b[43m \u001b[49m\u001b[43mresolution\u001b[49m\u001b[43m \u001b[49m\u001b[38;5;241;43m*\u001b[39;49m\u001b[43m \u001b[49m\u001b[43mregion_length\u001b[49m\u001b[43m \u001b[49m\u001b[43m)\u001b[49m\u001b[43m  \u001b[49m\n\u001b[1;32m      7\u001b[0m \u001b[43m    \u001b[49m\u001b[43m]\u001b[49m\n\u001b[1;32m      8\u001b[0m     sub_coord_df \u001b[38;5;241m=\u001b[39m sub_coord_df\u001b[38;5;241m.\u001b[39msort_values(\u001b[38;5;124m'\u001b[39m\u001b[38;5;124mGenomic_Index\u001b[39m\u001b[38;5;124m'\u001b[39m,axis\u001b[38;5;241m=\u001b[39m\u001b[38;5;241m0\u001b[39m,ignore_index\u001b[38;5;241m=\u001b[39m\u001b[38;5;28;01mTrue\u001b[39;00m)\n\u001b[1;32m     10\u001b[0m     \u001b[38;5;66;03m# Fetch both maternal & paternal data\u001b[39;00m\n",
      "File \u001b[0;32m~/.local/lib/python3.10/site-packages/pandas/core/frame.py:3798\u001b[0m, in \u001b[0;36mDataFrame.__getitem__\u001b[0;34m(self, key)\u001b[0m\n\u001b[1;32m   3796\u001b[0m \u001b[38;5;66;03m# Do we have a (boolean) 1d indexer?\u001b[39;00m\n\u001b[1;32m   3797\u001b[0m \u001b[38;5;28;01mif\u001b[39;00m com\u001b[38;5;241m.\u001b[39mis_bool_indexer(key):\n\u001b[0;32m-> 3798\u001b[0m     \u001b[38;5;28;01mreturn\u001b[39;00m \u001b[38;5;28;43mself\u001b[39;49m\u001b[38;5;241;43m.\u001b[39;49m\u001b[43m_getitem_bool_array\u001b[49m\u001b[43m(\u001b[49m\u001b[43mkey\u001b[49m\u001b[43m)\u001b[49m\n\u001b[1;32m   3800\u001b[0m \u001b[38;5;66;03m# We are left with two options: a single key, and a collection of keys,\u001b[39;00m\n\u001b[1;32m   3801\u001b[0m \u001b[38;5;66;03m# We interpret tuples as collections only for non-MultiIndex\u001b[39;00m\n\u001b[1;32m   3802\u001b[0m is_single_key \u001b[38;5;241m=\u001b[39m \u001b[38;5;28misinstance\u001b[39m(key, \u001b[38;5;28mtuple\u001b[39m) \u001b[38;5;129;01mor\u001b[39;00m \u001b[38;5;129;01mnot\u001b[39;00m is_list_like(key)\n",
      "File \u001b[0;32m~/.local/lib/python3.10/site-packages/pandas/core/frame.py:3853\u001b[0m, in \u001b[0;36mDataFrame._getitem_bool_array\u001b[0;34m(self, key)\u001b[0m\n\u001b[1;32m   3851\u001b[0m key \u001b[38;5;241m=\u001b[39m check_bool_indexer(\u001b[38;5;28mself\u001b[39m\u001b[38;5;241m.\u001b[39mindex, key)\n\u001b[1;32m   3852\u001b[0m indexer \u001b[38;5;241m=\u001b[39m key\u001b[38;5;241m.\u001b[39mnonzero()[\u001b[38;5;241m0\u001b[39m]\n\u001b[0;32m-> 3853\u001b[0m \u001b[38;5;28;01mreturn\u001b[39;00m \u001b[38;5;28;43mself\u001b[39;49m\u001b[38;5;241;43m.\u001b[39;49m\u001b[43m_take_with_is_copy\u001b[49m\u001b[43m(\u001b[49m\u001b[43mindexer\u001b[49m\u001b[43m,\u001b[49m\u001b[43m \u001b[49m\u001b[43maxis\u001b[49m\u001b[38;5;241;43m=\u001b[39;49m\u001b[38;5;241;43m0\u001b[39;49m\u001b[43m)\u001b[49m\n",
      "File \u001b[0;32m~/.local/lib/python3.10/site-packages/pandas/core/generic.py:3902\u001b[0m, in \u001b[0;36mNDFrame._take_with_is_copy\u001b[0;34m(self, indices, axis)\u001b[0m\n\u001b[1;32m   3894\u001b[0m \u001b[38;5;28;01mdef\u001b[39;00m \u001b[38;5;21m_take_with_is_copy\u001b[39m(\u001b[38;5;28mself\u001b[39m: NDFrameT, indices, axis\u001b[38;5;241m=\u001b[39m\u001b[38;5;241m0\u001b[39m) \u001b[38;5;241m-\u001b[39m\u001b[38;5;241m>\u001b[39m NDFrameT:\n\u001b[1;32m   3895\u001b[0m \u001b[38;5;250m    \u001b[39m\u001b[38;5;124;03m\"\"\"\u001b[39;00m\n\u001b[1;32m   3896\u001b[0m \u001b[38;5;124;03m    Internal version of the `take` method that sets the `_is_copy`\u001b[39;00m\n\u001b[1;32m   3897\u001b[0m \u001b[38;5;124;03m    attribute to keep track of the parent dataframe (using in indexing\u001b[39;00m\n\u001b[0;32m   (...)\u001b[0m\n\u001b[1;32m   3900\u001b[0m \u001b[38;5;124;03m    See the docstring of `take` for full explanation of the parameters.\u001b[39;00m\n\u001b[1;32m   3901\u001b[0m \u001b[38;5;124;03m    \"\"\"\u001b[39;00m\n\u001b[0;32m-> 3902\u001b[0m     result \u001b[38;5;241m=\u001b[39m \u001b[38;5;28;43mself\u001b[39;49m\u001b[38;5;241;43m.\u001b[39;49m\u001b[43m_take\u001b[49m\u001b[43m(\u001b[49m\u001b[43mindices\u001b[49m\u001b[38;5;241;43m=\u001b[39;49m\u001b[43mindices\u001b[49m\u001b[43m,\u001b[49m\u001b[43m \u001b[49m\u001b[43maxis\u001b[49m\u001b[38;5;241;43m=\u001b[39;49m\u001b[43maxis\u001b[49m\u001b[43m)\u001b[49m\n\u001b[1;32m   3903\u001b[0m     \u001b[38;5;66;03m# Maybe set copy if we didn't actually change the index.\u001b[39;00m\n\u001b[1;32m   3904\u001b[0m     \u001b[38;5;28;01mif\u001b[39;00m \u001b[38;5;129;01mnot\u001b[39;00m result\u001b[38;5;241m.\u001b[39m_get_axis(axis)\u001b[38;5;241m.\u001b[39mequals(\u001b[38;5;28mself\u001b[39m\u001b[38;5;241m.\u001b[39m_get_axis(axis)):\n",
      "File \u001b[0;32m~/.local/lib/python3.10/site-packages/pandas/core/generic.py:3886\u001b[0m, in \u001b[0;36mNDFrame._take\u001b[0;34m(self, indices, axis, convert_indices)\u001b[0m\n\u001b[1;32m   3879\u001b[0m \u001b[38;5;250m\u001b[39m\u001b[38;5;124;03m\"\"\"\u001b[39;00m\n\u001b[1;32m   3880\u001b[0m \u001b[38;5;124;03mInternal version of the `take` allowing specification of additional args.\u001b[39;00m\n\u001b[1;32m   3881\u001b[0m \n\u001b[1;32m   3882\u001b[0m \u001b[38;5;124;03mSee the docstring of `take` for full explanation of the parameters.\u001b[39;00m\n\u001b[1;32m   3883\u001b[0m \u001b[38;5;124;03m\"\"\"\u001b[39;00m\n\u001b[1;32m   3884\u001b[0m \u001b[38;5;28mself\u001b[39m\u001b[38;5;241m.\u001b[39m_consolidate_inplace()\n\u001b[0;32m-> 3886\u001b[0m new_data \u001b[38;5;241m=\u001b[39m \u001b[38;5;28;43mself\u001b[39;49m\u001b[38;5;241;43m.\u001b[39;49m\u001b[43m_mgr\u001b[49m\u001b[38;5;241;43m.\u001b[39;49m\u001b[43mtake\u001b[49m\u001b[43m(\u001b[49m\n\u001b[1;32m   3887\u001b[0m \u001b[43m    \u001b[49m\u001b[43mindices\u001b[49m\u001b[43m,\u001b[49m\n\u001b[1;32m   3888\u001b[0m \u001b[43m    \u001b[49m\u001b[43maxis\u001b[49m\u001b[38;5;241;43m=\u001b[39;49m\u001b[38;5;28;43mself\u001b[39;49m\u001b[38;5;241;43m.\u001b[39;49m\u001b[43m_get_block_manager_axis\u001b[49m\u001b[43m(\u001b[49m\u001b[43maxis\u001b[49m\u001b[43m)\u001b[49m\u001b[43m,\u001b[49m\n\u001b[1;32m   3889\u001b[0m \u001b[43m    \u001b[49m\u001b[43mverify\u001b[49m\u001b[38;5;241;43m=\u001b[39;49m\u001b[38;5;28;43;01mTrue\u001b[39;49;00m\u001b[43m,\u001b[49m\n\u001b[1;32m   3890\u001b[0m \u001b[43m    \u001b[49m\u001b[43mconvert_indices\u001b[49m\u001b[38;5;241;43m=\u001b[39;49m\u001b[43mconvert_indices\u001b[49m\u001b[43m,\u001b[49m\n\u001b[1;32m   3891\u001b[0m \u001b[43m\u001b[49m\u001b[43m)\u001b[49m\n\u001b[1;32m   3892\u001b[0m \u001b[38;5;28;01mreturn\u001b[39;00m \u001b[38;5;28mself\u001b[39m\u001b[38;5;241m.\u001b[39m_constructor(new_data)\u001b[38;5;241m.\u001b[39m__finalize__(\u001b[38;5;28mself\u001b[39m, method\u001b[38;5;241m=\u001b[39m\u001b[38;5;124m\"\u001b[39m\u001b[38;5;124mtake\u001b[39m\u001b[38;5;124m\"\u001b[39m)\n",
      "File \u001b[0;32m~/.local/lib/python3.10/site-packages/pandas/core/internals/managers.py:978\u001b[0m, in \u001b[0;36mBaseBlockManager.take\u001b[0;34m(self, indexer, axis, verify, convert_indices)\u001b[0m\n\u001b[1;32m    975\u001b[0m     indexer \u001b[38;5;241m=\u001b[39m maybe_convert_indices(indexer, n, verify\u001b[38;5;241m=\u001b[39mverify)\n\u001b[1;32m    977\u001b[0m new_labels \u001b[38;5;241m=\u001b[39m \u001b[38;5;28mself\u001b[39m\u001b[38;5;241m.\u001b[39maxes[axis]\u001b[38;5;241m.\u001b[39mtake(indexer)\n\u001b[0;32m--> 978\u001b[0m \u001b[38;5;28;01mreturn\u001b[39;00m \u001b[38;5;28;43mself\u001b[39;49m\u001b[38;5;241;43m.\u001b[39;49m\u001b[43mreindex_indexer\u001b[49m\u001b[43m(\u001b[49m\n\u001b[1;32m    979\u001b[0m \u001b[43m    \u001b[49m\u001b[43mnew_axis\u001b[49m\u001b[38;5;241;43m=\u001b[39;49m\u001b[43mnew_labels\u001b[49m\u001b[43m,\u001b[49m\n\u001b[1;32m    980\u001b[0m \u001b[43m    \u001b[49m\u001b[43mindexer\u001b[49m\u001b[38;5;241;43m=\u001b[39;49m\u001b[43mindexer\u001b[49m\u001b[43m,\u001b[49m\n\u001b[1;32m    981\u001b[0m \u001b[43m    \u001b[49m\u001b[43maxis\u001b[49m\u001b[38;5;241;43m=\u001b[39;49m\u001b[43maxis\u001b[49m\u001b[43m,\u001b[49m\n\u001b[1;32m    982\u001b[0m \u001b[43m    \u001b[49m\u001b[43mallow_dups\u001b[49m\u001b[38;5;241;43m=\u001b[39;49m\u001b[38;5;28;43;01mTrue\u001b[39;49;00m\u001b[43m,\u001b[49m\n\u001b[1;32m    983\u001b[0m \u001b[43m    \u001b[49m\u001b[43mcopy\u001b[49m\u001b[38;5;241;43m=\u001b[39;49m\u001b[38;5;28;43;01mNone\u001b[39;49;00m\u001b[43m,\u001b[49m\n\u001b[1;32m    984\u001b[0m \u001b[43m\u001b[49m\u001b[43m)\u001b[49m\n",
      "File \u001b[0;32m~/.local/lib/python3.10/site-packages/pandas/core/internals/managers.py:767\u001b[0m, in \u001b[0;36mBaseBlockManager.reindex_indexer\u001b[0;34m(self, new_axis, indexer, axis, fill_value, allow_dups, copy, only_slice, use_na_proxy)\u001b[0m\n\u001b[1;32m    764\u001b[0m new_axes \u001b[38;5;241m=\u001b[39m \u001b[38;5;28mlist\u001b[39m(\u001b[38;5;28mself\u001b[39m\u001b[38;5;241m.\u001b[39maxes)\n\u001b[1;32m    765\u001b[0m new_axes[axis] \u001b[38;5;241m=\u001b[39m new_axis\n\u001b[0;32m--> 767\u001b[0m new_mgr \u001b[38;5;241m=\u001b[39m \u001b[38;5;28;43mtype\u001b[39;49m\u001b[43m(\u001b[49m\u001b[38;5;28;43mself\u001b[39;49m\u001b[43m)\u001b[49m\u001b[38;5;241;43m.\u001b[39;49m\u001b[43mfrom_blocks\u001b[49m\u001b[43m(\u001b[49m\u001b[43mnew_blocks\u001b[49m\u001b[43m,\u001b[49m\u001b[43m \u001b[49m\u001b[43mnew_axes\u001b[49m\u001b[43m,\u001b[49m\u001b[43m \u001b[49m\u001b[43mnew_refs\u001b[49m\u001b[43m,\u001b[49m\u001b[43m \u001b[49m\u001b[43mparent\u001b[49m\u001b[38;5;241;43m=\u001b[39;49m\u001b[43mparent\u001b[49m\u001b[43m)\u001b[49m\n\u001b[1;32m    768\u001b[0m \u001b[38;5;28;01mif\u001b[39;00m axis \u001b[38;5;241m==\u001b[39m \u001b[38;5;241m1\u001b[39m:\n\u001b[1;32m    769\u001b[0m     \u001b[38;5;66;03m# We can avoid the need to rebuild these\u001b[39;00m\n\u001b[1;32m    770\u001b[0m     new_mgr\u001b[38;5;241m.\u001b[39m_blknos \u001b[38;5;241m=\u001b[39m \u001b[38;5;28mself\u001b[39m\u001b[38;5;241m.\u001b[39mblknos\u001b[38;5;241m.\u001b[39mcopy()\n",
      "File \u001b[0;32m~/.local/lib/python3.10/site-packages/pandas/core/internals/managers.py:1072\u001b[0m, in \u001b[0;36mBlockManager.from_blocks\u001b[0;34m(cls, blocks, axes, refs, parent)\u001b[0m\n\u001b[1;32m   1061\u001b[0m \u001b[38;5;129m@classmethod\u001b[39m\n\u001b[1;32m   1062\u001b[0m \u001b[38;5;28;01mdef\u001b[39;00m \u001b[38;5;21mfrom_blocks\u001b[39m(\n\u001b[1;32m   1063\u001b[0m     \u001b[38;5;28mcls\u001b[39m,\n\u001b[0;32m   (...)\u001b[0m\n\u001b[1;32m   1067\u001b[0m     parent: \u001b[38;5;28mobject\u001b[39m \u001b[38;5;241m=\u001b[39m \u001b[38;5;28;01mNone\u001b[39;00m,\n\u001b[1;32m   1068\u001b[0m ) \u001b[38;5;241m-\u001b[39m\u001b[38;5;241m>\u001b[39m BlockManager:\n\u001b[1;32m   1069\u001b[0m \u001b[38;5;250m    \u001b[39m\u001b[38;5;124;03m\"\"\"\u001b[39;00m\n\u001b[1;32m   1070\u001b[0m \u001b[38;5;124;03m    Constructor for BlockManager and SingleBlockManager with same signature.\u001b[39;00m\n\u001b[1;32m   1071\u001b[0m \u001b[38;5;124;03m    \"\"\"\u001b[39;00m\n\u001b[0;32m-> 1072\u001b[0m     parent \u001b[38;5;241m=\u001b[39m parent \u001b[38;5;28;01mif\u001b[39;00m \u001b[43m_using_copy_on_write\u001b[49m\u001b[43m(\u001b[49m\u001b[43m)\u001b[49m \u001b[38;5;28;01melse\u001b[39;00m \u001b[38;5;28;01mNone\u001b[39;00m\n\u001b[1;32m   1073\u001b[0m     \u001b[38;5;28;01mreturn\u001b[39;00m \u001b[38;5;28mcls\u001b[39m(blocks, axes, refs, parent, verify_integrity\u001b[38;5;241m=\u001b[39m\u001b[38;5;28;01mFalse\u001b[39;00m)\n",
      "\u001b[0;31mKeyboardInterrupt\u001b[0m: "
     ]
    }
   ],
   "source": [
    "import time\n",
    "all_mismatched_regions = {}\n",
    "\n",
    "for cell_number, directory in valid_dirs:\n",
    "    t = -time.time()\n",
    "    unmatched_regions,n_regions = compare_to_raw(cell_number,directory)\n",
    "    print(f'Cell {cell_number}: {time.time()+t:.4f}')\n",
    "\n",
    "    for replicate_number in range(3):\n",
    "        print( cell_number, replicate_number, n_regions[replicate_number], len(unmatched_regions[replicate_number]) )\n",
    "    print('')\n",
    "    all_mismatched_regions[cell_number] = {\n",
    "        'unmatched_regions':unmatched_regions,\n",
    "        'n_regions':n_regions\n",
    "    }\n",
    "    '''\n",
    "    for replicate_number in range(3):\n",
    "        unmatched_regions,n_regions = compare_to_raw(*valid_dirs[0])\n",
    "        all_mismatched_regions[cell_number][replicate_number] = {\n",
    "            'unmatched_regions':unmatched_regions,\n",
    "            'n_regions':n_regions\n",
    "        }\n",
    "        print( cell_number, replicate_number, result_dict['n_regions'], len(result_dict['unmatched_regions']) )\n",
    "    '''\n"
   ]
  },
  {
   "cell_type": "code",
   "execution_count": 100,
   "id": "7cb7ee92-8c4f-49c9-aece-22e98d57741f",
   "metadata": {},
   "outputs": [],
   "source": [
    "for cell_number,replicate_details in all_mismatched_regions.items():\n",
    "    for replicate_number,result_dict in replicate_details.items():\n",
    "        print( cell_number, replicate_number, result_dict['n_regions'], len(result_dict['unmatched_regions']) )"
   ]
  },
  {
   "cell_type": "code",
   "execution_count": 102,
   "id": "f48b87d8-6db4-4b68-8dfc-c627fb3ff9f5",
   "metadata": {},
   "outputs": [
    {
     "data": {
      "text/plain": [
       "'1234.1234'"
      ]
     },
     "execution_count": 102,
     "metadata": {},
     "output_type": "execute_result"
    }
   ],
   "source": [
    "f'{1234.123412341234:.4f}'"
   ]
  },
  {
   "cell_type": "code",
   "execution_count": null,
   "id": "796b8397-d3e4-4f98-b651-fb42a422e6aa",
   "metadata": {},
   "outputs": [],
   "source": []
  },
  {
   "cell_type": "code",
   "execution_count": null,
   "id": "9a62a967-f305-4981-bcfc-0bda67c2e96a",
   "metadata": {},
   "outputs": [],
   "source": []
  },
  {
   "cell_type": "code",
   "execution_count": null,
   "id": "24c91ddb-46f4-43ec-ae4c-95333032987c",
   "metadata": {},
   "outputs": [],
   "source": []
  },
  {
   "cell_type": "code",
   "execution_count": null,
   "id": "c04ddd15-c6f4-4fdb-898f-9af5298860d4",
   "metadata": {},
   "outputs": [],
   "source": []
  },
  {
   "cell_type": "code",
   "execution_count": null,
   "id": "4360b32d-12ff-421c-87d8-4d1ada0e45c2",
   "metadata": {},
   "outputs": [],
   "source": []
  },
  {
   "cell_type": "code",
   "execution_count": null,
   "id": "952b3e65-eb0a-47e6-8b57-3e8d23da3e00",
   "metadata": {},
   "outputs": [],
   "source": []
  },
  {
   "cell_type": "code",
   "execution_count": null,
   "id": "0b5f5b13-84a0-490c-b3ce-66e1fd66689b",
   "metadata": {},
   "outputs": [],
   "source": []
  },
  {
   "cell_type": "code",
   "execution_count": null,
   "id": "e45e2616-b4e0-4863-9710-3e11c4b395c2",
   "metadata": {},
   "outputs": [],
   "source": []
  },
  {
   "cell_type": "code",
   "execution_count": null,
   "id": "df91a6ee-8da7-44c9-864d-654803f0ee2b",
   "metadata": {},
   "outputs": [],
   "source": []
  }
 ],
 "metadata": {
  "kernelspec": {
   "display_name": "Python 3 (ipykernel)",
   "language": "python",
   "name": "python3"
  },
  "language_info": {
   "codemirror_mode": {
    "name": "ipython",
    "version": 3
   },
   "file_extension": ".py",
   "mimetype": "text/x-python",
   "name": "python",
   "nbconvert_exporter": "python",
   "pygments_lexer": "ipython3",
   "version": "3.10.12"
  }
 },
 "nbformat": 4,
 "nbformat_minor": 5
}
