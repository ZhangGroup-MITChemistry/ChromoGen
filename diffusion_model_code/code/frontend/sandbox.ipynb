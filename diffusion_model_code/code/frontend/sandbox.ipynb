{
 "cells": [
  {
   "cell_type": "code",
   "execution_count": 1,
   "id": "376ca7d7-0633-432a-a8f1-84f8382f7586",
   "metadata": {},
   "outputs": [],
   "source": [
    "from Tranmodel import Tranmodel\n",
    "import sys\n",
    "sys.path.insert(1,'../data_utils') \n",
    "from SequencesDataset import SequencesDataset\n",
    "\n",
    "import torch\n",
    "from einops import rearrange"
   ]
  },
  {
   "cell_type": "code",
   "execution_count": 2,
   "id": "065be70f-3cb1-4d11-8fde-c2e705b0198f",
   "metadata": {},
   "outputs": [
    {
     "name": "stdout",
     "output_type": "stream",
     "text": [
      "Loading sequencing data\n",
      "Sequencing data loading complete\n"
     ]
    }
   ],
   "source": [
    "#sample = torch.rand(2600, 5, 1600)\n",
    "ds = SequencesDataset(chroms=['chr1'])"
   ]
  },
  {
   "cell_type": "code",
   "execution_count": 3,
   "id": "bb33caf9-76ed-4667-a2fd-cc6ac0b90c6f",
   "metadata": {},
   "outputs": [],
   "source": [
    "frontend = Tranmodel.get_pretrained_model(allow_further_training=True)\n",
    "frontend.requires_grad_(False);"
   ]
  },
  {
   "cell_type": "code",
   "execution_count": 4,
   "id": "dafaa491-d9e3-47c7-bf39-e7dcf98f9b45",
   "metadata": {},
   "outputs": [],
   "source": [
    "try:\n",
    "    frontend.cuda()\n",
    "except:\n",
    "    pass\n",
    "sample = ds.fetch([('chr1',522_000,1_300_000),('chr1',522_000,1_300_000)]).to(frontend.device)"
   ]
  },
  {
   "cell_type": "code",
   "execution_count": 25,
   "id": "613416b9-b439-4b1a-8aaa-defdda0bf114",
   "metadata": {},
   "outputs": [],
   "source": [
    "import pandas as pd \n",
    "coord_info = pd.read_hdf(\n",
    "            '../../data/processed_data.hdf5',#self.filepath,\n",
    "            key='coord_info'\n",
    "        )"
   ]
  },
  {
   "cell_type": "code",
   "execution_count": 46,
   "id": "a769126d-c051-40a1-9ab9-1ea77ac0656a",
   "metadata": {},
   "outputs": [],
   "source": [
    "from ConfigDataset import ConfigDataset\n",
    "cds = ConfigDataset('../../data/processed_data.hdf5',segment_length=65) "
   ]
  },
  {
   "cell_type": "code",
   "execution_count": 47,
   "id": "8e9b2d53-6923-4adb-adbd-c0c57815968b",
   "metadata": {},
   "outputs": [
    {
     "data": {
      "text/plain": [
       "array([     62,     126,     190, ..., 6390158, 6390222, 6390286])"
      ]
     },
     "execution_count": 47,
     "metadata": {},
     "output_type": "execute_result"
    }
   ],
   "source": [
    "cds.start_indices"
   ]
  },
  {
   "cell_type": "code",
   "execution_count": null,
   "id": "df3177a8-038c-474c-ba75-01cb50c1e61c",
   "metadata": {},
   "outputs": [],
   "source": []
  },
  {
   "cell_type": "code",
   "execution_count": 48,
   "id": "654b8626-b288-46eb-8936-82cee3fe4d7b",
   "metadata": {},
   "outputs": [],
   "source": [
    "import numpy as np\n",
    "\n",
    "start_idx = cds.genomic_index[cds.start_indices]\n",
    "#np.empty(len(start_idx))"
   ]
  },
  {
   "cell_type": "code",
   "execution_count": 49,
   "id": "3827a2b0-8253-4c02-8788-3a8f9920e84e",
   "metadata": {},
   "outputs": [
    {
     "data": {
      "text/plain": [
       "96924"
      ]
     },
     "execution_count": 49,
     "metadata": {},
     "output_type": "execute_result"
    }
   ],
   "source": [
    "len(cds.start_indices)"
   ]
  },
  {
   "cell_type": "code",
   "execution_count": 50,
   "id": "a539ea54-f963-47da-a699-197fbafc0f49",
   "metadata": {},
   "outputs": [
    {
     "data": {
      "text/plain": [
       "6390286"
      ]
     },
     "execution_count": 50,
     "metadata": {},
     "output_type": "execute_result"
    }
   ],
   "source": [
    "cds.start_indices.max()"
   ]
  },
  {
   "cell_type": "code",
   "execution_count": 57,
   "id": "f12db135-3757-4e1b-a3c7-68a1cdc77fe4",
   "metadata": {},
   "outputs": [
    {
     "name": "stdout",
     "output_type": "stream",
     "text": [
      "46273\n",
      "46273\n"
     ]
    }
   ],
   "source": [
    "regions = cds.get_genomic_regions().copy()\n",
    "print(len(regions))\n",
    "regions = regions.sort_values(by=['Chromosome','Start'],axis=0,ignore_index=True)\n",
    "print(len(regions))"
   ]
  },
  {
   "cell_type": "code",
   "execution_count": 68,
   "id": "a8fb1163-cab6-440d-91f8-2d92bcedf866",
   "metadata": {},
   "outputs": [
    {
     "data": {
      "text/html": [
       "<div>\n",
       "<style scoped>\n",
       "    .dataframe tbody tr th:only-of-type {\n",
       "        vertical-align: middle;\n",
       "    }\n",
       "\n",
       "    .dataframe tbody tr th {\n",
       "        vertical-align: top;\n",
       "    }\n",
       "\n",
       "    .dataframe thead th {\n",
       "        text-align: right;\n",
       "    }\n",
       "</style>\n",
       "<table border=\"1\" class=\"dataframe\">\n",
       "  <thead>\n",
       "    <tr style=\"text-align: right;\">\n",
       "      <th></th>\n",
       "      <th>Chromosome</th>\n",
       "      <th>Start</th>\n",
       "      <th>Stop</th>\n",
       "    </tr>\n",
       "  </thead>\n",
       "  <tbody>\n",
       "    <tr>\n",
       "      <th>0</th>\n",
       "      <td>1</td>\n",
       "      <td>1260000</td>\n",
       "      <td>1300000</td>\n",
       "    </tr>\n",
       "    <tr>\n",
       "      <th>1</th>\n",
       "      <td>1</td>\n",
       "      <td>1340000</td>\n",
       "      <td>1300000</td>\n",
       "    </tr>\n",
       "    <tr>\n",
       "      <th>2</th>\n",
       "      <td>1</td>\n",
       "      <td>1360000</td>\n",
       "      <td>1300000</td>\n",
       "    </tr>\n",
       "    <tr>\n",
       "      <th>3</th>\n",
       "      <td>1</td>\n",
       "      <td>1400000</td>\n",
       "      <td>1300000</td>\n",
       "    </tr>\n",
       "    <tr>\n",
       "      <th>4</th>\n",
       "      <td>1</td>\n",
       "      <td>1420000</td>\n",
       "      <td>1300000</td>\n",
       "    </tr>\n",
       "    <tr>\n",
       "      <th>...</th>\n",
       "      <td>...</td>\n",
       "      <td>...</td>\n",
       "      <td>...</td>\n",
       "    </tr>\n",
       "    <tr>\n",
       "      <th>46268</th>\n",
       "      <td>X</td>\n",
       "      <td>153840000</td>\n",
       "      <td>1300000</td>\n",
       "    </tr>\n",
       "    <tr>\n",
       "      <th>46269</th>\n",
       "      <td>X</td>\n",
       "      <td>153860000</td>\n",
       "      <td>1300000</td>\n",
       "    </tr>\n",
       "    <tr>\n",
       "      <th>46270</th>\n",
       "      <td>X</td>\n",
       "      <td>153880000</td>\n",
       "      <td>1300000</td>\n",
       "    </tr>\n",
       "    <tr>\n",
       "      <th>46271</th>\n",
       "      <td>X</td>\n",
       "      <td>153940000</td>\n",
       "      <td>1300000</td>\n",
       "    </tr>\n",
       "    <tr>\n",
       "      <th>46272</th>\n",
       "      <td>X</td>\n",
       "      <td>153960000</td>\n",
       "      <td>1300000</td>\n",
       "    </tr>\n",
       "  </tbody>\n",
       "</table>\n",
       "<p>46273 rows × 3 columns</p>\n",
       "</div>"
      ],
      "text/plain": [
       "      Chromosome      Start     Stop\n",
       "0              1    1260000  1300000\n",
       "1              1    1340000  1300000\n",
       "2              1    1360000  1300000\n",
       "3              1    1400000  1300000\n",
       "4              1    1420000  1300000\n",
       "...          ...        ...      ...\n",
       "46268          X  153840000  1300000\n",
       "46269          X  153860000  1300000\n",
       "46270          X  153880000  1300000\n",
       "46271          X  153940000  1300000\n",
       "46272          X  153960000  1300000\n",
       "\n",
       "[46273 rows x 3 columns]"
      ]
     },
     "execution_count": 68,
     "metadata": {},
     "output_type": "execute_result"
    }
   ],
   "source": [
    "regions['Stop']-= regions['Start']\n",
    "regions"
   ]
  },
  {
   "cell_type": "code",
   "execution_count": 64,
   "id": "1e9b08ec-a0f0-4fb6-b0c0-e54bb7ea5efc",
   "metadata": {},
   "outputs": [],
   "source": [
    "frontend.cpu();"
   ]
  },
  {
   "cell_type": "code",
   "execution_count": null,
   "id": "fd05f5f8-474b-428d-9cfb-400c210f0efa",
   "metadata": {},
   "outputs": [],
   "source": []
  },
  {
   "cell_type": "code",
   "execution_count": null,
   "id": "f6d2c156-4663-41e9-bcc1-03d6c184909a",
   "metadata": {},
   "outputs": [],
   "source": []
  },
  {
   "cell_type": "code",
   "execution_count": 5,
   "id": "0c0a8e49-319e-46b6-8109-62e3dfdaf68b",
   "metadata": {},
   "outputs": [],
   "source": [
    "out = frontend(sample)"
   ]
  },
  {
   "cell_type": "code",
   "execution_count": 6,
   "id": "243f411e-0c6d-44a0-bd1a-795e9592a756",
   "metadata": {},
   "outputs": [
    {
     "data": {
      "text/plain": [
       "tensor(False, device='cuda:0')"
      ]
     },
     "execution_count": 6,
     "metadata": {},
     "output_type": "execute_result"
    }
   ],
   "source": [
    "(out[0,...] == out[1,...]).all()"
   ]
  },
  {
   "cell_type": "code",
   "execution_count": 7,
   "id": "8afa3346-4100-4e16-a2c1-5b67f8483f6c",
   "metadata": {},
   "outputs": [
    {
     "data": {
      "text/plain": [
       "[<matplotlib.lines.Line2D at 0x7f6f4236f550>]"
      ]
     },
     "execution_count": 7,
     "metadata": {},
     "output_type": "execute_result"
    },
    {
     "data": {
      "image/png": "[encoded data removed]",
      "text/plain": [
       "<Figure size 640x480 with 1 Axes>"
      ]
     },
     "metadata": {},
     "output_type": "display_data"
    }
   ],
   "source": [
    "import matplotlib.pyplot as plt\n",
    "\n",
    "plt.plot(out[0,...].flatten().cpu().numpy(),out[1,...].flatten().cpu().numpy(),'.')"
   ]
  },
  {
   "cell_type": "code",
   "execution_count": 8,
   "id": "5ef4412f-bcbf-447f-b12d-ba8ac3d9c782",
   "metadata": {},
   "outputs": [],
   "source": [
    "out2 = frontend(sample) "
   ]
  },
  {
   "cell_type": "code",
   "execution_count": 9,
   "id": "8feb061e-9e16-4752-8573-91b4c94b0724",
   "metadata": {},
   "outputs": [
    {
     "data": {
      "text/plain": [
       "[<matplotlib.lines.Line2D at 0x7f6f42272a40>]"
      ]
     },
     "execution_count": 9,
     "metadata": {},
     "output_type": "execute_result"
    },
    {
     "data": {
      "image/png": "[encoded data removed]",
      "text/plain": [
       "<Figure size 640x480 with 1 Axes>"
      ]
     },
     "metadata": {},
     "output_type": "display_data"
    }
   ],
   "source": [
    "plt.plot(out2[0,...].flatten().cpu().numpy(),out2[1,...].flatten().cpu().numpy(),'.')"
   ]
  },
  {
   "cell_type": "code",
   "execution_count": 10,
   "id": "82c1d8e2-8171-4019-89b9-b109cc1f8393",
   "metadata": {},
   "outputs": [
    {
     "data": {
      "text/plain": [
       "tensor(False, device='cuda:0')"
      ]
     },
     "execution_count": 10,
     "metadata": {},
     "output_type": "execute_result"
    }
   ],
   "source": [
    "(out == out2).all() "
   ]
  },
  {
   "cell_type": "code",
   "execution_count": 11,
   "id": "106a0028-fc44-4c59-9a33-f406cfc5f948",
   "metadata": {},
   "outputs": [
    {
     "data": {
      "text/plain": [
       "[<matplotlib.lines.Line2D at 0x7f6f422df2e0>]"
      ]
     },
     "execution_count": 11,
     "metadata": {},
     "output_type": "execute_result"
    },
    {
     "data": {
      "image/png": "[encoded data removed]",
      "text/plain": [
       "<Figure size 640x480 with 1 Axes>"
      ]
     },
     "metadata": {},
     "output_type": "display_data"
    }
   ],
   "source": [
    "plt.plot(out.flatten().cpu().numpy(),out2.flatten().cpu().numpy(),'.')"
   ]
  },
  {
   "cell_type": "code",
   "execution_count": 12,
   "id": "93f46f49-c56a-45c1-b300-b565d698f118",
   "metadata": {},
   "outputs": [],
   "source": [
    "frontend.eval();"
   ]
  },
  {
   "cell_type": "code",
   "execution_count": 13,
   "id": "ef3ed024-7f65-4b96-b924-ba87618f2457",
   "metadata": {},
   "outputs": [],
   "source": [
    "out = frontend(sample)"
   ]
  },
  {
   "cell_type": "code",
   "execution_count": 14,
   "id": "90b420e5-fceb-4274-8310-4a5f50052e57",
   "metadata": {},
   "outputs": [
    {
     "data": {
      "text/plain": [
       "tensor(True, device='cuda:0')"
      ]
     },
     "execution_count": 14,
     "metadata": {},
     "output_type": "execute_result"
    }
   ],
   "source": [
    "(out[0,...] == out[1,...]).all()"
   ]
  },
  {
   "cell_type": "code",
   "execution_count": 15,
   "id": "54f2a461-a357-4c92-9c2b-49727853f067",
   "metadata": {},
   "outputs": [
    {
     "data": {
      "text/plain": [
       "[<matplotlib.lines.Line2D at 0x7f6f4218c190>]"
      ]
     },
     "execution_count": 15,
     "metadata": {},
     "output_type": "execute_result"
    },
    {
     "data": {
      "image/png": "[encoded data removed]",
      "text/plain": [
       "<Figure size 640x480 with 1 Axes>"
      ]
     },
     "metadata": {},
     "output_type": "display_data"
    }
   ],
   "source": [
    "import matplotlib.pyplot as plt\n",
    "\n",
    "plt.plot(out[0,...].flatten().cpu().numpy(),out[1,...].flatten().cpu().numpy(),'.')"
   ]
  },
  {
   "cell_type": "code",
   "execution_count": 16,
   "id": "91ae429c-7a77-47be-b7c8-b6abae5222f0",
   "metadata": {},
   "outputs": [],
   "source": [
    "out2 = frontend(sample) "
   ]
  },
  {
   "cell_type": "code",
   "execution_count": 17,
   "id": "8a78c8fe-57f0-4603-a819-f45342117b3a",
   "metadata": {},
   "outputs": [
    {
     "data": {
      "text/plain": [
       "[<matplotlib.lines.Line2D at 0x7f6f4213c9a0>]"
      ]
     },
     "execution_count": 17,
     "metadata": {},
     "output_type": "execute_result"
    },
    {
     "data": {
      "image/png": "[encoded data removed]",
      "text/plain": [
       "<Figure size 640x480 with 1 Axes>"
      ]
     },
     "metadata": {},
     "output_type": "display_data"
    }
   ],
   "source": [
    "plt.plot(out2[0,...].flatten().cpu().numpy(),out2[1,...].flatten().cpu().numpy(),'.')"
   ]
  },
  {
   "cell_type": "code",
   "execution_count": 18,
   "id": "76f2f4c9-ef19-4b52-af85-82701bc4bd1d",
   "metadata": {},
   "outputs": [
    {
     "data": {
      "text/plain": [
       "tensor(True, device='cuda:0')"
      ]
     },
     "execution_count": 18,
     "metadata": {},
     "output_type": "execute_result"
    }
   ],
   "source": [
    "(out == out2).all() "
   ]
  },
  {
   "cell_type": "code",
   "execution_count": 19,
   "id": "8f7907ac-8dff-4090-ad80-3c90c2470860",
   "metadata": {},
   "outputs": [
    {
     "data": {
      "text/plain": [
       "[<matplotlib.lines.Line2D at 0x7f6f42047310>]"
      ]
     },
     "execution_count": 19,
     "metadata": {},
     "output_type": "execute_result"
    },
    {
     "data": {
      "image/png": "[encoded data removed]",
      "text/plain": [
       "<Figure size 640x480 with 1 Axes>"
      ]
     },
     "metadata": {},
     "output_type": "display_data"
    }
   ],
   "source": [
    "plt.plot(out.flatten().cpu().numpy(),out2.flatten().cpu().numpy(),'.')"
   ]
  },
  {
   "cell_type": "code",
   "execution_count": 20,
   "id": "e7aaf2b4-f834-4e62-8c4a-d5fd04719819",
   "metadata": {},
   "outputs": [],
   "source": [
    "z_emb = torch.load('/home/gridsan/gschuette/binz_group_shared/zlao/for_greg/run_scripts_1/chr_1_522.pt',map_location='cpu')"
   ]
  },
  {
   "cell_type": "code",
   "execution_count": 21,
   "id": "4d648e1a-0b6f-44a3-ab02-fc2a691b2cb4",
   "metadata": {},
   "outputs": [],
   "source": [
    "z_emb.requires_grad_(False); "
   ]
  },
  {
   "cell_type": "code",
   "execution_count": 22,
   "id": "0f5c935d-e32a-4afe-86b1-6230c15186ae",
   "metadata": {},
   "outputs": [
    {
     "data": {
      "text/plain": [
       "[<matplotlib.lines.Line2D at 0x7f6f421c3fd0>]"
      ]
     },
     "execution_count": 22,
     "metadata": {},
     "output_type": "execute_result"
    },
    {
     "data": {
      "image/png": "[encoded data removed]",
      "text/plain": [
       "<Figure size 640x480 with 1 Axes>"
      ]
     },
     "metadata": {},
     "output_type": "display_data"
    }
   ],
   "source": [
    "plt.plot(z_emb.flatten().cpu().numpy(),out[0,...].flatten().cpu().numpy(),'.')"
   ]
  },
  {
   "cell_type": "code",
   "execution_count": 23,
   "id": "865a1de6-89b1-42d2-8923-07fb7350d9f2",
   "metadata": {},
   "outputs": [
    {
     "data": {
      "text/plain": [
       "[<matplotlib.lines.Line2D at 0x7f6f39f50cd0>]"
      ]
     },
     "execution_count": 23,
     "metadata": {},
     "output_type": "execute_result"
    },
    {
     "data": {
      "image/png": "[encoded data removed]",
      "text/plain": [
       "<Figure size 640x480 with 1 Axes>"
      ]
     },
     "metadata": {},
     "output_type": "display_data"
    }
   ],
   "source": [
    "try: \n",
    "    frontend = Tranmodel.get_pretrained_model(allow_further_training=True).cuda()\n",
    "except: \n",
    "    frontend = Tranmodel.get_pretrained_model(allow_further_training=True)\n",
    "frontend.requires_grad_(False) \n",
    "out = frontend(sample)\n",
    "plt.plot(z_emb.flatten().cpu().numpy(),out[0,...].flatten().cpu().numpy(),'.')"
   ]
  },
  {
   "cell_type": "code",
   "execution_count": null,
   "id": "3df8e1ee-94e2-4191-ab39-f2b889f02b50",
   "metadata": {},
   "outputs": [],
   "source": []
  },
  {
   "cell_type": "code",
   "execution_count": null,
   "id": "c1826c84-d4e3-4315-a1cc-14ec524f0ec2",
   "metadata": {},
   "outputs": [],
   "source": []
  },
  {
   "cell_type": "code",
   "execution_count": 4,
   "id": "6fb308f3-e12d-4617-b687-deefed54aae9",
   "metadata": {},
   "outputs": [],
   "source": [
    "frontend = Tranmodel.get_pretrained_model(allow_further_training=False).cuda()"
   ]
  },
  {
   "cell_type": "code",
   "execution_count": 5,
   "id": "a978a8f1-031f-4d6e-b1c0-ddc4b073c7ca",
   "metadata": {},
   "outputs": [
    {
     "ename": "OutOfMemoryError",
     "evalue": "CUDA out of memory. Tried to allocate 15.69 GiB (GPU 0; 31.74 GiB total capacity; 16.13 GiB already allocated; 14.19 GiB free; 17.17 GiB reserved in total by PyTorch) If reserved memory is >> allocated memory try setting max_split_size_mb to avoid fragmentation.  See documentation for Memory Management and PYTORCH_CUDA_ALLOC_CONF",
     "output_type": "error",
     "traceback": [
      "\u001b[0;31m---------------------------------------------------------------------------\u001b[0m",
      "\u001b[0;31mOutOfMemoryError\u001b[0m                          Traceback (most recent call last)",
      "Cell \u001b[0;32mIn[5], line 10\u001b[0m\n\u001b[1;32m      8\u001b[0m times[i,t]\u001b[38;5;241m-\u001b[39m\u001b[38;5;241m=\u001b[39m time\u001b[38;5;241m.\u001b[39mtime()\n\u001b[1;32m      9\u001b[0m batch \u001b[38;5;241m=\u001b[39m ds\u001b[38;5;241m.\u001b[39mfetch([(\u001b[38;5;124m'\u001b[39m\u001b[38;5;124mchr1\u001b[39m\u001b[38;5;124m'\u001b[39m,\u001b[38;5;241m522_000\u001b[39m,\u001b[38;5;241m1_300_000\u001b[39m) \u001b[38;5;28;01mfor\u001b[39;00m _ \u001b[38;5;129;01min\u001b[39;00m \u001b[38;5;28mrange\u001b[39m(bs)])\u001b[38;5;241m.\u001b[39mto(frontend\u001b[38;5;241m.\u001b[39mdevice)\n\u001b[0;32m---> 10\u001b[0m temp \u001b[38;5;241m=\u001b[39m \u001b[43mfrontend\u001b[49m\u001b[43m(\u001b[49m\u001b[43mbatch\u001b[49m\u001b[43m)\u001b[49m \n\u001b[1;32m     11\u001b[0m times[i,t]\u001b[38;5;241m+\u001b[39m\u001b[38;5;241m=\u001b[39m time\u001b[38;5;241m.\u001b[39mtime()\n\u001b[1;32m     12\u001b[0m \u001b[38;5;28;01mdel\u001b[39;00m temp\n",
      "File \u001b[0;32m/state/partition1/llgrid/pkg/anaconda/python-LLM-2023b/lib/python3.10/site-packages/torch/nn/modules/module.py:1501\u001b[0m, in \u001b[0;36mModule._call_impl\u001b[0;34m(self, *args, **kwargs)\u001b[0m\n\u001b[1;32m   1496\u001b[0m \u001b[38;5;66;03m# If we don't have any hooks, we want to skip the rest of the logic in\u001b[39;00m\n\u001b[1;32m   1497\u001b[0m \u001b[38;5;66;03m# this function, and just call forward.\u001b[39;00m\n\u001b[1;32m   1498\u001b[0m \u001b[38;5;28;01mif\u001b[39;00m \u001b[38;5;129;01mnot\u001b[39;00m (\u001b[38;5;28mself\u001b[39m\u001b[38;5;241m.\u001b[39m_backward_hooks \u001b[38;5;129;01mor\u001b[39;00m \u001b[38;5;28mself\u001b[39m\u001b[38;5;241m.\u001b[39m_backward_pre_hooks \u001b[38;5;129;01mor\u001b[39;00m \u001b[38;5;28mself\u001b[39m\u001b[38;5;241m.\u001b[39m_forward_hooks \u001b[38;5;129;01mor\u001b[39;00m \u001b[38;5;28mself\u001b[39m\u001b[38;5;241m.\u001b[39m_forward_pre_hooks\n\u001b[1;32m   1499\u001b[0m         \u001b[38;5;129;01mor\u001b[39;00m _global_backward_pre_hooks \u001b[38;5;129;01mor\u001b[39;00m _global_backward_hooks\n\u001b[1;32m   1500\u001b[0m         \u001b[38;5;129;01mor\u001b[39;00m _global_forward_hooks \u001b[38;5;129;01mor\u001b[39;00m _global_forward_pre_hooks):\n\u001b[0;32m-> 1501\u001b[0m     \u001b[38;5;28;01mreturn\u001b[39;00m \u001b[43mforward_call\u001b[49m\u001b[43m(\u001b[49m\u001b[38;5;241;43m*\u001b[39;49m\u001b[43margs\u001b[49m\u001b[43m,\u001b[49m\u001b[43m \u001b[49m\u001b[38;5;241;43m*\u001b[39;49m\u001b[38;5;241;43m*\u001b[39;49m\u001b[43mkwargs\u001b[49m\u001b[43m)\u001b[49m\n\u001b[1;32m   1502\u001b[0m \u001b[38;5;66;03m# Do not call functions when jit is used\u001b[39;00m\n\u001b[1;32m   1503\u001b[0m full_backward_hooks, non_full_backward_hooks \u001b[38;5;241m=\u001b[39m [], []\n",
      "File \u001b[0;32m~/refining_scHiC/revamp_with_zhuohan/code/frontend/Tranmodel.py:196\u001b[0m, in \u001b[0;36mTranmodel.forward\u001b[0;34m(self, input)\u001b[0m\n\u001b[1;32m    194\u001b[0m \u001b[38;5;28minput\u001b[39m\u001b[38;5;241m=\u001b[39mrearrange(\u001b[38;5;28minput\u001b[39m,\u001b[38;5;124m'\u001b[39m\u001b[38;5;124mb n c l -> (b n) c l\u001b[39m\u001b[38;5;124m'\u001b[39m)\n\u001b[1;32m    195\u001b[0m \u001b[38;5;66;03m#input=Rearrange(input,'b n c l -> (b n) c l')\u001b[39;00m\n\u001b[0;32m--> 196\u001b[0m src \u001b[38;5;241m=\u001b[39m \u001b[38;5;28;43mself\u001b[39;49m\u001b[38;5;241;43m.\u001b[39;49m\u001b[43mbackbone\u001b[49m\u001b[43m(\u001b[49m\u001b[38;5;28;43minput\u001b[39;49m\u001b[43m)\u001b[49m\n\u001b[1;32m    197\u001b[0m src \u001b[38;5;241m=\u001b[39m \u001b[38;5;28mself\u001b[39m\u001b[38;5;241m.\u001b[39minput_proj(src)\n\u001b[1;32m    198\u001b[0m src \u001b[38;5;241m=\u001b[39m \u001b[38;5;28mself\u001b[39m\u001b[38;5;241m.\u001b[39mtransformer(src)\n",
      "File \u001b[0;32m/state/partition1/llgrid/pkg/anaconda/python-LLM-2023b/lib/python3.10/site-packages/torch/nn/modules/module.py:1501\u001b[0m, in \u001b[0;36mModule._call_impl\u001b[0;34m(self, *args, **kwargs)\u001b[0m\n\u001b[1;32m   1496\u001b[0m \u001b[38;5;66;03m# If we don't have any hooks, we want to skip the rest of the logic in\u001b[39;00m\n\u001b[1;32m   1497\u001b[0m \u001b[38;5;66;03m# this function, and just call forward.\u001b[39;00m\n\u001b[1;32m   1498\u001b[0m \u001b[38;5;28;01mif\u001b[39;00m \u001b[38;5;129;01mnot\u001b[39;00m (\u001b[38;5;28mself\u001b[39m\u001b[38;5;241m.\u001b[39m_backward_hooks \u001b[38;5;129;01mor\u001b[39;00m \u001b[38;5;28mself\u001b[39m\u001b[38;5;241m.\u001b[39m_backward_pre_hooks \u001b[38;5;129;01mor\u001b[39;00m \u001b[38;5;28mself\u001b[39m\u001b[38;5;241m.\u001b[39m_forward_hooks \u001b[38;5;129;01mor\u001b[39;00m \u001b[38;5;28mself\u001b[39m\u001b[38;5;241m.\u001b[39m_forward_pre_hooks\n\u001b[1;32m   1499\u001b[0m         \u001b[38;5;129;01mor\u001b[39;00m _global_backward_pre_hooks \u001b[38;5;129;01mor\u001b[39;00m _global_backward_hooks\n\u001b[1;32m   1500\u001b[0m         \u001b[38;5;129;01mor\u001b[39;00m _global_forward_hooks \u001b[38;5;129;01mor\u001b[39;00m _global_forward_pre_hooks):\n\u001b[0;32m-> 1501\u001b[0m     \u001b[38;5;28;01mreturn\u001b[39;00m \u001b[43mforward_call\u001b[49m\u001b[43m(\u001b[49m\u001b[38;5;241;43m*\u001b[39;49m\u001b[43margs\u001b[49m\u001b[43m,\u001b[49m\u001b[43m \u001b[49m\u001b[38;5;241;43m*\u001b[39;49m\u001b[38;5;241;43m*\u001b[39;49m\u001b[43mkwargs\u001b[49m\u001b[43m)\u001b[49m\n\u001b[1;32m   1502\u001b[0m \u001b[38;5;66;03m# Do not call functions when jit is used\u001b[39;00m\n\u001b[1;32m   1503\u001b[0m full_backward_hooks, non_full_backward_hooks \u001b[38;5;241m=\u001b[39m [], []\n",
      "File \u001b[0;32m~/refining_scHiC/revamp_with_zhuohan/code/frontend/Tranmodel.py:46\u001b[0m, in \u001b[0;36mCNN.forward\u001b[0;34m(self, x)\u001b[0m\n\u001b[1;32m     45\u001b[0m \u001b[38;5;28;01mdef\u001b[39;00m \u001b[38;5;21mforward\u001b[39m(\u001b[38;5;28mself\u001b[39m, x):\n\u001b[0;32m---> 46\u001b[0m     out \u001b[38;5;241m=\u001b[39m \u001b[38;5;28;43mself\u001b[39;49m\u001b[38;5;241;43m.\u001b[39;49m\u001b[43mconv_net\u001b[49m\u001b[43m(\u001b[49m\u001b[43mx\u001b[49m\u001b[43m)\u001b[49m\n\u001b[1;32m     47\u001b[0m     \u001b[38;5;28;01mreturn\u001b[39;00m out\n",
      "File \u001b[0;32m/state/partition1/llgrid/pkg/anaconda/python-LLM-2023b/lib/python3.10/site-packages/torch/nn/modules/module.py:1501\u001b[0m, in \u001b[0;36mModule._call_impl\u001b[0;34m(self, *args, **kwargs)\u001b[0m\n\u001b[1;32m   1496\u001b[0m \u001b[38;5;66;03m# If we don't have any hooks, we want to skip the rest of the logic in\u001b[39;00m\n\u001b[1;32m   1497\u001b[0m \u001b[38;5;66;03m# this function, and just call forward.\u001b[39;00m\n\u001b[1;32m   1498\u001b[0m \u001b[38;5;28;01mif\u001b[39;00m \u001b[38;5;129;01mnot\u001b[39;00m (\u001b[38;5;28mself\u001b[39m\u001b[38;5;241m.\u001b[39m_backward_hooks \u001b[38;5;129;01mor\u001b[39;00m \u001b[38;5;28mself\u001b[39m\u001b[38;5;241m.\u001b[39m_backward_pre_hooks \u001b[38;5;129;01mor\u001b[39;00m \u001b[38;5;28mself\u001b[39m\u001b[38;5;241m.\u001b[39m_forward_hooks \u001b[38;5;129;01mor\u001b[39;00m \u001b[38;5;28mself\u001b[39m\u001b[38;5;241m.\u001b[39m_forward_pre_hooks\n\u001b[1;32m   1499\u001b[0m         \u001b[38;5;129;01mor\u001b[39;00m _global_backward_pre_hooks \u001b[38;5;129;01mor\u001b[39;00m _global_backward_hooks\n\u001b[1;32m   1500\u001b[0m         \u001b[38;5;129;01mor\u001b[39;00m _global_forward_hooks \u001b[38;5;129;01mor\u001b[39;00m _global_forward_pre_hooks):\n\u001b[0;32m-> 1501\u001b[0m     \u001b[38;5;28;01mreturn\u001b[39;00m \u001b[43mforward_call\u001b[49m\u001b[43m(\u001b[49m\u001b[38;5;241;43m*\u001b[39;49m\u001b[43margs\u001b[49m\u001b[43m,\u001b[49m\u001b[43m \u001b[49m\u001b[38;5;241;43m*\u001b[39;49m\u001b[38;5;241;43m*\u001b[39;49m\u001b[43mkwargs\u001b[49m\u001b[43m)\u001b[49m\n\u001b[1;32m   1502\u001b[0m \u001b[38;5;66;03m# Do not call functions when jit is used\u001b[39;00m\n\u001b[1;32m   1503\u001b[0m full_backward_hooks, non_full_backward_hooks \u001b[38;5;241m=\u001b[39m [], []\n",
      "File \u001b[0;32m/state/partition1/llgrid/pkg/anaconda/python-LLM-2023b/lib/python3.10/site-packages/torch/nn/modules/container.py:217\u001b[0m, in \u001b[0;36mSequential.forward\u001b[0;34m(self, input)\u001b[0m\n\u001b[1;32m    215\u001b[0m \u001b[38;5;28;01mdef\u001b[39;00m \u001b[38;5;21mforward\u001b[39m(\u001b[38;5;28mself\u001b[39m, \u001b[38;5;28minput\u001b[39m):\n\u001b[1;32m    216\u001b[0m     \u001b[38;5;28;01mfor\u001b[39;00m module \u001b[38;5;129;01min\u001b[39;00m \u001b[38;5;28mself\u001b[39m:\n\u001b[0;32m--> 217\u001b[0m         \u001b[38;5;28minput\u001b[39m \u001b[38;5;241m=\u001b[39m \u001b[43mmodule\u001b[49m\u001b[43m(\u001b[49m\u001b[38;5;28;43minput\u001b[39;49m\u001b[43m)\u001b[49m\n\u001b[1;32m    218\u001b[0m     \u001b[38;5;28;01mreturn\u001b[39;00m \u001b[38;5;28minput\u001b[39m\n",
      "File \u001b[0;32m/state/partition1/llgrid/pkg/anaconda/python-LLM-2023b/lib/python3.10/site-packages/torch/nn/modules/module.py:1501\u001b[0m, in \u001b[0;36mModule._call_impl\u001b[0;34m(self, *args, **kwargs)\u001b[0m\n\u001b[1;32m   1496\u001b[0m \u001b[38;5;66;03m# If we don't have any hooks, we want to skip the rest of the logic in\u001b[39;00m\n\u001b[1;32m   1497\u001b[0m \u001b[38;5;66;03m# this function, and just call forward.\u001b[39;00m\n\u001b[1;32m   1498\u001b[0m \u001b[38;5;28;01mif\u001b[39;00m \u001b[38;5;129;01mnot\u001b[39;00m (\u001b[38;5;28mself\u001b[39m\u001b[38;5;241m.\u001b[39m_backward_hooks \u001b[38;5;129;01mor\u001b[39;00m \u001b[38;5;28mself\u001b[39m\u001b[38;5;241m.\u001b[39m_backward_pre_hooks \u001b[38;5;129;01mor\u001b[39;00m \u001b[38;5;28mself\u001b[39m\u001b[38;5;241m.\u001b[39m_forward_hooks \u001b[38;5;129;01mor\u001b[39;00m \u001b[38;5;28mself\u001b[39m\u001b[38;5;241m.\u001b[39m_forward_pre_hooks\n\u001b[1;32m   1499\u001b[0m         \u001b[38;5;129;01mor\u001b[39;00m _global_backward_pre_hooks \u001b[38;5;129;01mor\u001b[39;00m _global_backward_hooks\n\u001b[1;32m   1500\u001b[0m         \u001b[38;5;129;01mor\u001b[39;00m _global_forward_hooks \u001b[38;5;129;01mor\u001b[39;00m _global_forward_pre_hooks):\n\u001b[0;32m-> 1501\u001b[0m     \u001b[38;5;28;01mreturn\u001b[39;00m \u001b[43mforward_call\u001b[49m\u001b[43m(\u001b[49m\u001b[38;5;241;43m*\u001b[39;49m\u001b[43margs\u001b[49m\u001b[43m,\u001b[49m\u001b[43m \u001b[49m\u001b[38;5;241;43m*\u001b[39;49m\u001b[38;5;241;43m*\u001b[39;49m\u001b[43mkwargs\u001b[49m\u001b[43m)\u001b[49m\n\u001b[1;32m   1502\u001b[0m \u001b[38;5;66;03m# Do not call functions when jit is used\u001b[39;00m\n\u001b[1;32m   1503\u001b[0m full_backward_hooks, non_full_backward_hooks \u001b[38;5;241m=\u001b[39m [], []\n",
      "File \u001b[0;32m/state/partition1/llgrid/pkg/anaconda/python-LLM-2023b/lib/python3.10/site-packages/torch/nn/modules/conv.py:313\u001b[0m, in \u001b[0;36mConv1d.forward\u001b[0;34m(self, input)\u001b[0m\n\u001b[1;32m    312\u001b[0m \u001b[38;5;28;01mdef\u001b[39;00m \u001b[38;5;21mforward\u001b[39m(\u001b[38;5;28mself\u001b[39m, \u001b[38;5;28minput\u001b[39m: Tensor) \u001b[38;5;241m-\u001b[39m\u001b[38;5;241m>\u001b[39m Tensor:\n\u001b[0;32m--> 313\u001b[0m     \u001b[38;5;28;01mreturn\u001b[39;00m \u001b[38;5;28;43mself\u001b[39;49m\u001b[38;5;241;43m.\u001b[39;49m\u001b[43m_conv_forward\u001b[49m\u001b[43m(\u001b[49m\u001b[38;5;28;43minput\u001b[39;49m\u001b[43m,\u001b[49m\u001b[43m \u001b[49m\u001b[38;5;28;43mself\u001b[39;49m\u001b[38;5;241;43m.\u001b[39;49m\u001b[43mweight\u001b[49m\u001b[43m,\u001b[49m\u001b[43m \u001b[49m\u001b[38;5;28;43mself\u001b[39;49m\u001b[38;5;241;43m.\u001b[39;49m\u001b[43mbias\u001b[49m\u001b[43m)\u001b[49m\n",
      "File \u001b[0;32m/state/partition1/llgrid/pkg/anaconda/python-LLM-2023b/lib/python3.10/site-packages/torch/nn/modules/conv.py:309\u001b[0m, in \u001b[0;36mConv1d._conv_forward\u001b[0;34m(self, input, weight, bias)\u001b[0m\n\u001b[1;32m    305\u001b[0m \u001b[38;5;28;01mif\u001b[39;00m \u001b[38;5;28mself\u001b[39m\u001b[38;5;241m.\u001b[39mpadding_mode \u001b[38;5;241m!=\u001b[39m \u001b[38;5;124m'\u001b[39m\u001b[38;5;124mzeros\u001b[39m\u001b[38;5;124m'\u001b[39m:\n\u001b[1;32m    306\u001b[0m     \u001b[38;5;28;01mreturn\u001b[39;00m F\u001b[38;5;241m.\u001b[39mconv1d(F\u001b[38;5;241m.\u001b[39mpad(\u001b[38;5;28minput\u001b[39m, \u001b[38;5;28mself\u001b[39m\u001b[38;5;241m.\u001b[39m_reversed_padding_repeated_twice, mode\u001b[38;5;241m=\u001b[39m\u001b[38;5;28mself\u001b[39m\u001b[38;5;241m.\u001b[39mpadding_mode),\n\u001b[1;32m    307\u001b[0m                     weight, bias, \u001b[38;5;28mself\u001b[39m\u001b[38;5;241m.\u001b[39mstride,\n\u001b[1;32m    308\u001b[0m                     _single(\u001b[38;5;241m0\u001b[39m), \u001b[38;5;28mself\u001b[39m\u001b[38;5;241m.\u001b[39mdilation, \u001b[38;5;28mself\u001b[39m\u001b[38;5;241m.\u001b[39mgroups)\n\u001b[0;32m--> 309\u001b[0m \u001b[38;5;28;01mreturn\u001b[39;00m \u001b[43mF\u001b[49m\u001b[38;5;241;43m.\u001b[39;49m\u001b[43mconv1d\u001b[49m\u001b[43m(\u001b[49m\u001b[38;5;28;43minput\u001b[39;49m\u001b[43m,\u001b[49m\u001b[43m \u001b[49m\u001b[43mweight\u001b[49m\u001b[43m,\u001b[49m\u001b[43m \u001b[49m\u001b[43mbias\u001b[49m\u001b[43m,\u001b[49m\u001b[43m \u001b[49m\u001b[38;5;28;43mself\u001b[39;49m\u001b[38;5;241;43m.\u001b[39;49m\u001b[43mstride\u001b[49m\u001b[43m,\u001b[49m\n\u001b[1;32m    310\u001b[0m \u001b[43m                \u001b[49m\u001b[38;5;28;43mself\u001b[39;49m\u001b[38;5;241;43m.\u001b[39;49m\u001b[43mpadding\u001b[49m\u001b[43m,\u001b[49m\u001b[43m \u001b[49m\u001b[38;5;28;43mself\u001b[39;49m\u001b[38;5;241;43m.\u001b[39;49m\u001b[43mdilation\u001b[49m\u001b[43m,\u001b[49m\u001b[43m \u001b[49m\u001b[38;5;28;43mself\u001b[39;49m\u001b[38;5;241;43m.\u001b[39;49m\u001b[43mgroups\u001b[49m\u001b[43m)\u001b[49m\n",
      "\u001b[0;31mOutOfMemoryError\u001b[0m: CUDA out of memory. Tried to allocate 15.69 GiB (GPU 0; 31.74 GiB total capacity; 16.13 GiB already allocated; 14.19 GiB free; 17.17 GiB reserved in total by PyTorch) If reserved memory is >> allocated memory try setting max_split_size_mb to avoid fragmentation.  See documentation for Memory Management and PYTORCH_CUDA_ALLOC_CONF"
     ]
    }
   ],
   "source": [
    "import time\n",
    "batch_sizes = [1,2,4,8,16,32,64,128]\n",
    "ntrials = 10\n",
    "times = torch.zeros(len(batch_sizes),ntrials,dtype=torch.double)\n",
    "\n",
    "for i,bs in enumerate(batch_sizes): \n",
    "    for t in range(ntrials):\n",
    "        times[i,t]-= time.time()\n",
    "        batch = ds.fetch([('chr1',522_000,1_300_000) for _ in range(bs)]).to(frontend.device)\n",
    "        temp = frontend(batch) \n",
    "        times[i,t]+= time.time()\n",
    "        del temp"
   ]
  },
  {
   "cell_type": "code",
   "execution_count": null,
   "id": "20242a9a-0ca3-490c-b281-366bf4d4af72",
   "metadata": {},
   "outputs": [],
   "source": []
  },
  {
   "cell_type": "code",
   "execution_count": null,
   "id": "21d5237b-d9d1-4ff3-b96d-e13226d051d0",
   "metadata": {},
   "outputs": [],
   "source": []
  },
  {
   "cell_type": "code",
   "execution_count": 36,
   "id": "612a91a6-b741-408b-962b-5588f8221567",
   "metadata": {},
   "outputs": [],
   "source": [
    "batch_sizes = [1,2,4,8,16,32,64,128]\n",
    "ntrials = 10 \n",
    "\n",
    "ts = torch.zeros(len(batch_sizes), ntrials,dtype=torch.double) \n",
    "for i,bs in enumerate(batch_sizes): \n",
    "    idxs = [('chr1',522_000,1_300_000) for _ in range(bs)]\n",
    "    for t in range(ntrials):\n",
    "        ts[i,t]-= time.time()\n",
    "        batch = ds.fetch(idxs).to(frontend.device)\n",
    "        ts[i,t]+= time.time()"
   ]
  },
  {
   "cell_type": "code",
   "execution_count": 37,
   "id": "0d7e1924-a14e-414b-bef4-5d762a3ceeb7",
   "metadata": {},
   "outputs": [
    {
     "data": {
      "text/plain": [
       "tensor(0.0101, dtype=torch.float64)"
      ]
     },
     "execution_count": 37,
     "metadata": {},
     "output_type": "execute_result"
    }
   ],
   "source": [
    "ts1 = ts / torch.tensor(batch_sizes)[:,None]\n",
    "ts1.mean()"
   ]
  },
  {
   "cell_type": "code",
   "execution_count": 16,
   "id": "feb97ca7-00e3-4c15-937c-92ceaadedbd8",
   "metadata": {},
   "outputs": [
    {
     "data": {
      "text/plain": [
       "[<matplotlib.lines.Line2D at 0x7f7c7b8b8250>]"
      ]
     },
     "execution_count": 16,
     "metadata": {},
     "output_type": "execute_result"
    },
    {
     "data": {
      "image/png": "[encoded data removed]",
      "text/plain": [
       "<Figure size 640x480 with 1 Axes>"
      ]
     },
     "metadata": {},
     "output_type": "display_data"
    }
   ],
   "source": [
    "import matplotlib.pyplot as plt\n",
    "tt = ts.mean(-1) \n",
    "plt.plot(batch_sizes,tt) "
   ]
  },
  {
   "cell_type": "code",
   "execution_count": 30,
   "id": "a2ce02b5-1a05-4cf4-8454-fc7d31d75888",
   "metadata": {},
   "outputs": [],
   "source": [
    "import os\n",
    "import numpy as np\n",
    "import torch\n",
    "import pandas as pd\n",
    "from scipy.sparse import load_npz\n",
    "\n",
    "##########\n",
    "# Load functions for the genome. Adapted from what Zhuohan sent me \n",
    "def pad_seq_matrix(matrix, pad_len=300):\n",
    "    paddings = np.zeros((1, 4, pad_len)).astype('int8')\n",
    "    dmatrix = np.concatenate((paddings, matrix[:, :, -pad_len:]), axis=0)[:-1, :, :]\n",
    "    umatrix = np.concatenate((matrix[:, :, :pad_len], paddings), axis=0)[1:, :, :]\n",
    "    return np.concatenate((dmatrix, matrix, umatrix), axis=2)\n",
    "    \n",
    "def load_ref_genome(fp):\n",
    "    #try:\n",
    "    #    ref_gen_data = load_npz(fp).toarray().reshape(4, -1, 1000).swapaxes(0, 1)\n",
    "    #except:\n",
    "    #    print(fp) \n",
    "    #    return []\n",
    "    ref_gen_data = load_npz(fp).toarray().reshape(4, -1, 1000).swapaxes(0, 1)\n",
    "    return torch.tensor(pad_seq_matrix(ref_gen_data))\n",
    "\n",
    "##########\n",
    "# Load functions for DNase data. Adapted from what Zhuohan sent me \n",
    "def pad_signal_matrix(matrix, pad_len=300):\n",
    "    paddings = np.zeros(pad_len).astype('float32')\n",
    "    dmatrix = np.vstack((paddings, matrix[:, -pad_len:]))[:-1, :]\n",
    "    umatrix = np.vstack((matrix[:, :pad_len], paddings))[1:, :]\n",
    "    return np.hstack((dmatrix, matrix, umatrix))\n",
    "    \n",
    "def load_dnase(fp,chroms):\n",
    "    chroms_ = [int(chrom[3:]) if chrom[3:].isnumeric() else chrom[3:] for chrom in chroms]\n",
    "    dnase_seq_ = pd.read_pickle(fp)\n",
    "    dnase_seq = {}\n",
    "    for chrom in chroms: \n",
    "        chr = int(chrom[3:]) if chrom[3:].isnumeric() else chrom[3:]\n",
    "        dnase_seq[chrom] = dnase_seq_[chr]\n",
    "    del dnase_seq_\n",
    "    \n",
    "    for chr in dnase_seq: \n",
    "        dnase_seq[chr] = torch.tensor(np.expand_dims(pad_signal_matrix(dnase_seq[chr].toarray().reshape(-1, 1000)), axis=1))\n",
    "\n",
    "    return dnase_seq\n",
    "\n",
    "##########\n",
    "# Class by Greg\n",
    "class SequencesDataset:\n",
    "\n",
    "    def __init__(\n",
    "        self,\n",
    "        cell_type = 'GM12878',\n",
    "        alignment = 'hg19',\n",
    "        data_dir = '../../data/',\n",
    "        resolution=20_000,\n",
    "        region_length=1_300_000,\n",
    "        batch_size=64,\n",
    "        chroms = None\n",
    "    ):\n",
    "        self.dnase_fp = data_dir + f'outside/{cell_type}_{alignment}.pkl' \n",
    "        self.res = resolution // 1000\n",
    "        self.length = region_length // 1000\n",
    "        self.batch_size = batch_size\n",
    "\n",
    "        if chroms is None: \n",
    "            chroms = [f'chr{k}' for k in [*range(1,23),'X']]\n",
    "        elif type(chroms) == str:\n",
    "            chroms = [chroms] \n",
    "        elif type(chroms) == int: \n",
    "            chroms = [f'chr{chroms}']\n",
    "        '''\n",
    "        else: \n",
    "            raise Exception('More work for greg to do here for generalization')\n",
    "            # Probably use an external function to do the two elif statements & iterate through them here\n",
    "        '''\n",
    "        self.chroms = chroms\n",
    "        \n",
    "        # Ensure all files exist \n",
    "        self.genome_fps = {}\n",
    "        for chrom in chroms: \n",
    "            self.genome_fps[chrom] = data_dir + f'outside/{alignment}/{chrom}.npz'\n",
    "            assert os.path.exists(self.genome_fps[chrom]), self.genome_fps[chrom]\n",
    "\n",
    "        assert os.path.exists(self.dnase_fp), self.dnase_fp\n",
    "\n",
    "        # Load the data\n",
    "        print(f'Loading sequencing data')\n",
    "        self.load_genome()\n",
    "        self.load_dnase()\n",
    "        print(f'Sequencing data loading complete')\n",
    "\n",
    "        # Prepare to iterate\n",
    "        self.curr_chrom = 0\n",
    "        self.curr_idx = 0 \n",
    "        self.inner_idx = 0 \n",
    "\n",
    "        self.data = {}\n",
    "        for c in self.genome:\n",
    "            self.data[c] = torch.cat((self.genome[c],self.dnase[c]),dim=-2)\n",
    "\n",
    "    ##################################################\n",
    "    # Loading functions\n",
    "    def load_genome(self):\n",
    "        self.genome = {}\n",
    "        for chrom,fp in self.genome_fps.items():\n",
    "            self.genome[chrom] = load_ref_genome(fp)\n",
    "\n",
    "    def load_dnase(self):\n",
    "        self.dnase = load_dnase(self.dnase_fp,self.chroms)\n",
    "\n",
    "    ##################################################\n",
    "    # Data loading functions \n",
    "    def _update_sample_idx_(self):\n",
    "        \n",
    "        self.curr_idx+= self.res\n",
    "\n",
    "        c = self.chroms[self.curr_chrom]\n",
    "        if self.curr_idx + self.length >= seq_ds.genome[c].shape[0]:\n",
    "            self.curr_idx = 0\n",
    "            self.curr_chrom = (self.curr_chrom+1) % len(self.chroms)\n",
    "\n",
    "    def _get_sample_(self,idx=None):\n",
    "        if idx is None:\n",
    "            c,i,l = self.chroms[self.curr_chrom],self.curr_idx,self.length\n",
    "        else:\n",
    "            c,i,l = idx # uses kb resolution for i,l (see self.fetch for comparison) \n",
    "\n",
    "        return self.data[c][i:i+l,...] \n",
    "        \n",
    "        '''\n",
    "        ref_seq = self.genome[c][i:i+l,...]\n",
    "        dnase_seq = self.dnase[c][i:i+l,...]\n",
    "\n",
    "        return ref_seq, dnase_seq \n",
    "        '''\n",
    "        \n",
    "    def _region_is_valid_(self):\n",
    "\n",
    "        ref_seq, dnase_seq = self._get_sample_()\n",
    "\n",
    "        return ~(ref_seq==0).all(1).any(), ref_seq, dnase_seq\n",
    "        \n",
    "    def __iter__(self):\n",
    "        self.curr_chrom = 0\n",
    "        self.curr_idx = 0\n",
    "        self.inner_idx = 0\n",
    "        return self\n",
    "    \n",
    "    def __next__(self):\n",
    "\n",
    "        if (self.curr_chrom == 0) and (self.curr_idx == 0) and self.inner_idx > 0:\n",
    "            self.inner_idx == 0 \n",
    "            raise StopIteration # Back to the start!\n",
    "\n",
    "        batch_ref_seq = []\n",
    "        batch_dnase_seq = []\n",
    "        while len(batch_ref_seq) < self.batch_size:\n",
    "\n",
    "            is_valid, ref_seq, dnase_seq = self._region_is_valid_()\n",
    "            if is_valid:\n",
    "                batch_ref_seq.append(ref_seq)\n",
    "                batch_dnase_seq.append(dnase_seq)\n",
    "                self.inner_idx+= 1\n",
    "\n",
    "            self._update_sample_idx_()\n",
    "\n",
    "            if (self.curr_chrom == 0) and (self.curr_idx == 0):\n",
    "                # Went back to the start. This epoch is over! \n",
    "                break\n",
    "\n",
    "        if len(batch_ref_seq) == 0:\n",
    "            # We must have broken out of the while loop before finding any valid samples\n",
    "            self.inner_idx == 0 \n",
    "            raise StopIteration\n",
    "\n",
    "        # Stack the subobjects as desired.\n",
    "        batch_ref_seq = torch.stack(batch_ref_seq,dim=0) \n",
    "        batch_dnase_seq = torch.stack(batch_dnase_seq,dim=0) \n",
    "        \n",
    "        return batch_ref_seq, batch_dnase_seq\n",
    "\n",
    "    # For easier interfacing with my other classes. \n",
    "    def _fetch_one_(self,idx):\n",
    "        '''\n",
    "        idx = tuple(chrom,start_idx (in bp), region length (in bp))\n",
    "        '''\n",
    "        c,s,l = idx\n",
    "\n",
    "        assert s%1000 == 0 \n",
    "        s//= 1000\n",
    "        assert l%1000 == 0\n",
    "        l//= 1000\n",
    "        if c not in self.chroms:\n",
    "            c = f'chr{c}'\n",
    "        assert c in self.chroms\n",
    "\n",
    "        return self._get_sample_(idx=(c,s,l))\n",
    "        \n",
    "    def is_valid(self,idx):\n",
    "        '''\n",
    "        idx = same as described in self._fetch_one_\n",
    "        '''\n",
    "        ref_seq, dnase_seq = self._fetch_one_(idx)\n",
    "        \n",
    "        return ~(ref_seq==0).all(1).any(), ref_seq, dnase_seq\n",
    "    \n",
    "    def fetch(self,idxs):\n",
    "        '''\n",
    "        idxs is a list of tuples with the shape desribed for idx in the self._fetch_one_ function above.\n",
    "        '''\n",
    "\n",
    "        seqs = []\n",
    "        for idx in idxs: \n",
    "            seqs.append(self._fetch_one_(idx))#torch.cat(self._fetch_one_(idx),dim=-2))\n",
    "\n",
    "        return torch.stack(seqs,dim=0) \n",
    "            \n",
    "        \n",
    "        '''\n",
    "        ref_seqs = []\n",
    "        dnase_seqs = []\n",
    "        idxs_return = []\n",
    "        for idx in idxs: \n",
    "            is_valid, ref_seq, dnase_seq = self.is_valid(idx) \n",
    "            if return_invalid or is_valid: \n",
    "                idxs_return.append(idx)\n",
    "                ref_seqs.append(ref_seq)\n",
    "                dnase_seqs.append(dnase_seq)\n",
    "\n",
    "        ref_seqs = torch.stack(ref_seqs,dim=0)\n",
    "        dnase_seqs = torch.stack(dnase_seqs,dim=0) \n",
    "\n",
    "        return idxs_return, ref_seqs, dnase_seqs\n",
    "        '''\n"
   ]
  },
  {
   "cell_type": "code",
   "execution_count": 31,
   "id": "dfd57509-d913-4174-8945-8b8da03e258c",
   "metadata": {},
   "outputs": [
    {
     "name": "stdout",
     "output_type": "stream",
     "text": [
      "Loading sequencing data\n",
      "Sequencing data loading complete\n"
     ]
    }
   ],
   "source": [
    "ds2 = SequencesDataset(chroms=['chr1'])"
   ]
  },
  {
   "cell_type": "code",
   "execution_count": 38,
   "id": "2ada7b5a-6430-4da2-afff-6d15ebf67522",
   "metadata": {},
   "outputs": [],
   "source": [
    "batch_sizes = [1,2,4,8,16,32,64,128]\n",
    "ntrials = 10 \n",
    "\n",
    "ts2 = torch.zeros(len(batch_sizes), ntrials,dtype=torch.double) \n",
    "for i,bs in enumerate(batch_sizes): \n",
    "    idxs = [('chr1',522_000,1_300_000) for _ in range(bs)]\n",
    "    for t in range(ntrials):\n",
    "        ts2[i,t]-= time.time()\n",
    "        batch = ds2.fetch(idxs).to(frontend.device)\n",
    "        ts2[i,t]+= time.time()"
   ]
  },
  {
   "cell_type": "code",
   "execution_count": 39,
   "id": "4a1893b9-32a1-4d3a-82d6-17e87d32ac82",
   "metadata": {},
   "outputs": [
    {
     "data": {
      "text/plain": [
       "tensor(0.0107, dtype=torch.float64)"
      ]
     },
     "execution_count": 39,
     "metadata": {},
     "output_type": "execute_result"
    }
   ],
   "source": [
    "ts21 = ts2 / torch.tensor(batch_sizes)[:,None]\n",
    "ts21.mean()"
   ]
  },
  {
   "cell_type": "code",
   "execution_count": 40,
   "id": "f244c845-bba6-4122-8931-ef5a03f9f0b1",
   "metadata": {},
   "outputs": [
    {
     "data": {
      "text/plain": [
       "[<matplotlib.lines.Line2D at 0x7f7a94cc3f10>]"
      ]
     },
     "execution_count": 40,
     "metadata": {},
     "output_type": "execute_result"
    },
    {
     "data": {
      "image/png": "[encoded data removed]",
      "text/plain": [
       "<Figure size 640x480 with 1 Axes>"
      ]
     },
     "metadata": {},
     "output_type": "display_data"
    }
   ],
   "source": [
    "import matplotlib.pyplot as plt\n",
    "tt = ts2.mean(-1) \n",
    "plt.plot(batch_sizes,tt) "
   ]
  },
  {
   "cell_type": "code",
   "execution_count": 42,
   "id": "94972499-42c8-4259-beff-096fdd555e7d",
   "metadata": {},
   "outputs": [
    {
     "ename": "OutOfMemoryError",
     "evalue": "CUDA out of memory. Tried to allocate 15.69 GiB (GPU 0; 31.74 GiB total capacity; 16.13 GiB already allocated; 14.19 GiB free; 17.17 GiB reserved in total by PyTorch) If reserved memory is >> allocated memory try setting max_split_size_mb to avoid fragmentation.  See documentation for Memory Management and PYTORCH_CUDA_ALLOC_CONF",
     "output_type": "error",
     "traceback": [
      "\u001b[0;31m---------------------------------------------------------------------------\u001b[0m",
      "\u001b[0;31mOutOfMemoryError\u001b[0m                          Traceback (most recent call last)",
      "Cell \u001b[0;32mIn[42], line 9\u001b[0m\n\u001b[1;32m      7\u001b[0m \u001b[38;5;28;01mfor\u001b[39;00m t \u001b[38;5;129;01min\u001b[39;00m \u001b[38;5;28mrange\u001b[39m(ntrials):\n\u001b[1;32m      8\u001b[0m     ts2[i,t]\u001b[38;5;241m-\u001b[39m\u001b[38;5;241m=\u001b[39m time\u001b[38;5;241m.\u001b[39mtime()\n\u001b[0;32m----> 9\u001b[0m     sample \u001b[38;5;241m=\u001b[39m \u001b[43mfrontend\u001b[49m\u001b[43m(\u001b[49m\u001b[43mbatch\u001b[49m\u001b[43m)\u001b[49m \n\u001b[1;32m     10\u001b[0m     ts2[i,t]\u001b[38;5;241m+\u001b[39m\u001b[38;5;241m=\u001b[39m time\u001b[38;5;241m.\u001b[39mtime()\n\u001b[1;32m     11\u001b[0m     \u001b[38;5;28;01mdel\u001b[39;00m sample \n",
      "File \u001b[0;32m/state/partition1/llgrid/pkg/anaconda/python-LLM-2023b/lib/python3.10/site-packages/torch/nn/modules/module.py:1501\u001b[0m, in \u001b[0;36mModule._call_impl\u001b[0;34m(self, *args, **kwargs)\u001b[0m\n\u001b[1;32m   1496\u001b[0m \u001b[38;5;66;03m# If we don't have any hooks, we want to skip the rest of the logic in\u001b[39;00m\n\u001b[1;32m   1497\u001b[0m \u001b[38;5;66;03m# this function, and just call forward.\u001b[39;00m\n\u001b[1;32m   1498\u001b[0m \u001b[38;5;28;01mif\u001b[39;00m \u001b[38;5;129;01mnot\u001b[39;00m (\u001b[38;5;28mself\u001b[39m\u001b[38;5;241m.\u001b[39m_backward_hooks \u001b[38;5;129;01mor\u001b[39;00m \u001b[38;5;28mself\u001b[39m\u001b[38;5;241m.\u001b[39m_backward_pre_hooks \u001b[38;5;129;01mor\u001b[39;00m \u001b[38;5;28mself\u001b[39m\u001b[38;5;241m.\u001b[39m_forward_hooks \u001b[38;5;129;01mor\u001b[39;00m \u001b[38;5;28mself\u001b[39m\u001b[38;5;241m.\u001b[39m_forward_pre_hooks\n\u001b[1;32m   1499\u001b[0m         \u001b[38;5;129;01mor\u001b[39;00m _global_backward_pre_hooks \u001b[38;5;129;01mor\u001b[39;00m _global_backward_hooks\n\u001b[1;32m   1500\u001b[0m         \u001b[38;5;129;01mor\u001b[39;00m _global_forward_hooks \u001b[38;5;129;01mor\u001b[39;00m _global_forward_pre_hooks):\n\u001b[0;32m-> 1501\u001b[0m     \u001b[38;5;28;01mreturn\u001b[39;00m \u001b[43mforward_call\u001b[49m\u001b[43m(\u001b[49m\u001b[38;5;241;43m*\u001b[39;49m\u001b[43margs\u001b[49m\u001b[43m,\u001b[49m\u001b[43m \u001b[49m\u001b[38;5;241;43m*\u001b[39;49m\u001b[38;5;241;43m*\u001b[39;49m\u001b[43mkwargs\u001b[49m\u001b[43m)\u001b[49m\n\u001b[1;32m   1502\u001b[0m \u001b[38;5;66;03m# Do not call functions when jit is used\u001b[39;00m\n\u001b[1;32m   1503\u001b[0m full_backward_hooks, non_full_backward_hooks \u001b[38;5;241m=\u001b[39m [], []\n",
      "File \u001b[0;32m~/refining_scHiC/revamp_with_zhuohan/code/frontend/Tranmodel.py:196\u001b[0m, in \u001b[0;36mTranmodel.forward\u001b[0;34m(self, input)\u001b[0m\n\u001b[1;32m    194\u001b[0m \u001b[38;5;28minput\u001b[39m\u001b[38;5;241m=\u001b[39mrearrange(\u001b[38;5;28minput\u001b[39m,\u001b[38;5;124m'\u001b[39m\u001b[38;5;124mb n c l -> (b n) c l\u001b[39m\u001b[38;5;124m'\u001b[39m)\n\u001b[1;32m    195\u001b[0m \u001b[38;5;66;03m#input=Rearrange(input,'b n c l -> (b n) c l')\u001b[39;00m\n\u001b[0;32m--> 196\u001b[0m src \u001b[38;5;241m=\u001b[39m \u001b[38;5;28;43mself\u001b[39;49m\u001b[38;5;241;43m.\u001b[39;49m\u001b[43mbackbone\u001b[49m\u001b[43m(\u001b[49m\u001b[38;5;28;43minput\u001b[39;49m\u001b[43m)\u001b[49m\n\u001b[1;32m    197\u001b[0m src \u001b[38;5;241m=\u001b[39m \u001b[38;5;28mself\u001b[39m\u001b[38;5;241m.\u001b[39minput_proj(src)\n\u001b[1;32m    198\u001b[0m src \u001b[38;5;241m=\u001b[39m \u001b[38;5;28mself\u001b[39m\u001b[38;5;241m.\u001b[39mtransformer(src)\n",
      "File \u001b[0;32m/state/partition1/llgrid/pkg/anaconda/python-LLM-2023b/lib/python3.10/site-packages/torch/nn/modules/module.py:1501\u001b[0m, in \u001b[0;36mModule._call_impl\u001b[0;34m(self, *args, **kwargs)\u001b[0m\n\u001b[1;32m   1496\u001b[0m \u001b[38;5;66;03m# If we don't have any hooks, we want to skip the rest of the logic in\u001b[39;00m\n\u001b[1;32m   1497\u001b[0m \u001b[38;5;66;03m# this function, and just call forward.\u001b[39;00m\n\u001b[1;32m   1498\u001b[0m \u001b[38;5;28;01mif\u001b[39;00m \u001b[38;5;129;01mnot\u001b[39;00m (\u001b[38;5;28mself\u001b[39m\u001b[38;5;241m.\u001b[39m_backward_hooks \u001b[38;5;129;01mor\u001b[39;00m \u001b[38;5;28mself\u001b[39m\u001b[38;5;241m.\u001b[39m_backward_pre_hooks \u001b[38;5;129;01mor\u001b[39;00m \u001b[38;5;28mself\u001b[39m\u001b[38;5;241m.\u001b[39m_forward_hooks \u001b[38;5;129;01mor\u001b[39;00m \u001b[38;5;28mself\u001b[39m\u001b[38;5;241m.\u001b[39m_forward_pre_hooks\n\u001b[1;32m   1499\u001b[0m         \u001b[38;5;129;01mor\u001b[39;00m _global_backward_pre_hooks \u001b[38;5;129;01mor\u001b[39;00m _global_backward_hooks\n\u001b[1;32m   1500\u001b[0m         \u001b[38;5;129;01mor\u001b[39;00m _global_forward_hooks \u001b[38;5;129;01mor\u001b[39;00m _global_forward_pre_hooks):\n\u001b[0;32m-> 1501\u001b[0m     \u001b[38;5;28;01mreturn\u001b[39;00m \u001b[43mforward_call\u001b[49m\u001b[43m(\u001b[49m\u001b[38;5;241;43m*\u001b[39;49m\u001b[43margs\u001b[49m\u001b[43m,\u001b[49m\u001b[43m \u001b[49m\u001b[38;5;241;43m*\u001b[39;49m\u001b[38;5;241;43m*\u001b[39;49m\u001b[43mkwargs\u001b[49m\u001b[43m)\u001b[49m\n\u001b[1;32m   1502\u001b[0m \u001b[38;5;66;03m# Do not call functions when jit is used\u001b[39;00m\n\u001b[1;32m   1503\u001b[0m full_backward_hooks, non_full_backward_hooks \u001b[38;5;241m=\u001b[39m [], []\n",
      "File \u001b[0;32m~/refining_scHiC/revamp_with_zhuohan/code/frontend/Tranmodel.py:46\u001b[0m, in \u001b[0;36mCNN.forward\u001b[0;34m(self, x)\u001b[0m\n\u001b[1;32m     45\u001b[0m \u001b[38;5;28;01mdef\u001b[39;00m \u001b[38;5;21mforward\u001b[39m(\u001b[38;5;28mself\u001b[39m, x):\n\u001b[0;32m---> 46\u001b[0m     out \u001b[38;5;241m=\u001b[39m \u001b[38;5;28;43mself\u001b[39;49m\u001b[38;5;241;43m.\u001b[39;49m\u001b[43mconv_net\u001b[49m\u001b[43m(\u001b[49m\u001b[43mx\u001b[49m\u001b[43m)\u001b[49m\n\u001b[1;32m     47\u001b[0m     \u001b[38;5;28;01mreturn\u001b[39;00m out\n",
      "File \u001b[0;32m/state/partition1/llgrid/pkg/anaconda/python-LLM-2023b/lib/python3.10/site-packages/torch/nn/modules/module.py:1501\u001b[0m, in \u001b[0;36mModule._call_impl\u001b[0;34m(self, *args, **kwargs)\u001b[0m\n\u001b[1;32m   1496\u001b[0m \u001b[38;5;66;03m# If we don't have any hooks, we want to skip the rest of the logic in\u001b[39;00m\n\u001b[1;32m   1497\u001b[0m \u001b[38;5;66;03m# this function, and just call forward.\u001b[39;00m\n\u001b[1;32m   1498\u001b[0m \u001b[38;5;28;01mif\u001b[39;00m \u001b[38;5;129;01mnot\u001b[39;00m (\u001b[38;5;28mself\u001b[39m\u001b[38;5;241m.\u001b[39m_backward_hooks \u001b[38;5;129;01mor\u001b[39;00m \u001b[38;5;28mself\u001b[39m\u001b[38;5;241m.\u001b[39m_backward_pre_hooks \u001b[38;5;129;01mor\u001b[39;00m \u001b[38;5;28mself\u001b[39m\u001b[38;5;241m.\u001b[39m_forward_hooks \u001b[38;5;129;01mor\u001b[39;00m \u001b[38;5;28mself\u001b[39m\u001b[38;5;241m.\u001b[39m_forward_pre_hooks\n\u001b[1;32m   1499\u001b[0m         \u001b[38;5;129;01mor\u001b[39;00m _global_backward_pre_hooks \u001b[38;5;129;01mor\u001b[39;00m _global_backward_hooks\n\u001b[1;32m   1500\u001b[0m         \u001b[38;5;129;01mor\u001b[39;00m _global_forward_hooks \u001b[38;5;129;01mor\u001b[39;00m _global_forward_pre_hooks):\n\u001b[0;32m-> 1501\u001b[0m     \u001b[38;5;28;01mreturn\u001b[39;00m \u001b[43mforward_call\u001b[49m\u001b[43m(\u001b[49m\u001b[38;5;241;43m*\u001b[39;49m\u001b[43margs\u001b[49m\u001b[43m,\u001b[49m\u001b[43m \u001b[49m\u001b[38;5;241;43m*\u001b[39;49m\u001b[38;5;241;43m*\u001b[39;49m\u001b[43mkwargs\u001b[49m\u001b[43m)\u001b[49m\n\u001b[1;32m   1502\u001b[0m \u001b[38;5;66;03m# Do not call functions when jit is used\u001b[39;00m\n\u001b[1;32m   1503\u001b[0m full_backward_hooks, non_full_backward_hooks \u001b[38;5;241m=\u001b[39m [], []\n",
      "File \u001b[0;32m/state/partition1/llgrid/pkg/anaconda/python-LLM-2023b/lib/python3.10/site-packages/torch/nn/modules/container.py:217\u001b[0m, in \u001b[0;36mSequential.forward\u001b[0;34m(self, input)\u001b[0m\n\u001b[1;32m    215\u001b[0m \u001b[38;5;28;01mdef\u001b[39;00m \u001b[38;5;21mforward\u001b[39m(\u001b[38;5;28mself\u001b[39m, \u001b[38;5;28minput\u001b[39m):\n\u001b[1;32m    216\u001b[0m     \u001b[38;5;28;01mfor\u001b[39;00m module \u001b[38;5;129;01min\u001b[39;00m \u001b[38;5;28mself\u001b[39m:\n\u001b[0;32m--> 217\u001b[0m         \u001b[38;5;28minput\u001b[39m \u001b[38;5;241m=\u001b[39m \u001b[43mmodule\u001b[49m\u001b[43m(\u001b[49m\u001b[38;5;28;43minput\u001b[39;49m\u001b[43m)\u001b[49m\n\u001b[1;32m    218\u001b[0m     \u001b[38;5;28;01mreturn\u001b[39;00m \u001b[38;5;28minput\u001b[39m\n",
      "File \u001b[0;32m/state/partition1/llgrid/pkg/anaconda/python-LLM-2023b/lib/python3.10/site-packages/torch/nn/modules/module.py:1501\u001b[0m, in \u001b[0;36mModule._call_impl\u001b[0;34m(self, *args, **kwargs)\u001b[0m\n\u001b[1;32m   1496\u001b[0m \u001b[38;5;66;03m# If we don't have any hooks, we want to skip the rest of the logic in\u001b[39;00m\n\u001b[1;32m   1497\u001b[0m \u001b[38;5;66;03m# this function, and just call forward.\u001b[39;00m\n\u001b[1;32m   1498\u001b[0m \u001b[38;5;28;01mif\u001b[39;00m \u001b[38;5;129;01mnot\u001b[39;00m (\u001b[38;5;28mself\u001b[39m\u001b[38;5;241m.\u001b[39m_backward_hooks \u001b[38;5;129;01mor\u001b[39;00m \u001b[38;5;28mself\u001b[39m\u001b[38;5;241m.\u001b[39m_backward_pre_hooks \u001b[38;5;129;01mor\u001b[39;00m \u001b[38;5;28mself\u001b[39m\u001b[38;5;241m.\u001b[39m_forward_hooks \u001b[38;5;129;01mor\u001b[39;00m \u001b[38;5;28mself\u001b[39m\u001b[38;5;241m.\u001b[39m_forward_pre_hooks\n\u001b[1;32m   1499\u001b[0m         \u001b[38;5;129;01mor\u001b[39;00m _global_backward_pre_hooks \u001b[38;5;129;01mor\u001b[39;00m _global_backward_hooks\n\u001b[1;32m   1500\u001b[0m         \u001b[38;5;129;01mor\u001b[39;00m _global_forward_hooks \u001b[38;5;129;01mor\u001b[39;00m _global_forward_pre_hooks):\n\u001b[0;32m-> 1501\u001b[0m     \u001b[38;5;28;01mreturn\u001b[39;00m \u001b[43mforward_call\u001b[49m\u001b[43m(\u001b[49m\u001b[38;5;241;43m*\u001b[39;49m\u001b[43margs\u001b[49m\u001b[43m,\u001b[49m\u001b[43m \u001b[49m\u001b[38;5;241;43m*\u001b[39;49m\u001b[38;5;241;43m*\u001b[39;49m\u001b[43mkwargs\u001b[49m\u001b[43m)\u001b[49m\n\u001b[1;32m   1502\u001b[0m \u001b[38;5;66;03m# Do not call functions when jit is used\u001b[39;00m\n\u001b[1;32m   1503\u001b[0m full_backward_hooks, non_full_backward_hooks \u001b[38;5;241m=\u001b[39m [], []\n",
      "File \u001b[0;32m/state/partition1/llgrid/pkg/anaconda/python-LLM-2023b/lib/python3.10/site-packages/torch/nn/modules/conv.py:313\u001b[0m, in \u001b[0;36mConv1d.forward\u001b[0;34m(self, input)\u001b[0m\n\u001b[1;32m    312\u001b[0m \u001b[38;5;28;01mdef\u001b[39;00m \u001b[38;5;21mforward\u001b[39m(\u001b[38;5;28mself\u001b[39m, \u001b[38;5;28minput\u001b[39m: Tensor) \u001b[38;5;241m-\u001b[39m\u001b[38;5;241m>\u001b[39m Tensor:\n\u001b[0;32m--> 313\u001b[0m     \u001b[38;5;28;01mreturn\u001b[39;00m \u001b[38;5;28;43mself\u001b[39;49m\u001b[38;5;241;43m.\u001b[39;49m\u001b[43m_conv_forward\u001b[49m\u001b[43m(\u001b[49m\u001b[38;5;28;43minput\u001b[39;49m\u001b[43m,\u001b[49m\u001b[43m \u001b[49m\u001b[38;5;28;43mself\u001b[39;49m\u001b[38;5;241;43m.\u001b[39;49m\u001b[43mweight\u001b[49m\u001b[43m,\u001b[49m\u001b[43m \u001b[49m\u001b[38;5;28;43mself\u001b[39;49m\u001b[38;5;241;43m.\u001b[39;49m\u001b[43mbias\u001b[49m\u001b[43m)\u001b[49m\n",
      "File \u001b[0;32m/state/partition1/llgrid/pkg/anaconda/python-LLM-2023b/lib/python3.10/site-packages/torch/nn/modules/conv.py:309\u001b[0m, in \u001b[0;36mConv1d._conv_forward\u001b[0;34m(self, input, weight, bias)\u001b[0m\n\u001b[1;32m    305\u001b[0m \u001b[38;5;28;01mif\u001b[39;00m \u001b[38;5;28mself\u001b[39m\u001b[38;5;241m.\u001b[39mpadding_mode \u001b[38;5;241m!=\u001b[39m \u001b[38;5;124m'\u001b[39m\u001b[38;5;124mzeros\u001b[39m\u001b[38;5;124m'\u001b[39m:\n\u001b[1;32m    306\u001b[0m     \u001b[38;5;28;01mreturn\u001b[39;00m F\u001b[38;5;241m.\u001b[39mconv1d(F\u001b[38;5;241m.\u001b[39mpad(\u001b[38;5;28minput\u001b[39m, \u001b[38;5;28mself\u001b[39m\u001b[38;5;241m.\u001b[39m_reversed_padding_repeated_twice, mode\u001b[38;5;241m=\u001b[39m\u001b[38;5;28mself\u001b[39m\u001b[38;5;241m.\u001b[39mpadding_mode),\n\u001b[1;32m    307\u001b[0m                     weight, bias, \u001b[38;5;28mself\u001b[39m\u001b[38;5;241m.\u001b[39mstride,\n\u001b[1;32m    308\u001b[0m                     _single(\u001b[38;5;241m0\u001b[39m), \u001b[38;5;28mself\u001b[39m\u001b[38;5;241m.\u001b[39mdilation, \u001b[38;5;28mself\u001b[39m\u001b[38;5;241m.\u001b[39mgroups)\n\u001b[0;32m--> 309\u001b[0m \u001b[38;5;28;01mreturn\u001b[39;00m \u001b[43mF\u001b[49m\u001b[38;5;241;43m.\u001b[39;49m\u001b[43mconv1d\u001b[49m\u001b[43m(\u001b[49m\u001b[38;5;28;43minput\u001b[39;49m\u001b[43m,\u001b[49m\u001b[43m \u001b[49m\u001b[43mweight\u001b[49m\u001b[43m,\u001b[49m\u001b[43m \u001b[49m\u001b[43mbias\u001b[49m\u001b[43m,\u001b[49m\u001b[43m \u001b[49m\u001b[38;5;28;43mself\u001b[39;49m\u001b[38;5;241;43m.\u001b[39;49m\u001b[43mstride\u001b[49m\u001b[43m,\u001b[49m\n\u001b[1;32m    310\u001b[0m \u001b[43m                \u001b[49m\u001b[38;5;28;43mself\u001b[39;49m\u001b[38;5;241;43m.\u001b[39;49m\u001b[43mpadding\u001b[49m\u001b[43m,\u001b[49m\u001b[43m \u001b[49m\u001b[38;5;28;43mself\u001b[39;49m\u001b[38;5;241;43m.\u001b[39;49m\u001b[43mdilation\u001b[49m\u001b[43m,\u001b[49m\u001b[43m \u001b[49m\u001b[38;5;28;43mself\u001b[39;49m\u001b[38;5;241;43m.\u001b[39;49m\u001b[43mgroups\u001b[49m\u001b[43m)\u001b[49m\n",
      "\u001b[0;31mOutOfMemoryError\u001b[0m: CUDA out of memory. Tried to allocate 15.69 GiB (GPU 0; 31.74 GiB total capacity; 16.13 GiB already allocated; 14.19 GiB free; 17.17 GiB reserved in total by PyTorch) If reserved memory is >> allocated memory try setting max_split_size_mb to avoid fragmentation.  See documentation for Memory Management and PYTORCH_CUDA_ALLOC_CONF"
     ]
    }
   ],
   "source": [
    "batch_sizes = [1,2,4,8,16,32,64,128]\n",
    "ntrials = 10 \n",
    "\n",
    "ts2 = torch.zeros(len(batch_sizes), ntrials,dtype=torch.double) \n",
    "for i,bs in enumerate(batch_sizes): \n",
    "    batch = ds2.fetch([('chr1',522_000,1_300_000) for _ in range(bs)]).to(frontend.device)\n",
    "    for t in range(ntrials):\n",
    "        ts2[i,t]-= time.time()\n",
    "        sample = frontend(batch)\n",
    "        ts2[i,t]+= time.time()\n",
    "        del sample "
   ]
  },
  {
   "cell_type": "code",
   "execution_count": null,
   "id": "c1e209c8-9ebb-46cd-b7f0-32d89b810a02",
   "metadata": {},
   "outputs": [],
   "source": []
  },
  {
   "cell_type": "code",
   "execution_count": null,
   "id": "fc4468e9-bdc0-4420-9e3f-bd10c9d4ee51",
   "metadata": {},
   "outputs": [],
   "source": []
  },
  {
   "cell_type": "code",
   "execution_count": 57,
   "id": "6d34a734-0fa7-4e47-8465-aec400a4cb16",
   "metadata": {},
   "outputs": [
    {
     "data": {
      "text/plain": [
       "[<matplotlib.lines.Line2D at 0x7f7a9484c610>]"
      ]
     },
     "execution_count": 57,
     "metadata": {},
     "output_type": "execute_result"
    },
    {
     "data": {
      "image/png": "[encoded data removed]",
      "text/plain": [
       "<Figure size 640x480 with 1 Axes>"
      ]
     },
     "metadata": {},
     "output_type": "display_data"
    }
   ],
   "source": [
    "import matplotlib.pyplot as plt\n",
    "tt = ts2.mean(-1) \n",
    "tt[tt<0] = 0 \n",
    "plt.plot(batch_sizes,tt.numpy()) "
   ]
  },
  {
   "cell_type": "code",
   "execution_count": 69,
   "id": "354fee91-15a2-4c80-ae60-893cf0e9eb1f",
   "metadata": {},
   "outputs": [],
   "source": [
    "del temp "
   ]
  },
  {
   "cell_type": "code",
   "execution_count": 70,
   "id": "2bbfc767-4ea4-424f-a7c8-372048fa30c3",
   "metadata": {},
   "outputs": [
    {
     "ename": "OutOfMemoryError",
     "evalue": "CUDA out of memory. Tried to allocate 5.92 GiB (GPU 0; 31.74 GiB total capacity; 30.21 GiB already allocated; 666.88 MiB free; 30.71 GiB reserved in total by PyTorch) If reserved memory is >> allocated memory try setting max_split_size_mb to avoid fragmentation.  See documentation for Memory Management and PYTORCH_CUDA_ALLOC_CONF",
     "output_type": "error",
     "traceback": [
      "\u001b[0;31m---------------------------------------------------------------------------\u001b[0m",
      "\u001b[0;31mOutOfMemoryError\u001b[0m                          Traceback (most recent call last)",
      "Cell \u001b[0;32mIn[70], line 2\u001b[0m\n\u001b[1;32m      1\u001b[0m t \u001b[38;5;241m=\u001b[39m \u001b[38;5;241m-\u001b[39mtime\u001b[38;5;241m.\u001b[39mtime()\n\u001b[0;32m----> 2\u001b[0m \u001b[43mfrontend\u001b[49m\u001b[43m(\u001b[49m\u001b[43mbatch\u001b[49m\u001b[43m[\u001b[49m\u001b[43m:\u001b[49m\u001b[38;5;241;43m3\u001b[39;49m\u001b[43m,\u001b[49m\u001b[38;5;241;43m.\u001b[39;49m\u001b[38;5;241;43m.\u001b[39;49m\u001b[38;5;241;43m.\u001b[39;49m\u001b[43m]\u001b[49m\u001b[43m)\u001b[49m\n\u001b[1;32m      3\u001b[0m t\u001b[38;5;241m+\u001b[39m\u001b[38;5;241m=\u001b[39m time\u001b[38;5;241m.\u001b[39mtime()\n",
      "File \u001b[0;32m/state/partition1/llgrid/pkg/anaconda/python-LLM-2023b/lib/python3.10/site-packages/torch/nn/modules/module.py:1501\u001b[0m, in \u001b[0;36mModule._call_impl\u001b[0;34m(self, *args, **kwargs)\u001b[0m\n\u001b[1;32m   1496\u001b[0m \u001b[38;5;66;03m# If we don't have any hooks, we want to skip the rest of the logic in\u001b[39;00m\n\u001b[1;32m   1497\u001b[0m \u001b[38;5;66;03m# this function, and just call forward.\u001b[39;00m\n\u001b[1;32m   1498\u001b[0m \u001b[38;5;28;01mif\u001b[39;00m \u001b[38;5;129;01mnot\u001b[39;00m (\u001b[38;5;28mself\u001b[39m\u001b[38;5;241m.\u001b[39m_backward_hooks \u001b[38;5;129;01mor\u001b[39;00m \u001b[38;5;28mself\u001b[39m\u001b[38;5;241m.\u001b[39m_backward_pre_hooks \u001b[38;5;129;01mor\u001b[39;00m \u001b[38;5;28mself\u001b[39m\u001b[38;5;241m.\u001b[39m_forward_hooks \u001b[38;5;129;01mor\u001b[39;00m \u001b[38;5;28mself\u001b[39m\u001b[38;5;241m.\u001b[39m_forward_pre_hooks\n\u001b[1;32m   1499\u001b[0m         \u001b[38;5;129;01mor\u001b[39;00m _global_backward_pre_hooks \u001b[38;5;129;01mor\u001b[39;00m _global_backward_hooks\n\u001b[1;32m   1500\u001b[0m         \u001b[38;5;129;01mor\u001b[39;00m _global_forward_hooks \u001b[38;5;129;01mor\u001b[39;00m _global_forward_pre_hooks):\n\u001b[0;32m-> 1501\u001b[0m     \u001b[38;5;28;01mreturn\u001b[39;00m \u001b[43mforward_call\u001b[49m\u001b[43m(\u001b[49m\u001b[38;5;241;43m*\u001b[39;49m\u001b[43margs\u001b[49m\u001b[43m,\u001b[49m\u001b[43m \u001b[49m\u001b[38;5;241;43m*\u001b[39;49m\u001b[38;5;241;43m*\u001b[39;49m\u001b[43mkwargs\u001b[49m\u001b[43m)\u001b[49m\n\u001b[1;32m   1502\u001b[0m \u001b[38;5;66;03m# Do not call functions when jit is used\u001b[39;00m\n\u001b[1;32m   1503\u001b[0m full_backward_hooks, non_full_backward_hooks \u001b[38;5;241m=\u001b[39m [], []\n",
      "File \u001b[0;32m~/refining_scHiC/revamp_with_zhuohan/code/frontend/Tranmodel.py:196\u001b[0m, in \u001b[0;36mTranmodel.forward\u001b[0;34m(self, input)\u001b[0m\n\u001b[1;32m    194\u001b[0m \u001b[38;5;28minput\u001b[39m\u001b[38;5;241m=\u001b[39mrearrange(\u001b[38;5;28minput\u001b[39m,\u001b[38;5;124m'\u001b[39m\u001b[38;5;124mb n c l -> (b n) c l\u001b[39m\u001b[38;5;124m'\u001b[39m)\n\u001b[1;32m    195\u001b[0m \u001b[38;5;66;03m#input=Rearrange(input,'b n c l -> (b n) c l')\u001b[39;00m\n\u001b[0;32m--> 196\u001b[0m src \u001b[38;5;241m=\u001b[39m \u001b[38;5;28;43mself\u001b[39;49m\u001b[38;5;241;43m.\u001b[39;49m\u001b[43mbackbone\u001b[49m\u001b[43m(\u001b[49m\u001b[38;5;28;43minput\u001b[39;49m\u001b[43m)\u001b[49m\n\u001b[1;32m    197\u001b[0m src \u001b[38;5;241m=\u001b[39m \u001b[38;5;28mself\u001b[39m\u001b[38;5;241m.\u001b[39minput_proj(src)\n\u001b[1;32m    198\u001b[0m src \u001b[38;5;241m=\u001b[39m \u001b[38;5;28mself\u001b[39m\u001b[38;5;241m.\u001b[39mtransformer(src)\n",
      "File \u001b[0;32m/state/partition1/llgrid/pkg/anaconda/python-LLM-2023b/lib/python3.10/site-packages/torch/nn/modules/module.py:1501\u001b[0m, in \u001b[0;36mModule._call_impl\u001b[0;34m(self, *args, **kwargs)\u001b[0m\n\u001b[1;32m   1496\u001b[0m \u001b[38;5;66;03m# If we don't have any hooks, we want to skip the rest of the logic in\u001b[39;00m\n\u001b[1;32m   1497\u001b[0m \u001b[38;5;66;03m# this function, and just call forward.\u001b[39;00m\n\u001b[1;32m   1498\u001b[0m \u001b[38;5;28;01mif\u001b[39;00m \u001b[38;5;129;01mnot\u001b[39;00m (\u001b[38;5;28mself\u001b[39m\u001b[38;5;241m.\u001b[39m_backward_hooks \u001b[38;5;129;01mor\u001b[39;00m \u001b[38;5;28mself\u001b[39m\u001b[38;5;241m.\u001b[39m_backward_pre_hooks \u001b[38;5;129;01mor\u001b[39;00m \u001b[38;5;28mself\u001b[39m\u001b[38;5;241m.\u001b[39m_forward_hooks \u001b[38;5;129;01mor\u001b[39;00m \u001b[38;5;28mself\u001b[39m\u001b[38;5;241m.\u001b[39m_forward_pre_hooks\n\u001b[1;32m   1499\u001b[0m         \u001b[38;5;129;01mor\u001b[39;00m _global_backward_pre_hooks \u001b[38;5;129;01mor\u001b[39;00m _global_backward_hooks\n\u001b[1;32m   1500\u001b[0m         \u001b[38;5;129;01mor\u001b[39;00m _global_forward_hooks \u001b[38;5;129;01mor\u001b[39;00m _global_forward_pre_hooks):\n\u001b[0;32m-> 1501\u001b[0m     \u001b[38;5;28;01mreturn\u001b[39;00m \u001b[43mforward_call\u001b[49m\u001b[43m(\u001b[49m\u001b[38;5;241;43m*\u001b[39;49m\u001b[43margs\u001b[49m\u001b[43m,\u001b[49m\u001b[43m \u001b[49m\u001b[38;5;241;43m*\u001b[39;49m\u001b[38;5;241;43m*\u001b[39;49m\u001b[43mkwargs\u001b[49m\u001b[43m)\u001b[49m\n\u001b[1;32m   1502\u001b[0m \u001b[38;5;66;03m# Do not call functions when jit is used\u001b[39;00m\n\u001b[1;32m   1503\u001b[0m full_backward_hooks, non_full_backward_hooks \u001b[38;5;241m=\u001b[39m [], []\n",
      "File \u001b[0;32m~/refining_scHiC/revamp_with_zhuohan/code/frontend/Tranmodel.py:46\u001b[0m, in \u001b[0;36mCNN.forward\u001b[0;34m(self, x)\u001b[0m\n\u001b[1;32m     45\u001b[0m \u001b[38;5;28;01mdef\u001b[39;00m \u001b[38;5;21mforward\u001b[39m(\u001b[38;5;28mself\u001b[39m, x):\n\u001b[0;32m---> 46\u001b[0m     out \u001b[38;5;241m=\u001b[39m \u001b[38;5;28;43mself\u001b[39;49m\u001b[38;5;241;43m.\u001b[39;49m\u001b[43mconv_net\u001b[49m\u001b[43m(\u001b[49m\u001b[43mx\u001b[49m\u001b[43m)\u001b[49m\n\u001b[1;32m     47\u001b[0m     \u001b[38;5;28;01mreturn\u001b[39;00m out\n",
      "File \u001b[0;32m/state/partition1/llgrid/pkg/anaconda/python-LLM-2023b/lib/python3.10/site-packages/torch/nn/modules/module.py:1501\u001b[0m, in \u001b[0;36mModule._call_impl\u001b[0;34m(self, *args, **kwargs)\u001b[0m\n\u001b[1;32m   1496\u001b[0m \u001b[38;5;66;03m# If we don't have any hooks, we want to skip the rest of the logic in\u001b[39;00m\n\u001b[1;32m   1497\u001b[0m \u001b[38;5;66;03m# this function, and just call forward.\u001b[39;00m\n\u001b[1;32m   1498\u001b[0m \u001b[38;5;28;01mif\u001b[39;00m \u001b[38;5;129;01mnot\u001b[39;00m (\u001b[38;5;28mself\u001b[39m\u001b[38;5;241m.\u001b[39m_backward_hooks \u001b[38;5;129;01mor\u001b[39;00m \u001b[38;5;28mself\u001b[39m\u001b[38;5;241m.\u001b[39m_backward_pre_hooks \u001b[38;5;129;01mor\u001b[39;00m \u001b[38;5;28mself\u001b[39m\u001b[38;5;241m.\u001b[39m_forward_hooks \u001b[38;5;129;01mor\u001b[39;00m \u001b[38;5;28mself\u001b[39m\u001b[38;5;241m.\u001b[39m_forward_pre_hooks\n\u001b[1;32m   1499\u001b[0m         \u001b[38;5;129;01mor\u001b[39;00m _global_backward_pre_hooks \u001b[38;5;129;01mor\u001b[39;00m _global_backward_hooks\n\u001b[1;32m   1500\u001b[0m         \u001b[38;5;129;01mor\u001b[39;00m _global_forward_hooks \u001b[38;5;129;01mor\u001b[39;00m _global_forward_pre_hooks):\n\u001b[0;32m-> 1501\u001b[0m     \u001b[38;5;28;01mreturn\u001b[39;00m \u001b[43mforward_call\u001b[49m\u001b[43m(\u001b[49m\u001b[38;5;241;43m*\u001b[39;49m\u001b[43margs\u001b[49m\u001b[43m,\u001b[49m\u001b[43m \u001b[49m\u001b[38;5;241;43m*\u001b[39;49m\u001b[38;5;241;43m*\u001b[39;49m\u001b[43mkwargs\u001b[49m\u001b[43m)\u001b[49m\n\u001b[1;32m   1502\u001b[0m \u001b[38;5;66;03m# Do not call functions when jit is used\u001b[39;00m\n\u001b[1;32m   1503\u001b[0m full_backward_hooks, non_full_backward_hooks \u001b[38;5;241m=\u001b[39m [], []\n",
      "File \u001b[0;32m/state/partition1/llgrid/pkg/anaconda/python-LLM-2023b/lib/python3.10/site-packages/torch/nn/modules/container.py:217\u001b[0m, in \u001b[0;36mSequential.forward\u001b[0;34m(self, input)\u001b[0m\n\u001b[1;32m    215\u001b[0m \u001b[38;5;28;01mdef\u001b[39;00m \u001b[38;5;21mforward\u001b[39m(\u001b[38;5;28mself\u001b[39m, \u001b[38;5;28minput\u001b[39m):\n\u001b[1;32m    216\u001b[0m     \u001b[38;5;28;01mfor\u001b[39;00m module \u001b[38;5;129;01min\u001b[39;00m \u001b[38;5;28mself\u001b[39m:\n\u001b[0;32m--> 217\u001b[0m         \u001b[38;5;28minput\u001b[39m \u001b[38;5;241m=\u001b[39m \u001b[43mmodule\u001b[49m\u001b[43m(\u001b[49m\u001b[38;5;28;43minput\u001b[39;49m\u001b[43m)\u001b[49m\n\u001b[1;32m    218\u001b[0m     \u001b[38;5;28;01mreturn\u001b[39;00m \u001b[38;5;28minput\u001b[39m\n",
      "File \u001b[0;32m/state/partition1/llgrid/pkg/anaconda/python-LLM-2023b/lib/python3.10/site-packages/torch/nn/modules/module.py:1501\u001b[0m, in \u001b[0;36mModule._call_impl\u001b[0;34m(self, *args, **kwargs)\u001b[0m\n\u001b[1;32m   1496\u001b[0m \u001b[38;5;66;03m# If we don't have any hooks, we want to skip the rest of the logic in\u001b[39;00m\n\u001b[1;32m   1497\u001b[0m \u001b[38;5;66;03m# this function, and just call forward.\u001b[39;00m\n\u001b[1;32m   1498\u001b[0m \u001b[38;5;28;01mif\u001b[39;00m \u001b[38;5;129;01mnot\u001b[39;00m (\u001b[38;5;28mself\u001b[39m\u001b[38;5;241m.\u001b[39m_backward_hooks \u001b[38;5;129;01mor\u001b[39;00m \u001b[38;5;28mself\u001b[39m\u001b[38;5;241m.\u001b[39m_backward_pre_hooks \u001b[38;5;129;01mor\u001b[39;00m \u001b[38;5;28mself\u001b[39m\u001b[38;5;241m.\u001b[39m_forward_hooks \u001b[38;5;129;01mor\u001b[39;00m \u001b[38;5;28mself\u001b[39m\u001b[38;5;241m.\u001b[39m_forward_pre_hooks\n\u001b[1;32m   1499\u001b[0m         \u001b[38;5;129;01mor\u001b[39;00m _global_backward_pre_hooks \u001b[38;5;129;01mor\u001b[39;00m _global_backward_hooks\n\u001b[1;32m   1500\u001b[0m         \u001b[38;5;129;01mor\u001b[39;00m _global_forward_hooks \u001b[38;5;129;01mor\u001b[39;00m _global_forward_pre_hooks):\n\u001b[0;32m-> 1501\u001b[0m     \u001b[38;5;28;01mreturn\u001b[39;00m \u001b[43mforward_call\u001b[49m\u001b[43m(\u001b[49m\u001b[38;5;241;43m*\u001b[39;49m\u001b[43margs\u001b[49m\u001b[43m,\u001b[49m\u001b[43m \u001b[49m\u001b[38;5;241;43m*\u001b[39;49m\u001b[38;5;241;43m*\u001b[39;49m\u001b[43mkwargs\u001b[49m\u001b[43m)\u001b[49m\n\u001b[1;32m   1502\u001b[0m \u001b[38;5;66;03m# Do not call functions when jit is used\u001b[39;00m\n\u001b[1;32m   1503\u001b[0m full_backward_hooks, non_full_backward_hooks \u001b[38;5;241m=\u001b[39m [], []\n",
      "File \u001b[0;32m/state/partition1/llgrid/pkg/anaconda/python-LLM-2023b/lib/python3.10/site-packages/torch/nn/modules/conv.py:313\u001b[0m, in \u001b[0;36mConv1d.forward\u001b[0;34m(self, input)\u001b[0m\n\u001b[1;32m    312\u001b[0m \u001b[38;5;28;01mdef\u001b[39;00m \u001b[38;5;21mforward\u001b[39m(\u001b[38;5;28mself\u001b[39m, \u001b[38;5;28minput\u001b[39m: Tensor) \u001b[38;5;241m-\u001b[39m\u001b[38;5;241m>\u001b[39m Tensor:\n\u001b[0;32m--> 313\u001b[0m     \u001b[38;5;28;01mreturn\u001b[39;00m \u001b[38;5;28;43mself\u001b[39;49m\u001b[38;5;241;43m.\u001b[39;49m\u001b[43m_conv_forward\u001b[49m\u001b[43m(\u001b[49m\u001b[38;5;28;43minput\u001b[39;49m\u001b[43m,\u001b[49m\u001b[43m \u001b[49m\u001b[38;5;28;43mself\u001b[39;49m\u001b[38;5;241;43m.\u001b[39;49m\u001b[43mweight\u001b[49m\u001b[43m,\u001b[49m\u001b[43m \u001b[49m\u001b[38;5;28;43mself\u001b[39;49m\u001b[38;5;241;43m.\u001b[39;49m\u001b[43mbias\u001b[49m\u001b[43m)\u001b[49m\n",
      "File \u001b[0;32m/state/partition1/llgrid/pkg/anaconda/python-LLM-2023b/lib/python3.10/site-packages/torch/nn/modules/conv.py:309\u001b[0m, in \u001b[0;36mConv1d._conv_forward\u001b[0;34m(self, input, weight, bias)\u001b[0m\n\u001b[1;32m    305\u001b[0m \u001b[38;5;28;01mif\u001b[39;00m \u001b[38;5;28mself\u001b[39m\u001b[38;5;241m.\u001b[39mpadding_mode \u001b[38;5;241m!=\u001b[39m \u001b[38;5;124m'\u001b[39m\u001b[38;5;124mzeros\u001b[39m\u001b[38;5;124m'\u001b[39m:\n\u001b[1;32m    306\u001b[0m     \u001b[38;5;28;01mreturn\u001b[39;00m F\u001b[38;5;241m.\u001b[39mconv1d(F\u001b[38;5;241m.\u001b[39mpad(\u001b[38;5;28minput\u001b[39m, \u001b[38;5;28mself\u001b[39m\u001b[38;5;241m.\u001b[39m_reversed_padding_repeated_twice, mode\u001b[38;5;241m=\u001b[39m\u001b[38;5;28mself\u001b[39m\u001b[38;5;241m.\u001b[39mpadding_mode),\n\u001b[1;32m    307\u001b[0m                     weight, bias, \u001b[38;5;28mself\u001b[39m\u001b[38;5;241m.\u001b[39mstride,\n\u001b[1;32m    308\u001b[0m                     _single(\u001b[38;5;241m0\u001b[39m), \u001b[38;5;28mself\u001b[39m\u001b[38;5;241m.\u001b[39mdilation, \u001b[38;5;28mself\u001b[39m\u001b[38;5;241m.\u001b[39mgroups)\n\u001b[0;32m--> 309\u001b[0m \u001b[38;5;28;01mreturn\u001b[39;00m \u001b[43mF\u001b[49m\u001b[38;5;241;43m.\u001b[39;49m\u001b[43mconv1d\u001b[49m\u001b[43m(\u001b[49m\u001b[38;5;28;43minput\u001b[39;49m\u001b[43m,\u001b[49m\u001b[43m \u001b[49m\u001b[43mweight\u001b[49m\u001b[43m,\u001b[49m\u001b[43m \u001b[49m\u001b[43mbias\u001b[49m\u001b[43m,\u001b[49m\u001b[43m \u001b[49m\u001b[38;5;28;43mself\u001b[39;49m\u001b[38;5;241;43m.\u001b[39;49m\u001b[43mstride\u001b[49m\u001b[43m,\u001b[49m\n\u001b[1;32m    310\u001b[0m \u001b[43m                \u001b[49m\u001b[38;5;28;43mself\u001b[39;49m\u001b[38;5;241;43m.\u001b[39;49m\u001b[43mpadding\u001b[49m\u001b[43m,\u001b[49m\u001b[43m \u001b[49m\u001b[38;5;28;43mself\u001b[39;49m\u001b[38;5;241;43m.\u001b[39;49m\u001b[43mdilation\u001b[49m\u001b[43m,\u001b[49m\u001b[43m \u001b[49m\u001b[38;5;28;43mself\u001b[39;49m\u001b[38;5;241;43m.\u001b[39;49m\u001b[43mgroups\u001b[49m\u001b[43m)\u001b[49m\n",
      "\u001b[0;31mOutOfMemoryError\u001b[0m: CUDA out of memory. Tried to allocate 5.92 GiB (GPU 0; 31.74 GiB total capacity; 30.21 GiB already allocated; 666.88 MiB free; 30.71 GiB reserved in total by PyTorch) If reserved memory is >> allocated memory try setting max_split_size_mb to avoid fragmentation.  See documentation for Memory Management and PYTORCH_CUDA_ALLOC_CONF"
     ]
    }
   ],
   "source": [
    "t = -time.time()\n",
    "frontend(batch[:3,...])\n",
    "t+= time.time()"
   ]
  },
  {
   "cell_type": "code",
   "execution_count": 68,
   "id": "137dd63e-62f8-4929-b260-5a96e7a51407",
   "metadata": {},
   "outputs": [
    {
     "data": {
      "text/plain": [
       "-1704230604.9090598"
      ]
     },
     "execution_count": 68,
     "metadata": {},
     "output_type": "execute_result"
    }
   ],
   "source": [
    "t"
   ]
  },
  {
   "cell_type": "code",
   "execution_count": 74,
   "id": "942cda93-b357-40a2-bfb3-d749dbd04891",
   "metadata": {},
   "outputs": [],
   "source": [
    "chrom='X'\n",
    "a = regions[regions['Chromosome'] == chrom].reset_index(drop=True) "
   ]
  },
  {
   "cell_type": "code",
   "execution_count": 79,
   "id": "7399384a-23ae-4624-a5b6-ba2193001b49",
   "metadata": {},
   "outputs": [
    {
     "data": {
      "text/html": [
       "<div>\n",
       "<style scoped>\n",
       "    .dataframe tbody tr th:only-of-type {\n",
       "        vertical-align: middle;\n",
       "    }\n",
       "\n",
       "    .dataframe tbody tr th {\n",
       "        vertical-align: top;\n",
       "    }\n",
       "\n",
       "    .dataframe thead th {\n",
       "        text-align: right;\n",
       "    }\n",
       "</style>\n",
       "<table border=\"1\" class=\"dataframe\">\n",
       "  <thead>\n",
       "    <tr style=\"text-align: right;\">\n",
       "      <th></th>\n",
       "      <th>Chromosome</th>\n",
       "      <th>Start</th>\n",
       "      <th>Stop</th>\n",
       "      <th>data</th>\n",
       "    </tr>\n",
       "  </thead>\n",
       "  <tbody>\n",
       "    <tr>\n",
       "      <th>0</th>\n",
       "      <td>X</td>\n",
       "      <td>300000</td>\n",
       "      <td>1300000</td>\n",
       "      <td></td>\n",
       "    </tr>\n",
       "    <tr>\n",
       "      <th>1</th>\n",
       "      <td>X</td>\n",
       "      <td>380000</td>\n",
       "      <td>1300000</td>\n",
       "      <td></td>\n",
       "    </tr>\n",
       "    <tr>\n",
       "      <th>2</th>\n",
       "      <td>X</td>\n",
       "      <td>460000</td>\n",
       "      <td>1300000</td>\n",
       "      <td></td>\n",
       "    </tr>\n",
       "    <tr>\n",
       "      <th>3</th>\n",
       "      <td>X</td>\n",
       "      <td>500000</td>\n",
       "      <td>1300000</td>\n",
       "      <td></td>\n",
       "    </tr>\n",
       "    <tr>\n",
       "      <th>4</th>\n",
       "      <td>X</td>\n",
       "      <td>540000</td>\n",
       "      <td>1300000</td>\n",
       "      <td></td>\n",
       "    </tr>\n",
       "    <tr>\n",
       "      <th>...</th>\n",
       "      <td>...</td>\n",
       "      <td>...</td>\n",
       "      <td>...</td>\n",
       "      <td>...</td>\n",
       "    </tr>\n",
       "    <tr>\n",
       "      <th>2813</th>\n",
       "      <td>X</td>\n",
       "      <td>153840000</td>\n",
       "      <td>1300000</td>\n",
       "      <td></td>\n",
       "    </tr>\n",
       "    <tr>\n",
       "      <th>2814</th>\n",
       "      <td>X</td>\n",
       "      <td>153860000</td>\n",
       "      <td>1300000</td>\n",
       "      <td></td>\n",
       "    </tr>\n",
       "    <tr>\n",
       "      <th>2815</th>\n",
       "      <td>X</td>\n",
       "      <td>153880000</td>\n",
       "      <td>1300000</td>\n",
       "      <td></td>\n",
       "    </tr>\n",
       "    <tr>\n",
       "      <th>2816</th>\n",
       "      <td>X</td>\n",
       "      <td>153940000</td>\n",
       "      <td>1300000</td>\n",
       "      <td></td>\n",
       "    </tr>\n",
       "    <tr>\n",
       "      <th>2817</th>\n",
       "      <td>X</td>\n",
       "      <td>153960000</td>\n",
       "      <td>1300000</td>\n",
       "      <td></td>\n",
       "    </tr>\n",
       "  </tbody>\n",
       "</table>\n",
       "<p>2818 rows × 4 columns</p>\n",
       "</div>"
      ],
      "text/plain": [
       "     Chromosome      Start     Stop data\n",
       "0             X     300000  1300000     \n",
       "1             X     380000  1300000     \n",
       "2             X     460000  1300000     \n",
       "3             X     500000  1300000     \n",
       "4             X     540000  1300000     \n",
       "...         ...        ...      ...  ...\n",
       "2813          X  153840000  1300000     \n",
       "2814          X  153860000  1300000     \n",
       "2815          X  153880000  1300000     \n",
       "2816          X  153940000  1300000     \n",
       "2817          X  153960000  1300000     \n",
       "\n",
       "[2818 rows x 4 columns]"
      ]
     },
     "execution_count": 79,
     "metadata": {},
     "output_type": "execute_result"
    }
   ],
   "source": [
    "a['data'] = ''\n",
    "a"
   ]
  },
  {
   "cell_type": "code",
   "execution_count": 76,
   "id": "124032c6-c42a-41ee-8d70-30787001a208",
   "metadata": {},
   "outputs": [
    {
     "data": {
      "text/html": [
       "<div>\n",
       "<style scoped>\n",
       "    .dataframe tbody tr th:only-of-type {\n",
       "        vertical-align: middle;\n",
       "    }\n",
       "\n",
       "    .dataframe tbody tr th {\n",
       "        vertical-align: top;\n",
       "    }\n",
       "\n",
       "    .dataframe thead th {\n",
       "        text-align: right;\n",
       "    }\n",
       "</style>\n",
       "<table border=\"1\" class=\"dataframe\">\n",
       "  <thead>\n",
       "    <tr style=\"text-align: right;\">\n",
       "      <th></th>\n",
       "      <th>Chromosome</th>\n",
       "      <th>Start</th>\n",
       "      <th>Stop</th>\n",
       "    </tr>\n",
       "  </thead>\n",
       "  <tbody>\n",
       "    <tr>\n",
       "      <th>0</th>\n",
       "      <td>1</td>\n",
       "      <td>1260000</td>\n",
       "      <td>1300000</td>\n",
       "    </tr>\n",
       "    <tr>\n",
       "      <th>1</th>\n",
       "      <td>1</td>\n",
       "      <td>1340000</td>\n",
       "      <td>1300000</td>\n",
       "    </tr>\n",
       "    <tr>\n",
       "      <th>2</th>\n",
       "      <td>1</td>\n",
       "      <td>1360000</td>\n",
       "      <td>1300000</td>\n",
       "    </tr>\n",
       "    <tr>\n",
       "      <th>3</th>\n",
       "      <td>1</td>\n",
       "      <td>1400000</td>\n",
       "      <td>1300000</td>\n",
       "    </tr>\n",
       "    <tr>\n",
       "      <th>4</th>\n",
       "      <td>1</td>\n",
       "      <td>1420000</td>\n",
       "      <td>1300000</td>\n",
       "    </tr>\n",
       "    <tr>\n",
       "      <th>...</th>\n",
       "      <td>...</td>\n",
       "      <td>...</td>\n",
       "      <td>...</td>\n",
       "    </tr>\n",
       "    <tr>\n",
       "      <th>46268</th>\n",
       "      <td>X</td>\n",
       "      <td>153840000</td>\n",
       "      <td>1300000</td>\n",
       "    </tr>\n",
       "    <tr>\n",
       "      <th>46269</th>\n",
       "      <td>X</td>\n",
       "      <td>153860000</td>\n",
       "      <td>1300000</td>\n",
       "    </tr>\n",
       "    <tr>\n",
       "      <th>46270</th>\n",
       "      <td>X</td>\n",
       "      <td>153880000</td>\n",
       "      <td>1300000</td>\n",
       "    </tr>\n",
       "    <tr>\n",
       "      <th>46271</th>\n",
       "      <td>X</td>\n",
       "      <td>153940000</td>\n",
       "      <td>1300000</td>\n",
       "    </tr>\n",
       "    <tr>\n",
       "      <th>46272</th>\n",
       "      <td>X</td>\n",
       "      <td>153960000</td>\n",
       "      <td>1300000</td>\n",
       "    </tr>\n",
       "  </tbody>\n",
       "</table>\n",
       "<p>46273 rows × 3 columns</p>\n",
       "</div>"
      ],
      "text/plain": [
       "      Chromosome      Start     Stop\n",
       "0              1    1260000  1300000\n",
       "1              1    1340000  1300000\n",
       "2              1    1360000  1300000\n",
       "3              1    1400000  1300000\n",
       "4              1    1420000  1300000\n",
       "...          ...        ...      ...\n",
       "46268          X  153840000  1300000\n",
       "46269          X  153860000  1300000\n",
       "46270          X  153880000  1300000\n",
       "46271          X  153940000  1300000\n",
       "46272          X  153960000  1300000\n",
       "\n",
       "[46273 rows x 3 columns]"
      ]
     },
     "execution_count": 76,
     "metadata": {},
     "output_type": "execute_result"
    }
   ],
   "source": [
    "regions"
   ]
  },
  {
   "cell_type": "code",
   "execution_count": 80,
   "id": "fff2517b-45cf-4fb3-936c-1aac7597bc55",
   "metadata": {},
   "outputs": [
    {
     "data": {
      "text/html": [
       "<div>\n",
       "<style scoped>\n",
       "    .dataframe tbody tr th:only-of-type {\n",
       "        vertical-align: middle;\n",
       "    }\n",
       "\n",
       "    .dataframe tbody tr th {\n",
       "        vertical-align: top;\n",
       "    }\n",
       "\n",
       "    .dataframe thead th {\n",
       "        text-align: right;\n",
       "    }\n",
       "</style>\n",
       "<table border=\"1\" class=\"dataframe\">\n",
       "  <thead>\n",
       "    <tr style=\"text-align: right;\">\n",
       "      <th></th>\n",
       "      <th>Chromosome</th>\n",
       "      <th>Start</th>\n",
       "      <th>Stop</th>\n",
       "      <th>data</th>\n",
       "    </tr>\n",
       "  </thead>\n",
       "  <tbody>\n",
       "    <tr>\n",
       "      <th>0</th>\n",
       "      <td>X</td>\n",
       "      <td>300000</td>\n",
       "      <td>1300000</td>\n",
       "      <td></td>\n",
       "    </tr>\n",
       "    <tr>\n",
       "      <th>1</th>\n",
       "      <td>X</td>\n",
       "      <td>380000</td>\n",
       "      <td>1300000</td>\n",
       "      <td></td>\n",
       "    </tr>\n",
       "    <tr>\n",
       "      <th>2</th>\n",
       "      <td>X</td>\n",
       "      <td>460000</td>\n",
       "      <td>1300000</td>\n",
       "      <td></td>\n",
       "    </tr>\n",
       "    <tr>\n",
       "      <th>3</th>\n",
       "      <td>X</td>\n",
       "      <td>500000</td>\n",
       "      <td>1300000</td>\n",
       "      <td></td>\n",
       "    </tr>\n",
       "    <tr>\n",
       "      <th>4</th>\n",
       "      <td>X</td>\n",
       "      <td>540000</td>\n",
       "      <td>1300000</td>\n",
       "      <td></td>\n",
       "    </tr>\n",
       "    <tr>\n",
       "      <th>...</th>\n",
       "      <td>...</td>\n",
       "      <td>...</td>\n",
       "      <td>...</td>\n",
       "      <td>...</td>\n",
       "    </tr>\n",
       "    <tr>\n",
       "      <th>2813</th>\n",
       "      <td>X</td>\n",
       "      <td>153840000</td>\n",
       "      <td>1300000</td>\n",
       "      <td></td>\n",
       "    </tr>\n",
       "    <tr>\n",
       "      <th>2814</th>\n",
       "      <td>X</td>\n",
       "      <td>153860000</td>\n",
       "      <td>1300000</td>\n",
       "      <td></td>\n",
       "    </tr>\n",
       "    <tr>\n",
       "      <th>2815</th>\n",
       "      <td>X</td>\n",
       "      <td>153880000</td>\n",
       "      <td>1300000</td>\n",
       "      <td></td>\n",
       "    </tr>\n",
       "    <tr>\n",
       "      <th>2816</th>\n",
       "      <td>X</td>\n",
       "      <td>153940000</td>\n",
       "      <td>1300000</td>\n",
       "      <td></td>\n",
       "    </tr>\n",
       "    <tr>\n",
       "      <th>2817</th>\n",
       "      <td>X</td>\n",
       "      <td>153960000</td>\n",
       "      <td>1300000</td>\n",
       "      <td></td>\n",
       "    </tr>\n",
       "  </tbody>\n",
       "</table>\n",
       "<p>2818 rows × 4 columns</p>\n",
       "</div>"
      ],
      "text/plain": [
       "     Chromosome      Start     Stop data\n",
       "0             X     300000  1300000     \n",
       "1             X     380000  1300000     \n",
       "2             X     460000  1300000     \n",
       "3             X     500000  1300000     \n",
       "4             X     540000  1300000     \n",
       "...         ...        ...      ...  ...\n",
       "2813          X  153840000  1300000     \n",
       "2814          X  153860000  1300000     \n",
       "2815          X  153880000  1300000     \n",
       "2816          X  153940000  1300000     \n",
       "2817          X  153960000  1300000     \n",
       "\n",
       "[2818 rows x 4 columns]"
      ]
     },
     "execution_count": 80,
     "metadata": {},
     "output_type": "execute_result"
    }
   ],
   "source": [
    "a"
   ]
  },
  {
   "cell_type": "code",
   "execution_count": 84,
   "id": "8d251dfa-c4be-4324-83af-e92b304a3e1a",
   "metadata": {},
   "outputs": [],
   "source": [
    "regions = cds.get_genomic_regions()\n",
    "regions = regions.rename(\n",
    "    columns={\n",
    "        'Chromosome':'Chromosome',\n",
    "        'Start':'Genomic_Index',\n",
    "        'Stop':'Region_Length'\n",
    "    }\n",
    ")\n",
    "regions['Region_Length']-= regions['Genomic_Index']"
   ]
  },
  {
   "cell_type": "code",
   "execution_count": 91,
   "id": "1dee01a8-73de-42cd-8673-1d1510fdcf3f",
   "metadata": {},
   "outputs": [],
   "source": [
    "chrom = 1#'X'\n",
    "embed_df = regions[regions['Chromosome'] == str(chrom)].reset_index(drop=True)"
   ]
  },
  {
   "cell_type": "code",
   "execution_count": 92,
   "id": "7fa5858c-8a46-417b-9a88-33ab87f63ea0",
   "metadata": {},
   "outputs": [],
   "source": [
    "i = 0 \n",
    "chr = f'chr{chrom}'\n",
    "raw = ds.fetch([ (chr,embed_df.loc[i,'Genomic_Index'],embed_df.loc[i,'Region_Length']) ])"
   ]
  },
  {
   "cell_type": "code",
   "execution_count": 94,
   "id": "8c5e941a-3097-4bd4-88f3-930ab2b5953c",
   "metadata": {},
   "outputs": [
    {
     "data": {
      "text/plain": [
       "torch.Size([1, 1300, 5, 1600])"
      ]
     },
     "execution_count": 94,
     "metadata": {},
     "output_type": "execute_result"
    }
   ],
   "source": [
    "raw.shape"
   ]
  },
  {
   "cell_type": "code",
   "execution_count": 98,
   "id": "2eb6659c-4340-4bdc-a632-01fe28724f7e",
   "metadata": {},
   "outputs": [
    {
     "data": {
      "text/plain": [
       "tensor(0.8931)"
      ]
     },
     "execution_count": 98,
     "metadata": {},
     "output_type": "execute_result"
    }
   ],
   "source": [
    "a = (raw[:,:,:-1,:]==1).any(-2)\n",
    "a.sum() / a.numel()"
   ]
  },
  {
   "cell_type": "code",
   "execution_count": 100,
   "id": "e744a385-d0fe-4a2b-b391-ed2f5ee194f1",
   "metadata": {},
   "outputs": [],
   "source": [
    "import os\n",
    "save_folder = '../../data/embeddings/'\n",
    "dest_fp = lambda chrom: save_folder+f'chrom_{chrom}.tar.gz'#'../../data/processed_data.hdf5'\n",
    "if not os.path.exists(save_folder): \n",
    "    os.mkdir(save_folder)"
   ]
  },
  {
   "cell_type": "code",
   "execution_count": 4,
   "id": "ee77e392-5c7a-4c92-8c87-a91673082d64",
   "metadata": {},
   "outputs": [
    {
     "data": {
      "text/plain": [
       "[1, 3, 4]"
      ]
     },
     "execution_count": 4,
     "metadata": {},
     "output_type": "execute_result"
    }
   ],
   "source": [
    "a = [1,2,3,4]\n",
    "[\n",
    "    k for k in a if k!=2\n",
    "]"
   ]
  },
  {
   "cell_type": "code",
   "execution_count": 2,
   "id": "feb27390-06ae-4dcd-9abe-3a57064d4af1",
   "metadata": {},
   "outputs": [],
   "source": [
    "import numpy as np\n",
    "import pandas as pd\n",
    "idx_to_keep = np.ones(10,dtype=bool) \n",
    "idx_to_keep[5] = False"
   ]
  },
  {
   "cell_type": "code",
   "execution_count": 8,
   "id": "6afa5dcc-5b47-423c-8a82-7e4712457752",
   "metadata": {},
   "outputs": [
    {
     "data": {
      "text/html": [
       "<div>\n",
       "<style scoped>\n",
       "    .dataframe tbody tr th:only-of-type {\n",
       "        vertical-align: middle;\n",
       "    }\n",
       "\n",
       "    .dataframe tbody tr th {\n",
       "        vertical-align: top;\n",
       "    }\n",
       "\n",
       "    .dataframe thead th {\n",
       "        text-align: right;\n",
       "    }\n",
       "</style>\n",
       "<table border=\"1\" class=\"dataframe\">\n",
       "  <thead>\n",
       "    <tr style=\"text-align: right;\">\n",
       "      <th></th>\n",
       "      <th>col1</th>\n",
       "      <th>col2</th>\n",
       "      <th>col3</th>\n",
       "    </tr>\n",
       "  </thead>\n",
       "  <tbody>\n",
       "    <tr>\n",
       "      <th>0</th>\n",
       "      <td>0</td>\n",
       "      <td>0</td>\n",
       "      <td>0</td>\n",
       "    </tr>\n",
       "    <tr>\n",
       "      <th>1</th>\n",
       "      <td>1</td>\n",
       "      <td>1</td>\n",
       "      <td>1</td>\n",
       "    </tr>\n",
       "    <tr>\n",
       "      <th>2</th>\n",
       "      <td>2</td>\n",
       "      <td>2</td>\n",
       "      <td>2</td>\n",
       "    </tr>\n",
       "    <tr>\n",
       "      <th>3</th>\n",
       "      <td>3</td>\n",
       "      <td>3</td>\n",
       "      <td>3</td>\n",
       "    </tr>\n",
       "    <tr>\n",
       "      <th>4</th>\n",
       "      <td>4</td>\n",
       "      <td>4</td>\n",
       "      <td>4</td>\n",
       "    </tr>\n",
       "    <tr>\n",
       "      <th>6</th>\n",
       "      <td>6</td>\n",
       "      <td>6</td>\n",
       "      <td>6</td>\n",
       "    </tr>\n",
       "    <tr>\n",
       "      <th>7</th>\n",
       "      <td>7</td>\n",
       "      <td>7</td>\n",
       "      <td>7</td>\n",
       "    </tr>\n",
       "    <tr>\n",
       "      <th>8</th>\n",
       "      <td>8</td>\n",
       "      <td>8</td>\n",
       "      <td>8</td>\n",
       "    </tr>\n",
       "    <tr>\n",
       "      <th>9</th>\n",
       "      <td>9</td>\n",
       "      <td>9</td>\n",
       "      <td>9</td>\n",
       "    </tr>\n",
       "  </tbody>\n",
       "</table>\n",
       "</div>"
      ],
      "text/plain": [
       "   col1  col2  col3\n",
       "0     0     0     0\n",
       "1     1     1     1\n",
       "2     2     2     2\n",
       "3     3     3     3\n",
       "4     4     4     4\n",
       "6     6     6     6\n",
       "7     7     7     7\n",
       "8     8     8     8\n",
       "9     9     9     9"
      ]
     },
     "execution_count": 8,
     "metadata": {},
     "output_type": "execute_result"
    }
   ],
   "source": [
    "df = pd.DataFrame()\n",
    "df['col1'] = np.arange(10)\n",
    "df['col2'] = np.arange(10)\n",
    "df['col3'] = np.arange(10)\n",
    "\n",
    "df[idx_to_keep] "
   ]
  },
  {
   "cell_type": "code",
   "execution_count": 6,
   "id": "982b44cd-a49b-42ad-b7b3-351f4bf610d9",
   "metadata": {},
   "outputs": [
    {
     "name": "stdout",
     "output_type": "stream",
     "text": [
      "X\n",
      "22\n",
      "21\n",
      "20\n",
      "19\n",
      "18\n",
      "17\n",
      "16\n",
      "15\n",
      "14\n",
      "13\n",
      "12\n",
      "11\n",
      "10\n",
      "9\n",
      "8\n",
      "7\n",
      "6\n",
      "5\n",
      "4\n",
      "3\n",
      "2\n",
      "1\n"
     ]
    }
   ],
   "source": [
    "for k in reversed([*range(1,23),'X']): \n",
    "    print(k) "
   ]
  },
  {
   "cell_type": "code",
   "execution_count": 7,
   "id": "688404b1-f4a1-4ee0-899a-d521021154b9",
   "metadata": {},
   "outputs": [
    {
     "data": {
      "text/plain": [
       "['X',\n",
       " 22,\n",
       " 21,\n",
       " 20,\n",
       " 19,\n",
       " 18,\n",
       " 17,\n",
       " 16,\n",
       " 15,\n",
       " 14,\n",
       " 13,\n",
       " 12,\n",
       " 11,\n",
       " 10,\n",
       " 9,\n",
       " 8,\n",
       " 7,\n",
       " 6,\n",
       " 5,\n",
       " 4,\n",
       " 3,\n",
       " 2,\n",
       " 1]"
      ]
     },
     "execution_count": 7,
     "metadata": {},
     "output_type": "execute_result"
    }
   ],
   "source": [
    "['X',*reversed(range(1,23))]"
   ]
  },
  {
   "cell_type": "code",
   "execution_count": 2,
   "id": "9a9de400-bab4-4e23-98dd-136dc323fe8a",
   "metadata": {},
   "outputs": [],
   "source": [
    "import sys\n",
    "sys.path.insert(1,'../frontend/')\n",
    "from Tranmodel import Tranmodel"
   ]
  },
  {
   "cell_type": "code",
   "execution_count": 4,
   "id": "4172ba6a-e3a1-43b6-90d3-fb6dee04abd6",
   "metadata": {},
   "outputs": [],
   "source": [
    "model = Tranmodel.get_pretrained_model(allow_further_training=True)"
   ]
  },
  {
   "cell_type": "code",
   "execution_count": 10,
   "id": "71c1ad2a-e1d3-4d89-85ee-514dd8420a8c",
   "metadata": {},
   "outputs": [
    {
     "name": "stdout",
     "output_type": "stream",
     "text": [
      "requires_grad_\n",
      "zero_grad\n"
     ]
    }
   ],
   "source": [
    "for k in dir(model):\n",
    "    if 'grad' in k:\n",
    "        print(k)"
   ]
  },
  {
   "cell_type": "code",
   "execution_count": 11,
   "id": "54f79383-f05a-4d06-87c3-c590833b6b59",
   "metadata": {},
   "outputs": [
    {
     "data": {
      "text/plain": [
       "'/home/gridsan/gschuette/refining_scHiC/revamp_with_zhuohan/code/frontend'"
      ]
     },
     "execution_count": 11,
     "metadata": {},
     "output_type": "execute_result"
    }
   ],
   "source": [
    "pwd"
   ]
  },
  {
   "cell_type": "code",
   "execution_count": 1,
   "id": "fb078e93-e5cc-420a-a56a-aeb29b9d85aa",
   "metadata": {},
   "outputs": [
    {
     "name": "stdout",
     "output_type": "stream",
     "text": [
      "/home/gridsan/gschuette/refining_scHiC/revamp_with_zhuohan/code/data_utils\n"
     ]
    }
   ],
   "source": [
    "cd ../data_utils/"
   ]
  },
  {
   "cell_type": "code",
   "execution_count": 2,
   "id": "d31f3797-1794-4eed-afab-a264f009569d",
   "metadata": {},
   "outputs": [],
   "source": [
    "from ConfigDataset import ConfigDataset\n",
    "\n",
    "cds = ConfigDataset(\n",
    "    '~/binz_group_shared/gkks/with_Zhuohan/processed_data.hdf5', # Or whatever the filepath ends up being. \n",
    "    segment_length=65,         # This is the number of monomers. For the dataset used so far, each bead represents 20kb. \n",
    "    batch_size=1,              # You can adjust this if you want to use the data for training, but this won't be relevant for what I'm showing here. \n",
    "    normalize_distances=False, # Important because I didn't give you the files this calls. Normalizing the distances is really only important for the diffusion model anyway.\n",
    "    cell_numbers=None,         # ALL cells are loaded if this is set to None. If you only want specific cells (the 1-17 options), set cell_numbers=[1,2,... whatever is desired]\n",
    "    chroms=['1'],               # ALL chromosomes are loaded if this is set to None. If you only want specific chromosomes, set chroms=['1','2',... whatever is desired]\n",
    "    replicates=None,           # ALL replicates are loaded if this is set to None. If you only want specific replicates to load, set replicates=[0,1,2] (or whatever your desired subset is) \n",
    "    shuffle=False,             # Again, modify this if you want to train\n",
    "    allow_overlap=True,        # This determines whether the configurations provided by the class are allowed to overlap. Set to False if you want fully independent regions\n",
    ")"
   ]
  },
  {
   "cell_type": "code",
   "execution_count": 3,
   "id": "cf644b75-0c05-4e10-8b0a-3f1f779fa636",
   "metadata": {},
   "outputs": [
    {
     "name": "stdout",
     "output_type": "stream",
     "text": [
      "0\n",
      "10763\n",
      "21562\n",
      "97341\n",
      "108312\n",
      "119273\n",
      "195368\n",
      "206057\n",
      "227400\n",
      "238254\n",
      "249129\n",
      "260011\n",
      "271009\n",
      "282004\n",
      "292982\n",
      "303830\n",
      "314664\n",
      "325521\n",
      "336259\n",
      "347060\n",
      "357921\n",
      "368938\n",
      "379915\n",
      "390890\n",
      "401811\n",
      "412729\n",
      "423670\n",
      "434524\n",
      "445344\n",
      "456187\n",
      "467227\n",
      "478263\n"
     ]
    }
   ],
   "source": [
    "info, coords = cds.fetch_specific_coords(\n",
    "    chrom=1, \n",
    "    start_idx=1420000\n",
    ")"
   ]
  },
  {
   "cell_type": "code",
   "execution_count": 10,
   "id": "f95a3ea9-dcb0-440a-85df-f50212b4a8e2",
   "metadata": {},
   "outputs": [],
   "source": [
    "gr = cds.get_genomic_regions()"
   ]
  },
  {
   "cell_type": "code",
   "execution_count": 14,
   "id": "24d63735-b94a-4985-9170-67ec1371bae6",
   "metadata": {},
   "outputs": [],
   "source": [
    "chrom,start,stop = gr.loc[0].values"
   ]
  },
  {
   "cell_type": "code",
   "execution_count": 17,
   "id": "f2e6ea21-7de4-4cc7-98f9-670165c10160",
   "metadata": {},
   "outputs": [
    {
     "data": {
      "text/plain": [
       "780000"
      ]
     },
     "execution_count": 17,
     "metadata": {},
     "output_type": "execute_result"
    }
   ],
   "source": [
    "start"
   ]
  },
  {
   "cell_type": "code",
   "execution_count": 5,
   "id": "3cfa6e97-c8ba-4e41-b2ae-c3e69c379f33",
   "metadata": {},
   "outputs": [],
   "source": [
    "import numpy as np\n",
    "\n",
    "start_idx=1420000\n",
    "cell=1\n",
    "chrom='1'\n",
    "replicate=0\n",
    "\n",
    "inner_min = cds.coord_info[\n",
    "    (cds.coord_info.Cell == cell) & \n",
    "    (cds.coord_info.Chromosome == chrom) &\n",
    "    (cds.coord_info.Replicate == replicate)\n",
    "]\n",
    "\n",
    "inner_min, inner_max = int(inner_min.idx_min.values), int(inner_min.idx_max.values)\n",
    "\n",
    "temp_gen_idx = cds.genomic_index[inner_min:inner_max]\n",
    "\n",
    "start = np.where(\n",
    "    temp_gen_idx == start_idx\n",
    ")[0] + inner_min\n",
    "\n",
    "\n"
   ]
  },
  {
   "cell_type": "code",
   "execution_count": 6,
   "id": "5e5fb866-0c46-4881-b493-9cd47735575f",
   "metadata": {},
   "outputs": [
    {
     "data": {
      "text/plain": [
       "array([0])"
      ]
     },
     "execution_count": 6,
     "metadata": {},
     "output_type": "execute_result"
    }
   ],
   "source": [
    "start"
   ]
  },
  {
   "cell_type": "code",
   "execution_count": null,
   "id": "38875cf0-57d3-480b-a35b-3560459b8558",
   "metadata": {},
   "outputs": [],
   "source": []
  },
  {
   "cell_type": "code",
   "execution_count": 4,
   "id": "dbe326ce-33b7-4e77-88e4-dd0d63e526c1",
   "metadata": {},
   "outputs": [
    {
     "data": {
      "text/html": [
       "<div>\n",
       "<style scoped>\n",
       "    .dataframe tbody tr th:only-of-type {\n",
       "        vertical-align: middle;\n",
       "    }\n",
       "\n",
       "    .dataframe tbody tr th {\n",
       "        vertical-align: top;\n",
       "    }\n",
       "\n",
       "    .dataframe thead th {\n",
       "        text-align: right;\n",
       "    }\n",
       "</style>\n",
       "<table border=\"1\" class=\"dataframe\">\n",
       "  <thead>\n",
       "    <tr style=\"text-align: right;\">\n",
       "      <th></th>\n",
       "      <th>Accession</th>\n",
       "      <th>Organism</th>\n",
       "      <th>Cell_Type</th>\n",
       "      <th>Cell</th>\n",
       "      <th>Replicate</th>\n",
       "      <th>Chromosome</th>\n",
       "      <th>idx_min</th>\n",
       "      <th>idx_max</th>\n",
       "    </tr>\n",
       "  </thead>\n",
       "  <tbody>\n",
       "    <tr>\n",
       "      <th>0</th>\n",
       "      <td>GSE117876</td>\n",
       "      <td>Human</td>\n",
       "      <td>GM12878</td>\n",
       "      <td>1</td>\n",
       "      <td>0</td>\n",
       "      <td>1</td>\n",
       "      <td>0</td>\n",
       "      <td>10760</td>\n",
       "    </tr>\n",
       "    <tr>\n",
       "      <th>1</th>\n",
       "      <td>GSE117876</td>\n",
       "      <td>Human</td>\n",
       "      <td>GM12878</td>\n",
       "      <td>1</td>\n",
       "      <td>1</td>\n",
       "      <td>1</td>\n",
       "      <td>10761</td>\n",
       "      <td>21560</td>\n",
       "    </tr>\n",
       "    <tr>\n",
       "      <th>2</th>\n",
       "      <td>GSE117876</td>\n",
       "      <td>Human</td>\n",
       "      <td>GM12878</td>\n",
       "      <td>1</td>\n",
       "      <td>2</td>\n",
       "      <td>1</td>\n",
       "      <td>21561</td>\n",
       "      <td>32290</td>\n",
       "    </tr>\n",
       "    <tr>\n",
       "      <th>3</th>\n",
       "      <td>GSE117876</td>\n",
       "      <td>Human</td>\n",
       "      <td>GM12878</td>\n",
       "      <td>2</td>\n",
       "      <td>0</td>\n",
       "      <td>1</td>\n",
       "      <td>32291</td>\n",
       "      <td>43172</td>\n",
       "    </tr>\n",
       "    <tr>\n",
       "      <th>4</th>\n",
       "      <td>GSE117876</td>\n",
       "      <td>Human</td>\n",
       "      <td>GM12878</td>\n",
       "      <td>2</td>\n",
       "      <td>1</td>\n",
       "      <td>1</td>\n",
       "      <td>43173</td>\n",
       "      <td>54070</td>\n",
       "    </tr>\n",
       "    <tr>\n",
       "      <th>5</th>\n",
       "      <td>GSE117876</td>\n",
       "      <td>Human</td>\n",
       "      <td>GM12878</td>\n",
       "      <td>2</td>\n",
       "      <td>2</td>\n",
       "      <td>1</td>\n",
       "      <td>54071</td>\n",
       "      <td>64983</td>\n",
       "    </tr>\n",
       "    <tr>\n",
       "      <th>6</th>\n",
       "      <td>GSE117876</td>\n",
       "      <td>Human</td>\n",
       "      <td>GM12878</td>\n",
       "      <td>3</td>\n",
       "      <td>0</td>\n",
       "      <td>1</td>\n",
       "      <td>64984</td>\n",
       "      <td>75760</td>\n",
       "    </tr>\n",
       "    <tr>\n",
       "      <th>7</th>\n",
       "      <td>GSE117876</td>\n",
       "      <td>Human</td>\n",
       "      <td>GM12878</td>\n",
       "      <td>3</td>\n",
       "      <td>1</td>\n",
       "      <td>1</td>\n",
       "      <td>75761</td>\n",
       "      <td>86554</td>\n",
       "    </tr>\n",
       "    <tr>\n",
       "      <th>8</th>\n",
       "      <td>GSE117876</td>\n",
       "      <td>Human</td>\n",
       "      <td>GM12878</td>\n",
       "      <td>3</td>\n",
       "      <td>2</td>\n",
       "      <td>1</td>\n",
       "      <td>86555</td>\n",
       "      <td>97329</td>\n",
       "    </tr>\n",
       "    <tr>\n",
       "      <th>9</th>\n",
       "      <td>GSE117876</td>\n",
       "      <td>Human</td>\n",
       "      <td>GM12878</td>\n",
       "      <td>5</td>\n",
       "      <td>0</td>\n",
       "      <td>1</td>\n",
       "      <td>97330</td>\n",
       "      <td>108298</td>\n",
       "    </tr>\n",
       "    <tr>\n",
       "      <th>10</th>\n",
       "      <td>GSE117876</td>\n",
       "      <td>Human</td>\n",
       "      <td>GM12878</td>\n",
       "      <td>5</td>\n",
       "      <td>1</td>\n",
       "      <td>1</td>\n",
       "      <td>108299</td>\n",
       "      <td>119261</td>\n",
       "    </tr>\n",
       "    <tr>\n",
       "      <th>11</th>\n",
       "      <td>GSE117876</td>\n",
       "      <td>Human</td>\n",
       "      <td>GM12878</td>\n",
       "      <td>5</td>\n",
       "      <td>2</td>\n",
       "      <td>1</td>\n",
       "      <td>119262</td>\n",
       "      <td>130232</td>\n",
       "    </tr>\n",
       "    <tr>\n",
       "      <th>12</th>\n",
       "      <td>GSE117876</td>\n",
       "      <td>Human</td>\n",
       "      <td>GM12878</td>\n",
       "      <td>6</td>\n",
       "      <td>0</td>\n",
       "      <td>1</td>\n",
       "      <td>130233</td>\n",
       "      <td>141197</td>\n",
       "    </tr>\n",
       "    <tr>\n",
       "      <th>13</th>\n",
       "      <td>GSE117876</td>\n",
       "      <td>Human</td>\n",
       "      <td>GM12878</td>\n",
       "      <td>6</td>\n",
       "      <td>1</td>\n",
       "      <td>1</td>\n",
       "      <td>141198</td>\n",
       "      <td>152150</td>\n",
       "    </tr>\n",
       "    <tr>\n",
       "      <th>14</th>\n",
       "      <td>GSE117876</td>\n",
       "      <td>Human</td>\n",
       "      <td>GM12878</td>\n",
       "      <td>6</td>\n",
       "      <td>2</td>\n",
       "      <td>1</td>\n",
       "      <td>152151</td>\n",
       "      <td>163096</td>\n",
       "    </tr>\n",
       "    <tr>\n",
       "      <th>15</th>\n",
       "      <td>GSE117876</td>\n",
       "      <td>Human</td>\n",
       "      <td>GM12878</td>\n",
       "      <td>7</td>\n",
       "      <td>0</td>\n",
       "      <td>1</td>\n",
       "      <td>163097</td>\n",
       "      <td>173858</td>\n",
       "    </tr>\n",
       "    <tr>\n",
       "      <th>16</th>\n",
       "      <td>GSE117876</td>\n",
       "      <td>Human</td>\n",
       "      <td>GM12878</td>\n",
       "      <td>7</td>\n",
       "      <td>1</td>\n",
       "      <td>1</td>\n",
       "      <td>173859</td>\n",
       "      <td>184608</td>\n",
       "    </tr>\n",
       "    <tr>\n",
       "      <th>17</th>\n",
       "      <td>GSE117876</td>\n",
       "      <td>Human</td>\n",
       "      <td>GM12878</td>\n",
       "      <td>7</td>\n",
       "      <td>2</td>\n",
       "      <td>1</td>\n",
       "      <td>184609</td>\n",
       "      <td>195352</td>\n",
       "    </tr>\n",
       "    <tr>\n",
       "      <th>18</th>\n",
       "      <td>GSE117876</td>\n",
       "      <td>Human</td>\n",
       "      <td>GM12878</td>\n",
       "      <td>9</td>\n",
       "      <td>0</td>\n",
       "      <td>1</td>\n",
       "      <td>195353</td>\n",
       "      <td>206041</td>\n",
       "    </tr>\n",
       "    <tr>\n",
       "      <th>19</th>\n",
       "      <td>GSE117876</td>\n",
       "      <td>Human</td>\n",
       "      <td>GM12878</td>\n",
       "      <td>9</td>\n",
       "      <td>1</td>\n",
       "      <td>1</td>\n",
       "      <td>206042</td>\n",
       "      <td>216745</td>\n",
       "    </tr>\n",
       "    <tr>\n",
       "      <th>20</th>\n",
       "      <td>GSE117876</td>\n",
       "      <td>Human</td>\n",
       "      <td>GM12878</td>\n",
       "      <td>9</td>\n",
       "      <td>2</td>\n",
       "      <td>1</td>\n",
       "      <td>216746</td>\n",
       "      <td>227371</td>\n",
       "    </tr>\n",
       "    <tr>\n",
       "      <th>21</th>\n",
       "      <td>GSE117876</td>\n",
       "      <td>Human</td>\n",
       "      <td>GM12878</td>\n",
       "      <td>10</td>\n",
       "      <td>0</td>\n",
       "      <td>1</td>\n",
       "      <td>227372</td>\n",
       "      <td>238225</td>\n",
       "    </tr>\n",
       "    <tr>\n",
       "      <th>22</th>\n",
       "      <td>GSE117876</td>\n",
       "      <td>Human</td>\n",
       "      <td>GM12878</td>\n",
       "      <td>10</td>\n",
       "      <td>1</td>\n",
       "      <td>1</td>\n",
       "      <td>238226</td>\n",
       "      <td>249103</td>\n",
       "    </tr>\n",
       "    <tr>\n",
       "      <th>23</th>\n",
       "      <td>GSE117876</td>\n",
       "      <td>Human</td>\n",
       "      <td>GM12878</td>\n",
       "      <td>10</td>\n",
       "      <td>2</td>\n",
       "      <td>1</td>\n",
       "      <td>249104</td>\n",
       "      <td>259979</td>\n",
       "    </tr>\n",
       "    <tr>\n",
       "      <th>24</th>\n",
       "      <td>GSE117876</td>\n",
       "      <td>Human</td>\n",
       "      <td>GM12878</td>\n",
       "      <td>11</td>\n",
       "      <td>0</td>\n",
       "      <td>1</td>\n",
       "      <td>259980</td>\n",
       "      <td>270978</td>\n",
       "    </tr>\n",
       "    <tr>\n",
       "      <th>25</th>\n",
       "      <td>GSE117876</td>\n",
       "      <td>Human</td>\n",
       "      <td>GM12878</td>\n",
       "      <td>11</td>\n",
       "      <td>1</td>\n",
       "      <td>1</td>\n",
       "      <td>270979</td>\n",
       "      <td>281973</td>\n",
       "    </tr>\n",
       "    <tr>\n",
       "      <th>26</th>\n",
       "      <td>GSE117876</td>\n",
       "      <td>Human</td>\n",
       "      <td>GM12878</td>\n",
       "      <td>11</td>\n",
       "      <td>2</td>\n",
       "      <td>1</td>\n",
       "      <td>281974</td>\n",
       "      <td>292974</td>\n",
       "    </tr>\n",
       "    <tr>\n",
       "      <th>27</th>\n",
       "      <td>GSE117876</td>\n",
       "      <td>Human</td>\n",
       "      <td>GM12878</td>\n",
       "      <td>12</td>\n",
       "      <td>0</td>\n",
       "      <td>1</td>\n",
       "      <td>292975</td>\n",
       "      <td>303823</td>\n",
       "    </tr>\n",
       "    <tr>\n",
       "      <th>28</th>\n",
       "      <td>GSE117876</td>\n",
       "      <td>Human</td>\n",
       "      <td>GM12878</td>\n",
       "      <td>12</td>\n",
       "      <td>1</td>\n",
       "      <td>1</td>\n",
       "      <td>303824</td>\n",
       "      <td>314658</td>\n",
       "    </tr>\n",
       "    <tr>\n",
       "      <th>29</th>\n",
       "      <td>GSE117876</td>\n",
       "      <td>Human</td>\n",
       "      <td>GM12878</td>\n",
       "      <td>12</td>\n",
       "      <td>2</td>\n",
       "      <td>1</td>\n",
       "      <td>314659</td>\n",
       "      <td>325493</td>\n",
       "    </tr>\n",
       "    <tr>\n",
       "      <th>30</th>\n",
       "      <td>GSE117876</td>\n",
       "      <td>Human</td>\n",
       "      <td>GM12878</td>\n",
       "      <td>13</td>\n",
       "      <td>0</td>\n",
       "      <td>1</td>\n",
       "      <td>325494</td>\n",
       "      <td>336232</td>\n",
       "    </tr>\n",
       "    <tr>\n",
       "      <th>31</th>\n",
       "      <td>GSE117876</td>\n",
       "      <td>Human</td>\n",
       "      <td>GM12878</td>\n",
       "      <td>13</td>\n",
       "      <td>1</td>\n",
       "      <td>1</td>\n",
       "      <td>336233</td>\n",
       "      <td>347031</td>\n",
       "    </tr>\n",
       "    <tr>\n",
       "      <th>32</th>\n",
       "      <td>GSE117876</td>\n",
       "      <td>Human</td>\n",
       "      <td>GM12878</td>\n",
       "      <td>13</td>\n",
       "      <td>2</td>\n",
       "      <td>1</td>\n",
       "      <td>347032</td>\n",
       "      <td>357895</td>\n",
       "    </tr>\n",
       "    <tr>\n",
       "      <th>33</th>\n",
       "      <td>GSE117876</td>\n",
       "      <td>Human</td>\n",
       "      <td>GM12878</td>\n",
       "      <td>14</td>\n",
       "      <td>0</td>\n",
       "      <td>1</td>\n",
       "      <td>357896</td>\n",
       "      <td>368905</td>\n",
       "    </tr>\n",
       "    <tr>\n",
       "      <th>34</th>\n",
       "      <td>GSE117876</td>\n",
       "      <td>Human</td>\n",
       "      <td>GM12878</td>\n",
       "      <td>14</td>\n",
       "      <td>1</td>\n",
       "      <td>1</td>\n",
       "      <td>368906</td>\n",
       "      <td>379888</td>\n",
       "    </tr>\n",
       "    <tr>\n",
       "      <th>35</th>\n",
       "      <td>GSE117876</td>\n",
       "      <td>Human</td>\n",
       "      <td>GM12878</td>\n",
       "      <td>14</td>\n",
       "      <td>2</td>\n",
       "      <td>1</td>\n",
       "      <td>379889</td>\n",
       "      <td>390883</td>\n",
       "    </tr>\n",
       "    <tr>\n",
       "      <th>36</th>\n",
       "      <td>GSE117876</td>\n",
       "      <td>Human</td>\n",
       "      <td>GM12878</td>\n",
       "      <td>15</td>\n",
       "      <td>0</td>\n",
       "      <td>1</td>\n",
       "      <td>390884</td>\n",
       "      <td>401805</td>\n",
       "    </tr>\n",
       "    <tr>\n",
       "      <th>37</th>\n",
       "      <td>GSE117876</td>\n",
       "      <td>Human</td>\n",
       "      <td>GM12878</td>\n",
       "      <td>15</td>\n",
       "      <td>1</td>\n",
       "      <td>1</td>\n",
       "      <td>401806</td>\n",
       "      <td>412717</td>\n",
       "    </tr>\n",
       "    <tr>\n",
       "      <th>38</th>\n",
       "      <td>GSE117876</td>\n",
       "      <td>Human</td>\n",
       "      <td>GM12878</td>\n",
       "      <td>15</td>\n",
       "      <td>2</td>\n",
       "      <td>1</td>\n",
       "      <td>412718</td>\n",
       "      <td>423644</td>\n",
       "    </tr>\n",
       "    <tr>\n",
       "      <th>39</th>\n",
       "      <td>GSE117876</td>\n",
       "      <td>Human</td>\n",
       "      <td>GM12878</td>\n",
       "      <td>16</td>\n",
       "      <td>0</td>\n",
       "      <td>1</td>\n",
       "      <td>423645</td>\n",
       "      <td>434498</td>\n",
       "    </tr>\n",
       "    <tr>\n",
       "      <th>40</th>\n",
       "      <td>GSE117876</td>\n",
       "      <td>Human</td>\n",
       "      <td>GM12878</td>\n",
       "      <td>16</td>\n",
       "      <td>1</td>\n",
       "      <td>1</td>\n",
       "      <td>434499</td>\n",
       "      <td>445318</td>\n",
       "    </tr>\n",
       "    <tr>\n",
       "      <th>41</th>\n",
       "      <td>GSE117876</td>\n",
       "      <td>Human</td>\n",
       "      <td>GM12878</td>\n",
       "      <td>16</td>\n",
       "      <td>2</td>\n",
       "      <td>1</td>\n",
       "      <td>445319</td>\n",
       "      <td>456159</td>\n",
       "    </tr>\n",
       "    <tr>\n",
       "      <th>42</th>\n",
       "      <td>GSE117876</td>\n",
       "      <td>Human</td>\n",
       "      <td>GM12878</td>\n",
       "      <td>17</td>\n",
       "      <td>0</td>\n",
       "      <td>1</td>\n",
       "      <td>456160</td>\n",
       "      <td>467199</td>\n",
       "    </tr>\n",
       "    <tr>\n",
       "      <th>43</th>\n",
       "      <td>GSE117876</td>\n",
       "      <td>Human</td>\n",
       "      <td>GM12878</td>\n",
       "      <td>17</td>\n",
       "      <td>1</td>\n",
       "      <td>1</td>\n",
       "      <td>467200</td>\n",
       "      <td>478235</td>\n",
       "    </tr>\n",
       "    <tr>\n",
       "      <th>44</th>\n",
       "      <td>GSE117876</td>\n",
       "      <td>Human</td>\n",
       "      <td>GM12878</td>\n",
       "      <td>17</td>\n",
       "      <td>2</td>\n",
       "      <td>1</td>\n",
       "      <td>478236</td>\n",
       "      <td>489261</td>\n",
       "    </tr>\n",
       "  </tbody>\n",
       "</table>\n",
       "</div>"
      ],
      "text/plain": [
       "    Accession Organism Cell_Type  Cell  Replicate Chromosome  idx_min  idx_max\n",
       "0   GSE117876    Human   GM12878     1          0          1        0    10760\n",
       "1   GSE117876    Human   GM12878     1          1          1    10761    21560\n",
       "2   GSE117876    Human   GM12878     1          2          1    21561    32290\n",
       "3   GSE117876    Human   GM12878     2          0          1    32291    43172\n",
       "4   GSE117876    Human   GM12878     2          1          1    43173    54070\n",
       "5   GSE117876    Human   GM12878     2          2          1    54071    64983\n",
       "6   GSE117876    Human   GM12878     3          0          1    64984    75760\n",
       "7   GSE117876    Human   GM12878     3          1          1    75761    86554\n",
       "8   GSE117876    Human   GM12878     3          2          1    86555    97329\n",
       "9   GSE117876    Human   GM12878     5          0          1    97330   108298\n",
       "10  GSE117876    Human   GM12878     5          1          1   108299   119261\n",
       "11  GSE117876    Human   GM12878     5          2          1   119262   130232\n",
       "12  GSE117876    Human   GM12878     6          0          1   130233   141197\n",
       "13  GSE117876    Human   GM12878     6          1          1   141198   152150\n",
       "14  GSE117876    Human   GM12878     6          2          1   152151   163096\n",
       "15  GSE117876    Human   GM12878     7          0          1   163097   173858\n",
       "16  GSE117876    Human   GM12878     7          1          1   173859   184608\n",
       "17  GSE117876    Human   GM12878     7          2          1   184609   195352\n",
       "18  GSE117876    Human   GM12878     9          0          1   195353   206041\n",
       "19  GSE117876    Human   GM12878     9          1          1   206042   216745\n",
       "20  GSE117876    Human   GM12878     9          2          1   216746   227371\n",
       "21  GSE117876    Human   GM12878    10          0          1   227372   238225\n",
       "22  GSE117876    Human   GM12878    10          1          1   238226   249103\n",
       "23  GSE117876    Human   GM12878    10          2          1   249104   259979\n",
       "24  GSE117876    Human   GM12878    11          0          1   259980   270978\n",
       "25  GSE117876    Human   GM12878    11          1          1   270979   281973\n",
       "26  GSE117876    Human   GM12878    11          2          1   281974   292974\n",
       "27  GSE117876    Human   GM12878    12          0          1   292975   303823\n",
       "28  GSE117876    Human   GM12878    12          1          1   303824   314658\n",
       "29  GSE117876    Human   GM12878    12          2          1   314659   325493\n",
       "30  GSE117876    Human   GM12878    13          0          1   325494   336232\n",
       "31  GSE117876    Human   GM12878    13          1          1   336233   347031\n",
       "32  GSE117876    Human   GM12878    13          2          1   347032   357895\n",
       "33  GSE117876    Human   GM12878    14          0          1   357896   368905\n",
       "34  GSE117876    Human   GM12878    14          1          1   368906   379888\n",
       "35  GSE117876    Human   GM12878    14          2          1   379889   390883\n",
       "36  GSE117876    Human   GM12878    15          0          1   390884   401805\n",
       "37  GSE117876    Human   GM12878    15          1          1   401806   412717\n",
       "38  GSE117876    Human   GM12878    15          2          1   412718   423644\n",
       "39  GSE117876    Human   GM12878    16          0          1   423645   434498\n",
       "40  GSE117876    Human   GM12878    16          1          1   434499   445318\n",
       "41  GSE117876    Human   GM12878    16          2          1   445319   456159\n",
       "42  GSE117876    Human   GM12878    17          0          1   456160   467199\n",
       "43  GSE117876    Human   GM12878    17          1          1   467200   478235\n",
       "44  GSE117876    Human   GM12878    17          2          1   478236   489261"
      ]
     },
     "execution_count": 4,
     "metadata": {},
     "output_type": "execute_result"
    }
   ],
   "source": [
    "cds.coord_info"
   ]
  },
  {
   "cell_type": "code",
   "execution_count": 10,
   "id": "fd9491b9-9f1e-469e-ba60-fba45b5bd62b",
   "metadata": {},
   "outputs": [
    {
     "data": {
      "text/plain": [
       "489197"
      ]
     },
     "execution_count": 10,
     "metadata": {},
     "output_type": "execute_result"
    }
   ],
   "source": [
    "cds.start_indices"
   ]
  },
  {
   "cell_type": "code",
   "execution_count": 26,
   "id": "3097eed0-5a57-4983-9f95-a7373a24641d",
   "metadata": {},
   "outputs": [],
   "source": [
    "gr = cds.get_genomic_regions()"
   ]
  },
  {
   "cell_type": "code",
   "execution_count": 29,
   "id": "b1e033cd-c921-426a-8162-e3baf6d701f5",
   "metadata": {},
   "outputs": [
    {
     "data": {
      "text/plain": [
       "array(['1'], dtype=object)"
      ]
     },
     "execution_count": 29,
     "metadata": {},
     "output_type": "execute_result"
    }
   ],
   "source": [
    "gr.Chromosome.unique()"
   ]
  },
  {
   "cell_type": "code",
   "execution_count": 30,
   "id": "02575f28-6368-4936-bc26-18968f7aac16",
   "metadata": {},
   "outputs": [
    {
     "data": {
      "text/plain": [
       "array([  1420000,   1440000,   1460000, ..., 248960000, 248980000,\n",
       "       249000000])"
      ]
     },
     "execution_count": 30,
     "metadata": {},
     "output_type": "execute_result"
    }
   ],
   "source": [
    "cds.genomic_index"
   ]
  },
  {
   "cell_type": "code",
   "execution_count": 24,
   "id": "e4d942d9-cedd-4697-a3b6-6c5a4d81e252",
   "metadata": {},
   "outputs": [
    {
     "data": {
      "text/plain": [
       "array([ 1,  2,  3,  5,  6,  7,  9, 10, 11, 12, 13, 14, 15, 16, 17])"
      ]
     },
     "execution_count": 24,
     "metadata": {},
     "output_type": "execute_result"
    }
   ],
   "source": [
    "cds.coord_info.Cell.unique()"
   ]
  },
  {
   "cell_type": "code",
   "execution_count": 31,
   "id": "d099f0c6-6d60-4ca2-89a4-23fa03d81a60",
   "metadata": {},
   "outputs": [
    {
     "data": {
      "text/plain": [
       "(array([5]),)"
      ]
     },
     "execution_count": 31,
     "metadata": {},
     "output_type": "execute_result"
    }
   ],
   "source": [
    "import numpy as np\n",
    "a = np.arange(10)\n",
    "np.where(\n",
    "    (a == 5) & \n",
    "    (a == 5)\n",
    ")"
   ]
  },
  {
   "cell_type": "code",
   "execution_count": 35,
   "id": "90e59fc4-6c95-44d6-a5f8-9c8ce88f5590",
   "metadata": {},
   "outputs": [
    {
     "data": {
      "text/plain": [
       "array([     0,  10763,  21562,  32296,  43177,  54081,  97341, 108312,\n",
       "       119273, 163112, 173871, 184624, 195368, 206057, 227400, 238254,\n",
       "       249129, 260011, 271009, 282004, 292982, 303830, 314664, 325521,\n",
       "       336259, 347060, 357921, 368938, 379915, 390890, 401811, 412729,\n",
       "       423670, 434524, 445344, 456187, 467227, 478263])"
      ]
     },
     "execution_count": 35,
     "metadata": {},
     "output_type": "execute_result"
    }
   ],
   "source": [
    "np.where(cds.genomic_index == 1420000)[0]"
   ]
  },
  {
   "cell_type": "code",
   "execution_count": 42,
   "id": "3b439ba1-227e-41c1-a198-0a9a2658c933",
   "metadata": {},
   "outputs": [
    {
     "data": {
      "text/plain": [
       "10760"
      ]
     },
     "execution_count": 42,
     "metadata": {},
     "output_type": "execute_result"
    }
   ],
   "source": [
    "chrom='1'\n",
    "replicate = 0 \n",
    "cell = 1\n",
    "\n",
    "int(cds.coord_info[\n",
    "    (cds.coord_info.Cell == cell) & \n",
    "    (cds.coord_info.Chromosome == chrom) &\n",
    "    (cds.coord_info.Replicate == replicate)\n",
    "].idx_max.values)"
   ]
  },
  {
   "cell_type": "code",
   "execution_count": 45,
   "id": "f166a933-5e3b-4248-a2f6-fe1313ef21bc",
   "metadata": {},
   "outputs": [
    {
     "data": {
      "text/plain": [
       "10760"
      ]
     },
     "execution_count": 45,
     "metadata": {},
     "output_type": "execute_result"
    }
   ],
   "source": [
    "cds.genomic_index[0:10760]"
   ]
  },
  {
   "cell_type": "code",
   "execution_count": 47,
   "id": "9fb3ea9c-c18e-438a-a51f-36471ed95f1e",
   "metadata": {},
   "outputs": [
    {
     "data": {
      "text/plain": [
       "torch.Size([489262, 6])"
      ]
     },
     "execution_count": 47,
     "metadata": {},
     "output_type": "execute_result"
    }
   ],
   "source": [
    "cds.coords.shape"
   ]
  },
  {
   "cell_type": "code",
   "execution_count": null,
   "id": "0a13d8b9-c943-4d6e-8649-4778eac9963a",
   "metadata": {},
   "outputs": [],
   "source": []
  },
  {
   "cell_type": "code",
   "execution_count": 1,
   "id": "959bf949-737d-4ee6-863c-9d1a55587318",
   "metadata": {},
   "outputs": [],
   "source": [
    "from cooler import Cooler "
   ]
  },
  {
   "cell_type": "code",
   "execution_count": 34,
   "id": "ae2c0618-9594-46f4-9124-3e6f69212e1b",
   "metadata": {},
   "outputs": [],
   "source": [
    "clr = Cooler('../../data/outside/GM12878_hg38.mcool::/resolutions/1000')"
   ]
  },
  {
   "cell_type": "code",
   "execution_count": null,
   "id": "e67f7896-6e8a-43ae-9ba9-9d67cdcc35c5",
   "metadata": {},
   "outputs": [],
   "source": []
  },
  {
   "cell_type": "code",
   "execution_count": 28,
   "id": "f9f78799-cc2d-4cbb-a059-3aca4d1f8cdb",
   "metadata": {},
   "outputs": [],
   "source": [
    "clr = Cooler('../../data/outside/GM12878_hg19_1000.cool')"
   ]
  },
  {
   "cell_type": "code",
   "execution_count": 31,
   "id": "3e9ea11c-5956-4a03-93f4-4f1da21c6dcd",
   "metadata": {},
   "outputs": [
    {
     "data": {
      "text/plain": [
       "1000"
      ]
     },
     "execution_count": 31,
     "metadata": {},
     "output_type": "execute_result"
    }
   ],
   "source": [
    "clr.info['bin-size']"
   ]
  },
  {
   "cell_type": "code",
   "execution_count": 38,
   "id": "f5e339f8-1a78-472a-b044-f30fb167409b",
   "metadata": {},
   "outputs": [],
   "source": [
    "import cooler"
   ]
  },
  {
   "cell_type": "code",
   "execution_count": 41,
   "id": "71a1ef04-7268-4896-a01a-e9c96cdce874",
   "metadata": {},
   "outputs": [],
   "source": [
    "fp = '../../data/outside/GM12878_hg38.mcool'\n",
    "resolutions = [int(c.split('/')[-1]) for c in cooler.fileops.list_coolers(fp)]\n"
   ]
  },
  {
   "cell_type": "code",
   "execution_count": 46,
   "id": "00f8e2b0-e9f9-4501-8d40-9f4b443de1d9",
   "metadata": {},
   "outputs": [
    {
     "data": {
      "text/plain": [
       "False"
      ]
     },
     "execution_count": 46,
     "metadata": {},
     "output_type": "execute_result"
    }
   ],
   "source": [
    "cooler.fileops.is_multires_file('./zhuohan.ipynb')"
   ]
  },
  {
   "cell_type": "code",
   "execution_count": 47,
   "id": "807dcf93-7b2e-46c8-87bb-2abb7e268028",
   "metadata": {},
   "outputs": [
    {
     "data": {
      "text/plain": [
       "['/resolutions/1000',\n",
       " '/resolutions/2000',\n",
       " '/resolutions/5000',\n",
       " '/resolutions/10000',\n",
       " '/resolutions/25000',\n",
       " '/resolutions/50000',\n",
       " '/resolutions/100000',\n",
       " '/resolutions/250000',\n",
       " '/resolutions/500000',\n",
       " '/resolutions/1000000',\n",
       " '/resolutions/2500000',\n",
       " '/resolutions/5000000',\n",
       " '/resolutions/10000000']"
      ]
     },
     "execution_count": 47,
     "metadata": {},
     "output_type": "execute_result"
    }
   ],
   "source": [
    "cooler.fileops.list_coolers(fp)"
   ]
  },
  {
   "cell_type": "code",
   "execution_count": null,
   "id": "8c6340d2-173f-4922-8385-7347315baef3",
   "metadata": {},
   "outputs": [],
   "source": []
  }
 ],
 "metadata": {
  "kernelspec": {
   "display_name": "Python 3 (ipykernel)",
   "language": "python",
   "name": "python3"
  },
  "language_info": {
   "codemirror_mode": {
    "name": "ipython",
    "version": 3
   },
   "file_extension": ".py",
   "mimetype": "text/x-python",
   "name": "python",
   "nbconvert_exporter": "python",
   "pygments_lexer": "ipython3",
   "version": "3.10.12"
  }
 },
 "nbformat": 4,
 "nbformat_minor": 5
}
