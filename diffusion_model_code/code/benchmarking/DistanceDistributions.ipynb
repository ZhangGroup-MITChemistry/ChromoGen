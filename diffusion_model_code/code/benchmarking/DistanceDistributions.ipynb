{
 "cells": [
  {
   "cell_type": "code",
   "execution_count": 1,
   "id": "7dff9ec2-7e98-4a55-bba0-36ae55607c95",
   "metadata": {},
   "outputs": [],
   "source": [
    "chrom = '1'"
   ]
  },
  {
   "cell_type": "code",
   "execution_count": 2,
   "id": "4b3dba5e-7479-4d13-9963-2dc40c90cfed",
   "metadata": {},
   "outputs": [],
   "source": [
    "segment_length = 64\n",
    "remove_diagonal = True\n",
    "\n",
    "config_fp = '../../data/processed_data.hdf5'\n",
    "embedding_dir = '../../data/embeddings_64_after_transformer/'\n",
    "mean_dist_fp = '../../data/mean_dists.pt'\n",
    "mean_sq_dist_fp='../../data/squares.pt'"
   ]
  },
  {
   "cell_type": "markdown",
   "id": "ec2b059a-df47-4eb8-8751-9589f52e37e2",
   "metadata": {},
   "source": [
    "#### Support functions"
   ]
  },
  {
   "cell_type": "code",
   "execution_count": 3,
   "id": "7d4f21ad-2ff9-4d77-bad7-c159cc68aed7",
   "metadata": {},
   "outputs": [],
   "source": [
    "import torch\n",
    "import sys\n",
    "import pandas as pd\n",
    "import matplotlib.pyplot as plt\n",
    "sys.path.insert(1,'../data_utils/')\n",
    "from Sample import Sample\n",
    "from OrigamiTransform import OrigamiTransform\n",
    "origami_transform = OrigamiTransform()"
   ]
  },
  {
   "cell_type": "code",
   "execution_count": 4,
   "id": "319a717b-8f7d-46e1-a208-3bc4af82ab93",
   "metadata": {},
   "outputs": [],
   "source": [
    "def is_square(mat):\n",
    "    s = mat.shape\n",
    "    assert len(s) > 1, f'Tensor must have at least two dimensions. Provided shape: {s}'\n",
    "    return s[-1] == s[-2]\n",
    "\n",
    "def copy_matrix_elements(from_mat,to_mat):\n",
    "    assert is_square(from_mat) and is_square(to_mat), f'Both matrices must be square in the final two dimensions'\n",
    "\n",
    "    n1,n2= from_mat.shape[-1],to_mat.shape[-1]\n",
    "    n,N = min(n1,n2),max(n1,n2)\n",
    "\n",
    "    i,j = torch.triu_indices(n,n,0)\n",
    "\n",
    "    shift1,shift2 = max(0,n1-n2),max(0,n2-n1)\n",
    "    to_mat[...,i,shift2+j] = from_mat[...,i,shift1+j]\n",
    "    to_mat[...,shift2+j,i] = from_mat[...,shift1+j,i]\n",
    "    \n",
    "\n",
    "def add_diagonal(mat,diag_value=0):\n",
    "    assert is_square(mat), f'Tensor must be square in the final two dimensions. Provided shape: {s}'\n",
    "    \n",
    "    N = mat.shape[-1] + 1\n",
    "    new_mat = torch.empty(\n",
    "        *mat.shape[:-2],N,N,\n",
    "        dtype=mat.dtype,\n",
    "        device=mat.device\n",
    "    )\n",
    "    \n",
    "    copy_matrix_elements(mat,new_mat)\n",
    "    i = torch.arange(N)\n",
    "    new_mat[...,i,i] = diag_value\n",
    "\n",
    "    return new_mat\n",
    "\n",
    "def remove_diagonal(mat):\n",
    "    assert is_square(mat), f'Tensor must be square in the final two dimensions. Provided shape: {s}'\n",
    "\n",
    "    N = mat.shape[-1] - 1\n",
    "    new_mat = torch.empty(\n",
    "        *mat.shape[:-2],N,N,\n",
    "        dtype=mat.dtype,\n",
    "        device=mat.device\n",
    "    )\n",
    "    \n",
    "    copy_matrix_elements(mat,new_mat)\n",
    "    \n",
    "    return new_mat"
   ]
  },
  {
   "cell_type": "code",
   "execution_count": 80,
   "id": "31261552-c552-4824-acc6-790668533dd1",
   "metadata": {},
   "outputs": [],
   "source": [
    "import torch\n",
    "from tensor_support import remove_diagonal\n",
    "\n",
    "def distance_hist(exp_data,gen_data,**kwargs):\n",
    "    fig = plt.figure()\n",
    "    ax = fig.add_subplot()\n",
    "    ax.hist(gen_data.flatten().cpu().numpy(),alpha=0.5,label='Generated',density=True,**kwargs)\n",
    "    ax.hist(exp_data.flatten().cpu().numpy(),alpha=0.5,label='Experimental',density=True,**kwargs)\n",
    "    ax.legend()\n",
    "\n",
    "    return fig,ax\n",
    "\n",
    "def is_int(x):\n",
    "    return int(x) == x\n",
    "\n",
    "class DistanceCompare: \n",
    "\n",
    "    def __init__(self,config_dataset,sample=None,indices=None,device=None):\n",
    "\n",
    "        self.exp_ds = config_dataset\n",
    "        self.gen_configs = sample\n",
    "        self.idx = indices\n",
    "        self.device = device\n",
    "\n",
    "        self.exp_maps = None\n",
    "\n",
    "    ###################################################################\n",
    "    # Handling the experimental data\n",
    "    def parse_index(self,region_index): \n",
    "        assert is_int(region_index), 'region_index must be an integer'\n",
    "        _,chrom,start_idx = self.idx[region_index]\n",
    "        return chrom,start_idx\n",
    "    \n",
    "    def get_coords(self,*args):\n",
    "        assert len(args) > 0, 'Expected either integer input (region index) or string (chrom) followed by integer (starting index). Received no arguments.'\n",
    "        assert len(args) < 3, f'Expected either integer input (region index) or string (chrom) followed by integer (starting index). Received {len(args)} arguments.'\n",
    "        if len(args) == 1: \n",
    "            assert type(args[0]) == int, f'Expected either integer input (region index) or string (chrom) followed by integer (starting index). Received one {type(args[0])} input.'\n",
    "            chrom,start_idx = self.parse_index(int(args[0]))\n",
    "        elif type(args[0]) != str or not is_int(args[1]): \n",
    "            raise Exception('Expected either integer input (region index) or string (chrom) followed by integer (starting index). '+\\\n",
    "                            f'Received types {type(args[0])} and {type(args[1])}.')\n",
    "        else:\n",
    "            chrom,start_idx = args[0],int(args[1])\n",
    "        return self.exp_ds.fetch_specific_coords(chrom,start_idx)[1].to(self.device)\n",
    "    \n",
    "    def get_exp_maps(self,*args):\n",
    "        if len(args) == 0:\n",
    "            return self.exp_maps\n",
    "        coords = self.get_coords(*args) \n",
    "        dists = torch.cdist(coords.double(),coords.double()).float()\n",
    "        return dists\n",
    "\n",
    "    def set_exp_maps(self,*args):\n",
    "        if len(args) == 1 and type(args[0]) == torch.Tensor and len(args[0].shape) == 3: \n",
    "            self.exp_maps = args[0].clone()\n",
    "        else:\n",
    "            self.exp_maps = self.get_exp_maps(*args)\n",
    "\n",
    "    ###################################################################\n",
    "    # Handling the generated data \n",
    "    def set_sample(self,sample):\n",
    "\n",
    "        sample.unnormalize_()\n",
    "        idx_to_keep = sample.unflatten().isfinite().all(-1).all(-1)\n",
    "        sample.batch = sample.batch[idx_to_keep,...]\n",
    "        self.gen_configs = sample\n",
    "        \n",
    "        '''\n",
    "        self.gen_configs = sample#.clone()\n",
    "        self.gen_configs.unnormalize_()\n",
    "        '''\n",
    "    def load_sample(self,fp):\n",
    "        #sample = Sample(data=pd.read_pickle(fp).batch)\n",
    "        if '.pkl' in fp:\n",
    "            sample = pd.read_pickle(fp)\n",
    "        else:\n",
    "            tensor = torch.load(fp,map_location='cuda' if torch.cuda.is_available() else 'cpu')\n",
    "            if tensor.shape[-3] == 2:\n",
    "                tensor = origami_transform.inverse(tensor)\n",
    "            i = torch.arange(tensor.shape[-1])\n",
    "            temp = tensor[...,i,i]\n",
    "            if torch.allclose(temp,torch.zeros_like(temp)):\n",
    "                tensor = remove_diagonal(tensor)\n",
    "            sample = Sample(data = tensor) \n",
    "        self.set_sample(sample)\n",
    "        \n",
    "        \n",
    "    ###################################################################\n",
    "    # Comparisons\n",
    "    def dist_compare(self,pairs=None,plot=False,**kwargs):\n",
    "        gen_data = self.gen_configs.unflatten()\n",
    "        exp_data = self.get_exp_maps()\n",
    "        n, N = gen_data.shape[-1], exp_data.shape[-1]\n",
    "\n",
    "        if n == N-1: \n",
    "            gen_data = add_diagonal(gen_data) \n",
    "        else: \n",
    "            assert n==N, 'incompatible generated/experimental data sizes'\n",
    "\n",
    "        if pairs is None: \n",
    "            pairs = torch.triu_indices(N,N,1).T.tolist()\n",
    "\n",
    "        results = {}\n",
    "        for pair in pairs: \n",
    "            i,j = pair[0],pair[1]\n",
    "            results[tuple(pair)] = [exp_data[...,i,j].flatten(),gen_data[...,i,j].flatten()]\n",
    "\n",
    "        if plot: \n",
    "            exp_data = []\n",
    "            gen_data = []\n",
    "            for _,item in results.items():\n",
    "                exp_data.append(item[0])\n",
    "                gen_data.append(item[1])\n",
    "            exp_data = torch.cat(exp_data)\n",
    "            gen_data = torch.cat(gen_data) \n",
    "            fig,ax = distance_hist(exp_data,gen_data,**kwargs)\n",
    "            return results,fig,ax\n",
    "        else:\n",
    "            return results \n",
    "\n",
    "    def compare_specific_separation(self,separation,**kwargs):\n",
    "        N = self.get_exp_maps().shape[-1]\n",
    "        i = torch.arange(separation,N)\n",
    "        j = torch.arange(0,len(i))\n",
    "        pairs = [(i[k],j[k]) for k in range(len(i))]\n",
    "        #dists = self.dist_compare(pairs,plot=True)\n",
    "        return self.dist_compare(pairs,plot=True,**kwargs)\n",
    "        '''\n",
    "        exp_data = []\n",
    "        gen_data = []\n",
    "        for _,item in dists.items():\n",
    "            exp_data.append(item[0])\n",
    "            gen_data.append(item[1])\n",
    "        exp_data = torch.cat(exp_data)\n",
    "        gen_data = torch.cat(gen_data) \n",
    "        fig,ax = distance_hist(exp_data,gen_data,**kwargs)\n",
    "        return fig,ax\n",
    "        '''\n",
    "    "
   ]
  },
  {
   "cell_type": "code",
   "execution_count": null,
   "id": "7cbfd3a4-c621-4277-a9ef-d65cd58e7cb8",
   "metadata": {},
   "outputs": [],
   "source": []
  },
  {
   "cell_type": "markdown",
   "id": "ae67a8b9-edbe-4b86-ad56-edd4f4711409",
   "metadata": {},
   "source": [
    "#### Experimental Data"
   ]
  },
  {
   "cell_type": "code",
   "execution_count": 81,
   "id": "1cb55c96-5c59-4eea-ac6f-8aca78a09776",
   "metadata": {},
   "outputs": [],
   "source": [
    "import sys\n",
    "sys.path.insert(1,'../data_utils/')\n",
    "from ConfigDataset import ConfigDataset\n",
    "from EmbeddedRegions import EmbeddedRegions"
   ]
  },
  {
   "cell_type": "code",
   "execution_count": 82,
   "id": "1e7e759e-86db-4c63-9db0-3d467dd1ddb0",
   "metadata": {},
   "outputs": [
    {
     "name": "stdout",
     "output_type": "stream",
     "text": [
      "Loading Embeddings\n"
     ]
    }
   ],
   "source": [
    "config_ds = ConfigDataset(\n",
    "    config_fp,\n",
    "    segment_length=segment_length,\n",
    "    remove_diagonal=True,\n",
    "    batch_size=0,\n",
    "    normalize_distances=False, #True,\n",
    "    geos=None,\n",
    "    organisms=None,\n",
    "    cell_types=None,\n",
    "    cell_numbers=None,\n",
    "    chroms=[str(chrom)],#training_chroms,\n",
    "    replicates=None,#[1],#None,\n",
    "    shuffle=True,\n",
    "    allow_overlap=True,\n",
    "    two_channels=False,\n",
    "    try_GPU=True,\n",
    "    mean_dist_fp=mean_dist_fp,\n",
    "    mean_sq_dist_fp=mean_sq_dist_fp\n",
    ")\n",
    "\n",
    "print('Loading Embeddings',flush=True)\n",
    "#er = EmbeddedRegions(\n",
    "#    embedding_dir,\n",
    "#    chroms=[str(chrom)]#training_chroms\n",
    "#)\n",
    "er_index = pd.read_pickle(embedding_dir+'/rosetta_stone.pkl')"
   ]
  },
  {
   "cell_type": "code",
   "execution_count": 83,
   "id": "9c050589-8330-43dc-858e-57c9811bed32",
   "metadata": {},
   "outputs": [],
   "source": [
    "dist_compare = DistanceCompare(config_ds,indices=er_index[chrom],device='cuda' if torch.cuda.is_available() else None)#er.index)\n",
    "#dist_compare.load_sample('/home/gridsan/gschuette/refining_scHiC/revamp_with_zhuohan/code/benchmarking/origami_sample1.pkl')\n",
    "#dist_compare.set_exp_maps(0)\n",
    "dist_compare.load_sample('/home/gridsan/gschuette/refining_scHiC/revamp_with_zhuohan/data/samples/origami_64_no_embed_reduction/sample_330_3.0_0.5_120_1.pt')\n",
    "dist_compare.set_exp_maps(330)\n",
    "comparisons = dist_compare.dist_compare()"
   ]
  },
  {
   "cell_type": "code",
   "execution_count": 84,
   "id": "d957b78e-cd3d-4511-9080-54577c37d309",
   "metadata": {},
   "outputs": [
    {
     "data": {
      "image/png": "[encoded data removed]",
      "text/plain": [
       "<Figure size 640x480 with 1 Axes>"
      ]
     },
     "metadata": {},
     "output_type": "display_data"
    }
   ],
   "source": [
    "dist_compare.compare_specific_separation(10);#,bins=torch.arange(0,10,.05).numpy());"
   ]
  },
  {
   "cell_type": "code",
   "execution_count": 85,
   "id": "ae0628a6-f160-4319-beb8-9159a4b6c4aa",
   "metadata": {},
   "outputs": [
    {
     "data": {
      "image/png": "[encoded data removed]",
      "text/plain": [
       "<Figure size 640x480 with 1 Axes>"
      ]
     },
     "metadata": {},
     "output_type": "display_data"
    }
   ],
   "source": [
    "comparisons = dist_compare.dist_compare([(40,45),(41,45),(42,45),(43,45)],True)"
   ]
  },
  {
   "cell_type": "markdown",
   "id": "c506e9eb-0023-4a9b-86aa-1bb36677befd",
   "metadata": {},
   "source": [
    "#### Systematically compare guidance strengths, rescalings"
   ]
  },
  {
   "cell_type": "code",
   "execution_count": 86,
   "id": "e57c2268-9c17-4001-a464-cb1bf6125eb8",
   "metadata": {},
   "outputs": [],
   "source": [
    "from parse_sample_filenames import get_all_sample_types\n",
    "import os\n",
    "from tqdm.auto import tqdm\n",
    "\n",
    "# Kolmogorov-Smirnov test\n",
    "from scipy.stats import kstest\n",
    "from scipy.stats._stats_py import KstestResult"
   ]
  },
  {
   "cell_type": "code",
   "execution_count": 87,
   "id": "a2c2e710-9d15-4c56-9651-f70b3971a09d",
   "metadata": {},
   "outputs": [],
   "source": [
    "\n",
    "sample_dir = '../../data/samples/origami_64_no_embed_reduction/'\n",
    "\n",
    "def sample_filepath(\n",
    "    sample_dir,\n",
    "    region_idx,\n",
    "    guidance_strength,\n",
    "    rescaled_phi,\n",
    "    milestone,\n",
    "    chrom\n",
    "):\n",
    "    fp = sample_dir + f'/sample_{region_idx}_{guidance_strength}_{rescaled_phi}_{milestone}_{chrom}.pt'\n",
    "    if os.path.exists(fp):\n",
    "        return fp\n",
    "    else:\n",
    "        return fp.replace('.pt','.pkl')\n",
    "\n",
    "def update_sample(\n",
    "    dist_compare,\n",
    "    sample_dir,\n",
    "    region_idx,\n",
    "    guidance_strength,\n",
    "    rescaled_phi,\n",
    "    milestone,\n",
    "    chrom\n",
    "):\n",
    "    dist_compare.load_sample(sample_filepath(sample_dir,region_idx,guidance_strength,rescaled_phi,milestone,chrom))\n",
    "\n",
    "\n",
    "def get_KS_scores(\n",
    "    dist_compare,\n",
    "    sample_dir,\n",
    "    region_idx,\n",
    "    guidance_strength,\n",
    "    rescaled_phi,\n",
    "    milestone,\n",
    "    chrom\n",
    "):\n",
    "    # Update the sample we're analyzing\n",
    "    dist_compare.load_sample(\n",
    "        sample_filepath(sample_dir,region_idx,guidance_strength,rescaled_phi,milestone,chrom)\n",
    "    )\n",
    "\n",
    "    dist_compare.set_exp_maps(region_idx)\n",
    "\n",
    "    # Get the set of distances associated with each interaction from both the reference (Tan) data\n",
    "    # and the generated configurations\n",
    "    distance_data = dist_compare.dist_compare()\n",
    "\n",
    "    # Kolmogorov-Smirnov test for each interaction\n",
    "    scores = {\n",
    "        key:kstest(item[1].cpu(),item[0].cpu()) for key,item in distance_data.items()\n",
    "    }\n",
    "    \n",
    "    return scores\n",
    "\n",
    "def mean_score(scores_dict):\n",
    "    return torch.cat([\n",
    "        torch.tensor(item.statistic).reshape(1) for _,item in scores_dict.items()\n",
    "    ]).mean()\n",
    "\n",
    "def full_mean_score(scored_dict):\n",
    "\n",
    "    if type(next(iter(scored_dict.items()))[1]) == KstestResult:\n",
    "        return mean_score(scored_dict)\n",
    "\n",
    "    temp_dict = {}\n",
    "    i = 0\n",
    "    for _,inner_dict in scored_dict.items():\n",
    "        for _,score in inner_dict.items():\n",
    "            temp_dict[i] = score\n",
    "            i+= 1\n",
    "    return full_mean_score(temp_dict)\n",
    "\n",
    "def weighted_mean_score(scored_dict):\n",
    "    \n",
    "    stats = torch.cat([\n",
    "        torch.tensor(item.statistic).reshape(1) for _,item in scored_dict.items()\n",
    "    ])\n",
    "    p_vals = torch.cat([\n",
    "        torch.tensor(item.pvalue).reshape(1) for _,item in scored_dict.items()\n",
    "    ])\n",
    "\n",
    "    return (stats * p_vals).sum() / p_vals.sum()\n",
    "\n",
    "def full_weighted_mean_score(scored_dict):\n",
    "\n",
    "    if type(next(iter(scored_dict.items()))[1]) == KstestResult:\n",
    "        return weighted_mean_score(scored_dict)\n",
    "\n",
    "    temp_dict = {}\n",
    "    i = 0\n",
    "    for _,inner_dict in scored_dict.items():\n",
    "        for _,score in inner_dict.items():\n",
    "            temp_dict[i] = score\n",
    "            i+= 1\n",
    "    return full_weighted_mean_score(temp_dict)\n",
    "\n",
    "def score_hist(scored_dict):\n",
    "\n",
    "    if type(next(iter(scored_dict.items()))[1]) != KstestResult:\n",
    "        temp_dict = {}\n",
    "        i = 0\n",
    "        for _,inner_dict in scored_dict.items():\n",
    "            for _,score in inner_dict.items():\n",
    "                temp_dict[i] = score\n",
    "                i+= 1\n",
    "        return score_hist(temp_dict)\n",
    "\n",
    "    \n",
    "    \n",
    "\n",
    "def get_unique_scale_rescale_pairs(sample_descriptions):\n",
    "    return sample_descriptions[['cond_scale','rescaled_phi']\n",
    "    ].drop_duplicates(ignore_index=True)\n",
    "    \n",
    "def compare_all(\n",
    "    dist_compare,\n",
    "    sample_dir,\n",
    "    **kwargs\n",
    "):\n",
    "    print('a')\n",
    "    sample_descriptions = pd.DataFrame(\n",
    "        columns = ['region_idx','cond_scale','rescaled_phi','milestone','chrom'],\n",
    "        data = get_all_sample_types(sample_dir,**kwargs)\n",
    "    )\n",
    "    print('b')\n",
    "    unique_scale_rescale_pairs = get_unique_scale_rescale_pairs(sample_descriptions)\n",
    "    print('c')\n",
    "    results = {}\n",
    "    #for _,unique_pair in unique_scale_rescale_pairs.iterrows():\n",
    "    for _,unique_pair in tqdm(unique_scale_rescale_pairs.iterrows(),desc='Outer Loop',total=len(unique_scale_rescale_pairs)):\n",
    "        cs,rp = unique_pair.cond_scale, unique_pair.rescaled_phi\n",
    "        \n",
    "        temp_descriptions = sample_descriptions[\n",
    "            (sample_descriptions.cond_scale == cs)&\n",
    "            (sample_descriptions.rescaled_phi == rp)\n",
    "        ]\n",
    "\n",
    "        r = {}\n",
    "        #for _,row in temp_descriptions.iterrows():\n",
    "        for _,row in tqdm(temp_descriptions.iterrows(),desc='Inner Loop',total=len(temp_descriptions),leave=None):\n",
    "            v = tuple(row.values)\n",
    "            r[v] = get_KS_scores(dist_compare,sample_dir,*v)\n",
    "            \n",
    "        results[(cs,rp)] = r\n",
    "    return results\n",
    "    \n",
    "    \n",
    "\n"
   ]
  },
  {
   "cell_type": "code",
   "execution_count": 88,
   "id": "1790859d-a33f-490d-b13d-7ee6ee9af77e",
   "metadata": {},
   "outputs": [
    {
     "name": "stdout",
     "output_type": "stream",
     "text": [
      "a\n",
      "b\n",
      "c\n"
     ]
    },
    {
     "data": {
      "application/vnd.jupyter.widget-view+json": {
       "model_id": "1dfadeb0755c4c78b61df68e2a7bf8d2",
       "version_major": 2,
       "version_minor": 0
      },
      "text/plain": [
       "Outer Loop:   0%|          | 0/96 [00:00<?, ?it/s]"
      ]
     },
     "metadata": {},
     "output_type": "display_data"
    },
    {
     "data": {
      "application/vnd.jupyter.widget-view+json": {
       "model_id": "",
       "version_major": 2,
       "version_minor": 0
      },
      "text/plain": [
       "Inner Loop:   0%|          | 0/19 [00:00<?, ?it/s]"
      ]
     },
     "metadata": {},
     "output_type": "display_data"
    },
    {
     "data": {
      "application/vnd.jupyter.widget-view+json": {
       "model_id": "",
       "version_major": 2,
       "version_minor": 0
      },
      "text/plain": [
       "Inner Loop:   0%|          | 0/19 [00:00<?, ?it/s]"
      ]
     },
     "metadata": {},
     "output_type": "display_data"
    },
    {
     "data": {
      "application/vnd.jupyter.widget-view+json": {
       "model_id": "",
       "version_major": 2,
       "version_minor": 0
      },
      "text/plain": [
       "Inner Loop:   0%|          | 0/19 [00:00<?, ?it/s]"
      ]
     },
     "metadata": {},
     "output_type": "display_data"
    },
    {
     "data": {
      "application/vnd.jupyter.widget-view+json": {
       "model_id": "",
       "version_major": 2,
       "version_minor": 0
      },
      "text/plain": [
       "Inner Loop:   0%|          | 0/19 [00:00<?, ?it/s]"
      ]
     },
     "metadata": {},
     "output_type": "display_data"
    },
    {
     "data": {
      "application/vnd.jupyter.widget-view+json": {
       "model_id": "",
       "version_major": 2,
       "version_minor": 0
      },
      "text/plain": [
       "Inner Loop:   0%|          | 0/19 [00:00<?, ?it/s]"
      ]
     },
     "metadata": {},
     "output_type": "display_data"
    },
    {
     "data": {
      "application/vnd.jupyter.widget-view+json": {
       "model_id": "",
       "version_major": 2,
       "version_minor": 0
      },
      "text/plain": [
       "Inner Loop:   0%|          | 0/19 [00:00<?, ?it/s]"
      ]
     },
     "metadata": {},
     "output_type": "display_data"
    },
    {
     "data": {
      "application/vnd.jupyter.widget-view+json": {
       "model_id": "",
       "version_major": 2,
       "version_minor": 0
      },
      "text/plain": [
       "Inner Loop:   0%|          | 0/19 [00:00<?, ?it/s]"
      ]
     },
     "metadata": {},
     "output_type": "display_data"
    },
    {
     "data": {
      "application/vnd.jupyter.widget-view+json": {
       "model_id": "",
       "version_major": 2,
       "version_minor": 0
      },
      "text/plain": [
       "Inner Loop:   0%|          | 0/19 [00:00<?, ?it/s]"
      ]
     },
     "metadata": {},
     "output_type": "display_data"
    },
    {
     "data": {
      "application/vnd.jupyter.widget-view+json": {
       "model_id": "",
       "version_major": 2,
       "version_minor": 0
      },
      "text/plain": [
       "Inner Loop:   0%|          | 0/19 [00:00<?, ?it/s]"
      ]
     },
     "metadata": {},
     "output_type": "display_data"
    },
    {
     "data": {
      "application/vnd.jupyter.widget-view+json": {
       "model_id": "",
       "version_major": 2,
       "version_minor": 0
      },
      "text/plain": [
       "Inner Loop:   0%|          | 0/19 [00:00<?, ?it/s]"
      ]
     },
     "metadata": {},
     "output_type": "display_data"
    },
    {
     "data": {
      "application/vnd.jupyter.widget-view+json": {
       "model_id": "",
       "version_major": 2,
       "version_minor": 0
      },
      "text/plain": [
       "Inner Loop:   0%|          | 0/19 [00:00<?, ?it/s]"
      ]
     },
     "metadata": {},
     "output_type": "display_data"
    },
    {
     "data": {
      "application/vnd.jupyter.widget-view+json": {
       "model_id": "",
       "version_major": 2,
       "version_minor": 0
      },
      "text/plain": [
       "Inner Loop:   0%|          | 0/19 [00:00<?, ?it/s]"
      ]
     },
     "metadata": {},
     "output_type": "display_data"
    },
    {
     "data": {
      "application/vnd.jupyter.widget-view+json": {
       "model_id": "",
       "version_major": 2,
       "version_minor": 0
      },
      "text/plain": [
       "Inner Loop:   0%|          | 0/19 [00:00<?, ?it/s]"
      ]
     },
     "metadata": {},
     "output_type": "display_data"
    },
    {
     "data": {
      "application/vnd.jupyter.widget-view+json": {
       "model_id": "",
       "version_major": 2,
       "version_minor": 0
      },
      "text/plain": [
       "Inner Loop:   0%|          | 0/19 [00:00<?, ?it/s]"
      ]
     },
     "metadata": {},
     "output_type": "display_data"
    },
    {
     "data": {
      "application/vnd.jupyter.widget-view+json": {
       "model_id": "",
       "version_major": 2,
       "version_minor": 0
      },
      "text/plain": [
       "Inner Loop:   0%|          | 0/19 [00:00<?, ?it/s]"
      ]
     },
     "metadata": {},
     "output_type": "display_data"
    },
    {
     "data": {
      "application/vnd.jupyter.widget-view+json": {
       "model_id": "",
       "version_major": 2,
       "version_minor": 0
      },
      "text/plain": [
       "Inner Loop:   0%|          | 0/19 [00:00<?, ?it/s]"
      ]
     },
     "metadata": {},
     "output_type": "display_data"
    },
    {
     "data": {
      "application/vnd.jupyter.widget-view+json": {
       "model_id": "",
       "version_major": 2,
       "version_minor": 0
      },
      "text/plain": [
       "Inner Loop:   0%|          | 0/19 [00:00<?, ?it/s]"
      ]
     },
     "metadata": {},
     "output_type": "display_data"
    },
    {
     "data": {
      "application/vnd.jupyter.widget-view+json": {
       "model_id": "",
       "version_major": 2,
       "version_minor": 0
      },
      "text/plain": [
       "Inner Loop:   0%|          | 0/19 [00:00<?, ?it/s]"
      ]
     },
     "metadata": {},
     "output_type": "display_data"
    },
    {
     "data": {
      "application/vnd.jupyter.widget-view+json": {
       "model_id": "",
       "version_major": 2,
       "version_minor": 0
      },
      "text/plain": [
       "Inner Loop:   0%|          | 0/19 [00:00<?, ?it/s]"
      ]
     },
     "metadata": {},
     "output_type": "display_data"
    },
    {
     "data": {
      "application/vnd.jupyter.widget-view+json": {
       "model_id": "",
       "version_major": 2,
       "version_minor": 0
      },
      "text/plain": [
       "Inner Loop:   0%|          | 0/19 [00:00<?, ?it/s]"
      ]
     },
     "metadata": {},
     "output_type": "display_data"
    },
    {
     "data": {
      "application/vnd.jupyter.widget-view+json": {
       "model_id": "",
       "version_major": 2,
       "version_minor": 0
      },
      "text/plain": [
       "Inner Loop:   0%|          | 0/19 [00:00<?, ?it/s]"
      ]
     },
     "metadata": {},
     "output_type": "display_data"
    },
    {
     "data": {
      "application/vnd.jupyter.widget-view+json": {
       "model_id": "",
       "version_major": 2,
       "version_minor": 0
      },
      "text/plain": [
       "Inner Loop:   0%|          | 0/19 [00:00<?, ?it/s]"
      ]
     },
     "metadata": {},
     "output_type": "display_data"
    },
    {
     "data": {
      "application/vnd.jupyter.widget-view+json": {
       "model_id": "",
       "version_major": 2,
       "version_minor": 0
      },
      "text/plain": [
       "Inner Loop:   0%|          | 0/19 [00:00<?, ?it/s]"
      ]
     },
     "metadata": {},
     "output_type": "display_data"
    },
    {
     "data": {
      "application/vnd.jupyter.widget-view+json": {
       "model_id": "",
       "version_major": 2,
       "version_minor": 0
      },
      "text/plain": [
       "Inner Loop:   0%|          | 0/19 [00:00<?, ?it/s]"
      ]
     },
     "metadata": {},
     "output_type": "display_data"
    },
    {
     "data": {
      "application/vnd.jupyter.widget-view+json": {
       "model_id": "",
       "version_major": 2,
       "version_minor": 0
      },
      "text/plain": [
       "Inner Loop:   0%|          | 0/19 [00:00<?, ?it/s]"
      ]
     },
     "metadata": {},
     "output_type": "display_data"
    },
    {
     "data": {
      "application/vnd.jupyter.widget-view+json": {
       "model_id": "",
       "version_major": 2,
       "version_minor": 0
      },
      "text/plain": [
       "Inner Loop:   0%|          | 0/19 [00:00<?, ?it/s]"
      ]
     },
     "metadata": {},
     "output_type": "display_data"
    },
    {
     "data": {
      "application/vnd.jupyter.widget-view+json": {
       "model_id": "",
       "version_major": 2,
       "version_minor": 0
      },
      "text/plain": [
       "Inner Loop:   0%|          | 0/19 [00:00<?, ?it/s]"
      ]
     },
     "metadata": {},
     "output_type": "display_data"
    },
    {
     "data": {
      "application/vnd.jupyter.widget-view+json": {
       "model_id": "",
       "version_major": 2,
       "version_minor": 0
      },
      "text/plain": [
       "Inner Loop:   0%|          | 0/19 [00:00<?, ?it/s]"
      ]
     },
     "metadata": {},
     "output_type": "display_data"
    },
    {
     "data": {
      "application/vnd.jupyter.widget-view+json": {
       "model_id": "",
       "version_major": 2,
       "version_minor": 0
      },
      "text/plain": [
       "Inner Loop:   0%|          | 0/19 [00:00<?, ?it/s]"
      ]
     },
     "metadata": {},
     "output_type": "display_data"
    },
    {
     "data": {
      "application/vnd.jupyter.widget-view+json": {
       "model_id": "",
       "version_major": 2,
       "version_minor": 0
      },
      "text/plain": [
       "Inner Loop:   0%|          | 0/19 [00:00<?, ?it/s]"
      ]
     },
     "metadata": {},
     "output_type": "display_data"
    },
    {
     "data": {
      "application/vnd.jupyter.widget-view+json": {
       "model_id": "",
       "version_major": 2,
       "version_minor": 0
      },
      "text/plain": [
       "Inner Loop:   0%|          | 0/19 [00:00<?, ?it/s]"
      ]
     },
     "metadata": {},
     "output_type": "display_data"
    },
    {
     "data": {
      "application/vnd.jupyter.widget-view+json": {
       "model_id": "",
       "version_major": 2,
       "version_minor": 0
      },
      "text/plain": [
       "Inner Loop:   0%|          | 0/19 [00:00<?, ?it/s]"
      ]
     },
     "metadata": {},
     "output_type": "display_data"
    },
    {
     "data": {
      "application/vnd.jupyter.widget-view+json": {
       "model_id": "",
       "version_major": 2,
       "version_minor": 0
      },
      "text/plain": [
       "Inner Loop:   0%|          | 0/19 [00:00<?, ?it/s]"
      ]
     },
     "metadata": {},
     "output_type": "display_data"
    },
    {
     "data": {
      "application/vnd.jupyter.widget-view+json": {
       "model_id": "",
       "version_major": 2,
       "version_minor": 0
      },
      "text/plain": [
       "Inner Loop:   0%|          | 0/19 [00:00<?, ?it/s]"
      ]
     },
     "metadata": {},
     "output_type": "display_data"
    },
    {
     "data": {
      "application/vnd.jupyter.widget-view+json": {
       "model_id": "",
       "version_major": 2,
       "version_minor": 0
      },
      "text/plain": [
       "Inner Loop:   0%|          | 0/19 [00:00<?, ?it/s]"
      ]
     },
     "metadata": {},
     "output_type": "display_data"
    },
    {
     "data": {
      "application/vnd.jupyter.widget-view+json": {
       "model_id": "",
       "version_major": 2,
       "version_minor": 0
      },
      "text/plain": [
       "Inner Loop:   0%|          | 0/19 [00:00<?, ?it/s]"
      ]
     },
     "metadata": {},
     "output_type": "display_data"
    },
    {
     "data": {
      "application/vnd.jupyter.widget-view+json": {
       "model_id": "",
       "version_major": 2,
       "version_minor": 0
      },
      "text/plain": [
       "Inner Loop:   0%|          | 0/19 [00:00<?, ?it/s]"
      ]
     },
     "metadata": {},
     "output_type": "display_data"
    },
    {
     "data": {
      "application/vnd.jupyter.widget-view+json": {
       "model_id": "",
       "version_major": 2,
       "version_minor": 0
      },
      "text/plain": [
       "Inner Loop:   0%|          | 0/19 [00:00<?, ?it/s]"
      ]
     },
     "metadata": {},
     "output_type": "display_data"
    },
    {
     "data": {
      "application/vnd.jupyter.widget-view+json": {
       "model_id": "",
       "version_major": 2,
       "version_minor": 0
      },
      "text/plain": [
       "Inner Loop:   0%|          | 0/19 [00:00<?, ?it/s]"
      ]
     },
     "metadata": {},
     "output_type": "display_data"
    },
    {
     "data": {
      "application/vnd.jupyter.widget-view+json": {
       "model_id": "",
       "version_major": 2,
       "version_minor": 0
      },
      "text/plain": [
       "Inner Loop:   0%|          | 0/19 [00:00<?, ?it/s]"
      ]
     },
     "metadata": {},
     "output_type": "display_data"
    },
    {
     "data": {
      "application/vnd.jupyter.widget-view+json": {
       "model_id": "",
       "version_major": 2,
       "version_minor": 0
      },
      "text/plain": [
       "Inner Loop:   0%|          | 0/19 [00:00<?, ?it/s]"
      ]
     },
     "metadata": {},
     "output_type": "display_data"
    },
    {
     "data": {
      "application/vnd.jupyter.widget-view+json": {
       "model_id": "",
       "version_major": 2,
       "version_minor": 0
      },
      "text/plain": [
       "Inner Loop:   0%|          | 0/19 [00:00<?, ?it/s]"
      ]
     },
     "metadata": {},
     "output_type": "display_data"
    },
    {
     "data": {
      "application/vnd.jupyter.widget-view+json": {
       "model_id": "",
       "version_major": 2,
       "version_minor": 0
      },
      "text/plain": [
       "Inner Loop:   0%|          | 0/19 [00:00<?, ?it/s]"
      ]
     },
     "metadata": {},
     "output_type": "display_data"
    },
    {
     "data": {
      "application/vnd.jupyter.widget-view+json": {
       "model_id": "",
       "version_major": 2,
       "version_minor": 0
      },
      "text/plain": [
       "Inner Loop:   0%|          | 0/19 [00:00<?, ?it/s]"
      ]
     },
     "metadata": {},
     "output_type": "display_data"
    },
    {
     "data": {
      "application/vnd.jupyter.widget-view+json": {
       "model_id": "",
       "version_major": 2,
       "version_minor": 0
      },
      "text/plain": [
       "Inner Loop:   0%|          | 0/19 [00:00<?, ?it/s]"
      ]
     },
     "metadata": {},
     "output_type": "display_data"
    },
    {
     "data": {
      "application/vnd.jupyter.widget-view+json": {
       "model_id": "",
       "version_major": 2,
       "version_minor": 0
      },
      "text/plain": [
       "Inner Loop:   0%|          | 0/19 [00:00<?, ?it/s]"
      ]
     },
     "metadata": {},
     "output_type": "display_data"
    },
    {
     "data": {
      "application/vnd.jupyter.widget-view+json": {
       "model_id": "",
       "version_major": 2,
       "version_minor": 0
      },
      "text/plain": [
       "Inner Loop:   0%|          | 0/19 [00:00<?, ?it/s]"
      ]
     },
     "metadata": {},
     "output_type": "display_data"
    },
    {
     "data": {
      "application/vnd.jupyter.widget-view+json": {
       "model_id": "",
       "version_major": 2,
       "version_minor": 0
      },
      "text/plain": [
       "Inner Loop:   0%|          | 0/19 [00:00<?, ?it/s]"
      ]
     },
     "metadata": {},
     "output_type": "display_data"
    },
    {
     "data": {
      "application/vnd.jupyter.widget-view+json": {
       "model_id": "",
       "version_major": 2,
       "version_minor": 0
      },
      "text/plain": [
       "Inner Loop:   0%|          | 0/19 [00:00<?, ?it/s]"
      ]
     },
     "metadata": {},
     "output_type": "display_data"
    },
    {
     "data": {
      "application/vnd.jupyter.widget-view+json": {
       "model_id": "",
       "version_major": 2,
       "version_minor": 0
      },
      "text/plain": [
       "Inner Loop:   0%|          | 0/19 [00:00<?, ?it/s]"
      ]
     },
     "metadata": {},
     "output_type": "display_data"
    },
    {
     "data": {
      "application/vnd.jupyter.widget-view+json": {
       "model_id": "",
       "version_major": 2,
       "version_minor": 0
      },
      "text/plain": [
       "Inner Loop:   0%|          | 0/19 [00:00<?, ?it/s]"
      ]
     },
     "metadata": {},
     "output_type": "display_data"
    },
    {
     "data": {
      "application/vnd.jupyter.widget-view+json": {
       "model_id": "",
       "version_major": 2,
       "version_minor": 0
      },
      "text/plain": [
       "Inner Loop:   0%|          | 0/19 [00:00<?, ?it/s]"
      ]
     },
     "metadata": {},
     "output_type": "display_data"
    },
    {
     "data": {
      "application/vnd.jupyter.widget-view+json": {
       "model_id": "",
       "version_major": 2,
       "version_minor": 0
      },
      "text/plain": [
       "Inner Loop:   0%|          | 0/13 [00:00<?, ?it/s]"
      ]
     },
     "metadata": {},
     "output_type": "display_data"
    },
    {
     "data": {
      "application/vnd.jupyter.widget-view+json": {
       "model_id": "",
       "version_major": 2,
       "version_minor": 0
      },
      "text/plain": [
       "Inner Loop:   0%|          | 0/8 [00:00<?, ?it/s]"
      ]
     },
     "metadata": {},
     "output_type": "display_data"
    },
    {
     "data": {
      "application/vnd.jupyter.widget-view+json": {
       "model_id": "",
       "version_major": 2,
       "version_minor": 0
      },
      "text/plain": [
       "Inner Loop:   0%|          | 0/8 [00:00<?, ?it/s]"
      ]
     },
     "metadata": {},
     "output_type": "display_data"
    },
    {
     "data": {
      "application/vnd.jupyter.widget-view+json": {
       "model_id": "",
       "version_major": 2,
       "version_minor": 0
      },
      "text/plain": [
       "Inner Loop:   0%|          | 0/8 [00:00<?, ?it/s]"
      ]
     },
     "metadata": {},
     "output_type": "display_data"
    },
    {
     "data": {
      "application/vnd.jupyter.widget-view+json": {
       "model_id": "",
       "version_major": 2,
       "version_minor": 0
      },
      "text/plain": [
       "Inner Loop:   0%|          | 0/8 [00:00<?, ?it/s]"
      ]
     },
     "metadata": {},
     "output_type": "display_data"
    },
    {
     "data": {
      "application/vnd.jupyter.widget-view+json": {
       "model_id": "",
       "version_major": 2,
       "version_minor": 0
      },
      "text/plain": [
       "Inner Loop:   0%|          | 0/8 [00:00<?, ?it/s]"
      ]
     },
     "metadata": {},
     "output_type": "display_data"
    },
    {
     "data": {
      "application/vnd.jupyter.widget-view+json": {
       "model_id": "",
       "version_major": 2,
       "version_minor": 0
      },
      "text/plain": [
       "Inner Loop:   0%|          | 0/8 [00:00<?, ?it/s]"
      ]
     },
     "metadata": {},
     "output_type": "display_data"
    },
    {
     "data": {
      "application/vnd.jupyter.widget-view+json": {
       "model_id": "",
       "version_major": 2,
       "version_minor": 0
      },
      "text/plain": [
       "Inner Loop:   0%|          | 0/8 [00:00<?, ?it/s]"
      ]
     },
     "metadata": {},
     "output_type": "display_data"
    },
    {
     "data": {
      "application/vnd.jupyter.widget-view+json": {
       "model_id": "",
       "version_major": 2,
       "version_minor": 0
      },
      "text/plain": [
       "Inner Loop:   0%|          | 0/8 [00:00<?, ?it/s]"
      ]
     },
     "metadata": {},
     "output_type": "display_data"
    },
    {
     "data": {
      "application/vnd.jupyter.widget-view+json": {
       "model_id": "",
       "version_major": 2,
       "version_minor": 0
      },
      "text/plain": [
       "Inner Loop:   0%|          | 0/8 [00:00<?, ?it/s]"
      ]
     },
     "metadata": {},
     "output_type": "display_data"
    },
    {
     "data": {
      "application/vnd.jupyter.widget-view+json": {
       "model_id": "",
       "version_major": 2,
       "version_minor": 0
      },
      "text/plain": [
       "Inner Loop:   0%|          | 0/8 [00:00<?, ?it/s]"
      ]
     },
     "metadata": {},
     "output_type": "display_data"
    },
    {
     "data": {
      "application/vnd.jupyter.widget-view+json": {
       "model_id": "",
       "version_major": 2,
       "version_minor": 0
      },
      "text/plain": [
       "Inner Loop:   0%|          | 0/8 [00:00<?, ?it/s]"
      ]
     },
     "metadata": {},
     "output_type": "display_data"
    },
    {
     "data": {
      "application/vnd.jupyter.widget-view+json": {
       "model_id": "",
       "version_major": 2,
       "version_minor": 0
      },
      "text/plain": [
       "Inner Loop:   0%|          | 0/8 [00:00<?, ?it/s]"
      ]
     },
     "metadata": {},
     "output_type": "display_data"
    },
    {
     "data": {
      "application/vnd.jupyter.widget-view+json": {
       "model_id": "",
       "version_major": 2,
       "version_minor": 0
      },
      "text/plain": [
       "Inner Loop:   0%|          | 0/8 [00:00<?, ?it/s]"
      ]
     },
     "metadata": {},
     "output_type": "display_data"
    },
    {
     "data": {
      "application/vnd.jupyter.widget-view+json": {
       "model_id": "",
       "version_major": 2,
       "version_minor": 0
      },
      "text/plain": [
       "Inner Loop:   0%|          | 0/8 [00:00<?, ?it/s]"
      ]
     },
     "metadata": {},
     "output_type": "display_data"
    },
    {
     "data": {
      "application/vnd.jupyter.widget-view+json": {
       "model_id": "",
       "version_major": 2,
       "version_minor": 0
      },
      "text/plain": [
       "Inner Loop:   0%|          | 0/8 [00:00<?, ?it/s]"
      ]
     },
     "metadata": {},
     "output_type": "display_data"
    },
    {
     "data": {
      "application/vnd.jupyter.widget-view+json": {
       "model_id": "",
       "version_major": 2,
       "version_minor": 0
      },
      "text/plain": [
       "Inner Loop:   0%|          | 0/8 [00:00<?, ?it/s]"
      ]
     },
     "metadata": {},
     "output_type": "display_data"
    },
    {
     "data": {
      "application/vnd.jupyter.widget-view+json": {
       "model_id": "",
       "version_major": 2,
       "version_minor": 0
      },
      "text/plain": [
       "Inner Loop:   0%|          | 0/8 [00:00<?, ?it/s]"
      ]
     },
     "metadata": {},
     "output_type": "display_data"
    },
    {
     "data": {
      "application/vnd.jupyter.widget-view+json": {
       "model_id": "",
       "version_major": 2,
       "version_minor": 0
      },
      "text/plain": [
       "Inner Loop:   0%|          | 0/8 [00:00<?, ?it/s]"
      ]
     },
     "metadata": {},
     "output_type": "display_data"
    },
    {
     "data": {
      "application/vnd.jupyter.widget-view+json": {
       "model_id": "",
       "version_major": 2,
       "version_minor": 0
      },
      "text/plain": [
       "Inner Loop:   0%|          | 0/8 [00:00<?, ?it/s]"
      ]
     },
     "metadata": {},
     "output_type": "display_data"
    },
    {
     "data": {
      "application/vnd.jupyter.widget-view+json": {
       "model_id": "",
       "version_major": 2,
       "version_minor": 0
      },
      "text/plain": [
       "Inner Loop:   0%|          | 0/8 [00:00<?, ?it/s]"
      ]
     },
     "metadata": {},
     "output_type": "display_data"
    },
    {
     "data": {
      "application/vnd.jupyter.widget-view+json": {
       "model_id": "",
       "version_major": 2,
       "version_minor": 0
      },
      "text/plain": [
       "Inner Loop:   0%|          | 0/8 [00:00<?, ?it/s]"
      ]
     },
     "metadata": {},
     "output_type": "display_data"
    },
    {
     "data": {
      "application/vnd.jupyter.widget-view+json": {
       "model_id": "",
       "version_major": 2,
       "version_minor": 0
      },
      "text/plain": [
       "Inner Loop:   0%|          | 0/8 [00:00<?, ?it/s]"
      ]
     },
     "metadata": {},
     "output_type": "display_data"
    },
    {
     "data": {
      "application/vnd.jupyter.widget-view+json": {
       "model_id": "",
       "version_major": 2,
       "version_minor": 0
      },
      "text/plain": [
       "Inner Loop:   0%|          | 0/8 [00:00<?, ?it/s]"
      ]
     },
     "metadata": {},
     "output_type": "display_data"
    },
    {
     "data": {
      "application/vnd.jupyter.widget-view+json": {
       "model_id": "",
       "version_major": 2,
       "version_minor": 0
      },
      "text/plain": [
       "Inner Loop:   0%|          | 0/8 [00:00<?, ?it/s]"
      ]
     },
     "metadata": {},
     "output_type": "display_data"
    },
    {
     "data": {
      "application/vnd.jupyter.widget-view+json": {
       "model_id": "",
       "version_major": 2,
       "version_minor": 0
      },
      "text/plain": [
       "Inner Loop:   0%|          | 0/8 [00:00<?, ?it/s]"
      ]
     },
     "metadata": {},
     "output_type": "display_data"
    },
    {
     "data": {
      "application/vnd.jupyter.widget-view+json": {
       "model_id": "",
       "version_major": 2,
       "version_minor": 0
      },
      "text/plain": [
       "Inner Loop:   0%|          | 0/8 [00:00<?, ?it/s]"
      ]
     },
     "metadata": {},
     "output_type": "display_data"
    },
    {
     "data": {
      "application/vnd.jupyter.widget-view+json": {
       "model_id": "",
       "version_major": 2,
       "version_minor": 0
      },
      "text/plain": [
       "Inner Loop:   0%|          | 0/8 [00:00<?, ?it/s]"
      ]
     },
     "metadata": {},
     "output_type": "display_data"
    },
    {
     "data": {
      "application/vnd.jupyter.widget-view+json": {
       "model_id": "",
       "version_major": 2,
       "version_minor": 0
      },
      "text/plain": [
       "Inner Loop:   0%|          | 0/8 [00:00<?, ?it/s]"
      ]
     },
     "metadata": {},
     "output_type": "display_data"
    },
    {
     "data": {
      "application/vnd.jupyter.widget-view+json": {
       "model_id": "",
       "version_major": 2,
       "version_minor": 0
      },
      "text/plain": [
       "Inner Loop:   0%|          | 0/8 [00:00<?, ?it/s]"
      ]
     },
     "metadata": {},
     "output_type": "display_data"
    },
    {
     "data": {
      "application/vnd.jupyter.widget-view+json": {
       "model_id": "",
       "version_major": 2,
       "version_minor": 0
      },
      "text/plain": [
       "Inner Loop:   0%|          | 0/8 [00:00<?, ?it/s]"
      ]
     },
     "metadata": {},
     "output_type": "display_data"
    },
    {
     "data": {
      "application/vnd.jupyter.widget-view+json": {
       "model_id": "",
       "version_major": 2,
       "version_minor": 0
      },
      "text/plain": [
       "Inner Loop:   0%|          | 0/8 [00:00<?, ?it/s]"
      ]
     },
     "metadata": {},
     "output_type": "display_data"
    },
    {
     "data": {
      "application/vnd.jupyter.widget-view+json": {
       "model_id": "",
       "version_major": 2,
       "version_minor": 0
      },
      "text/plain": [
       "Inner Loop:   0%|          | 0/8 [00:00<?, ?it/s]"
      ]
     },
     "metadata": {},
     "output_type": "display_data"
    },
    {
     "data": {
      "application/vnd.jupyter.widget-view+json": {
       "model_id": "",
       "version_major": 2,
       "version_minor": 0
      },
      "text/plain": [
       "Inner Loop:   0%|          | 0/8 [00:00<?, ?it/s]"
      ]
     },
     "metadata": {},
     "output_type": "display_data"
    },
    {
     "data": {
      "application/vnd.jupyter.widget-view+json": {
       "model_id": "",
       "version_major": 2,
       "version_minor": 0
      },
      "text/plain": [
       "Inner Loop:   0%|          | 0/8 [00:00<?, ?it/s]"
      ]
     },
     "metadata": {},
     "output_type": "display_data"
    },
    {
     "data": {
      "application/vnd.jupyter.widget-view+json": {
       "model_id": "",
       "version_major": 2,
       "version_minor": 0
      },
      "text/plain": [
       "Inner Loop:   0%|          | 0/8 [00:00<?, ?it/s]"
      ]
     },
     "metadata": {},
     "output_type": "display_data"
    },
    {
     "data": {
      "application/vnd.jupyter.widget-view+json": {
       "model_id": "",
       "version_major": 2,
       "version_minor": 0
      },
      "text/plain": [
       "Inner Loop:   0%|          | 0/8 [00:00<?, ?it/s]"
      ]
     },
     "metadata": {},
     "output_type": "display_data"
    },
    {
     "data": {
      "application/vnd.jupyter.widget-view+json": {
       "model_id": "",
       "version_major": 2,
       "version_minor": 0
      },
      "text/plain": [
       "Inner Loop:   0%|          | 0/8 [00:00<?, ?it/s]"
      ]
     },
     "metadata": {},
     "output_type": "display_data"
    },
    {
     "data": {
      "application/vnd.jupyter.widget-view+json": {
       "model_id": "",
       "version_major": 2,
       "version_minor": 0
      },
      "text/plain": [
       "Inner Loop:   0%|          | 0/8 [00:00<?, ?it/s]"
      ]
     },
     "metadata": {},
     "output_type": "display_data"
    },
    {
     "data": {
      "application/vnd.jupyter.widget-view+json": {
       "model_id": "",
       "version_major": 2,
       "version_minor": 0
      },
      "text/plain": [
       "Inner Loop:   0%|          | 0/6 [00:00<?, ?it/s]"
      ]
     },
     "metadata": {},
     "output_type": "display_data"
    },
    {
     "data": {
      "application/vnd.jupyter.widget-view+json": {
       "model_id": "",
       "version_major": 2,
       "version_minor": 0
      },
      "text/plain": [
       "Inner Loop:   0%|          | 0/6 [00:00<?, ?it/s]"
      ]
     },
     "metadata": {},
     "output_type": "display_data"
    },
    {
     "data": {
      "application/vnd.jupyter.widget-view+json": {
       "model_id": "",
       "version_major": 2,
       "version_minor": 0
      },
      "text/plain": [
       "Inner Loop:   0%|          | 0/6 [00:00<?, ?it/s]"
      ]
     },
     "metadata": {},
     "output_type": "display_data"
    },
    {
     "data": {
      "application/vnd.jupyter.widget-view+json": {
       "model_id": "",
       "version_major": 2,
       "version_minor": 0
      },
      "text/plain": [
       "Inner Loop:   0%|          | 0/6 [00:00<?, ?it/s]"
      ]
     },
     "metadata": {},
     "output_type": "display_data"
    },
    {
     "data": {
      "application/vnd.jupyter.widget-view+json": {
       "model_id": "",
       "version_major": 2,
       "version_minor": 0
      },
      "text/plain": [
       "Inner Loop:   0%|          | 0/6 [00:00<?, ?it/s]"
      ]
     },
     "metadata": {},
     "output_type": "display_data"
    }
   ],
   "source": [
    "results = compare_all(dist_compare,sample_dir,milestone=120)"
   ]
  },
  {
   "cell_type": "code",
   "execution_count": 89,
   "id": "e80784c1-2553-45b7-bfc3-0d41628fe575",
   "metadata": {},
   "outputs": [],
   "source": [
    "import numpy as np\n",
    "def best_mean_score(means):\n",
    "    a = np.array(list(map(lambda key: means[key],means)))\n",
    "    best = a.min()\n",
    "    idx = int(np.where(a==best)[0])\n",
    "    return list(means.keys())[idx], best"
   ]
  },
  {
   "cell_type": "code",
   "execution_count": 90,
   "id": "1023a6cc-389c-4120-9218-c0e457594733",
   "metadata": {},
   "outputs": [
    {
     "name": "stdout",
     "output_type": "stream",
     "text": [
      "Best result (0.20598213374614716) achieved with scale 0.5 and rescale 0.8\n"
     ]
    },
    {
     "data": {
      "image/png": "[encoded data removed]",
      "text/plain": [
       "<Figure size 640x480 with 2 Axes>"
      ]
     },
     "metadata": {},
     "output_type": "display_data"
    }
   ],
   "source": [
    "means = {}\n",
    "for ii in results: \n",
    "    #means[ii] = full_weighted_mean_score(results[ii])\n",
    "    means[ii] = full_mean_score(results[ii])\n",
    "    #print(f'{ii[0]}, {ii[1]}: {means[ii]}')\n",
    "\n",
    "cond_scales = np.unique([\n",
    "    ii[0] for ii in means\n",
    "])\n",
    "rescaled_phis = np.unique([\n",
    "    ii[1] for ii in means\n",
    "])\n",
    "\n",
    "results_2D = torch.empty(len(cond_scales),len(rescaled_phis))\n",
    "results_2D[:] = torch.nan\n",
    "for i,cs in enumerate(cond_scales):\n",
    "    for j,rp in enumerate(rescaled_phis):\n",
    "        if (cs,rp) in means: \n",
    "            results_2D[i,j] = means[(cs,rp)]\n",
    "\n",
    "fig = plt.figure()\n",
    "ax = fig.add_subplot(111) \n",
    "im = ax.matshow(results_2D)\n",
    "cbar = fig.colorbar(im,label='Kolmogorov-Smirnov Statistic')\n",
    "\n",
    "ax.set_xticks(list(range(len(rescaled_phis))))\n",
    "ax.set_xticklabels([str(rp) for rp in rescaled_phis])\n",
    "ax.set_yticks(list(range(len(cond_scales))))\n",
    "ax.set_yticklabels([str(cs) for cs in cond_scales])\n",
    "\n",
    "ax.set_xlabel('Rescaled Phi')\n",
    "ax.set_ylabel('Guidance Strength')\n",
    "\n",
    "(cond_scale,rescaled_phi),min_statistic = best_mean_score(means)\n",
    "print(f'Best result ({min_statistic}) achieved with scale {cond_scale} and rescale {rescaled_phi}')"
   ]
  },
  {
   "cell_type": "code",
   "execution_count": 91,
   "id": "9d236a16-02de-4651-9f7f-3ce000a08323",
   "metadata": {},
   "outputs": [
    {
     "name": "stdout",
     "output_type": "stream",
     "text": [
      "Best result (0.1302025957949732) achieved with scale 1.0 and rescale 0.0\n"
     ]
    },
    {
     "data": {
      "image/png": "[encoded data removed]",
      "text/plain": [
       "<Figure size 640x480 with 2 Axes>"
      ]
     },
     "metadata": {},
     "output_type": "display_data"
    }
   ],
   "source": [
    "means = {}\n",
    "for ii in results: \n",
    "    means[ii] = full_weighted_mean_score(results[ii])\n",
    "    #means[ii] = full_mean_score(results[ii])\n",
    "    #print(f'{ii[0]}, {ii[1]}: {means[ii]}')\n",
    "\n",
    "import numpy as np\n",
    "cond_scales = np.unique([\n",
    "    ii[0] for ii in means\n",
    "])\n",
    "rescaled_phis = np.unique([\n",
    "    ii[1] for ii in means\n",
    "])\n",
    "\n",
    "results_2D = torch.empty(len(cond_scales),len(rescaled_phis))\n",
    "results_2D[:] = torch.nan\n",
    "for i,cs in enumerate(cond_scales):\n",
    "    for j,rp in enumerate(rescaled_phis):\n",
    "        if (cs,rp) in means: \n",
    "            results_2D[i,j] = means[(cs,rp)]\n",
    "\n",
    "fig = plt.figure()\n",
    "ax = fig.add_subplot(111) \n",
    "im = ax.matshow(results_2D)\n",
    "cbar = fig.colorbar(im,label='Kolmogorov-Smirnov Statistic')\n",
    "\n",
    "ax.set_xticks(list(range(len(rescaled_phis))))\n",
    "ax.set_xticklabels([str(rp) for rp in rescaled_phis])\n",
    "ax.set_yticks(list(range(len(cond_scales))))\n",
    "ax.set_yticklabels([str(cs) for cs in cond_scales])\n",
    "\n",
    "ax.set_xlabel('Rescaled Phi')\n",
    "ax.set_ylabel('Guidance Strength')\n",
    "\n",
    "(cond_scale,rescaled_phi),min_statistic = best_mean_score(means)\n",
    "print(f'Best result ({min_statistic}) achieved with scale {cond_scale} and rescale {rescaled_phi}')"
   ]
  },
  {
   "cell_type": "code",
   "execution_count": null,
   "id": "4efb7bf6-282c-4c69-adb4-4b054d247410",
   "metadata": {},
   "outputs": [],
   "source": []
  },
  {
   "cell_type": "code",
   "execution_count": null,
   "id": "43325909-a7e5-481a-b73c-84554e917190",
   "metadata": {},
   "outputs": [],
   "source": []
  },
  {
   "cell_type": "code",
   "execution_count": null,
   "id": "b6199e48-32d2-4347-b92f-9287e7c6a1e7",
   "metadata": {},
   "outputs": [],
   "source": []
  },
  {
   "cell_type": "code",
   "execution_count": null,
   "id": "104a0085-868b-4de2-bb2a-25b0b3d3a1f8",
   "metadata": {},
   "outputs": [],
   "source": []
  },
  {
   "cell_type": "code",
   "execution_count": null,
   "id": "6a1db181-fedd-4ffe-ba06-2f6ea004aa0d",
   "metadata": {},
   "outputs": [],
   "source": []
  },
  {
   "cell_type": "code",
   "execution_count": null,
   "id": "c2fabd2f-9655-4417-a23d-d08314e91be9",
   "metadata": {},
   "outputs": [],
   "source": []
  },
  {
   "cell_type": "code",
   "execution_count": null,
   "id": "4b19e8a5-3065-43ad-a8d7-db116719a9e9",
   "metadata": {},
   "outputs": [],
   "source": []
  },
  {
   "cell_type": "code",
   "execution_count": null,
   "id": "378e53ec-5a56-4361-a143-5ace565c2b29",
   "metadata": {},
   "outputs": [],
   "source": []
  },
  {
   "cell_type": "code",
   "execution_count": null,
   "id": "4533ee51-af72-4096-9b3e-6df3e0c0f15d",
   "metadata": {},
   "outputs": [],
   "source": []
  },
  {
   "cell_type": "code",
   "execution_count": null,
   "id": "87cbed50-4759-405f-b4ba-69468a738ef2",
   "metadata": {},
   "outputs": [],
   "source": []
  },
  {
   "cell_type": "code",
   "execution_count": null,
   "id": "fdbfb954-e770-410b-b578-31c697bbfa6a",
   "metadata": {},
   "outputs": [],
   "source": []
  },
  {
   "cell_type": "markdown",
   "id": "7c95d06f-628a-4798-8ee0-5c5157ead8b0",
   "metadata": {},
   "source": [
    "#### Compare Guided"
   ]
  },
  {
   "cell_type": "code",
   "execution_count": null,
   "id": "6a48352a-488f-4934-b233-ec0ecbe6e798",
   "metadata": {},
   "outputs": [],
   "source": [
    "milestone=120\n",
    "from HiCDataset import HiCDataset\n",
    "from HiCMap import HiCMap\n",
    "exp_hic = HiCDataset()"
   ]
  },
  {
   "cell_type": "code",
   "execution_count": null,
   "id": "057d1cdd-5da1-4a01-acd2-2e07b8cbb95a",
   "metadata": {},
   "outputs": [],
   "source": [
    "def fp(region_idx,cond_scale,rescaled_phi,milestone,chrom,save_dir):\n",
    "    if region_idx == 1: \n",
    "        return save_dir + f'sample_{region_idx}_{int(cond_scale)}_{0}_{milestone}_{chrom}.pkl'\n",
    "    else:\n",
    "        return save_dir + f'sample_{region_idx}_{int(cond_scale)}_{int(10*rescaled_phi)}_{milestone}_{chrom}.pkl'\n",
    "\n",
    "def compare_guided_dists(\n",
    "    region_idx,\n",
    "    cond_scale=1,\n",
    "    rescaled_phi=0,\n",
    "    dist_compare=dist_compare,\n",
    "    milestone=milestone,\n",
    "    chrom='1',\n",
    "    genomic_position=0,\n",
    "    separation_list = list(range(1,segment_length,10)),\n",
    "    **kwargs\n",
    "):\n",
    "\n",
    "    figs_axes = {}\n",
    "    for separation in separation_list: \n",
    "        _,fig,ax = dist_compare.compare_specific_separation(separation,**kwargs)\n",
    "        ax.set_xlabel('Distance')\n",
    "        ax.set_ylabel('Probability Density')\n",
    "\n",
    "        ax.set_title(\n",
    "            f'Guided Generation vs Experimental Distances: {separation} Bond{\"s\" if separation!=1 else \"\"} Between Beads\\n'+\n",
    "            f'Chrom {chrom}: {genomic_position}-{genomic_position+segment_length*20_000}\\n'+\n",
    "            f'Conditional Scale: {cond_scale}; Rescaled $\\\\phi$: {rescaled_phi}'\n",
    "        )\n",
    "        figs_axes[separation] = {\n",
    "            'fig':fig,\n",
    "            'ax':ax\n",
    "        }\n",
    "\n",
    "    return figs_axes\n",
    "\n",
    "def get_exp_map(region_idx,exp_hic=exp_hic,emb_idx=er.index,interp_nans=True): \n",
    "\n",
    "    # Get the region information from the embedding index used during sample generation\n",
    "    region_length, chrom, start = emb_idx[region_idx]\n",
    "    stop = start + region_length\n",
    "    \n",
    "    return exp_hic.fetch(chrom=chrom,start=start,stop=stop,interp_nans=interp_nans)\n",
    "\n",
    "def tanh_map(sample,r_c,sigma):\n",
    "    '''\n",
    "    Avoids using the distance correction approach\n",
    "    '''\n",
    "    if type(sample) == Sample:\n",
    "        if sample.normalized: \n",
    "            sample.unnormalize_()\n",
    "        r = sample.batch.clone()\n",
    "    else:\n",
    "        r = sample.clone()\n",
    "\n",
    "    mask = r < r_c \n",
    "    r[mask] = .5*( 1 + torch.tanh( sigma*( r_c - r[mask] ) ) )\n",
    "    mask^= True\n",
    "    r[mask] = .5 * ( r_c / r[mask] )**4\n",
    "    \n",
    "    return HiCMap(r.mean(0).squeeze(),includes_self_interaction=False)\n",
    "\n",
    "def compare_guided(\n",
    "    region_idx,\n",
    "    cond_scale=1,\n",
    "    rescaled_phi=0,\n",
    "    dist_compare=dist_compare,\n",
    "    milestone=milestone,\n",
    "    chrom='1',\n",
    "    sample_dir='/home/gridsan/gschuette/refining_scHiC/revamp_with_zhuohan/data/samples/origami/',\n",
    "    separation_list = list(range(1,segment_length,10)),\n",
    "    r_c = 1.75,\n",
    "    sigma = 3.5,\n",
    "    threshold = 2,\n",
    "    hic_approach = 'tanh',\n",
    "    **kwargs\n",
    "):\n",
    "\n",
    "    dist_compare.load_sample(fp(region_idx,cond_scale,rescaled_phi,milestone,chrom,sample_dir))\n",
    "    dist_compare.set_exp_maps(region_idx)\n",
    "    \n",
    "    _,chrom1,genomic_position = dist_compare.idx[region_idx]\n",
    "    assert chrom1==chrom, f'User provided chrom {chrom}, index provided {chrom1}'\n",
    "\n",
    "    figs_axes = compare_guided_dists(region_idx,cond_scale,rescaled_phi,dist_compare,milestone,chrom,genomic_position,separation_list,**kwargs)\n",
    "\n",
    "    dist_compare.gen_configs.unflatten_()\n",
    "    assert len(dist_compare.gen_configs.batch.shape) > 1\n",
    "    if len(dist_compare.gen_configs.batch.shape) == 2:\n",
    "        dist_compare.gen_configs.batch = dist_compare.gen_configs.batch.unsqueeze(0)\n",
    "    if len(dist_compare.gen_configs.batch.shape) == 3:\n",
    "        dist_compare.gen_configs.batch = dist_compare.gen_configs.batch.unsqueeze(1)\n",
    "\n",
    "\n",
    "    \n",
    "    figs_axes['HiC'] = {'Experimental':get_exp_map(region_idx)}\n",
    "    if hic_approach == 'no_corrections':\n",
    "        figs_axes['HiC']['Generated'] = tanh_map(dist_compare.gen_configs,r_c,sigma)\n",
    "    else:\n",
    "        figs_axes['HiC']['Generated'] = dist_compare.gen_configs.contact_probabilities(\n",
    "            approach=hic_approach,\n",
    "            r_c=r_c,\n",
    "            sigma=sigma,\n",
    "            threshold=threshold\n",
    "        )\n",
    "    \n",
    "    return figs_axes"
   ]
  },
  {
   "cell_type": "code",
   "execution_count": null,
   "id": "cf9da6f5-994a-4672-b359-465431638d17",
   "metadata": {
    "scrolled": true
   },
   "outputs": [],
   "source": [
    "fig_axes = compare_guided(144,cond_scale=.5,rescaled_phi=0,bins=50,r_c=1.75,sigma=3.5)\n",
    "fig_axes['HiC']['Experimental'].plot()\n",
    "fig_axes['HiC']['Generated'].plot()"
   ]
  },
  {
   "cell_type": "code",
   "execution_count": null,
   "id": "4612e4b0-af98-401e-82d4-e46a9abeb4eb",
   "metadata": {
    "scrolled": true
   },
   "outputs": [],
   "source": [
    "fig_axes = compare_guided(144,cond_scale=.5,rescaled_phi=0,bins=50,r_c=1.75,sigma=3.5,hic_approach='no_corrections')\n",
    "fig_axes['HiC']['Experimental'].plot()\n",
    "fig_axes['HiC']['Generated'].plot()"
   ]
  },
  {
   "cell_type": "code",
   "execution_count": null,
   "id": "e42193c6-0ee8-4148-971b-8fc8bef529e3",
   "metadata": {
    "scrolled": true
   },
   "outputs": [],
   "source": [
    "fig_axes = compare_guided(200,cond_scale=.5,rescaled_phi=0,bins=50,r_c=1.,sigma=2,hic_approach='no_corrections')\n",
    "fig_axes['HiC']['Experimental'].plot()\n",
    "fig_axes['HiC']['Generated'].plot()"
   ]
  },
  {
   "cell_type": "code",
   "execution_count": null,
   "id": "cfb9f7fc-f363-4450-a6c0-a8f1873a83ba",
   "metadata": {},
   "outputs": [],
   "source": [
    "fig_axes = compare_guided(200,cond_scale=.5,rescaled_phi=0,bins=100,r_c=1.,sigma=2,hic_approach='tanh')\n",
    "fig_axes['HiC']['Experimental'].plot()\n",
    "fig_axes['HiC']['Generated'].plot()"
   ]
  },
  {
   "cell_type": "code",
   "execution_count": null,
   "id": "efc7f23c-e103-4058-8705-739973c137d0",
   "metadata": {},
   "outputs": [],
   "source": [
    "#d = dist_compare.gen_configs.coords\n",
    "#dists = torch.cdist(d,d) \n",
    "#tanh_map(dists,r_c=1,sigma=2).plot(vmin=3e-4)"
   ]
  },
  {
   "cell_type": "code",
   "execution_count": null,
   "id": "97119100-e105-4d8c-8b30-2ae9e2d22f3d",
   "metadata": {},
   "outputs": [],
   "source": [
    "fig_axes = compare_guided(265,cond_scale=.5,rescaled_phi=0,bins=50,r_c=1.5,sigma=3,separation_list=[],hic_approach='no_corrections')\n",
    "fig_axes['HiC']['Experimental'].plot()\n",
    "fig_axes['HiC']['Generated'].plot()"
   ]
  },
  {
   "cell_type": "code",
   "execution_count": null,
   "id": "ad705c97-13ac-41ed-aa7f-d41aa4aee3a1",
   "metadata": {},
   "outputs": [],
   "source": []
  },
  {
   "cell_type": "markdown",
   "id": "857c035f-63cd-40f2-9339-e99bc96084ae",
   "metadata": {},
   "source": [
    "#### Compare distance distributions for unguided case"
   ]
  },
  {
   "cell_type": "code",
   "execution_count": null,
   "id": "48782ac2-afca-4ddc-936c-30d0c4e0a6e4",
   "metadata": {},
   "outputs": [],
   "source": [
    "def get_many_exp_maps(dist_compare=dist_compare,region_indices=er.index,region_length=64):\n",
    "\n",
    "    ri = region_indices\n",
    "    \n",
    "    chrom = ri[0][-2]\n",
    "    start = ri[0][-1]\n",
    "    dist_maps = [dist_compare.get_exp_maps(0)]\n",
    "    i = 0 \n",
    "    while i+1 < len(ri) and ri[i][-2] == chrom: \n",
    "        i+=1 \n",
    "        start1 = ri[i][-1]\n",
    "        if abs(start1 - start) < region_length * 20000: \n",
    "            continue\n",
    "\n",
    "        try:\n",
    "            dist_maps.append(dist_compare.get_exp_maps(i))\n",
    "            start = start1\n",
    "        except:\n",
    "            pass # The coordinates weren't uninterrupted in the coordinate space\n",
    "\n",
    "    return torch.cat(dist_maps,dim=0) \n"
   ]
  },
  {
   "cell_type": "code",
   "execution_count": null,
   "id": "2ceefd80-c12d-43f9-a2e8-77a9a9834d3d",
   "metadata": {},
   "outputs": [],
   "source": [
    "dist_compare.set_exp_maps(get_many_exp_maps())"
   ]
  },
  {
   "cell_type": "code",
   "execution_count": null,
   "id": "20f6ec36-d727-4255-995c-371243ecdde4",
   "metadata": {},
   "outputs": [],
   "source": [
    "dist_compare.load_sample('/home/gridsan/gschuette/refining_scHiC/revamp_with_zhuohan/data/samples/origami/sample_unguided_120.pkl')"
   ]
  },
  {
   "cell_type": "code",
   "execution_count": null,
   "id": "002fbb60-b3ab-422a-80c5-b9b52e482b93",
   "metadata": {},
   "outputs": [],
   "source": [
    "figs = {}\n",
    "axes = {}\n",
    "for separation in range(1,segment_length,5):\n",
    "    _,fig,ax = dist_compare.compare_specific_separation(separation,bins=50)\n",
    "\n",
    "    ax.set_xlabel('Distance')\n",
    "    ax.set_ylabel('Probability Density')\n",
    "    ax.set_title(f'Unguided Distances vs Experimental: {separation} Bond{\"s\" if separation!=1 else \"\"} Between Beads')\n",
    "    "
   ]
  },
  {
   "cell_type": "code",
   "execution_count": null,
   "id": "2863f15d-1899-42d2-a229-65edabbf086d",
   "metadata": {},
   "outputs": [],
   "source": [
    "dist_compare.compare_specific_separation(2);"
   ]
  },
  {
   "cell_type": "code",
   "execution_count": null,
   "id": "21a977b8-7cf7-4fc5-992b-7c78f4ddcd9a",
   "metadata": {},
   "outputs": [],
   "source": []
  },
  {
   "cell_type": "code",
   "execution_count": null,
   "id": "aae34c37-a2a5-4e73-a4ad-b184ed9ad5a0",
   "metadata": {},
   "outputs": [],
   "source": [
    "asdf"
   ]
  },
  {
   "cell_type": "code",
   "execution_count": null,
   "id": "fd7f6ebd-41ff-4940-a8e5-bec324bc2f81",
   "metadata": {},
   "outputs": [],
   "source": [
    "n_examples = {}\n",
    "for k in range(len(er.index)):#range(0,1000,50):\n",
    "    length,chrom_,start_idx = er.index[k]\n",
    "    info,coords = config_ds.fetch_specific_coords(chrom_,start_idx)\n",
    "    try:\n",
    "        n_examples[k] = coords.shape[0]\n",
    "    except:\n",
    "        pass\n",
    "    "
   ]
  },
  {
   "cell_type": "code",
   "execution_count": null,
   "id": "c466ed80-23a3-43fb-9694-1f97882de2e0",
   "metadata": {},
   "outputs": [],
   "source": [
    "import matplotlib.pyplot as plt\n",
    "x = []\n",
    "y = []\n",
    "for key,item in n_examples.items(): \n",
    "    x.append(key)\n",
    "    y.append(item) \n",
    "plt.plot(x,y) "
   ]
  },
  {
   "cell_type": "code",
   "execution_count": null,
   "id": "ec870730-0b7b-4e6a-b2ef-341209267c38",
   "metadata": {},
   "outputs": [],
   "source": [
    "ymax = max(y)\n",
    "best_samples = []\n",
    "for sample,val in n_examples.items():\n",
    "    if val == ymax:\n",
    "        best_samples.append(sample)\n",
    "best_samples"
   ]
  },
  {
   "cell_type": "code",
   "execution_count": null,
   "id": "295b59f7-5129-4270-9c0f-a4faa0d0eda7",
   "metadata": {},
   "outputs": [],
   "source": []
  },
  {
   "cell_type": "code",
   "execution_count": null,
   "id": "d75d3bf9-539c-4b65-acf3-20952462ce25",
   "metadata": {},
   "outputs": [],
   "source": [
    "dc = DistanceCompare(config_ds,indices=er.index) "
   ]
  },
  {
   "cell_type": "code",
   "execution_count": null,
   "id": "6603a47c-9564-4439-8101-3926dd5cd233",
   "metadata": {},
   "outputs": [],
   "source": []
  },
  {
   "cell_type": "code",
   "execution_count": null,
   "id": "3c105be5-9b9c-40c6-be16-21750ba08087",
   "metadata": {},
   "outputs": [],
   "source": [
    "import os\n",
    "import pandas as pd\n",
    "import matplotlib.pyplot as plt\n",
    "import torch\n",
    "\n",
    "import sys\n",
    "sys.path.insert(1,'../data_utils/')\n",
    "from Sample import Sample \n",
    "from HiCDataset import HiCDataset\n",
    "from EmbeddedRegions import EmbeddedRegions\n",
    "from OrigamiTransform import OrigamiTransform\n",
    "from Sample import Sample\n",
    "sys.path.insert(2,'../diffusion_origami/')\n",
    "\n",
    "def is_square(mat):\n",
    "    s = mat.shape\n",
    "    assert len(s) > 1, f'Tensor must have at least two dimensions. Provided shape: {s}'\n",
    "    return s[-1] == s[-2]\n",
    "\n",
    "def copy_matrix_elements(from_mat,to_mat):\n",
    "    assert is_square(from_mat) and is_square(to_mat), f'Both matrices must be square in the final two dimensions'\n",
    "\n",
    "    n1,n2= from_mat.shape[-1],to_mat.shape[-1]\n",
    "    n,N = min(n1,n2),max(n1,n2)\n",
    "\n",
    "    i,j = torch.triu_indices(n,n,0)\n",
    "\n",
    "    shift1,shift2 = max(0,n1-n2),max(0,n2-n1)\n",
    "    to_mat[...,i,shift2+j] = from_mat[...,i,shift1+j]\n",
    "    to_mat[...,shift2+j,i] = from_mat[...,shift1+j,i]\n",
    "    \n",
    "\n",
    "def add_diagonal(mat,diag_value=0):\n",
    "    assert is_square(mat), f'Tensor must be square in the final two dimensions. Provided shape: {s}'\n",
    "    \n",
    "    N = mat.shape[-1] + 1\n",
    "    new_mat = torch.empty(\n",
    "        *mat.shape[:-2],N,N,\n",
    "        dtype=mat.dtype,\n",
    "        device=mat.device\n",
    "    )\n",
    "    \n",
    "    copy_matrix_elements(mat,new_mat)\n",
    "    i = torch.arange(N)\n",
    "    new_mat[...,i,i] = diag_value\n",
    "\n",
    "    return new_mat\n",
    "\n",
    "def remove_diagonal(mat):\n",
    "    assert is_square(mat), f'Tensor must be square in the final two dimensions. Provided shape: {s}'\n",
    "\n",
    "    N = mat.shape[-1] - 1\n",
    "    new_mat = torch.empty(\n",
    "        *mat.shape[:-2],N,N,\n",
    "        dtype=mat.dtype,\n",
    "        device=mat.device\n",
    "    )\n",
    "    \n",
    "    copy_matrix_elements(mat,new_mat)\n",
    "    \n",
    "    return new_mat\n",
    "\n",
    "class Sampler: \n",
    "\n",
    "    def __init__(\n",
    "        self,\n",
    "        diffusion=None,#diffusion,\n",
    "        embeddings=None,#embeddings,\n",
    "        cond_scale=5.,\n",
    "        rescaled_phi=0.5,\n",
    "        nsamples=100\n",
    "    ):\n",
    "\n",
    "        self.diffusion = diffusion\n",
    "        self.embeddings = embeddings\n",
    "        self.cond_scale = cond_scale\n",
    "        self.rescaled_phi = rescaled_phi\n",
    "        self.nsamples = nsamples\n",
    "\n",
    "    def __call__(\n",
    "        self,\n",
    "        region_index=None,\n",
    "        *,\n",
    "        embedding=None,\n",
    "        nsamples = None,\n",
    "        diffusion=None,\n",
    "        embeddings=None,\n",
    "        cond_scale=None,\n",
    "        rescaled_phi=None\n",
    "    ):\n",
    "        assert (region_index is None) ^ (embedding is None), \"Must pass EITHER region_index OR embedding\"\n",
    "\n",
    "        # Set the necessary options\n",
    "        nsamples = self.nsamples if nsamples is None else nsamples\n",
    "        diffusion = self.diffusion if diffusion is None else diffusion\n",
    "        embeddings = self.embeddings if embeddings is None else embeddings\n",
    "        cond_scale = self.cond_scale if cond_scale is None else cond_scale\n",
    "        rescaled_phi = self.rescaled_phi if rescaled_phi is None else rescaled_phi\n",
    "\n",
    "        # Get the desired embedding and expand it to the desired sample size\n",
    "        emb = embedding if region_index is None else embeddings.iloc[region_index,0]\n",
    "        emb = emb.to(diffusion.device).expand(nsamples,-1,-1,-1)\n",
    "\n",
    "        # Sample with the diffusion model\n",
    "        data = diffusion.sample(emb,cond_scale=cond_scale,rescaled_phi=rescaled_phi)\n",
    "\n",
    "        # Reverse the origami transform\n",
    "        data = origami_transform.inverse(data)\n",
    "\n",
    "        # Remove the diagonal so that we can directly use the Sample class\n",
    "        data = remove_diagonal(data) \n",
    "\n",
    "        # Make a Sample object\n",
    "        sample = Sample(data=data)\n",
    "\n",
    "        return sample\n",
    "\n",
    "    def get_valid_attributes(self):\n",
    "        valid_attributes = []\n",
    "        for attr in dir(self): \n",
    "            if attr[0] != '_' and not callable(getattr(self, attr)): \n",
    "                valid_attributes.append(attr)\n",
    "        return valid_attributes\n",
    "    \n",
    "    def set(self,**kwargs):\n",
    "        '''\n",
    "        Options: \n",
    "        diffusion\n",
    "        embedded_regions\n",
    "        cond_scale\n",
    "        rescaled_phi\n",
    "        nsamples\n",
    "        '''\n",
    "        assert len(kwargs) > 0, f'Expected at least one keyword argument.'\n",
    "        attrs = self.get_valid_attributes()\n",
    "        for attr,value in kwargs.items():\n",
    "            assert attr in attrs, f'Error: Keyword argument {attr} not recognized. Valid attributes to set are: {attrs}.'\n",
    "            assert (getattr(self,attr) is None) or type(value) == type(getattr(self,attr)), f'Expected type {type(getattr(self,attr))} for attribute {attr}, but received {type(value)}.'\n",
    "        for attr, value in kwargs.items():\n",
    "            setattr(self, attr, value)\n",
    "\n",
    "def get_dist_env():\n",
    "    if 'OMPI_COMM_WORLD_SIZE' in os.environ:\n",
    "        world_size = int(os.getenv('OMPI_COMM_WORLD_SIZE'))\n",
    "    else:\n",
    "        world_size = int(os.getenv('SLURM_NTASKS'))\n",
    "\n",
    "    if 'OMPI_COMM_WORLD_RANK' in os.environ:\n",
    "        global_rank = int(os.getenv('OMPI_COMM_WORLD_RANK'))\n",
    "    else:\n",
    "        global_rank = int(os.getenv('SLURM_PROCID'))\n",
    "    return global_rank, world_size\n",
    "\n",
    "if __name__ == \"__main__\":\n",
    "\n",
    "    ############################################\n",
    "    # Parallelization stuff\n",
    "    ############################################\n",
    "    from torch.nn.parallel import DistributedDataParallel as DDP\n",
    "    import torch.distributed as dist\n",
    "    import socket\n",
    "    \n",
    "    global_rank, world_size = get_dist_env()\n",
    "    hostname = socket.gethostname()\n",
    "    # You have run dist.init_process_group to initialize the distributed environment\n",
    "    # Always use NCCL as the backend. Gloo performance is pretty bad and MPI is currently\n",
    "    # unsupported (for a number of reasons).\n",
    "    dist.init_process_group(backend='nccl', rank=global_rank, world_size=world_size)\n",
    "\n",
    "    # Set the cuda devices to avoid duplicate device in nccl\n",
    "    torch.cuda.set_device(global_rank%2)\n",
    "    ############################################\n",
    "\n",
    "    #import sys\n",
    "    #sys.path.insert('./')\n",
    "    from classifier_free_guidance_greg import Unet, GaussianDiffusion\n",
    "\n",
    "    chroms = ['1','X']\n",
    "    segment_length = 64\n",
    "    c,image_size = 2,segment_length//2\n",
    "    cond_scales = [5.]\n",
    "    rescaled_phis = [.5]\n",
    "    nsamples = 1000\n",
    "\n",
    "    # All of these regions have 30 structures (EXCLUDING replicates) in chrom 1, while \n",
    "    # the chrom X regions have 32 structures for comparison (16 cells, mat/pat chromosomes) \n",
    "    regions_dict = {\n",
    "        '1':[144,200,265,330,395,460,525,590,730,795,860,1260,1325],\n",
    "        'X':[100,236,381,445,553,610,675,810,900,965,1060,1125,1200]\n",
    "    }\n",
    "\n",
    "    #### \n",
    "    model_folder = '../../data/models/diffusion_small_origami'#'./results_small'\n",
    "    config_fp = '../../data/processed_data.hdf5'\n",
    "    #embedding_dir = '../../data/embeddings/'\n",
    "    embedding_dir = '../../data/embeddings_hg19_via_hg38_params/'\n",
    "    mean_dist_fp = '../../data/mean_dists.pt'\n",
    "    mean_sq_dist_fp='../../data/squares.pt'\n",
    "    save_dir = '../../data/samples/origami/'\n",
    "    ###\n",
    "\n",
    "    if not os.path.exists(save_dir):\n",
    "        os.makedirs(save_dir)\n",
    "\n",
    "    def fp(region_idx,cond_scale,rescaled_phi,milestone,chrom,save_dir=save_dir):\n",
    "        return save_dir + f'sample_{region_idx}_{int(cond_scale)}_{int(10*rescaled_phi)}_{milestone}_{chrom}.pkl'\n",
    "\n",
    "    def get_existing_sample(filepath):\n",
    "        if os.path.exists(filepath):\n",
    "            sample = pd.read_pickle(filepath)\n",
    "            sample = Sample(data = sample.unflatten())\n",
    "            return sample\n",
    "        else:\n",
    "            return None\n",
    "\n",
    "    def save_sample(sample,filepath):\n",
    "\n",
    "        sample1 = get_existing_sample(filepath)\n",
    "        if sample1 is not None: \n",
    "            data1 = sample1.unflatten().to(device=sample.device,dtype=sample.dtype)\n",
    "            if len(data1.shape) < 3: \n",
    "                data1 = data1.unsqueeze(0)\n",
    "            data2 = sample.unflatten()\n",
    "            if len(data2.shape) < 3: \n",
    "                data2 = data2.unsqueeze(0)\n",
    "\n",
    "            data = torch.cat((data1,data2),dim=0)\n",
    "            sample = Sample(data=data)\n",
    "            \n",
    "        pickle.dump(sample,open(filepath,'wb'))\n",
    "\n",
    "    def get_nsamples(filepath,nsamples=nsamples):\n",
    "        sample = get_existing_sample(filepath)\n",
    "        if sample is None:\n",
    "            return nsamples\n",
    "        return max(0,nsamples-len(sample))\n",
    "\n",
    "    def load_most_recent_milestone(diffusion,folder):\n",
    "\n",
    "        if folder != '' and folder[-1] != '/': \n",
    "            folder = folder + '/'\n",
    "    \n",
    "        files = os.listdir(folder)\n",
    "        milestone = 0 \n",
    "        file = ''\n",
    "        for f in files: \n",
    "            m = int('.'.join(f.split('.')[:-1]).split('-')[-1])\n",
    "            if m > milestone: \n",
    "                milestone = m\n",
    "                file = f\n",
    "        \n",
    "        diffusion.load(folder + file)\n",
    "    \n",
    "        return milestone\n",
    "    \n",
    "    # Initializing model\n",
    "    print('Initializing model',flush=True)\n",
    "    model = Unet(\n",
    "        dim=64,\n",
    "        cond_drop_prob = 0.5,\n",
    "        init_dim = None,\n",
    "        out_dim = None,\n",
    "        dim_mults=(1, 2, 4, 8),\n",
    "        channels = c,\n",
    "        resnet_block_groups = 8,\n",
    "        learned_variance = False,\n",
    "        learned_sinusoidal_cond = False,\n",
    "        random_fourier_features = False,\n",
    "        learned_sinusoidal_dim = 16,\n",
    "        attn_dim_head = 32,\n",
    "        attn_heads = 4,\n",
    "        embedding_dimensions=(1,260,256)#tuple(er.ifetch(0)[0].shape)\n",
    "    ).to(f'cuda:{global_rank%2}')\n",
    "    \n",
    "    diffusion = GaussianDiffusion(\n",
    "        model,\n",
    "        image_size=image_size,\n",
    "        timesteps = 1000,\n",
    "        sampling_timesteps = None,\n",
    "        objective = 'pred_noise',\n",
    "        beta_schedule = 'cosine',\n",
    "        ddim_sampling_eta = 1.,\n",
    "        offset_noise_strength = 0.,\n",
    "        min_snr_loss_weight = False,\n",
    "        min_snr_gamma = 5\n",
    "    ).to(f'cuda:{global_rank%2}')\n",
    "\n",
    "\n",
    "    # Loading most recent model parameters\n",
    "    print('Loading model parameters',flush=True)\n",
    "    milestone = load_most_recent_milestone(diffusion,model_folder) \n",
    "    \n",
    "    ####### ALLOW THE NETWORK TO RUN ON GPUS IN PARALLEL ##############\n",
    "    # % 2 because each node has 2 gpus locally referred to as 0 & 1\n",
    "    diffusion = DDP(diffusion, device_ids=[global_rank%2], output_device=None)\n",
    "    ###################################################################\n",
    "\n",
    "    # Loading embeddings\n",
    "    print('Loading embeddings',flush=True)\n",
    "    embeddings_dict = {}\n",
    "    for chrom in chroms:\n",
    "        embeddings_dict[chrom] = pd.read_pickle(f'{embedding_dir}/chrom_{chrom}.tar.gz')\n",
    "\n",
    "    # Preparing Sampler\n",
    "    print('Preparing Sampler',flush=True)\n",
    "    sampler = Sampler(diffusion=diffusion)\n",
    "\n",
    "    # Sample loop\n",
    "    print('Sampling Loop',flush=True)\n",
    "    for chrom in chroms: \n",
    "        regions = regions_dict[chrom]\n",
    "        embeddings = embeddings_dict[chrom]\n",
    "\n",
    "        sampler.set(embeddings=embeddings)\n",
    "        \n",
    "        for cond_scale in cond_scales: \n",
    "            sampler.set(cond_scale=cond_scale)\n",
    "            rescaled_phis1 = rescaled_phis if cond_scale != 1 else [0]\n",
    "            for rescaled_phi in rescaled_phis1: \n",
    "                sampler.set(rescaled_phi=rescaled_phi)\n",
    "                for region_idx in regions:\n",
    "                    # Get the relevant filepath\n",
    "                    f = fp(region_idx,cond_scale,rescaled_phi,milestone,chrom)\n",
    "\n",
    "                    # If some samples already exist, see how many more must be produced to obtain the desired\n",
    "                    # number of total samples. \n",
    "                    nsamples_still_needed = get_nsamples(f,nsamples)\n",
    "\n",
    "                    # Generate those samples\n",
    "                    sample = sampler(region_idx,nsamples=nsamples_still_needed)\n",
    "\n",
    "                    # Save the sample \n",
    "                    save_sample(sample,f) "
   ]
  },
  {
   "cell_type": "code",
   "execution_count": null,
   "id": "c431e5f8-09cc-415e-99b8-8c3ad19afe52",
   "metadata": {},
   "outputs": [],
   "source": []
  },
  {
   "cell_type": "code",
   "execution_count": null,
   "id": "a9ba8c16-c1d0-4c96-8e3d-9b67a92e7700",
   "metadata": {},
   "outputs": [],
   "source": []
  },
  {
   "cell_type": "code",
   "execution_count": null,
   "id": "77936335-8588-4634-bcfb-314b7fa85115",
   "metadata": {},
   "outputs": [],
   "source": []
  }
 ],
 "metadata": {
  "kernelspec": {
   "display_name": "Python 3 (ipykernel)",
   "language": "python",
   "name": "python3"
  },
  "language_info": {
   "codemirror_mode": {
    "name": "ipython",
    "version": 3
   },
   "file_extension": ".py",
   "mimetype": "text/x-python",
   "name": "python",
   "nbconvert_exporter": "python",
   "pygments_lexer": "ipython3",
   "version": "3.10.12"
  }
 },
 "nbformat": 4,
 "nbformat_minor": 5
}
