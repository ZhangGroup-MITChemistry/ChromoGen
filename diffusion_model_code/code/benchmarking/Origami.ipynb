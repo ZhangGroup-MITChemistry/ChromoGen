{
 "cells": [
  {
   "cell_type": "code",
   "execution_count": 56,
   "id": "54da4dac-26b2-4ea5-881b-4df88a6a4f4d",
   "metadata": {},
   "outputs": [],
   "source": [
    "import os\n",
    "import pandas as pd\n",
    "import matplotlib.pyplot as plt\n",
    "import torch\n",
    "\n",
    "import sys\n",
    "sys.path.insert(1,'../data_utils/')\n",
    "from Sample import Sample \n",
    "from HiCDataset import HiCDataset\n",
    "from EmbeddedRegions import EmbeddedRegions\n",
    "from OrigamiTransform import OrigamiTransform\n",
    "from Sample import Sample\n",
    "sys.path.insert(2,'../diffusion_origami/')"
   ]
  },
  {
   "cell_type": "code",
   "execution_count": 2,
   "id": "bdf278c6-0748-44fd-91e2-d2967b5da665",
   "metadata": {},
   "outputs": [],
   "source": [
    "# Training data locations\n",
    "config_fp = '../../data/processed_data.hdf5'\n",
    "embedding_dir = '../../data/embeddings/'\n",
    "\n",
    "# Supporting data locations \n",
    "mean_dist_fp = '../../data/mean_dists.pt'\n",
    "mean_sq_dist_fp='../../data/squares.pt'"
   ]
  },
  {
   "cell_type": "code",
   "execution_count": 16,
   "id": "d01225b3-840c-42ff-8341-60683379453f",
   "metadata": {},
   "outputs": [],
   "source": [
    "from classifier_free_guidance_greg import Unet, GaussianDiffusion\n",
    "\n",
    "#### \n",
    "model_folder = '../../data/models/diffusion_small_origami'#'./results_small'\n",
    "training_chroms = ['1'] #f'{k}' for k in range(1,23)]\n",
    "segment_length = 64\n",
    "c,image_size = 2,segment_length//2\n",
    "###\n",
    "\n",
    "'''\n",
    "er = EmbeddedRegions(\n",
    "    embedding_dir,\n",
    "    chroms=training_chroms\n",
    ")\n",
    "'''\n",
    "embeddings = pd.read_pickle(f'{embedding_dir}/chrom_{training_chroms[0]}.tar.gz')\n",
    "\n",
    "model = Unet(\n",
    "    dim=64,\n",
    "    cond_drop_prob = 0.5,\n",
    "    init_dim = None,\n",
    "    out_dim = None,\n",
    "    dim_mults=(1, 2, 4, 8),\n",
    "    channels = c,\n",
    "    resnet_block_groups = 8,\n",
    "    learned_variance = False,\n",
    "    learned_sinusoidal_cond = False,\n",
    "    random_fourier_features = False,\n",
    "    learned_sinusoidal_dim = 16,\n",
    "    attn_dim_head = 32,\n",
    "    attn_heads = 4,\n",
    "    embedding_dimensions=tuple(er.ifetch(0)[0].shape)\n",
    ")\n",
    "\n",
    "\n",
    "diffusion = GaussianDiffusion(\n",
    "    model,\n",
    "    image_size=image_size,\n",
    "    timesteps = 1000,\n",
    "    sampling_timesteps = None,\n",
    "    objective = 'pred_noise',\n",
    "    beta_schedule = 'cosine',\n",
    "    ddim_sampling_eta = 1.,\n",
    "    offset_noise_strength = 0.,\n",
    "    min_snr_loss_weight = False,\n",
    "    min_snr_gamma = 5\n",
    ")\n"
   ]
  },
  {
   "cell_type": "markdown",
   "id": "636ee919-0b9f-43e5-9ec7-fbe842db3ae8",
   "metadata": {},
   "source": [
    "#### Support functions. Should be generic to any model in this script"
   ]
  },
  {
   "cell_type": "code",
   "execution_count": 53,
   "id": "e0ceaf5b-7ba6-4899-ac96-6cbf16e54cd2",
   "metadata": {},
   "outputs": [],
   "source": [
    "def load_most_recent_milestone(diffusion,folder):\n",
    "\n",
    "    if folder != '' and folder[-1] != '/': \n",
    "        folder = folder + '/'\n",
    "\n",
    "    files = os.listdir(folder)\n",
    "    milestone = 0 \n",
    "    file = ''\n",
    "    for f in files: \n",
    "        m = int('.'.join(f.split('.')[:-1]).split('-')[-1])\n",
    "        if m > milestone: \n",
    "            milestone = m\n",
    "            file = f\n",
    "    \n",
    "    diffusion.load(folder + file)\n",
    "\n",
    "    return milestone"
   ]
  },
  {
   "cell_type": "code",
   "execution_count": 9,
   "id": "2c303c6e-2e45-4604-be0c-76419bc1249a",
   "metadata": {},
   "outputs": [],
   "source": [
    "origami_transform = OrigamiTransform()"
   ]
  },
  {
   "cell_type": "code",
   "execution_count": 82,
   "id": "748f934a-a5dd-4eb8-937d-5c3e86133634",
   "metadata": {},
   "outputs": [],
   "source": [
    "def is_square(mat):\n",
    "    s = mat.shape\n",
    "    assert len(s) > 1, f'Tensor must have at least two dimensions. Provided shape: {s}'\n",
    "    return s[-1] == s[-2]\n",
    "\n",
    "def copy_matrix_elements(from_mat,to_mat):\n",
    "    assert is_square(from_mat) and is_square(to_mat), f'Both matrices must be square in the final two dimensions'\n",
    "\n",
    "    n1,n2= from_mat.shape[-1],to_mat.shape[-1]\n",
    "    n,N = min(n1,n2),max(n1,n2)\n",
    "\n",
    "    i,j = torch.triu_indices(n,n,0)\n",
    "\n",
    "    shift1,shift2 = max(0,n1-n2),max(0,n2-n1)\n",
    "    to_mat[...,i,shift2+j] = from_mat[...,i,shift1+j]\n",
    "    to_mat[...,shift2+j,i] = from_mat[...,shift1+j,i]\n",
    "    \n",
    "\n",
    "def add_diagonal(mat,diag_value=0):\n",
    "    assert is_square(mat), f'Tensor must be square in the final two dimensions. Provided shape: {s}'\n",
    "    \n",
    "    N = mat.shape[-1] + 1\n",
    "    new_mat = torch.empty(\n",
    "        *mat.shape[:-2],N,N,\n",
    "        dtype=mat.dtype,\n",
    "        device=mat.device\n",
    "    )\n",
    "    \n",
    "    copy_matrix_elements(mat,new_mat)\n",
    "    i = torch.arange(N)\n",
    "    new_mat[...,i,i] = diag_value\n",
    "\n",
    "    return new_mat\n",
    "\n",
    "def remove_diagonal(mat):\n",
    "    assert is_square(mat), f'Tensor must be square in the final two dimensions. Provided shape: {s}'\n",
    "\n",
    "    N = mat.shape[-1] - 1\n",
    "    new_mat = torch.empty(\n",
    "        *mat.shape[:-2],N,N,\n",
    "        dtype=mat.dtype,\n",
    "        device=mat.device\n",
    "    )\n",
    "    \n",
    "    copy_matrix_elements(mat,new_mat)\n",
    "    \n",
    "    return new_mat\n",
    "\n",
    "class Sampler: \n",
    "\n",
    "    def __init__(\n",
    "        self,\n",
    "        diffusion=diffusion,\n",
    "        embeddings=embeddings,\n",
    "        cond_scale=5,\n",
    "        rescaled_phi=0.5,\n",
    "        nsamples=100\n",
    "    ):\n",
    "\n",
    "        self.diffusion = diffusion\n",
    "        self.embeddings = embeddings\n",
    "        self.cond_scale = cond_scale\n",
    "        self.rescaled_phi = rescaled_phi\n",
    "        self.nsamples = nsamples\n",
    "\n",
    "    def __call__(\n",
    "        self,\n",
    "        region_index=None,\n",
    "        *,\n",
    "        embedding=None,\n",
    "        nsamples = None,\n",
    "        diffusion=None,\n",
    "        embeddings=None,\n",
    "        cond_scale=None,\n",
    "        rescaled_phi=None,\n",
    "        return_raw = False,\n",
    "    ):\n",
    "        assert (region_index is None) ^ (embedding is None), \"Must pass EITHER region_index OR embedding\"\n",
    "\n",
    "        # Set the necessary options\n",
    "        nsamples = self.nsamples if nsamples is None else nsamples\n",
    "        diffusion = self.diffusion if diffusion is None else diffusion\n",
    "        embeddings = self.embeddings if embeddings is None else embeddings\n",
    "        cond_scale = self.cond_scale if cond_scale is None else cond_scale\n",
    "        rescaled_phi = self.rescaled_phi if rescaled_phi is None else rescaled_phi\n",
    "\n",
    "        # Get the desired embedding and expand it to the desired sample size\n",
    "        emb = embedding if region_index is None else embeddings.iloc[region_index,0]\n",
    "        emb = emb.to(diffusion.device).expand(nsamples,-1,-1,-1)\n",
    "\n",
    "        # Sample with the diffusion model\n",
    "        data = diffusion.sample(emb,cond_scale=cond_scale,rescaled_phi=rescaled_phi)\n",
    "\n",
    "        if return_raw: \n",
    "            return data \n",
    "            \n",
    "        # Reverse the origami transform\n",
    "        data = origami_transform.inverse(data)\n",
    "\n",
    "        # Remove the diagonal so that we can directly use the Sample class\n",
    "        data = remove_diagonal(data) \n",
    "\n",
    "        # Make a Sample object\n",
    "        sample = Sample(data=data)\n",
    "\n",
    "        return sample\n",
    "\n",
    "    def get_valid_attributes(self):\n",
    "        valid_attributes = []\n",
    "        for attr in dir(self): \n",
    "            if attr[0] != '_' and not callable(getattr(self, attr)): \n",
    "                valid_attributes.append(attr)\n",
    "        return valid_attributes\n",
    "    \n",
    "    def set(self,**kwargs):\n",
    "        '''\n",
    "        Options: \n",
    "        diffusion\n",
    "        embedded_regions\n",
    "        cond_scale\n",
    "        rescaled_phi\n",
    "        nsamples\n",
    "        '''\n",
    "        assert len(kwargs) > 0, f'Expected at least one keyword argument.'\n",
    "        attrs = self.get_valid_attributes()\n",
    "        for attr,value in kwargs.items():\n",
    "            assert attr in attrs, f'Error: Keyword argument {attr} not recognized. Valid attributes to set are: {attrs}.'\n",
    "            assert type(value) == type(getattr(self,attr)), f'Expected type {type(getattr(self,attr))} for attribute {attr}, but received {type(value)}.'\n",
    "        for attr, value in kwargs.items():\n",
    "            setattr(self, attr, value)\n",
    "            "
   ]
  },
  {
   "cell_type": "code",
   "execution_count": 83,
   "id": "f1f54aa3-8544-49a6-88f2-a580781e2865",
   "metadata": {},
   "outputs": [],
   "source": [
    "import torch\n",
    "\n",
    "def distance_hist(exp_data,gen_data,*args):\n",
    "    fig = plt.figure()\n",
    "    ax = fig.add_subplot()\n",
    "    ax.hist(exp_data.flatten().cpu().numpy(),alpha=0.5,label='Experimental')\n",
    "    ax.hist(gen_data.flatten().cpu().numpy(),alpha=0.5,label='Generated')\n",
    "    ax.legend()\n",
    "\n",
    "    return fig,ax\n",
    "\n",
    "def is_int(x):\n",
    "    return int(x) == x\n",
    "\n",
    "class DistanceCompare: \n",
    "\n",
    "    def __init__(self,config_dataset,sample=None,indices=None,device=None):\n",
    "\n",
    "        self.exp_ds = config_dataset\n",
    "        self.gen_configs = sample\n",
    "        self.idx = indices\n",
    "        self.device = device\n",
    "\n",
    "        self.exp_maps = None\n",
    "\n",
    "    ###################################################################\n",
    "    # Handling the experimental data\n",
    "    def parse_index(self,region_index): \n",
    "        assert is_int(region_index), 'region_index must be an integer'\n",
    "        _,chrom,start_idx = self.idx[region_index]\n",
    "        return chrom,start_idx\n",
    "    \n",
    "    def get_coords(self,*args):\n",
    "        assert len(args) > 0, 'Expected either integer input (region index) or string (chrom) followed by integer (starting index). Received no arguments.'\n",
    "        assert len(args) < 3, f'Expected either integer input (region index) or string (chrom) followed by integer (starting index). Received {len(args)} arguments.'\n",
    "        if len(args) == 1: \n",
    "            assert type(args[0]) == int, f'Expected either integer input (region index) or string (chrom) followed by integer (starting index). Received one {type(args[0])} input.'\n",
    "            chrom,start_idx = self.parse_index(int(args[0]))\n",
    "        elif type(args[0]) != str or not is_int(args[1]): \n",
    "            raise Exception('Expected either integer input (region index) or string (chrom) followed by integer (starting index). '+\\\n",
    "                            f'Received types {type(args[0])} and {type(args[1])}.')\n",
    "        else:\n",
    "            chrom,start_idx = args[0],int(args[1])\n",
    "        return self.exp_ds.fetch_specific_coords(chrom,start_idx)[1].to(self.device)\n",
    "    \n",
    "    def get_exp_maps(self,*args):\n",
    "        if len(args) == 0:\n",
    "            return self.exp_maps\n",
    "        coords = self.get_coords(*args) \n",
    "        dists = torch.cdist(coords.double(),coords.double()).float()\n",
    "        return dists\n",
    "\n",
    "    def set_exp_maps(self,*args):\n",
    "        self.exp_maps = self.get_exp_maps(*args)\n",
    "\n",
    "    ###################################################################\n",
    "    # Handling the generated data \n",
    "    def set_sample(self,sample):\n",
    "        self.gen_configs = sample.clone()\n",
    "        self.gen_configs.unnormalize_()\n",
    "\n",
    "    def load_sample(self,fp):\n",
    "        sample = Sample(data=pd.read_pickle(fp).batch)\n",
    "        self.set_sample(sample) \n",
    "        \n",
    "        \n",
    "    ###################################################################\n",
    "    # Comparisons\n",
    "    def dist_compare(self,pairs=None):\n",
    "        gen_data = self.gen_configs.unflatten()\n",
    "        exp_data = self.get_exp_maps()\n",
    "        n, N = gen_data.shape[-1], exp_data.shape[-1]\n",
    "\n",
    "        if n == N-1: \n",
    "            gen_data = add_diagonal(gen_data) \n",
    "        else: \n",
    "            assert n==N, 'incompatible generated/experimental data sizes'\n",
    "\n",
    "        if pairs is None: \n",
    "            pairs = torch.triu_indices(N,N,1).T.tolist()\n",
    "\n",
    "        results = {}\n",
    "        for pair in pairs: \n",
    "            i,j = pair[0],pair[1]\n",
    "            results[pair] = [exp_data[...,i,j].flatten(),gen_data[...,i,j].flatten()]\n",
    "\n",
    "        return results \n",
    "    "
   ]
  },
  {
   "cell_type": "code",
   "execution_count": null,
   "id": "653df025-b888-4525-aca6-404705763c9e",
   "metadata": {},
   "outputs": [],
   "source": []
  },
  {
   "cell_type": "code",
   "execution_count": 55,
   "id": "a8eb2af5-f466-456a-a377-89f1439a5272",
   "metadata": {},
   "outputs": [],
   "source": [
    "del Sample"
   ]
  },
  {
   "cell_type": "markdown",
   "id": "baa0be52-7bac-4202-b167-b841450db0d7",
   "metadata": {},
   "source": [
    "#### Should be generic to any model "
   ]
  },
  {
   "cell_type": "code",
   "execution_count": 59,
   "id": "17eb7c61-1237-4ffe-a94c-006ae133129a",
   "metadata": {},
   "outputs": [],
   "source": [
    "milestone = load_most_recent_milestone(diffusion,model_folder) \n",
    "sampler = Sampler(diffusion=diffusion)"
   ]
  },
  {
   "cell_type": "code",
   "execution_count": 81,
   "id": "d3b6e64a-8540-48bc-8f0d-8a3de1e2cbfc",
   "metadata": {},
   "outputs": [
    {
     "data": {
      "application/vnd.jupyter.widget-view+json": {
       "model_id": "f0e41de10f8c4fd48af20ded99beb246",
       "version_major": 2,
       "version_minor": 0
      },
      "text/plain": [
       "sampling loop time step:   0%|          | 0/1000 [00:00<?, ?it/s]"
      ]
     },
     "metadata": {},
     "output_type": "display_data"
    }
   ],
   "source": [
    "sample = sampler(200,nsamples=100,cond_scale=3.,rescaled_phi=.3)"
   ]
  },
  {
   "cell_type": "code",
   "execution_count": 84,
   "id": "a606d0c5-7134-4a32-9f9c-f924404ec9cf",
   "metadata": {},
   "outputs": [],
   "source": [
    "#import pickle\n",
    "#pickle.dump(sample,open('origami_sample1.pkl','wb'))"
   ]
  },
  {
   "cell_type": "code",
   "execution_count": 85,
   "id": "914879c1-96d7-4012-9371-6dd607f60ff8",
   "metadata": {},
   "outputs": [
    {
     "data": {
      "text/plain": [
       "<matplotlib.image.AxesImage at 0x7f60205162c0>"
      ]
     },
     "execution_count": 85,
     "metadata": {},
     "output_type": "execute_result"
    },
    {
     "data": {
      "image/png": "[encoded data removed]",
      "text/plain": [
       "<Figure size 480x480 with 1 Axes>"
      ]
     },
     "metadata": {},
     "output_type": "display_data"
    }
   ],
   "source": [
    "plt.matshow(sample.unflatten()[0,0,...].cpu().numpy())"
   ]
  },
  {
   "cell_type": "code",
   "execution_count": 87,
   "id": "5f32b8d7-d617-4f65-94c9-5182110aef04",
   "metadata": {},
   "outputs": [
    {
     "data": {
      "text/plain": [
       "(<Figure size 640x480 with 2 Axes>,\n",
       " <Axes: >,\n",
       " <matplotlib.image.AxesImage at 0x7f60205ad0c0>,\n",
       " <matplotlib.colorbar.Colorbar at 0x7f6020415fc0>)"
      ]
     },
     "execution_count": 87,
     "metadata": {},
     "output_type": "execute_result"
    },
    {
     "data": {
      "image/png": "[encoded data removed]",
      "text/plain": [
       "<Figure size 640x480 with 2 Axes>"
      ]
     },
     "metadata": {},
     "output_type": "display_data"
    }
   ],
   "source": [
    "sample._unnormalize_()\n",
    "sample.unflatten_()\n",
    "hic_map = sample.contact_probabilities(r_c=1.75,sigma=3.5)\n",
    "hic_map.plot()"
   ]
  },
  {
   "cell_type": "code",
   "execution_count": null,
   "id": "e72f0411-86d3-4444-89bd-2cdebb1c38f0",
   "metadata": {},
   "outputs": [],
   "source": []
  },
  {
   "cell_type": "code",
   "execution_count": null,
   "id": "46386c52-f81e-4484-8e51-dac8019dc028",
   "metadata": {},
   "outputs": [],
   "source": []
  }
 ],
 "metadata": {
  "kernelspec": {
   "display_name": "Python 3 (ipykernel)",
   "language": "python",
   "name": "python3"
  },
  "language_info": {
   "codemirror_mode": {
    "name": "ipython",
    "version": 3
   },
   "file_extension": ".py",
   "mimetype": "text/x-python",
   "name": "python",
   "nbconvert_exporter": "python",
   "pygments_lexer": "ipython3",
   "version": "3.10.12"
  }
 },
 "nbformat": 4,
 "nbformat_minor": 5
}
