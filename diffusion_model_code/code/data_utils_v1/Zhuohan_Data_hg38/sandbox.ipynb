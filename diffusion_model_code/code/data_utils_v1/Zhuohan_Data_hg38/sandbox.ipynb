{
 "cells": [
  {
   "cell_type": "code",
   "execution_count": 29,
   "id": "df58073c-2375-44e8-b817-3f292c112493",
   "metadata": {},
   "outputs": [],
   "source": [
    "import torch"
   ]
  },
  {
   "cell_type": "code",
   "execution_count": 4,
   "id": "99b8fdd4-6dcf-4547-a1fd-f74fc95ff76f",
   "metadata": {},
   "outputs": [],
   "source": [
    "device = torch.empty(1).device"
   ]
  },
  {
   "cell_type": "code",
   "execution_count": 5,
   "id": "2aa21771-4444-4c35-9139-3022ec5bbb1f",
   "metadata": {},
   "outputs": [],
   "source": [
    "a = torch.load('/home/gridsan/gschuette/binz_group_shared/zlao/for_greg/run_scripts_1/chr_1_0.pt',map_location=device)"
   ]
  },
  {
   "cell_type": "code",
   "execution_count": 6,
   "id": "082ecd5e-ad89-4b21-bd4f-86a7aedcb12d",
   "metadata": {},
   "outputs": [
    {
     "data": {
      "text/plain": [
       "tensor([[[ 0.0608,  3.5931, -1.4655,  ...,  0.8881, -0.2752, -2.6679],\n",
       "         [-1.0577,  3.9899,  0.2972,  ...,  2.0217,  0.1286, -0.7900],\n",
       "         [-1.1141,  2.9361, -2.5720,  ...,  1.2188, -2.4308,  2.5277],\n",
       "         ...,\n",
       "         [-0.6375,  1.2439,  0.3090,  ..., -1.1241,  1.1532,  2.7986],\n",
       "         [ 1.8492,  1.3955, -2.4614,  ..., -1.2247, -0.7906,  1.1656],\n",
       "         [-1.3701,  0.8691,  1.1013,  ...,  0.1064,  2.1044,  1.5171]]],\n",
       "       requires_grad=True)"
      ]
     },
     "execution_count": 6,
     "metadata": {},
     "output_type": "execute_result"
    }
   ],
   "source": [
    "a"
   ]
  },
  {
   "cell_type": "code",
   "execution_count": 7,
   "id": "56ce11e7-cb0c-486d-b460-00b84cf72625",
   "metadata": {},
   "outputs": [
    {
     "data": {
      "text/plain": [
       "torch.Size([1, 260, 256])"
      ]
     },
     "execution_count": 7,
     "metadata": {},
     "output_type": "execute_result"
    }
   ],
   "source": [
    "a.shape"
   ]
  },
  {
   "cell_type": "code",
   "execution_count": 13,
   "id": "7311f3d2-1c12-4297-9f1d-5753ff33bb78",
   "metadata": {},
   "outputs": [],
   "source": [
    "import os"
   ]
  },
  {
   "cell_type": "code",
   "execution_count": 22,
   "id": "fc6d90f2-c3a7-413a-9d0b-bcfce78e8a4a",
   "metadata": {},
   "outputs": [],
   "source": [
    "main_dir = '/home/gridsan/gschuette/binz_group_shared/zlao/for_greg/'\n",
    "indices = {}\n",
    "indices['all'] = []\n",
    "for folder in os.listdir(main_dir):\n",
    "    sub_dir = main_dir + folder + '/'\n",
    "    chrom = folder.split('_')[-1]\n",
    "    indices[chrom] = []\n",
    "    for file in os.listdir(sub_dir):\n",
    "        indices[chrom].append( int(file.split('_')[-1].split('.')[0]) )\n",
    "        indices['all'].append(indices[chrom][-1])\n",
    "    indices[chrom].sort()\n",
    "    indices[chrom] = torch.tensor(indices[chrom])\n",
    "indices['all'].sort()\n",
    "indices['all'] = torch.tensor(indices['all']) "
   ]
  },
  {
   "cell_type": "code",
   "execution_count": 24,
   "id": "446e8e84-609f-4345-9ae7-377007f0bf33",
   "metadata": {},
   "outputs": [
    {
     "data": {
      "text/plain": [
       "tensor(11503)"
      ]
     },
     "execution_count": 24,
     "metadata": {},
     "output_type": "execute_result"
    }
   ],
   "source": [
    "indices['all'].max()"
   ]
  },
  {
   "cell_type": "code",
   "execution_count": 28,
   "id": "3d027447-8fc5-4a69-8c5d-9681bcf6062d",
   "metadata": {},
   "outputs": [
    {
     "data": {
      "text/plain": [
       "tensor([1])"
      ]
     },
     "execution_count": 28,
     "metadata": {},
     "output_type": "execute_result"
    }
   ],
   "source": [
    "(indices[chrom][1:] - indices[chrom][:-1]).unique()"
   ]
  },
  {
   "cell_type": "code",
   "execution_count": 1,
   "id": "bd8321a5-82b6-413f-8733-6ea9bbc62f9e",
   "metadata": {},
   "outputs": [
    {
     "ename": "KeyboardInterrupt",
     "evalue": "",
     "output_type": "error",
     "traceback": [
      "\u001b[0;31m---------------------------------------------------------------------------\u001b[0m",
      "\u001b[0;31mKeyboardInterrupt\u001b[0m                         Traceback (most recent call last)",
      "Cell \u001b[0;32mIn[1], line 46\u001b[0m\n\u001b[1;32m     43\u001b[0m chrom_idx\u001b[38;5;241m.\u001b[39mextend([chrom \u001b[38;5;28;01mfor\u001b[39;00m _ \u001b[38;5;129;01min\u001b[39;00m \u001b[38;5;28mrange\u001b[39m(\u001b[38;5;28mlen\u001b[39m(filenames))])\n\u001b[1;32m     45\u001b[0m \u001b[38;5;66;03m# Remove the gradient information upon loading data since it serves no purpose downstream. \u001b[39;00m\n\u001b[0;32m---> 46\u001b[0m data\u001b[38;5;241m.\u001b[39mextend([ \n\u001b[1;32m     47\u001b[0m     torch\u001b[38;5;241m.\u001b[39mload(filepath(idx),map_location\u001b[38;5;241m=\u001b[39mdevice)\u001b[38;5;241m.\u001b[39mrequires_grad_(\u001b[38;5;28;01mFalse\u001b[39;00m) \u001b[38;5;28;01mfor\u001b[39;00m idx \u001b[38;5;129;01min\u001b[39;00m idxs\n\u001b[1;32m     48\u001b[0m ])\n\u001b[1;32m     50\u001b[0m region_size\u001b[38;5;241m.\u001b[39mextend([\n\u001b[1;32m     51\u001b[0m     info_dict[chrom][idx,\u001b[38;5;241m1\u001b[39m]\u001b[38;5;241m-\u001b[39minfo_dict[chrom][idx,\u001b[38;5;241m0\u001b[39m] \u001b[38;5;28;01mfor\u001b[39;00m idx \u001b[38;5;129;01min\u001b[39;00m idxs\n\u001b[1;32m     52\u001b[0m ])\n\u001b[1;32m     54\u001b[0m start_idx\u001b[38;5;241m.\u001b[39mextend([\n\u001b[1;32m     55\u001b[0m     info_dict[chrom][idx,\u001b[38;5;241m0\u001b[39m] \u001b[38;5;28;01mfor\u001b[39;00m idx \u001b[38;5;129;01min\u001b[39;00m idxs\n\u001b[1;32m     56\u001b[0m ])\n",
      "Cell \u001b[0;32mIn[1], line 47\u001b[0m, in \u001b[0;36m<listcomp>\u001b[0;34m(.0)\u001b[0m\n\u001b[1;32m     43\u001b[0m chrom_idx\u001b[38;5;241m.\u001b[39mextend([chrom \u001b[38;5;28;01mfor\u001b[39;00m _ \u001b[38;5;129;01min\u001b[39;00m \u001b[38;5;28mrange\u001b[39m(\u001b[38;5;28mlen\u001b[39m(filenames))])\n\u001b[1;32m     45\u001b[0m \u001b[38;5;66;03m# Remove the gradient information upon loading data since it serves no purpose downstream. \u001b[39;00m\n\u001b[1;32m     46\u001b[0m data\u001b[38;5;241m.\u001b[39mextend([ \n\u001b[0;32m---> 47\u001b[0m     \u001b[43mtorch\u001b[49m\u001b[38;5;241;43m.\u001b[39;49m\u001b[43mload\u001b[49m\u001b[43m(\u001b[49m\u001b[43mfilepath\u001b[49m\u001b[43m(\u001b[49m\u001b[43midx\u001b[49m\u001b[43m)\u001b[49m\u001b[43m,\u001b[49m\u001b[43mmap_location\u001b[49m\u001b[38;5;241;43m=\u001b[39;49m\u001b[43mdevice\u001b[49m\u001b[43m)\u001b[49m\u001b[38;5;241m.\u001b[39mrequires_grad_(\u001b[38;5;28;01mFalse\u001b[39;00m) \u001b[38;5;28;01mfor\u001b[39;00m idx \u001b[38;5;129;01min\u001b[39;00m idxs\n\u001b[1;32m     48\u001b[0m ])\n\u001b[1;32m     50\u001b[0m region_size\u001b[38;5;241m.\u001b[39mextend([\n\u001b[1;32m     51\u001b[0m     info_dict[chrom][idx,\u001b[38;5;241m1\u001b[39m]\u001b[38;5;241m-\u001b[39minfo_dict[chrom][idx,\u001b[38;5;241m0\u001b[39m] \u001b[38;5;28;01mfor\u001b[39;00m idx \u001b[38;5;129;01min\u001b[39;00m idxs\n\u001b[1;32m     52\u001b[0m ])\n\u001b[1;32m     54\u001b[0m start_idx\u001b[38;5;241m.\u001b[39mextend([\n\u001b[1;32m     55\u001b[0m     info_dict[chrom][idx,\u001b[38;5;241m0\u001b[39m] \u001b[38;5;28;01mfor\u001b[39;00m idx \u001b[38;5;129;01min\u001b[39;00m idxs\n\u001b[1;32m     56\u001b[0m ])\n",
      "File \u001b[0;32m/state/partition1/llgrid/pkg/anaconda/python-LLM-2023b/lib/python3.10/site-packages/torch/serialization.py:792\u001b[0m, in \u001b[0;36mload\u001b[0;34m(f, map_location, pickle_module, weights_only, **pickle_load_args)\u001b[0m\n\u001b[1;32m    789\u001b[0m     pickle_load_args[\u001b[38;5;124m'\u001b[39m\u001b[38;5;124mencoding\u001b[39m\u001b[38;5;124m'\u001b[39m] \u001b[38;5;241m=\u001b[39m \u001b[38;5;124m'\u001b[39m\u001b[38;5;124mutf-8\u001b[39m\u001b[38;5;124m'\u001b[39m\n\u001b[1;32m    791\u001b[0m \u001b[38;5;28;01mwith\u001b[39;00m _open_file_like(f, \u001b[38;5;124m'\u001b[39m\u001b[38;5;124mrb\u001b[39m\u001b[38;5;124m'\u001b[39m) \u001b[38;5;28;01mas\u001b[39;00m opened_file:\n\u001b[0;32m--> 792\u001b[0m     \u001b[38;5;28;01mif\u001b[39;00m \u001b[43m_is_zipfile\u001b[49m\u001b[43m(\u001b[49m\u001b[43mopened_file\u001b[49m\u001b[43m)\u001b[49m:\n\u001b[1;32m    793\u001b[0m         \u001b[38;5;66;03m# The zipfile reader is going to advance the current file position.\u001b[39;00m\n\u001b[1;32m    794\u001b[0m         \u001b[38;5;66;03m# If we want to actually tail call to torch.jit.load, we need to\u001b[39;00m\n\u001b[1;32m    795\u001b[0m         \u001b[38;5;66;03m# reset back to the original position.\u001b[39;00m\n\u001b[1;32m    796\u001b[0m         orig_position \u001b[38;5;241m=\u001b[39m opened_file\u001b[38;5;241m.\u001b[39mtell()\n\u001b[1;32m    797\u001b[0m         \u001b[38;5;28;01mwith\u001b[39;00m _open_zipfile_reader(opened_file) \u001b[38;5;28;01mas\u001b[39;00m opened_zipfile:\n",
      "File \u001b[0;32m/state/partition1/llgrid/pkg/anaconda/python-LLM-2023b/lib/python3.10/site-packages/torch/serialization.py:78\u001b[0m, in \u001b[0;36m_is_zipfile\u001b[0;34m(f)\u001b[0m\n\u001b[1;32m     75\u001b[0m read_bytes \u001b[38;5;241m=\u001b[39m []\n\u001b[1;32m     76\u001b[0m start \u001b[38;5;241m=\u001b[39m f\u001b[38;5;241m.\u001b[39mtell()\n\u001b[0;32m---> 78\u001b[0m byte \u001b[38;5;241m=\u001b[39m \u001b[43mf\u001b[49m\u001b[38;5;241;43m.\u001b[39;49m\u001b[43mread\u001b[49m\u001b[43m(\u001b[49m\u001b[38;5;241;43m1\u001b[39;49m\u001b[43m)\u001b[49m\n\u001b[1;32m     79\u001b[0m \u001b[38;5;28;01mwhile\u001b[39;00m byte \u001b[38;5;241m!=\u001b[39m \u001b[38;5;124mb\u001b[39m\u001b[38;5;124m\"\u001b[39m\u001b[38;5;124m\"\u001b[39m:\n\u001b[1;32m     80\u001b[0m     read_bytes\u001b[38;5;241m.\u001b[39mappend(byte)\n",
      "\u001b[0;31mKeyboardInterrupt\u001b[0m: "
     ]
    }
   ],
   "source": [
    "import pandas as pd\n",
    "import torch \n",
    "import os \n",
    "\n",
    "# Where are files located? \n",
    "embeddings_main_dir = '../../../data/raw_embeddings/'\n",
    "\n",
    "# Load Zhuohan's dictionary that relates file indices to genomic regions\n",
    "info_dict = pd.read_pickle(embeddings_main_dir + 'my_dict.pickle')\n",
    "\n",
    "# The following function parses the filenames to provide the index within \n",
    "# Zhuohan's dictionary, allowing us to extract relevant information. \n",
    "parse_filename = lambda f: int( f.split('_')[-1].split('.')[0] )\n",
    "\n",
    "# We will store this data in the CPU RAM except when being actively used, so we'll map all the files to\n",
    "# the CPU upon loading to save it there later. \n",
    "device = torch.device('cpu')\n",
    "\n",
    "# Load all of the data in the usual ordering of chromosomes.\n",
    "# Keep track of region length, chromosome number, & starting genomic position\n",
    "# to aid with indexing in the dataloader. \n",
    "chroms = [f'{k}' for k in range(1,23)]\n",
    "chroms.append('X')\n",
    "data = []\n",
    "region_size = [] \n",
    "chrom_idx = []   \n",
    "start_idx = []\n",
    "for chrom in chroms: \n",
    "\n",
    "    # Define some objects used repeatedly in the following loop.\n",
    "    subdir = embeddings_main_dir + f'run_scripts_{chrom}/'\n",
    "    filepath = lambda idx: subdir + f'chr_{chrom}_{idx}.pt'\n",
    "\n",
    "    # The the files that exist \n",
    "    filenames = os.listdir(subdir)\n",
    "\n",
    "    # Indices are easy to obtain \n",
    "    idxs = [parse_filename(fn) for fn in filenames]\n",
    "\n",
    "    # They can be used in one liners to improve speed a bit.\n",
    "    \n",
    "    # No need to append to chrom_idx repeatedly in the inner loop\n",
    "    chrom_idx.extend([chrom for _ in range(len(filenames))])\n",
    "\n",
    "    # Remove the gradient information upon loading data since it serves no purpose downstream. \n",
    "    data.extend([ \n",
    "        torch.load(filepath(idx),map_location=device).requires_grad_(False) for idx in idxs\n",
    "    ])\n",
    "    \n",
    "    region_size.extend([\n",
    "        info_dict[chrom][idx,1]-info_dict[chrom][idx,0] for idx in idxs\n",
    "    ])\n",
    "\n",
    "    start_idx.extend([\n",
    "        info_dict[chrom][idx,0] for idx in idxs\n",
    "    ])\n",
    "\n",
    "# Place values into a dataframe so that we can easily sort them. \n",
    "embed_df = pd.DataFrame()\n",
    "embed_df['Region_Size'] = region_size\n",
    "embed_df['Chromosome'] = chrom_idx\n",
    "embed_df['Genomic_Index'] = start_idx\n",
    "embed_df['Data'] = data\n",
    "del region_size, chrom_idx, start_idx, data\n",
    "\n",
    "# Organize the data by sorting\n",
    "idx_cols = ['Region_Size','Chromosome','Genomic_Index']\n",
    "embed_df.sort_values(by=idx_cols,axis='index',ignore_index=True,inplace=True)\n",
    "\n",
    "# TEMPORARY. Just in case the following code fails when running. \n",
    "embed_df.to_hdf('data.hdf',complevel=9)\n",
    "\n",
    "# Create a MultiIndex for easier fetching of data inside of the DataLoader later on. \n",
    "embed_df.index = pd.MultiIndex.from_tuples(\n",
    "    list(map(tuple,embed_df[idx_cols].values)),\n",
    "    names=idx_cols\n",
    ")\n",
    "\n",
    "# Drop the now-redundant columns\n",
    "embed_df.drop(columns=idx_cols,inplace=True)\n",
    "\n",
    "# Save the processed data to the canonical HDF file\n",
    "embed_df.to_hdf(\n",
    "    data_filepath,\n",
    "    key='Embeddings',\n",
    "    complevel=9,\n",
    "    \n",
    ")\n"
   ]
  },
  {
   "cell_type": "code",
   "execution_count": 1,
   "id": "747c5f94-4401-4670-909e-dbcc7ef6a485",
   "metadata": {},
   "outputs": [
    {
     "name": "stderr",
     "output_type": "stream",
     "text": [
      "Process ForkPoolWorker-1:\n",
      "Process ForkPoolWorker-2:\n",
      "Traceback (most recent call last):\n",
      "  File \"/state/partition1/llgrid/pkg/anaconda/python-LLM-2023b/lib/python3.10/multiprocessing/process.py\", line 314, in _bootstrap\n",
      "    self.run()\n",
      "Traceback (most recent call last):\n",
      "  File \"/state/partition1/llgrid/pkg/anaconda/python-LLM-2023b/lib/python3.10/multiprocessing/process.py\", line 108, in run\n",
      "    self._target(*self._args, **self._kwargs)\n",
      "  File \"/state/partition1/llgrid/pkg/anaconda/python-LLM-2023b/lib/python3.10/multiprocessing/process.py\", line 314, in _bootstrap\n",
      "    self.run()\n",
      "  File \"/state/partition1/llgrid/pkg/anaconda/python-LLM-2023b/lib/python3.10/multiprocessing/pool.py\", line 114, in worker\n",
      "    task = get()\n",
      "  File \"/state/partition1/llgrid/pkg/anaconda/python-LLM-2023b/lib/python3.10/multiprocessing/process.py\", line 108, in run\n",
      "    self._target(*self._args, **self._kwargs)\n",
      "  File \"/state/partition1/llgrid/pkg/anaconda/python-LLM-2023b/lib/python3.10/multiprocessing/queues.py\", line 367, in get\n",
      "    return _ForkingPickler.loads(res)\n",
      "  File \"/state/partition1/llgrid/pkg/anaconda/python-LLM-2023b/lib/python3.10/multiprocessing/pool.py\", line 114, in worker\n",
      "    task = get()\n",
      "AttributeError: Can't get attribute 'load_data' on <module '__main__'>\n",
      "  File \"/state/partition1/llgrid/pkg/anaconda/python-LLM-2023b/lib/python3.10/multiprocessing/queues.py\", line 367, in get\n",
      "    return _ForkingPickler.loads(res)\n",
      "AttributeError: Can't get attribute 'load_data' on <module '__main__'>\n",
      "Process ForkPoolWorker-3:\n",
      "Process ForkPoolWorker-4:\n",
      "Traceback (most recent call last):\n",
      "Traceback (most recent call last):\n",
      "  File \"/state/partition1/llgrid/pkg/anaconda/python-LLM-2023b/lib/python3.10/multiprocessing/process.py\", line 314, in _bootstrap\n",
      "    self.run()\n",
      "  File \"/state/partition1/llgrid/pkg/anaconda/python-LLM-2023b/lib/python3.10/multiprocessing/process.py\", line 314, in _bootstrap\n",
      "    self.run()\n",
      "  File \"/state/partition1/llgrid/pkg/anaconda/python-LLM-2023b/lib/python3.10/multiprocessing/process.py\", line 108, in run\n",
      "    self._target(*self._args, **self._kwargs)\n",
      "  File \"/state/partition1/llgrid/pkg/anaconda/python-LLM-2023b/lib/python3.10/multiprocessing/process.py\", line 108, in run\n",
      "    self._target(*self._args, **self._kwargs)\n",
      "  File \"/state/partition1/llgrid/pkg/anaconda/python-LLM-2023b/lib/python3.10/multiprocessing/pool.py\", line 114, in worker\n",
      "    task = get()\n",
      "  File \"/state/partition1/llgrid/pkg/anaconda/python-LLM-2023b/lib/python3.10/multiprocessing/pool.py\", line 114, in worker\n",
      "    task = get()\n",
      "  File \"/state/partition1/llgrid/pkg/anaconda/python-LLM-2023b/lib/python3.10/multiprocessing/queues.py\", line 364, in get\n",
      "    with self._rlock:\n",
      "  File \"/state/partition1/llgrid/pkg/anaconda/python-LLM-2023b/lib/python3.10/multiprocessing/queues.py\", line 365, in get\n",
      "    res = self._reader.recv_bytes()\n",
      "  File \"/state/partition1/llgrid/pkg/anaconda/python-LLM-2023b/lib/python3.10/multiprocessing/synchronize.py\", line 95, in __enter__\n",
      "    return self._semlock.__enter__()\n",
      "  File \"/state/partition1/llgrid/pkg/anaconda/python-LLM-2023b/lib/python3.10/multiprocessing/connection.py\", line 216, in recv_bytes\n",
      "    buf = self._recv_bytes(maxlength)\n",
      "KeyboardInterrupt\n",
      "  File \"/state/partition1/llgrid/pkg/anaconda/python-LLM-2023b/lib/python3.10/multiprocessing/connection.py\", line 414, in _recv_bytes\n",
      "    buf = self._recv(4)\n",
      "  File \"/state/partition1/llgrid/pkg/anaconda/python-LLM-2023b/lib/python3.10/multiprocessing/connection.py\", line 379, in _recv\n",
      "    chunk = read(handle, remaining)\n",
      "KeyboardInterrupt\n"
     ]
    },
    {
     "ename": "KeyboardInterrupt",
     "evalue": "",
     "output_type": "error",
     "traceback": [
      "\u001b[0;31m---------------------------------------------------------------------------\u001b[0m",
      "\u001b[0;31mKeyboardInterrupt\u001b[0m                         Traceback (most recent call last)",
      "Cell \u001b[0;32mIn[1], line 54\u001b[0m\n\u001b[1;32m     51\u001b[0m data_dict \u001b[38;5;241m=\u001b[39m {\u001b[38;5;124mf\u001b[39m\u001b[38;5;124m'\u001b[39m\u001b[38;5;132;01m{\u001b[39;00midx\u001b[38;5;132;01m}\u001b[39;00m\u001b[38;5;124m'\u001b[39m:\u001b[38;5;28;01mNone\u001b[39;00m \u001b[38;5;28;01mfor\u001b[39;00m idx \u001b[38;5;129;01min\u001b[39;00m idxs}\n\u001b[1;32m     53\u001b[0m \u001b[38;5;66;03m# Load the data \u001b[39;00m\n\u001b[0;32m---> 54\u001b[0m \u001b[43mpool\u001b[49m\u001b[38;5;241;43m.\u001b[39;49m\u001b[43mmap\u001b[49m\u001b[43m(\u001b[49m\u001b[43mload_data\u001b[49m\u001b[43m,\u001b[49m\u001b[43m \u001b[49m\u001b[43m[\u001b[49m\u001b[43m(\u001b[49m\u001b[43mchrom\u001b[49m\u001b[43m,\u001b[49m\u001b[43midx\u001b[49m\u001b[43m,\u001b[49m\u001b[43mdata_dict\u001b[49m\u001b[43m)\u001b[49m\u001b[43m \u001b[49m\u001b[38;5;28;43;01mfor\u001b[39;49;00m\u001b[43m \u001b[49m\u001b[43midx\u001b[49m\u001b[43m \u001b[49m\u001b[38;5;129;43;01min\u001b[39;49;00m\u001b[43m \u001b[49m\u001b[43midxs\u001b[49m\u001b[43m[\u001b[49m\u001b[43m:\u001b[49m\u001b[38;5;241;43m2\u001b[39;49m\u001b[43m]\u001b[49m\u001b[43m]\u001b[49m\u001b[43m)\u001b[49m\n\u001b[1;32m     56\u001b[0m \u001b[38;5;28;01mbreak\u001b[39;00m\n\u001b[1;32m     59\u001b[0m \u001b[38;5;66;03m# No need to append to chrom_idx repeatedly in the inner loop\u001b[39;00m\n",
      "File \u001b[0;32m/state/partition1/llgrid/pkg/anaconda/python-LLM-2023b/lib/python3.10/multiprocessing/pool.py:367\u001b[0m, in \u001b[0;36mPool.map\u001b[0;34m(self, func, iterable, chunksize)\u001b[0m\n\u001b[1;32m    362\u001b[0m \u001b[38;5;28;01mdef\u001b[39;00m \u001b[38;5;21mmap\u001b[39m(\u001b[38;5;28mself\u001b[39m, func, iterable, chunksize\u001b[38;5;241m=\u001b[39m\u001b[38;5;28;01mNone\u001b[39;00m):\n\u001b[1;32m    363\u001b[0m \u001b[38;5;250m    \u001b[39m\u001b[38;5;124;03m'''\u001b[39;00m\n\u001b[1;32m    364\u001b[0m \u001b[38;5;124;03m    Apply `func` to each element in `iterable`, collecting the results\u001b[39;00m\n\u001b[1;32m    365\u001b[0m \u001b[38;5;124;03m    in a list that is returned.\u001b[39;00m\n\u001b[1;32m    366\u001b[0m \u001b[38;5;124;03m    '''\u001b[39;00m\n\u001b[0;32m--> 367\u001b[0m     \u001b[38;5;28;01mreturn\u001b[39;00m \u001b[38;5;28;43mself\u001b[39;49m\u001b[38;5;241;43m.\u001b[39;49m\u001b[43m_map_async\u001b[49m\u001b[43m(\u001b[49m\u001b[43mfunc\u001b[49m\u001b[43m,\u001b[49m\u001b[43m \u001b[49m\u001b[43miterable\u001b[49m\u001b[43m,\u001b[49m\u001b[43m \u001b[49m\u001b[43mmapstar\u001b[49m\u001b[43m,\u001b[49m\u001b[43m \u001b[49m\u001b[43mchunksize\u001b[49m\u001b[43m)\u001b[49m\u001b[38;5;241;43m.\u001b[39;49m\u001b[43mget\u001b[49m\u001b[43m(\u001b[49m\u001b[43m)\u001b[49m\n",
      "File \u001b[0;32m/state/partition1/llgrid/pkg/anaconda/python-LLM-2023b/lib/python3.10/multiprocessing/pool.py:768\u001b[0m, in \u001b[0;36mApplyResult.get\u001b[0;34m(self, timeout)\u001b[0m\n\u001b[1;32m    767\u001b[0m \u001b[38;5;28;01mdef\u001b[39;00m \u001b[38;5;21mget\u001b[39m(\u001b[38;5;28mself\u001b[39m, timeout\u001b[38;5;241m=\u001b[39m\u001b[38;5;28;01mNone\u001b[39;00m):\n\u001b[0;32m--> 768\u001b[0m     \u001b[38;5;28;43mself\u001b[39;49m\u001b[38;5;241;43m.\u001b[39;49m\u001b[43mwait\u001b[49m\u001b[43m(\u001b[49m\u001b[43mtimeout\u001b[49m\u001b[43m)\u001b[49m\n\u001b[1;32m    769\u001b[0m     \u001b[38;5;28;01mif\u001b[39;00m \u001b[38;5;129;01mnot\u001b[39;00m \u001b[38;5;28mself\u001b[39m\u001b[38;5;241m.\u001b[39mready():\n\u001b[1;32m    770\u001b[0m         \u001b[38;5;28;01mraise\u001b[39;00m \u001b[38;5;167;01mTimeoutError\u001b[39;00m\n",
      "File \u001b[0;32m/state/partition1/llgrid/pkg/anaconda/python-LLM-2023b/lib/python3.10/multiprocessing/pool.py:765\u001b[0m, in \u001b[0;36mApplyResult.wait\u001b[0;34m(self, timeout)\u001b[0m\n\u001b[1;32m    764\u001b[0m \u001b[38;5;28;01mdef\u001b[39;00m \u001b[38;5;21mwait\u001b[39m(\u001b[38;5;28mself\u001b[39m, timeout\u001b[38;5;241m=\u001b[39m\u001b[38;5;28;01mNone\u001b[39;00m):\n\u001b[0;32m--> 765\u001b[0m     \u001b[38;5;28;43mself\u001b[39;49m\u001b[38;5;241;43m.\u001b[39;49m\u001b[43m_event\u001b[49m\u001b[38;5;241;43m.\u001b[39;49m\u001b[43mwait\u001b[49m\u001b[43m(\u001b[49m\u001b[43mtimeout\u001b[49m\u001b[43m)\u001b[49m\n",
      "File \u001b[0;32m/state/partition1/llgrid/pkg/anaconda/python-LLM-2023b/lib/python3.10/threading.py:607\u001b[0m, in \u001b[0;36mEvent.wait\u001b[0;34m(self, timeout)\u001b[0m\n\u001b[1;32m    605\u001b[0m signaled \u001b[38;5;241m=\u001b[39m \u001b[38;5;28mself\u001b[39m\u001b[38;5;241m.\u001b[39m_flag\n\u001b[1;32m    606\u001b[0m \u001b[38;5;28;01mif\u001b[39;00m \u001b[38;5;129;01mnot\u001b[39;00m signaled:\n\u001b[0;32m--> 607\u001b[0m     signaled \u001b[38;5;241m=\u001b[39m \u001b[38;5;28;43mself\u001b[39;49m\u001b[38;5;241;43m.\u001b[39;49m\u001b[43m_cond\u001b[49m\u001b[38;5;241;43m.\u001b[39;49m\u001b[43mwait\u001b[49m\u001b[43m(\u001b[49m\u001b[43mtimeout\u001b[49m\u001b[43m)\u001b[49m\n\u001b[1;32m    608\u001b[0m \u001b[38;5;28;01mreturn\u001b[39;00m signaled\n",
      "File \u001b[0;32m/state/partition1/llgrid/pkg/anaconda/python-LLM-2023b/lib/python3.10/threading.py:320\u001b[0m, in \u001b[0;36mCondition.wait\u001b[0;34m(self, timeout)\u001b[0m\n\u001b[1;32m    318\u001b[0m \u001b[38;5;28;01mtry\u001b[39;00m:    \u001b[38;5;66;03m# restore state no matter what (e.g., KeyboardInterrupt)\u001b[39;00m\n\u001b[1;32m    319\u001b[0m     \u001b[38;5;28;01mif\u001b[39;00m timeout \u001b[38;5;129;01mis\u001b[39;00m \u001b[38;5;28;01mNone\u001b[39;00m:\n\u001b[0;32m--> 320\u001b[0m         \u001b[43mwaiter\u001b[49m\u001b[38;5;241;43m.\u001b[39;49m\u001b[43macquire\u001b[49m\u001b[43m(\u001b[49m\u001b[43m)\u001b[49m\n\u001b[1;32m    321\u001b[0m         gotit \u001b[38;5;241m=\u001b[39m \u001b[38;5;28;01mTrue\u001b[39;00m\n\u001b[1;32m    322\u001b[0m     \u001b[38;5;28;01melse\u001b[39;00m:\n",
      "\u001b[0;31mKeyboardInterrupt\u001b[0m: "
     ]
    }
   ],
   "source": [
    "import pandas as pd\n",
    "import torch \n",
    "import os \n",
    "from multiprocessing import Pool\n",
    "\n",
    "processes_count = 2\n",
    "\n",
    "pool = Pool(processes_count) \n",
    "\n",
    "def load_data(chrom,idx,data_dict):\n",
    "    data_dict[idx] = torch.load(filepath(chrom,idx),map_location=device).requires_grad_(False)\n",
    "\n",
    "# Where are files located? \n",
    "embeddings_main_dir = '../../../data/raw_embeddings/'\n",
    "\n",
    "# Load Zhuohan's dictionary that relates file indices to genomic regions\n",
    "info_dict = pd.read_pickle(embeddings_main_dir + 'my_dict.pickle')\n",
    "\n",
    "# The following function parses the filenames to provide the index within \n",
    "# Zhuohan's dictionary, allowing us to extract relevant information. \n",
    "parse_filename = lambda f: int( f.split('_')[-1].split('.')[0] )\n",
    "\n",
    "# This is used when loading data\n",
    "filepath = lambda chrom,idx: subdir + f'chr_{chrom}_{idx}.pt'\n",
    "\n",
    "# We will store this data in the CPU RAM except when being actively used, so we'll map all the files to\n",
    "# the CPU upon loading to save it there later. \n",
    "device = torch.device('cpu')\n",
    "\n",
    "# Load all of the data in the usual ordering of chromosomes.\n",
    "# Keep track of region length, chromosome number, & starting genomic position\n",
    "# to aid with indexing in the dataloader. \n",
    "chroms = [f'{k}' for k in range(1,23)]\n",
    "chroms.append('X')\n",
    "data = []\n",
    "region_size = [] \n",
    "chrom_idx = []   \n",
    "start_idx = []\n",
    "for chrom in chroms: \n",
    "\n",
    "    # Define some objects used repeatedly in the following loop.\n",
    "    subdir = embeddings_main_dir + f'run_scripts_{chrom}/'\n",
    "\n",
    "    # Indices are easy to obtain from the list of files\n",
    "    idxs = [parse_filename(fn) for fn in os.listdir(subdir)]\n",
    "\n",
    "    # The indices can be used in one liners to improve speed a bit.\n",
    "    \n",
    "    # Initialize an object to hold data as it's loaded in parallel\n",
    "    # in an organized fashion. \n",
    "    data_dict = {f'{idx}':None for idx in idxs}\n",
    "\n",
    "    # Load the data \n",
    "    pool.map(load_data, [(chrom,idx,data_dict) for idx in idxs[:2]])\n",
    "\n",
    "    break\n",
    "    \n",
    "    \n",
    "    # No need to append to chrom_idx repeatedly in the inner loop\n",
    "    chrom_idx.extend([chrom for _ in range(len(filenames))])\n",
    "\n",
    "    # Remove the gradient information upon loading data since it serves no purpose downstream. \n",
    "    data.extend([ \n",
    "        torch.load(filepath(idx),map_location=device).requires_grad_(False) for idx in idxs\n",
    "    ])\n",
    "    \n",
    "    region_size.extend([\n",
    "        info_dict[chrom][idx,1]-info_dict[chrom][idx,0] for idx in idxs\n",
    "    ])\n",
    "\n",
    "    start_idx.extend([\n",
    "        info_dict[chrom][idx,0] for idx in idxs\n",
    "    ])\n",
    "\n",
    "# Place values into a dataframe so that we can easily sort them. \n",
    "embed_df = pd.DataFrame()\n",
    "embed_df['Region_Size'] = region_size\n",
    "embed_df['Chromosome'] = chrom_idx\n",
    "embed_df['Genomic_Index'] = start_idx\n",
    "embed_df['Data'] = data\n",
    "del region_size, chrom_idx, start_idx, data\n",
    "\n",
    "# Organize the data by sorting\n",
    "idx_cols = ['Region_Size','Chromosome','Genomic_Index']\n",
    "embed_df.sort_values(by=idx_cols,axis='index',ignore_index=True,inplace=True)\n",
    "\n",
    "# TEMPORARY. Just in case the following code fails when running. \n",
    "embed_df.to_hdf('data.hdf',complevel=9)\n",
    "\n",
    "# Create a MultiIndex for easier fetching of data inside of the DataLoader later on. \n",
    "embed_df.index = pd.MultiIndex.from_tuples(\n",
    "    list(map(tuple,embed_df[idx_cols].values)),\n",
    "    names=idx_cols\n",
    ")\n",
    "\n",
    "# Drop the now-redundant columns\n",
    "embed_df.drop(columns=idx_cols,inplace=True)\n",
    "\n",
    "# Save the processed data to the canonical HDF file\n",
    "embed_df.to_hdf(\n",
    "    data_filepath,\n",
    "    key='Embeddings',\n",
    "    complevel=9,\n",
    "    \n",
    ")\n"
   ]
  },
  {
   "cell_type": "code",
   "execution_count": 3,
   "id": "26c41d3e-913e-4c96-bb44-9d7e839eca93",
   "metadata": {},
   "outputs": [
    {
     "data": {
      "text/plain": [
       "<function __main__.load_data(chrom, idx, data_dict)>"
      ]
     },
     "execution_count": 3,
     "metadata": {},
     "output_type": "execute_result"
    }
   ],
   "source": [
    "load_data"
   ]
  },
  {
   "cell_type": "code",
   "execution_count": null,
   "id": "e3c1af4b-870a-4fa0-8b0d-5e53754ffc1a",
   "metadata": {},
   "outputs": [],
   "source": []
  },
  {
   "cell_type": "code",
   "execution_count": null,
   "id": "8e3b9df7-1440-4477-b3b1-b8c553ffa148",
   "metadata": {},
   "outputs": [],
   "source": []
  },
  {
   "cell_type": "code",
   "execution_count": null,
   "id": "9221faa0-5a75-42d9-81b4-c796f9c3cd13",
   "metadata": {},
   "outputs": [],
   "source": []
  },
  {
   "cell_type": "code",
   "execution_count": null,
   "id": "4d8e031f-b5ff-4318-a8d5-df6c73293e06",
   "metadata": {},
   "outputs": [],
   "source": []
  },
  {
   "cell_type": "code",
   "execution_count": null,
   "id": "9d84a85b-0220-4b47-9343-34dd4f64bcbd",
   "metadata": {},
   "outputs": [],
   "source": []
  },
  {
   "cell_type": "code",
   "execution_count": 29,
   "id": "7235c0f2-a5b9-47fe-9188-0f1d05be8859",
   "metadata": {},
   "outputs": [],
   "source": [
    "import pandas as pd\n",
    "\n",
    "a = pd.read_csv('../../../data/genomic_regions.tsv',sep='\\t')"
   ]
  },
  {
   "cell_type": "code",
   "execution_count": 2,
   "id": "14c66e7c-1ebd-4edc-8109-6312107b6e3e",
   "metadata": {},
   "outputs": [
    {
     "ename": "NameError",
     "evalue": "name 'data_df' is not defined",
     "output_type": "error",
     "traceback": [
      "\u001b[0;31m---------------------------------------------------------------------------\u001b[0m",
      "\u001b[0;31mNameError\u001b[0m                                 Traceback (most recent call last)",
      "Cell \u001b[0;32mIn[2], line 75\u001b[0m\n\u001b[1;32m     71\u001b[0m \u001b[38;5;28;01mdel\u001b[39;00m regions_df\n\u001b[1;32m     73\u001b[0m \u001b[38;5;66;03m# Place all the data into a DataFrame object that contains columns for \u001b[39;00m\n\u001b[1;32m     74\u001b[0m \u001b[38;5;66;03m# genomic index of starting position, chromosome label, and the data\u001b[39;00m\n\u001b[0;32m---> 75\u001b[0m data_df \u001b[38;5;241m=\u001b[39m pd\u001b[38;5;241m.\u001b[39mconcat(\u001b[43mdata_df\u001b[49m,axis\u001b[38;5;241m=\u001b[39m\u001b[38;5;241m0\u001b[39m,ignore_index\u001b[38;5;241m=\u001b[39m\u001b[38;5;28;01mFalse\u001b[39;00m) \n\u001b[1;32m     77\u001b[0m \u001b[38;5;66;03m#processed_df = pd.concat(subregion_dfs,axis=0,ignore_index=True)[['Chromosome','Start']]\u001b[39;00m\n\u001b[1;32m     78\u001b[0m \u001b[38;5;66;03m#processed_df.rename(columns={'Start':'Genomic_Index'},inplace=True)\u001b[39;00m\n\u001b[1;32m     79\u001b[0m \u001b[38;5;66;03m#processed_df['Data'] = data\u001b[39;00m\n",
      "\u001b[0;31mNameError\u001b[0m: name 'data_df' is not defined"
     ]
    }
   ],
   "source": [
    "import pandas as pd\n",
    "import torch \n",
    "import os \n",
    "\n",
    "# Where are files located? \n",
    "embeddings_main_dir = '../../../data/raw_embeddings/'\n",
    "tsv_filepath = '../../../data/genomic_regions.tsv'\n",
    "\n",
    "# We will store this data in the CPU RAM except when being actively used, so we'll map all the files to\n",
    "# the CPU upon loading to save it there later. \n",
    "device = torch.device('cpu') \n",
    "\n",
    "# Load the tsv file used to generate data, whose ordering is relevant to the genomic region/chromosome. \n",
    "regions_df = pd.read_csv(tsv_filepath,sep='\\t',index_col=0)\n",
    "\n",
    "# Break the tsv file into multiple DataFrames, one for each chromosome, since that's how \n",
    "# Zhuohan organized the files. Also, reset the index, as Zhuohan labeled the data files \n",
    "# by order of appearance within the context of each individual chromosome. \n",
    "# To simplify the eventual file's organization, I'll load & save the files in a sorted manner. \n",
    "subregion_dfs = {}\n",
    "chroms = [f'{k}' for k in range(1,23)]\n",
    "chroms.append('X')\n",
    "data_dfs = []\n",
    "for chrom in chroms:\n",
    "    \n",
    "    # Get the relevant subsection from the complete DataFrame. \n",
    "    subregion_df = regions_df[regions_df['Chromosome']==chrom].copy()\n",
    "\n",
    "    # Reset the index for this subset, as Zhuohan labeled the data files by\n",
    "    # order of appearance within the context of that chromosome. \n",
    "    subregion_df.reset_index(drop=True,inplace=True)\n",
    "\n",
    "    # Sort the data according to Genomic Index to simplify the organization\n",
    "    # of data in the eventual save file. \n",
    "    subregion_df.sort_values(by='Start',axis='index',ignore_index=False,inplace=True)\n",
    "    \n",
    "    # Load data in the order of this now-sorted information, which is contained in a subdirectory\n",
    "    filepath = lambda idx: embeddings_main_dir + f'run_scripts_{chrom}/chr_{chrom}_{idx}.pt'\n",
    "    idxs_to_drop = []\n",
    "    data = []\n",
    "    n=0\n",
    "    for idx,row in subregion_df.iterrows():\n",
    "        # Remove gradient information upon loading since it serves no purpose for \n",
    "        # its downstream usage. \n",
    "        try: \n",
    "            data.append( torch.load(filepath(idx),map_location=device).requires_grad_(False) )\n",
    "        except: \n",
    "            # File doesn't exist \n",
    "            idxs_to_drop.append(idx) \n",
    "        n+=1\n",
    "        if n>1000:\n",
    "            break\n",
    "    subregion_df.drop(index=idxs_to_drop,inplace=True)\n",
    "\n",
    "    index = pd.MultiIndex.from_tuples(\n",
    "        list(map(tuple,subregion_df[['Chromosome','Start']].values[:len(data),:])),\n",
    "        names=['Chromosome','Start']\n",
    "    )\n",
    "    break\n",
    "\n",
    "    index = pd.MultiIndex.from_tuples(\n",
    "        list(map(tuple,subregion_df[['Chromosome','Start']].values)),\n",
    "        names=['Chromosome','Start']\n",
    "    )\n",
    "\n",
    "    data_df = pd.DataFrame(data,index=index)\n",
    "    data_df['Chromosome'] = chrom \n",
    "    data_dfs.append(data_df)\n",
    "    del data_df \n",
    "\n",
    "del regions_df\n",
    "\n",
    "# Place all the data into a DataFrame object that contains columns for \n",
    "# genomic index of starting position, chromosome label, and the data\n",
    "data_df = pd.concat(data_dfs,axis=0,ignore_index=False) \n",
    "\n",
    "#processed_df = pd.concat(subregion_dfs,axis=0,ignore_index=True)[['Chromosome','Start']]\n",
    "#processed_df.rename(columns={'Start':'Genomic_Index'},inplace=True)\n",
    "#processed_df['Data'] = data\n",
    "\n",
    "\n"
   ]
  },
  {
   "cell_type": "code",
   "execution_count": null,
   "id": "e2bff9e3-724d-49f1-b9bd-04c76e945bb4",
   "metadata": {},
   "outputs": [],
   "source": [
    "data_df"
   ]
  },
  {
   "cell_type": "code",
   "execution_count": 3,
   "id": "2f406a1d-622e-4dd1-8dcf-569032bebab2",
   "metadata": {},
   "outputs": [],
   "source": [
    "t = pd.DataFrame()\n",
    "t['Data'] = data\n",
    "t.index = index"
   ]
  },
  {
   "cell_type": "code",
   "execution_count": null,
   "id": "27e41a45-aaa0-483c-8762-cc8dc36143a2",
   "metadata": {},
   "outputs": [],
   "source": []
  },
  {
   "cell_type": "code",
   "execution_count": 23,
   "id": "de2083c5-866a-4b28-8cbd-194e86e82ec6",
   "metadata": {},
   "outputs": [
    {
     "data": {
      "text/plain": [
       "MultiIndex([('1', 800000),\n",
       "            ('1', 820000),\n",
       "            ('1', 840000),\n",
       "            ('1', 860000),\n",
       "            ('1', 880000),\n",
       "            ('1', 900000),\n",
       "            ('1', 920000),\n",
       "            ('1', 940000),\n",
       "            ('1', 960000),\n",
       "            ('1', 980000)],\n",
       "           names=['Chromosome', 'Start'])"
      ]
     },
     "execution_count": 23,
     "metadata": {},
     "output_type": "execute_result"
    }
   ],
   "source": [
    "t[:10].index"
   ]
  },
  {
   "cell_type": "code",
   "execution_count": 27,
   "id": "81f46919-5ada-488a-8682-6f6ce9894611",
   "metadata": {},
   "outputs": [
    {
     "name": "stdout",
     "output_type": "stream",
     "text": [
      "0.002743244171142578\n"
     ]
    }
   ],
   "source": [
    "import time\n",
    "tt = time.time()\n",
    "idx = t[0:20:2].index\n",
    "t.loc[idx].values\n",
    "tt-= time.time()\n",
    "tt*= -1 \n",
    "print(tt)"
   ]
  },
  {
   "cell_type": "code",
   "execution_count": 18,
   "id": "e8b39506-9e1d-42d6-a845-6c387106fbae",
   "metadata": {},
   "outputs": [],
   "source": [
    "a = t.loc[('1',800000)].values[0][0,...]"
   ]
  },
  {
   "cell_type": "code",
   "execution_count": 19,
   "id": "f7c5c09e-162c-4209-938c-a945543d2ce6",
   "metadata": {},
   "outputs": [
    {
     "data": {
      "text/plain": [
       "torch.Size([260, 256])"
      ]
     },
     "execution_count": 19,
     "metadata": {},
     "output_type": "execute_result"
    }
   ],
   "source": [
    "a.shape"
   ]
  },
  {
   "cell_type": "code",
   "execution_count": 20,
   "id": "88935b4d-92d1-4572-bcf6-6d363f37eb6a",
   "metadata": {},
   "outputs": [
    {
     "data": {
      "text/plain": [
       "<matplotlib.colorbar.Colorbar at 0x7fd6f89c38b0>"
      ]
     },
     "execution_count": 20,
     "metadata": {},
     "output_type": "execute_result"
    },
    {
     "data": {
      "image/png": "[encoded data removed]",
      "text/plain": [
       "<Figure size 472.615x480 with 2 Axes>"
      ]
     },
     "metadata": {},
     "output_type": "display_data"
    }
   ],
   "source": [
    "import matplotlib.pyplot as plt\n",
    "plt.matshow(a) \n",
    "plt.colorbar()"
   ]
  },
  {
   "cell_type": "code",
   "execution_count": 129,
   "id": "5797d339-8163-4229-abde-ca2c9d584e6b",
   "metadata": {},
   "outputs": [
    {
     "ename": "AssertionError",
     "evalue": "",
     "output_type": "error",
     "traceback": [
      "\u001b[0;31m---------------------------------------------------------------------------\u001b[0m",
      "\u001b[0;31mAssertionError\u001b[0m                            Traceback (most recent call last)",
      "Cell \u001b[0;32mIn[129], line 6\u001b[0m\n\u001b[1;32m      2\u001b[0m \u001b[38;5;28;01mfor\u001b[39;00m chrom \u001b[38;5;129;01min\u001b[39;00m zhuohan_dict: \n\u001b[1;32m      4\u001b[0m     idxs \u001b[38;5;241m=\u001b[39m [ \u001b[38;5;28mint\u001b[39m(fn\u001b[38;5;241m.\u001b[39msplit(\u001b[38;5;124m'\u001b[39m\u001b[38;5;124m_\u001b[39m\u001b[38;5;124m'\u001b[39m)[\u001b[38;5;241m-\u001b[39m\u001b[38;5;241m1\u001b[39m]\u001b[38;5;241m.\u001b[39msplit(\u001b[38;5;124m'\u001b[39m\u001b[38;5;124m.\u001b[39m\u001b[38;5;124m'\u001b[39m)[\u001b[38;5;241m0\u001b[39m]) \u001b[38;5;28;01mfor\u001b[39;00m fn \u001b[38;5;129;01min\u001b[39;00m os\u001b[38;5;241m.\u001b[39mlistdir(embeddings_main_dir\u001b[38;5;241m+\u001b[39m\u001b[38;5;124mf\u001b[39m\u001b[38;5;124m'\u001b[39m\u001b[38;5;124mrun_scripts_\u001b[39m\u001b[38;5;132;01m{\u001b[39;00mchrom\u001b[38;5;132;01m}\u001b[39;00m\u001b[38;5;124m/\u001b[39m\u001b[38;5;124m'\u001b[39m) ]\n\u001b[0;32m----> 6\u001b[0m     \u001b[38;5;28;01massert\u001b[39;00m \u001b[38;5;28mlen\u001b[39m(idxs) \u001b[38;5;241m==\u001b[39m \u001b[38;5;28mlen\u001b[39m(zhuohan_dict[chrom][:,\u001b[38;5;241m0\u001b[39m])\n",
      "\u001b[0;31mAssertionError\u001b[0m: "
     ]
    }
   ],
   "source": [
    "embeddings_main_dir = '../../../data/raw_embeddings/'\n",
    "for chrom in zhuohan_dict: \n",
    "\n",
    "    idxs = [ int(fn.split('_')[-1].split('.')[0]) for fn in os.listdir(embeddings_main_dir+f'run_scripts_{chrom}/') ]\n",
    "\n",
    "    assert len(idxs) == len(zhuohan_dict[chrom][:,0])\n",
    "\n",
    "    "
   ]
  },
  {
   "cell_type": "code",
   "execution_count": 132,
   "id": "d96600f8-7f56-4489-8d6c-7021c4788c64",
   "metadata": {},
   "outputs": [
    {
     "data": {
      "text/plain": [
       "True"
      ]
     },
     "execution_count": 132,
     "metadata": {},
     "output_type": "execute_result"
    }
   ],
   "source": [
    "chrom = '2'\n",
    "path = lambda idx: embeddings_main_dir+f'run_scripts_{chrom}/chr_{chrom}_{idx}.pt'\n",
    "os.path.exists(path(0))"
   ]
  },
  {
   "cell_type": "code",
   "execution_count": 139,
   "id": "c311e2bd-c3e3-4df8-939f-2b6f8de9d04b",
   "metadata": {},
   "outputs": [
    {
     "ename": "ValueError",
     "evalue": "list.remove(x): x not in list",
     "output_type": "error",
     "traceback": [
      "\u001b[0;31m---------------------------------------------------------------------------\u001b[0m",
      "\u001b[0;31mValueError\u001b[0m                                Traceback (most recent call last)",
      "Cell \u001b[0;32mIn[139], line 2\u001b[0m\n\u001b[1;32m      1\u001b[0m a \u001b[38;5;241m=\u001b[39m [\u001b[38;5;241m1\u001b[39m,\u001b[38;5;241m2\u001b[39m,\u001b[38;5;241m3\u001b[39m,\u001b[38;5;241m4\u001b[39m]\n\u001b[0;32m----> 2\u001b[0m \u001b[43ma\u001b[49m\u001b[38;5;241;43m.\u001b[39;49m\u001b[43mremove\u001b[49m\u001b[43m(\u001b[49m\u001b[38;5;241;43m5\u001b[39;49m\u001b[43m)\u001b[49m\n\u001b[1;32m      3\u001b[0m a\n",
      "\u001b[0;31mValueError\u001b[0m: list.remove(x): x not in list"
     ]
    }
   ],
   "source": [
    "a = [1,2,3,4]\n",
    "a.remove(5)\n",
    "a"
   ]
  },
  {
   "cell_type": "code",
   "execution_count": 140,
   "id": "a3d4e9b9-0e12-41de-b7ff-936728a08ac4",
   "metadata": {},
   "outputs": [],
   "source": [
    "embeddings_main_dir = '../../../data/raw_embeddings/'\n",
    "missing_files = ['Chrom\\tIndex']\n",
    "with open('missing_files.tsv', 'a') as f:\n",
    "    f.write('Chrom\\tIndex\\n')\n",
    "    for chrom in zhuohan_dict: \n",
    "    \n",
    "        path = lambda idx: embeddings_main_dir+f'run_scripts_{chrom}/chr_{chrom}_{idx}.pt'\n",
    "        idxs = [ int(fn.split('_')[-1].split('.')[0]) for fn in os.listdir(embeddings_main_dir+f'run_scripts_{chrom}/') ]\n",
    "        for k in range(len(zhuohan_dict[chrom][:,0])):\n",
    "            try:\n",
    "                idxs.remove(k)\n",
    "            except:\n",
    "                f.write(f'{chrom}\\t{k}\\n')"
   ]
  },
  {
   "cell_type": "code",
   "execution_count": 133,
   "id": "6b15a8d7-d6dd-4f54-ba7a-2b8756865286",
   "metadata": {
    "scrolled": true
   },
   "outputs": [
    {
     "ename": "KeyboardInterrupt",
     "evalue": "",
     "output_type": "error",
     "traceback": [
      "\u001b[0;31m---------------------------------------------------------------------------\u001b[0m",
      "\u001b[0;31mKeyboardInterrupt\u001b[0m                         Traceback (most recent call last)",
      "Cell \u001b[0;32mIn[133], line 8\u001b[0m\n\u001b[1;32m      5\u001b[0m     path \u001b[38;5;241m=\u001b[39m \u001b[38;5;28;01mlambda\u001b[39;00m idx: embeddings_main_dir\u001b[38;5;241m+\u001b[39m\u001b[38;5;124mf\u001b[39m\u001b[38;5;124m'\u001b[39m\u001b[38;5;124mrun_scripts_\u001b[39m\u001b[38;5;132;01m{\u001b[39;00mchrom\u001b[38;5;132;01m}\u001b[39;00m\u001b[38;5;124m/chr_\u001b[39m\u001b[38;5;132;01m{\u001b[39;00mchrom\u001b[38;5;132;01m}\u001b[39;00m\u001b[38;5;124m_\u001b[39m\u001b[38;5;132;01m{\u001b[39;00midx\u001b[38;5;132;01m}\u001b[39;00m\u001b[38;5;124m.pt\u001b[39m\u001b[38;5;124m'\u001b[39m\n\u001b[1;32m      6\u001b[0m     \u001b[38;5;28;01mfor\u001b[39;00m k \u001b[38;5;129;01min\u001b[39;00m \u001b[38;5;28mrange\u001b[39m(\u001b[38;5;28mlen\u001b[39m(zhuohan_dict[chrom][:,\u001b[38;5;241m0\u001b[39m])):\n\u001b[0;32m----> 8\u001b[0m         \u001b[38;5;28;01mif\u001b[39;00m \u001b[38;5;129;01mnot\u001b[39;00m \u001b[43mos\u001b[49m\u001b[38;5;241;43m.\u001b[39;49m\u001b[43mpath\u001b[49m\u001b[38;5;241;43m.\u001b[39;49m\u001b[43mexists\u001b[49m\u001b[43m(\u001b[49m\u001b[43mpath\u001b[49m\u001b[43m(\u001b[49m\u001b[43mk\u001b[49m\u001b[43m)\u001b[49m\u001b[43m)\u001b[49m:\n\u001b[1;32m      9\u001b[0m             missing_files\u001b[38;5;241m.\u001b[39mappend(\u001b[38;5;124mf\u001b[39m\u001b[38;5;124m'\u001b[39m\u001b[38;5;132;01m{\u001b[39;00mchrom\u001b[38;5;132;01m}\u001b[39;00m\u001b[38;5;130;01m\\t\u001b[39;00m\u001b[38;5;132;01m{\u001b[39;00mk\u001b[38;5;132;01m}\u001b[39;00m\u001b[38;5;124m'\u001b[39m)\n\u001b[1;32m     10\u001b[0m missing_files\n",
      "File \u001b[0;32m/state/partition1/llgrid/pkg/anaconda/python-LLM-2023b/lib/python3.10/genericpath.py:19\u001b[0m, in \u001b[0;36mexists\u001b[0;34m(path)\u001b[0m\n\u001b[1;32m     17\u001b[0m \u001b[38;5;250m\u001b[39m\u001b[38;5;124;03m\"\"\"Test whether a path exists.  Returns False for broken symbolic links\"\"\"\u001b[39;00m\n\u001b[1;32m     18\u001b[0m \u001b[38;5;28;01mtry\u001b[39;00m:\n\u001b[0;32m---> 19\u001b[0m     \u001b[43mos\u001b[49m\u001b[38;5;241;43m.\u001b[39;49m\u001b[43mstat\u001b[49m\u001b[43m(\u001b[49m\u001b[43mpath\u001b[49m\u001b[43m)\u001b[49m\n\u001b[1;32m     20\u001b[0m \u001b[38;5;28;01mexcept\u001b[39;00m (\u001b[38;5;167;01mOSError\u001b[39;00m, \u001b[38;5;167;01mValueError\u001b[39;00m):\n\u001b[1;32m     21\u001b[0m     \u001b[38;5;28;01mreturn\u001b[39;00m \u001b[38;5;28;01mFalse\u001b[39;00m\n",
      "\u001b[0;31mKeyboardInterrupt\u001b[0m: "
     ]
    }
   ],
   "source": [
    "embeddings_main_dir = '../../../data/raw_embeddings/'\n",
    "missing_files = ['Chrom\\tIndex']\n",
    "for chrom in zhuohan_dict: \n",
    "\n",
    "    path = lambda idx: embeddings_main_dir+f'run_scripts_{chrom}/chr_{chrom}_{idx}.pt'\n",
    "    for k in range(len(zhuohan_dict[chrom][:,0])):\n",
    "\n",
    "        if not os.path.exists(path(k)):\n",
    "            missing_files.append(f'{chrom}\\t{k}')\n",
    "missing_files\n",
    "    "
   ]
  },
  {
   "cell_type": "code",
   "execution_count": null,
   "id": "f983733c-945d-41e8-9fe8-3f56f4b5b9cb",
   "metadata": {},
   "outputs": [],
   "source": []
  },
  {
   "cell_type": "code",
   "execution_count": null,
   "id": "05630fde-17dd-4d73-9d19-88b38a4ccb11",
   "metadata": {},
   "outputs": [],
   "source": []
  },
  {
   "cell_type": "code",
   "execution_count": 115,
   "id": "d6b3443a-3212-4b27-92f4-6ce635135067",
   "metadata": {},
   "outputs": [
    {
     "data": {
      "text/html": [
       "<div>\n",
       "<style scoped>\n",
       "    .dataframe tbody tr th:only-of-type {\n",
       "        vertical-align: middle;\n",
       "    }\n",
       "\n",
       "    .dataframe tbody tr th {\n",
       "        vertical-align: top;\n",
       "    }\n",
       "\n",
       "    .dataframe thead th {\n",
       "        text-align: right;\n",
       "    }\n",
       "</style>\n",
       "<table border=\"1\" class=\"dataframe\">\n",
       "  <thead>\n",
       "    <tr style=\"text-align: right;\">\n",
       "      <th></th>\n",
       "      <th>Start</th>\n",
       "      <th>Stop</th>\n",
       "    </tr>\n",
       "  </thead>\n",
       "  <tbody>\n",
       "    <tr>\n",
       "      <th>0</th>\n",
       "      <td>1420000</td>\n",
       "      <td>2720000</td>\n",
       "    </tr>\n",
       "    <tr>\n",
       "      <th>1</th>\n",
       "      <td>1440000</td>\n",
       "      <td>2740000</td>\n",
       "    </tr>\n",
       "    <tr>\n",
       "      <th>2</th>\n",
       "      <td>1460000</td>\n",
       "      <td>2760000</td>\n",
       "    </tr>\n",
       "    <tr>\n",
       "      <th>3</th>\n",
       "      <td>1480000</td>\n",
       "      <td>2780000</td>\n",
       "    </tr>\n",
       "    <tr>\n",
       "      <th>4</th>\n",
       "      <td>1500000</td>\n",
       "      <td>2800000</td>\n",
       "    </tr>\n",
       "    <tr>\n",
       "      <th>...</th>\n",
       "      <td>...</td>\n",
       "      <td>...</td>\n",
       "    </tr>\n",
       "    <tr>\n",
       "      <th>136783</th>\n",
       "      <td>119560000</td>\n",
       "      <td>120860000</td>\n",
       "    </tr>\n",
       "    <tr>\n",
       "      <th>136784</th>\n",
       "      <td>119580000</td>\n",
       "      <td>120880000</td>\n",
       "    </tr>\n",
       "    <tr>\n",
       "      <th>136785</th>\n",
       "      <td>144620000</td>\n",
       "      <td>145920000</td>\n",
       "    </tr>\n",
       "    <tr>\n",
       "      <th>136786</th>\n",
       "      <td>144640000</td>\n",
       "      <td>145940000</td>\n",
       "    </tr>\n",
       "    <tr>\n",
       "      <th>136787</th>\n",
       "      <td>149500000</td>\n",
       "      <td>150800000</td>\n",
       "    </tr>\n",
       "  </tbody>\n",
       "</table>\n",
       "<p>10774 rows × 2 columns</p>\n",
       "</div>"
      ],
      "text/plain": [
       "            Start       Stop\n",
       "0         1420000    2720000\n",
       "1         1440000    2740000\n",
       "2         1460000    2760000\n",
       "3         1480000    2780000\n",
       "4         1500000    2800000\n",
       "...           ...        ...\n",
       "136783  119560000  120860000\n",
       "136784  119580000  120880000\n",
       "136785  144620000  145920000\n",
       "136786  144640000  145940000\n",
       "136787  149500000  150800000\n",
       "\n",
       "[10774 rows x 2 columns]"
      ]
     },
     "execution_count": 115,
     "metadata": {},
     "output_type": "execute_result"
    }
   ],
   "source": [
    "pickle_fp = '../../../data/raw_embeddings/my_dict.pickle'\n",
    "tsv_filepath = '../../../data/genomic_regions.tsv'\n",
    "\n",
    "zhuohan_dict = pd.read_pickle(pickle_fp)\n",
    "regions_df = pd.read_csv(tsv_filepath,sep='\\t',index_col=0)\n",
    "\n",
    "# Ensure all chroms present\n",
    "zh_keys = list(zhuohan_dict.keys())\n",
    "rg_keys = regions_df['Chromosome'].unique()\n",
    "assert len(zh_keys) == len(rg_keys) \n",
    "for chrom in zh_keys: \n",
    "    assert chrom in rg_keys \n",
    "\n",
    "# Determine which regions are missing in Zhuohan's files, \n",
    "# and which regions are errantly included \n",
    "missing_regions = [[],[]]\n",
    "errant_regions = [[],[]]\n",
    "for chrom in rg_keys: \n",
    "    want = regions_df[regions_df['Chromosome']==chrom][['Start','Stop']]#.rename(columns={'Start':'Start_True','Stop':'Stop_True'})\n",
    "    \n",
    "    want.merge(\n",
    "        pd.DataFrame({'Start':zhuohan_dict[chrom][:,0],'Stop':zhuohan_dict[chrom][:,1]}),\n",
    "        indicator=True\n",
    "    )\n",
    "    \n",
    "    break \n",
    "want"
   ]
  },
  {
   "cell_type": "code",
   "execution_count": 113,
   "id": "bce642f3-adcc-44b9-a439-9f2e9efcfc56",
   "metadata": {},
   "outputs": [
    {
     "data": {
      "text/html": [
       "<div>\n",
       "<style scoped>\n",
       "    .dataframe tbody tr th:only-of-type {\n",
       "        vertical-align: middle;\n",
       "    }\n",
       "\n",
       "    .dataframe tbody tr th {\n",
       "        vertical-align: top;\n",
       "    }\n",
       "\n",
       "    .dataframe thead th {\n",
       "        text-align: right;\n",
       "    }\n",
       "</style>\n",
       "<table border=\"1\" class=\"dataframe\">\n",
       "  <thead>\n",
       "    <tr style=\"text-align: right;\">\n",
       "      <th></th>\n",
       "      <th>Start</th>\n",
       "      <th>Stop</th>\n",
       "    </tr>\n",
       "  </thead>\n",
       "  <tbody>\n",
       "    <tr>\n",
       "      <th>0</th>\n",
       "      <td>780</td>\n",
       "      <td>2080</td>\n",
       "    </tr>\n",
       "    <tr>\n",
       "      <th>1</th>\n",
       "      <td>800</td>\n",
       "      <td>2100</td>\n",
       "    </tr>\n",
       "    <tr>\n",
       "      <th>2</th>\n",
       "      <td>820</td>\n",
       "      <td>2120</td>\n",
       "    </tr>\n",
       "    <tr>\n",
       "      <th>3</th>\n",
       "      <td>840</td>\n",
       "      <td>2140</td>\n",
       "    </tr>\n",
       "    <tr>\n",
       "      <th>4</th>\n",
       "      <td>860</td>\n",
       "      <td>2160</td>\n",
       "    </tr>\n",
       "    <tr>\n",
       "      <th>...</th>\n",
       "      <td>...</td>\n",
       "      <td>...</td>\n",
       "    </tr>\n",
       "    <tr>\n",
       "      <th>10769</th>\n",
       "      <td>247680</td>\n",
       "      <td>248980</td>\n",
       "    </tr>\n",
       "    <tr>\n",
       "      <th>10770</th>\n",
       "      <td>247700</td>\n",
       "      <td>249000</td>\n",
       "    </tr>\n",
       "    <tr>\n",
       "      <th>10771</th>\n",
       "      <td>247720</td>\n",
       "      <td>249020</td>\n",
       "    </tr>\n",
       "    <tr>\n",
       "      <th>10772</th>\n",
       "      <td>247740</td>\n",
       "      <td>249040</td>\n",
       "    </tr>\n",
       "    <tr>\n",
       "      <th>10773</th>\n",
       "      <td>247760</td>\n",
       "      <td>249060</td>\n",
       "    </tr>\n",
       "  </tbody>\n",
       "</table>\n",
       "<p>10774 rows × 2 columns</p>\n",
       "</div>"
      ],
      "text/plain": [
       "        Start    Stop\n",
       "0         780    2080\n",
       "1         800    2100\n",
       "2         820    2120\n",
       "3         840    2140\n",
       "4         860    2160\n",
       "...       ...     ...\n",
       "10769  247680  248980\n",
       "10770  247700  249000\n",
       "10771  247720  249020\n",
       "10772  247740  249040\n",
       "10773  247760  249060\n",
       "\n",
       "[10774 rows x 2 columns]"
      ]
     },
     "execution_count": 113,
     "metadata": {},
     "output_type": "execute_result"
    }
   ],
   "source": [
    "pd.DataFrame({'Start':zhuohan_dict[chrom][:,0],'Stop':zhuohan_dict[chrom][:,1]})"
   ]
  },
  {
   "cell_type": "code",
   "execution_count": null,
   "id": "c13f9c9a-d7ae-4dc4-a320-70d20b9fb77c",
   "metadata": {},
   "outputs": [],
   "source": [
    "pd.read_pickle()"
   ]
  },
  {
   "cell_type": "code",
   "execution_count": 85,
   "id": "239dd0b6-2c28-4fda-8c49-29faa358f085",
   "metadata": {},
   "outputs": [
    {
     "data": {
      "text/plain": [
       "{'1': array([[   780,   2080],\n",
       "        [   800,   2100],\n",
       "        [   820,   2120],\n",
       "        ...,\n",
       "        [247720, 249020],\n",
       "        [247740, 249040],\n",
       "        [247760, 249060]]),\n",
       " '2': array([[     0,   1300],\n",
       "        [    20,   1320],\n",
       "        [    40,   1340],\n",
       "        ...,\n",
       "        [241800, 243100],\n",
       "        [241820, 243120],\n",
       "        [241840, 243140]]),\n",
       " '3': array([[    60,   1360],\n",
       "        [    80,   1380],\n",
       "        [   100,   1400],\n",
       "        ...,\n",
       "        [196580, 197880],\n",
       "        [196600, 197900],\n",
       "        [196620, 197920]]),\n",
       " '4': array([[    20,   1320],\n",
       "        [    40,   1340],\n",
       "        [    60,   1360],\n",
       "        ...,\n",
       "        [189720, 191020],\n",
       "        [189740, 191040],\n",
       "        [189760, 191060]]),\n",
       " '5': array([[     0,   1300],\n",
       "        [    20,   1320],\n",
       "        [    40,   1340],\n",
       "        ...,\n",
       "        [179400, 180700],\n",
       "        [179420, 180720],\n",
       "        [179440, 180740]]),\n",
       " '6': array([[   200,   1500],\n",
       "        [   220,   1520],\n",
       "        [   240,   1540],\n",
       "        ...,\n",
       "        [169600, 170900],\n",
       "        [169620, 170920],\n",
       "        [169640, 170940]]),\n",
       " '7': array([[    40,   1340],\n",
       "        [    60,   1360],\n",
       "        [    80,   1380],\n",
       "        ...,\n",
       "        [157820, 159120],\n",
       "        [157840, 159140],\n",
       "        [157860, 159160]]),\n",
       " '8': array([[   160,   1460],\n",
       "        [   180,   1480],\n",
       "        [   200,   1500],\n",
       "        ...,\n",
       "        [145000, 146300],\n",
       "        [145020, 146320],\n",
       "        [145040, 146340]]),\n",
       " '9': array([[    40,   1340],\n",
       "        [    60,   1360],\n",
       "        [    80,   1380],\n",
       "        ...,\n",
       "        [139780, 141080],\n",
       "        [139800, 141100],\n",
       "        [139820, 141120]]),\n",
       " '10': array([[    80,   1380],\n",
       "        [   100,   1400],\n",
       "        [   120,   1420],\n",
       "        ...,\n",
       "        [134160, 135460],\n",
       "        [134180, 135480],\n",
       "        [134200, 135500]]),\n",
       " '11': array([[   180,   1480],\n",
       "        [   200,   1500],\n",
       "        [   220,   1520],\n",
       "        ...,\n",
       "        [133640, 134940],\n",
       "        [133660, 134960],\n",
       "        [133680, 134980]]),\n",
       " '12': array([[   140,   1440],\n",
       "        [   160,   1460],\n",
       "        [   180,   1480],\n",
       "        ...,\n",
       "        [132420, 133720],\n",
       "        [132440, 133740],\n",
       "        [132460, 133760]]),\n",
       " '13': array([[ 19120,  20420],\n",
       "        [ 19140,  20440],\n",
       "        [ 19160,  20460],\n",
       "        ...,\n",
       "        [113660, 114960],\n",
       "        [113680, 114980],\n",
       "        [113700, 115000]]),\n",
       " '14': array([[ 19960,  21260],\n",
       "        [ 19980,  21280],\n",
       "        [ 20000,  21300],\n",
       "        ...,\n",
       "        [105980, 107280],\n",
       "        [106000, 107300],\n",
       "        [106020, 107320]]),\n",
       " '15': array([[ 22200,  23500],\n",
       "        [ 22220,  23520],\n",
       "        [ 22240,  23540],\n",
       "        ...,\n",
       "        [101180, 102480],\n",
       "        [101200, 102500],\n",
       "        [101220, 102520]]),\n",
       " '16': array([[   80,  1380],\n",
       "        [  100,  1400],\n",
       "        [  120,  1420],\n",
       "        ...,\n",
       "        [88880, 90180],\n",
       "        [88900, 90200],\n",
       "        [88920, 90220]]),\n",
       " '17': array([[    0,  1300],\n",
       "        [   20,  1320],\n",
       "        [   40,  1340],\n",
       "        ...,\n",
       "        [79800, 81100],\n",
       "        [79820, 81120],\n",
       "        [79840, 81140]]),\n",
       " '18': array([[    0,  1300],\n",
       "        [   20,  1320],\n",
       "        [   40,  1340],\n",
       "        ...,\n",
       "        [76700, 78000],\n",
       "        [76720, 78020],\n",
       "        [76740, 78040]]),\n",
       " '19': array([[  220,  1520],\n",
       "        [  240,  1540],\n",
       "        [  260,  1560],\n",
       "        ...,\n",
       "        [57800, 59100],\n",
       "        [57820, 59120],\n",
       "        [57840, 59140]]),\n",
       " '20': array([[   60,  1360],\n",
       "        [   80,  1380],\n",
       "        [  100,  1400],\n",
       "        ...,\n",
       "        [61660, 62960],\n",
       "        [61680, 62980],\n",
       "        [61700, 63000]]),\n",
       " '21': array([[15140, 16440],\n",
       "        [15160, 16460],\n",
       "        [15180, 16480],\n",
       "        ...,\n",
       "        [46800, 48100],\n",
       "        [46820, 48120],\n",
       "        [46840, 48140]]),\n",
       " '22': array([[16980, 18280],\n",
       "        [17000, 18300],\n",
       "        [17020, 18320],\n",
       "        ...,\n",
       "        [49920, 51220],\n",
       "        [49940, 51240],\n",
       "        [49960, 51260]]),\n",
       " 'X': array([[   220,   1520],\n",
       "        [   240,   1540],\n",
       "        [   260,   1560],\n",
       "        ...,\n",
       "        [153920, 155220],\n",
       "        [153940, 155240],\n",
       "        [153960, 155260]])}"
      ]
     },
     "execution_count": 85,
     "metadata": {},
     "output_type": "execute_result"
    }
   ],
   "source": [
    "import pickle\n",
    "zdict = pickle.load(open('../../../data/raw_embeddings/my_dict.pickle','rb'))\n",
    "zdict"
   ]
  },
  {
   "cell_type": "code",
   "execution_count": 86,
   "id": "5750e49b-00f7-4428-b6ec-9877aef7270c",
   "metadata": {},
   "outputs": [
    {
     "data": {
      "text/plain": [
       "10774"
      ]
     },
     "execution_count": 86,
     "metadata": {},
     "output_type": "execute_result"
    }
   ],
   "source": [
    "len(zdict['1'])"
   ]
  },
  {
   "cell_type": "code",
   "execution_count": 82,
   "id": "846ae024-9ed8-4afc-8c1c-e002af1558ad",
   "metadata": {},
   "outputs": [
    {
     "name": "stdout",
     "output_type": "stream",
     "text": [
      "Chromosome 1 is missing files for 10768, 10769, 10770, 10771, 10772, 10773, \n",
      "Chromosome 2 is missing files for 11504, 11505, 11506, 11507, 11508, 11509, 11510, 11511, 11512, 11513, 11514, 11515, 11516, 11517, 11518, 11519, 11520, 11521, 11522, 11523, 11524, 11525, 11526, 11527, 11528, 11529, 11530, 11531, 11532, 11533, 11534, 11535, 11536, 11537, 11538, 11539, 11540, 11541, 11542, 11543, 11544, 11545, 11546, 11547, 11548, 11549, 11550, 11551, \n",
      "Chromosome 4 is missing files for 9220, 9221, 9222, 9223, 9224, 9225, 9226, 9227, 9228, 9229, 9230, 9231, 9232, 9233, 9234, 9235, 9236, 9237, 9238, 9239, 9240, 9241, 9242, 9243, 9244, 9245, 9246, 9247, 9248, 9249, 9250, 9251, 9252, 9253, 9254, 9255, 9256, 9257, 9258, 9259, 9260, 9261, 9262, \n",
      "Chromosome 6 is missing files for 8241, 8242, 8243, 8244, 8245, 8246, 8247, \n",
      "Chromosome 8 is missing files for 6855, 6856, 6857, 6858, 6859, 6860, 6861, 6862, 6863, 6864, 6865, 6866, 6867, 6868, 6869, 6870, 6871, 6872, 6873, 6874, 6875, 6876, 6877, 6878, 6879, 6880, 6881, 6882, 6883, 6884, 6885, 6886, 6887, 6888, 6889, 6890, 6891, 6892, 6893, 6894, 6895, 6896, 6897, 6898, 6899, 6900, 6901, 6902, 6903, 6904, 6905, 6906, 6907, 6908, 6909, 6910, 6911, 6912, 6913, 6914, 6915, \n",
      "Chromosome 9 is missing files for 5195, 5196, 5197, 5198, 5199, 5200, 5201, 5202, 5203, 5204, 5205, 5206, 5207, 5208, 5209, 5210, 5211, 5212, 5213, 5214, 5215, 5216, 5217, 5218, 5219, 5220, 5221, 5222, 5223, 5224, 5225, 5226, 5227, 5228, 5229, 5230, 5231, 5232, 5233, 5234, 5235, 5236, 5237, 5238, 5239, 5240, 5241, 5242, 5243, 5244, 5245, 5246, 5247, 5248, 5249, 5250, 5251, 5252, 5253, 5254, 5255, 5256, 5257, 5258, 5259, 5260, 5261, 5262, 5263, 5264, 5265, 5266, 5267, 5268, 5269, 5270, 5271, 5272, 5273, 5274, 5275, 5276, 5277, 5278, 5279, 5280, 5281, 5282, 5283, 5284, 5285, 5286, 5287, 5288, 5289, 5290, 5291, 5292, 5293, 5294, 5295, 5296, 5297, 5298, 5299, 5300, 5301, 5302, 5303, 5304, 5305, 5306, 5307, 5308, 5309, 5310, 5311, 5312, 5313, 5314, 5315, 5316, 5317, 5318, 5319, 5320, 5321, 5322, 5323, 5324, 5325, 5326, 5327, 5328, 5329, 5330, 5331, \n",
      "Chromosome 10 is missing files for 6121, 6122, 6123, 6124, 6125, 6126, 6127, 6128, 6129, 6130, 6131, 6132, 6133, 6134, 6135, 6136, 6137, 6138, 6139, 6140, 6141, 6142, 6143, 6144, 6145, 6146, 6147, 6148, 6149, 6150, 6151, 6152, 6153, 6154, 6155, 6156, 6157, 6158, 6159, 6160, 6161, 6162, 6163, 6164, 6165, 6166, 6167, 6168, 6169, 6170, 6171, 6172, 6173, 6174, 6175, 6176, 6177, 6178, 6179, 6180, 6181, 6182, 6183, 6184, 6185, 6186, 6187, 6188, 6189, 6190, 6191, 6192, 6193, 6194, 6195, 6196, 6197, 6198, 6199, 6200, 6201, 6202, 6203, 6204, 6205, 6206, \n",
      "Chromosome 12 is missing files for 6363, 6364, 6365, 6366, 6367, 6368, 6369, 6370, 6371, 6372, 6373, 6374, 6375, 6376, 6377, 6378, 6379, 6380, 6381, 6382, 6383, 6384, 6385, 6386, 6387, \n",
      "Chromosome 13 is missing files for 4698, 4699, 4700, 4701, 4702, 4703, 4704, 4705, 4706, 4707, 4708, 4709, 4710, 4711, 4712, 4713, 4714, 4715, 4716, 4717, 4718, 4719, 4720, 4721, 4722, 4723, 4724, 4725, 4726, 4727, 4728, 4729, \n",
      "Chromosome 14 is missing files for 4290, 4291, 4292, 4293, 4294, 4295, 4296, 4297, 4298, 4299, 4300, 4301, 4302, 4303, \n",
      "Chromosome 15 is missing files for 3863, 3864, 3865, 3866, 3867, 3868, 3869, 3870, 3871, 3872, 3873, 3874, 3875, 3876, 3877, 3878, 3879, 3880, 3881, 3882, 3883, 3884, 3885, 3886, 3887, 3888, 3889, \n",
      "Chromosome 19 is missing files for 2620, 2621, 2622, 2623, 2624, 2625, 2626, 2627, 2628, 2629, 2630, 2631, 2632, 2633, 2634, 2635, 2636, 2637, 2638, 2639, 2640, 2641, 2642, 2643, 2644, 2645, 2646, \n",
      "Chromosome 21 is missing files for 1514, 1515, 1516, 1517, 1518, 1519, 1520, 1521, 1522, 1523, 1524, 1525, 1526, 1527, 1528, 1529, 1530, 1531, 1532, 1533, 1534, 1535, 1536, 1537, 1538, 1539, 1540, 1541, 1542, 1543, 1544, 1545, 1546, 1547, 1548, 1549, 1550, 1551, 1552, 1553, 1554, 1555, 1556, 1557, 1558, 1559, 1560, 1561, 1562, 1563, 1564, 1565, 1566, 1567, 1568, 1569, 1570, 1571, 1572, 1573, 1574, 1575, 1576, 1577, 1578, 1579, 1580, 1581, 1582, 1583, 1584, 1585, \n",
      "Chromosome 22 is missing files for 1627, 1628, 1629, 1630, 1631, 1632, 1633, 1634, 1635, 1636, 1637, 1638, 1639, 1640, 1641, 1642, 1643, 1644, 1645, 1646, 1647, 1648, 1649, \n"
     ]
    }
   ],
   "source": [
    "import numpy as np\n",
    "chroms = [f'{k}' for k in range(1,23)]\n",
    "for chrom in chroms: \n",
    "    missing = np.ones(len(regions_df[regions_df['Chromosome']==chrom]),dtype=bool)\n",
    "    for filename in os.listdir(embeddings_main_dir+f'run_scripts_{chrom}'):\n",
    "        missing[int( filename.split('_')[-1].split('.')[0] )] = False\n",
    "\n",
    "    missing = np.where(missing)[0]\n",
    "    if len(missing) > 0: \n",
    "        msg = f'Chromosome {chrom} is missing files for '\n",
    "        for m in missing: \n",
    "            msg+= f'{m}, '\n",
    "        print(msg)\n",
    "        "
   ]
  },
  {
   "cell_type": "code",
   "execution_count": null,
   "id": "876c1d94-a942-4e86-80d3-62d8408fb697",
   "metadata": {},
   "outputs": [],
   "source": []
  },
  {
   "cell_type": "code",
   "execution_count": null,
   "id": "fa3fc70c-087e-4b0f-84fa-73cc62dad0f2",
   "metadata": {},
   "outputs": [],
   "source": []
  },
  {
   "cell_type": "code",
   "execution_count": 69,
   "id": "5fa157c8-a5ee-4b41-ae05-dab7a11779ba",
   "metadata": {},
   "outputs": [
    {
     "name": "stdout",
     "output_type": "stream",
     "text": [
      "10768\n"
     ]
    }
   ],
   "source": [
    "for i,_ in subregion_dfs['1'].iterrows():\n",
    "    print(i)\n",
    "    break"
   ]
  },
  {
   "cell_type": "code",
   "execution_count": null,
   "id": "760c85ab-9ec2-4a00-a30e-045363851a11",
   "metadata": {},
   "outputs": [],
   "source": [
    "import pandas as pd\n",
    "import torch \n",
    "import os \n",
    "\n",
    "# Where are files located? \n",
    "zhuohan_data_dir = '/home/gridsan/gschuette/binz_group_shared/zlao/for_greg/'\n",
    "tsv_filepath = '../../../data/genomic_regions.tsv'\n",
    "\n",
    "# We will store this data in the CPU RAM except when being actively used, so we'll map all the files to\n",
    "# the CPU upon loading to save it there later. \n",
    "device = torch.device('cpu') \n",
    "\n",
    "# Load the tsv file used to generate data, whose ordering is relevant to the genomic region/chromosome. \n",
    "regions_df = pd.read_csv(tsv_filepath,sep='\\t',index_col=0)\n",
    "\n",
    "# Break the tsv file into multiple DataFrames, one for each chromosome, since that's how \n",
    "# Zhuohan organized the files. Also, reset the index, as Zhuohan labeled the data files \n",
    "# by order of appearance within the context of each individual chromosome. \n",
    "subregion_dfs = {}\n",
    "for chrom in regions_df['Chromosome'].unique():\n",
    "\n",
    "    # Get the relevant subsection from the complete DataFrame. \n",
    "    subregion_dfs[chrom] = regions_df[regions_df['Chromosome']==chrom].copy()\n",
    "\n",
    "    # Reset the index for this subset, as Zhuohan labeled the data files by\n",
    "    # order of appearance within the context of that chromosome. \n",
    "    subregion_dfs[chrom].reset_index(ignore_index=True,inplace=True)\n",
    "\n",
    "    # Sort the data according to Genomic Index to simplify the organization\n",
    "    # of data in the eventual save file. \n",
    "    subregion_dfs[chrom].sort_values(by='Start',axis='index',ignore_index=False,inplace=True)\n",
    "del regions_df\n",
    "\n",
    "# Load \n",
    "\n",
    "\n",
    "data = []\n",
    "\n",
    "\n",
    "\n",
    "\n",
    "for folder in os.listdir(zhuohan_data_dir):\n",
    "\n",
    "    # Define an object representing the full filepath of this subfolder\n",
    "    # for simpler code below. \n",
    "    sub_dir = main_dir + folder + '/'\n",
    "\n",
    "    # The folder name indicates the chromosome whose genomic region was analyzed. \n",
    "    chrom = folder.split('_')[-1]\n",
    "\n",
    "    # Need the index of subregions to determine the relevant starting path \n",
    "    # for each of the files. \n",
    "    subregion_df = regions_df[regions_df['Chromosome']==chrom].copy()\n",
    "    subregion_df.reset_index(ignore_index=True,inplace=True)\n",
    "\n",
    "    # Load all of the files and keep track of the genomic region \n",
    "    # they correspond to in an indexing object. \n",
    "    data = []\n",
    "    multi_index = []\n",
    "    for i,filename in enumerate(os.listdir(sub_dir)):\n",
    "        filepath = sub_dir + filename\n",
    "        idx = int(file.split('_')[-1].split('.')[0])\n",
    "        genomic_index = subregion_df.loc[idx,'Start']\n",
    "\n",
    "        temp = torch.load(filepath,)\n",
    "        data.append()"
   ]
  },
  {
   "cell_type": "code",
   "execution_count": 60,
   "id": "83862325-5805-450b-b427-e03eb44761b6",
   "metadata": {},
   "outputs": [
    {
     "data": {
      "text/plain": [
       "numpy.int64"
      ]
     },
     "execution_count": 60,
     "metadata": {},
     "output_type": "execute_result"
    }
   ],
   "source": [
    "type(a.loc[0,'Start'])"
   ]
  },
  {
   "cell_type": "code",
   "execution_count": 46,
   "id": "f9957fac-5fee-40fa-a1cc-8ef84c69ce2e",
   "metadata": {},
   "outputs": [],
   "source": [
    "data = torch.load('/home/gridsan/gschuette/binz_group_shared/zlao/for_greg/run_scripts_1/chr_1_0.pt',map_location=device).requires_grad_(False)"
   ]
  },
  {
   "cell_type": "code",
   "execution_count": 47,
   "id": "455fa5e5-4f66-4fe4-b8c9-040e1a29c552",
   "metadata": {},
   "outputs": [
    {
     "data": {
      "text/plain": [
       "torch.Size([1, 260, 256])"
      ]
     },
     "execution_count": 47,
     "metadata": {},
     "output_type": "execute_result"
    }
   ],
   "source": [
    "data.shape"
   ]
  },
  {
   "cell_type": "code",
   "execution_count": 48,
   "id": "d98c3dd7-9f52-42fb-a76b-b4323265093e",
   "metadata": {},
   "outputs": [],
   "source": [
    "test_df = pd.DataFrame(\n",
    "    data={'Matrices':[data,data]},\n",
    "    index=[1,2]\n",
    ")"
   ]
  },
  {
   "cell_type": "code",
   "execution_count": 55,
   "id": "4c426d8f-72e0-44b9-9426-53a6fa59b6d2",
   "metadata": {},
   "outputs": [
    {
     "data": {
      "text/plain": [
       "torch.float32"
      ]
     },
     "execution_count": 55,
     "metadata": {},
     "output_type": "execute_result"
    }
   ],
   "source": [
    "test_df.loc[1,'Matrices'].dtype"
   ]
  },
  {
   "cell_type": "code",
   "execution_count": 1,
   "id": "dc36bf4c-1964-4a9d-96d6-73865d487ba3",
   "metadata": {},
   "outputs": [],
   "source": [
    "import pandas as pd\n",
    "data_dict = pd.read_pickle('../Zhuohan_Data/data_files_X.pkl')"
   ]
  },
  {
   "cell_type": "code",
   "execution_count": 2,
   "id": "319635fb-1b8d-4283-a8eb-632aef40aad5",
   "metadata": {},
   "outputs": [],
   "source": [
    "data = pd.DataFrame(data_dict)"
   ]
  },
  {
   "cell_type": "code",
   "execution_count": 4,
   "id": "7559b8a4-4e43-49d8-a86b-1436485e04c0",
   "metadata": {},
   "outputs": [
    {
     "data": {
      "text/html": [
       "<div>\n",
       "<style scoped>\n",
       "    .dataframe tbody tr th:only-of-type {\n",
       "        vertical-align: middle;\n",
       "    }\n",
       "\n",
       "    .dataframe tbody tr th {\n",
       "        vertical-align: top;\n",
       "    }\n",
       "\n",
       "    .dataframe thead th {\n",
       "        text-align: right;\n",
       "    }\n",
       "</style>\n",
       "<table border=\"1\" class=\"dataframe\">\n",
       "  <thead>\n",
       "    <tr style=\"text-align: right;\">\n",
       "      <th></th>\n",
       "      <th>data</th>\n",
       "      <th>idxs</th>\n",
       "      <th>region_size</th>\n",
       "      <th>start_idx</th>\n",
       "    </tr>\n",
       "  </thead>\n",
       "  <tbody>\n",
       "    <tr>\n",
       "      <th>0</th>\n",
       "      <td>[[[tensor(-1.2399), tensor(2.3151), tensor(-1....</td>\n",
       "      <td>0</td>\n",
       "      <td>1300</td>\n",
       "      <td>220</td>\n",
       "    </tr>\n",
       "    <tr>\n",
       "      <th>1</th>\n",
       "      <td>[[[tensor(1.5264), tensor(1.0032), tensor(-1.8...</td>\n",
       "      <td>1</td>\n",
       "      <td>1300</td>\n",
       "      <td>240</td>\n",
       "    </tr>\n",
       "    <tr>\n",
       "      <th>2</th>\n",
       "      <td>[[[tensor(-0.6710), tensor(2.3667), tensor(0.3...</td>\n",
       "      <td>2</td>\n",
       "      <td>1300</td>\n",
       "      <td>260</td>\n",
       "    </tr>\n",
       "    <tr>\n",
       "      <th>3</th>\n",
       "      <td>[[[tensor(1.6498), tensor(-1.6166), tensor(0.1...</td>\n",
       "      <td>3</td>\n",
       "      <td>1300</td>\n",
       "      <td>280</td>\n",
       "    </tr>\n",
       "    <tr>\n",
       "      <th>4</th>\n",
       "      <td>[[[tensor(-0.0945), tensor(-1.1250), tensor(0....</td>\n",
       "      <td>4</td>\n",
       "      <td>1300</td>\n",
       "      <td>300</td>\n",
       "    </tr>\n",
       "  </tbody>\n",
       "</table>\n",
       "</div>"
      ],
      "text/plain": [
       "                                                data  idxs  region_size  \\\n",
       "0  [[[tensor(-1.2399), tensor(2.3151), tensor(-1....     0         1300   \n",
       "1  [[[tensor(1.5264), tensor(1.0032), tensor(-1.8...     1         1300   \n",
       "2  [[[tensor(-0.6710), tensor(2.3667), tensor(0.3...     2         1300   \n",
       "3  [[[tensor(1.6498), tensor(-1.6166), tensor(0.1...     3         1300   \n",
       "4  [[[tensor(-0.0945), tensor(-1.1250), tensor(0....     4         1300   \n",
       "\n",
       "   start_idx  \n",
       "0        220  \n",
       "1        240  \n",
       "2        260  \n",
       "3        280  \n",
       "4        300  "
      ]
     },
     "execution_count": 4,
     "metadata": {},
     "output_type": "execute_result"
    }
   ],
   "source": [
    "data.iloc[:5]"
   ]
  },
  {
   "cell_type": "code",
   "execution_count": 2,
   "id": "2254213f-5ada-46f1-b633-5252ea29c49c",
   "metadata": {},
   "outputs": [],
   "source": [
    "import pandas as pd\n",
    "chrom='X'\n",
    "idx_cols = ['Region_Length','Genomic_Index']\n",
    "embed_df = pd.DataFrame(\n",
    "    pd.read_pickle(f'../Zhuohan_Data/data_files_{chrom}.pkl')\n",
    ").rename(\n",
    "    columns={'data':'Data','region_size':'Region_Length','start_idx':'Genomic_Index'}\n",
    ").drop(\n",
    "    columns='idxs'\n",
    ").astype( \n",
    "    {'Region_Length':int,'Genomic_Index':int}\n",
    ").sort_values(\n",
    "    by=idx_cols,\n",
    "    axis='index',\n",
    "    ignore_index=True\n",
    ")"
   ]
  },
  {
   "cell_type": "code",
   "execution_count": 7,
   "id": "395fd7d8-bb5f-477a-b29e-f83d6bfe1357",
   "metadata": {},
   "outputs": [
    {
     "ename": "TypeError",
     "evalue": "Cannot serialize the column [Data]\nbecause its data contents are not [string] but [mixed] object dtype",
     "output_type": "error",
     "traceback": [
      "\u001b[0;31m---------------------------------------------------------------------------\u001b[0m",
      "\u001b[0;31mTypeError\u001b[0m                                 Traceback (most recent call last)",
      "Cell \u001b[0;32mIn[7], line 2\u001b[0m\n\u001b[1;32m      1\u001b[0m dest_fp \u001b[38;5;241m=\u001b[39m \u001b[38;5;28;01mlambda\u001b[39;00m chrom: \u001b[38;5;124mf\u001b[39m\u001b[38;5;124m'\u001b[39m\u001b[38;5;124m../Zhuohan_Data/embeddings_\u001b[39m\u001b[38;5;132;01m{\u001b[39;00mchrom\u001b[38;5;132;01m}\u001b[39;00m\u001b[38;5;124m.h5\u001b[39m\u001b[38;5;124m'\u001b[39m\u001b[38;5;66;03m#'../../data/processed_data.hdf5'\u001b[39;00m\n\u001b[0;32m----> 2\u001b[0m \u001b[43membed_df\u001b[49m\u001b[43m[\u001b[49m\u001b[43m:\u001b[49m\u001b[38;5;241;43m1\u001b[39;49m\u001b[43m]\u001b[49m\u001b[38;5;241;43m.\u001b[39;49m\u001b[43mto_hdf\u001b[49m\u001b[43m(\u001b[49m\n\u001b[1;32m      3\u001b[0m \u001b[43m    \u001b[49m\u001b[43mdest_fp\u001b[49m\u001b[43m(\u001b[49m\u001b[43mchrom\u001b[49m\u001b[43m)\u001b[49m\u001b[43m,\u001b[49m\n\u001b[1;32m      4\u001b[0m \u001b[43m    \u001b[49m\u001b[43mkey\u001b[49m\u001b[38;5;241;43m=\u001b[39;49m\u001b[38;5;124;43m'\u001b[39;49m\u001b[38;5;124;43mEmbeddings\u001b[39;49m\u001b[38;5;124;43m'\u001b[39;49m\u001b[43m,\u001b[49m\n\u001b[1;32m      5\u001b[0m \u001b[43m    \u001b[49m\u001b[43mcomplevel\u001b[49m\u001b[38;5;241;43m=\u001b[39;49m\u001b[38;5;241;43m0\u001b[39;49m\u001b[43m,\u001b[49m\n\u001b[1;32m      6\u001b[0m \u001b[43m    \u001b[49m\u001b[38;5;28;43mformat\u001b[39;49m\u001b[38;5;241;43m=\u001b[39;49m\u001b[38;5;124;43m'\u001b[39;49m\u001b[38;5;124;43mtable\u001b[39;49m\u001b[38;5;124;43m'\u001b[39;49m\u001b[43m,\u001b[49m\n\u001b[1;32m      7\u001b[0m \u001b[43m    \u001b[49m\u001b[43mappend\u001b[49m\u001b[38;5;241;43m=\u001b[39;49m\u001b[38;5;28;43;01mFalse\u001b[39;49;00m\u001b[43m,\u001b[49m\n\u001b[1;32m      8\u001b[0m \u001b[43m    \u001b[49m\u001b[43mmode\u001b[49m\u001b[38;5;241;43m=\u001b[39;49m\u001b[38;5;124;43m'\u001b[39;49m\u001b[38;5;124;43mw\u001b[39;49m\u001b[38;5;124;43m'\u001b[39;49m\n\u001b[1;32m      9\u001b[0m \u001b[43m)\u001b[49m\n",
      "File \u001b[0;32m/state/partition1/llgrid/pkg/anaconda/python-LLM-2023b/lib/python3.10/site-packages/pandas/core/generic.py:2779\u001b[0m, in \u001b[0;36mNDFrame.to_hdf\u001b[0;34m(self, path_or_buf, key, mode, complevel, complib, append, format, index, min_itemsize, nan_rep, dropna, data_columns, errors, encoding)\u001b[0m\n\u001b[1;32m   2775\u001b[0m \u001b[38;5;28;01mfrom\u001b[39;00m \u001b[38;5;21;01mpandas\u001b[39;00m\u001b[38;5;21;01m.\u001b[39;00m\u001b[38;5;21;01mio\u001b[39;00m \u001b[38;5;28;01mimport\u001b[39;00m pytables\n\u001b[1;32m   2777\u001b[0m \u001b[38;5;66;03m# Argument 3 to \"to_hdf\" has incompatible type \"NDFrame\"; expected\u001b[39;00m\n\u001b[1;32m   2778\u001b[0m \u001b[38;5;66;03m# \"Union[DataFrame, Series]\" [arg-type]\u001b[39;00m\n\u001b[0;32m-> 2779\u001b[0m \u001b[43mpytables\u001b[49m\u001b[38;5;241;43m.\u001b[39;49m\u001b[43mto_hdf\u001b[49m\u001b[43m(\u001b[49m\n\u001b[1;32m   2780\u001b[0m \u001b[43m    \u001b[49m\u001b[43mpath_or_buf\u001b[49m\u001b[43m,\u001b[49m\n\u001b[1;32m   2781\u001b[0m \u001b[43m    \u001b[49m\u001b[43mkey\u001b[49m\u001b[43m,\u001b[49m\n\u001b[1;32m   2782\u001b[0m \u001b[43m    \u001b[49m\u001b[38;5;28;43mself\u001b[39;49m\u001b[43m,\u001b[49m\u001b[43m  \u001b[49m\u001b[38;5;66;43;03m# type: ignore[arg-type]\u001b[39;49;00m\n\u001b[1;32m   2783\u001b[0m \u001b[43m    \u001b[49m\u001b[43mmode\u001b[49m\u001b[38;5;241;43m=\u001b[39;49m\u001b[43mmode\u001b[49m\u001b[43m,\u001b[49m\n\u001b[1;32m   2784\u001b[0m \u001b[43m    \u001b[49m\u001b[43mcomplevel\u001b[49m\u001b[38;5;241;43m=\u001b[39;49m\u001b[43mcomplevel\u001b[49m\u001b[43m,\u001b[49m\n\u001b[1;32m   2785\u001b[0m \u001b[43m    \u001b[49m\u001b[43mcomplib\u001b[49m\u001b[38;5;241;43m=\u001b[39;49m\u001b[43mcomplib\u001b[49m\u001b[43m,\u001b[49m\n\u001b[1;32m   2786\u001b[0m \u001b[43m    \u001b[49m\u001b[43mappend\u001b[49m\u001b[38;5;241;43m=\u001b[39;49m\u001b[43mappend\u001b[49m\u001b[43m,\u001b[49m\n\u001b[1;32m   2787\u001b[0m \u001b[43m    \u001b[49m\u001b[38;5;28;43mformat\u001b[39;49m\u001b[38;5;241;43m=\u001b[39;49m\u001b[38;5;28;43mformat\u001b[39;49m\u001b[43m,\u001b[49m\n\u001b[1;32m   2788\u001b[0m \u001b[43m    \u001b[49m\u001b[43mindex\u001b[49m\u001b[38;5;241;43m=\u001b[39;49m\u001b[43mindex\u001b[49m\u001b[43m,\u001b[49m\n\u001b[1;32m   2789\u001b[0m \u001b[43m    \u001b[49m\u001b[43mmin_itemsize\u001b[49m\u001b[38;5;241;43m=\u001b[39;49m\u001b[43mmin_itemsize\u001b[49m\u001b[43m,\u001b[49m\n\u001b[1;32m   2790\u001b[0m \u001b[43m    \u001b[49m\u001b[43mnan_rep\u001b[49m\u001b[38;5;241;43m=\u001b[39;49m\u001b[43mnan_rep\u001b[49m\u001b[43m,\u001b[49m\n\u001b[1;32m   2791\u001b[0m \u001b[43m    \u001b[49m\u001b[43mdropna\u001b[49m\u001b[38;5;241;43m=\u001b[39;49m\u001b[43mdropna\u001b[49m\u001b[43m,\u001b[49m\n\u001b[1;32m   2792\u001b[0m \u001b[43m    \u001b[49m\u001b[43mdata_columns\u001b[49m\u001b[38;5;241;43m=\u001b[39;49m\u001b[43mdata_columns\u001b[49m\u001b[43m,\u001b[49m\n\u001b[1;32m   2793\u001b[0m \u001b[43m    \u001b[49m\u001b[43merrors\u001b[49m\u001b[38;5;241;43m=\u001b[39;49m\u001b[43merrors\u001b[49m\u001b[43m,\u001b[49m\n\u001b[1;32m   2794\u001b[0m \u001b[43m    \u001b[49m\u001b[43mencoding\u001b[49m\u001b[38;5;241;43m=\u001b[39;49m\u001b[43mencoding\u001b[49m\u001b[43m,\u001b[49m\n\u001b[1;32m   2795\u001b[0m \u001b[43m\u001b[49m\u001b[43m)\u001b[49m\n",
      "File \u001b[0;32m/state/partition1/llgrid/pkg/anaconda/python-LLM-2023b/lib/python3.10/site-packages/pandas/io/pytables.py:311\u001b[0m, in \u001b[0;36mto_hdf\u001b[0;34m(path_or_buf, key, value, mode, complevel, complib, append, format, index, min_itemsize, nan_rep, dropna, data_columns, errors, encoding)\u001b[0m\n\u001b[1;32m    307\u001b[0m \u001b[38;5;28;01mif\u001b[39;00m \u001b[38;5;28misinstance\u001b[39m(path_or_buf, \u001b[38;5;28mstr\u001b[39m):\n\u001b[1;32m    308\u001b[0m     \u001b[38;5;28;01mwith\u001b[39;00m HDFStore(\n\u001b[1;32m    309\u001b[0m         path_or_buf, mode\u001b[38;5;241m=\u001b[39mmode, complevel\u001b[38;5;241m=\u001b[39mcomplevel, complib\u001b[38;5;241m=\u001b[39mcomplib\n\u001b[1;32m    310\u001b[0m     ) \u001b[38;5;28;01mas\u001b[39;00m store:\n\u001b[0;32m--> 311\u001b[0m         \u001b[43mf\u001b[49m\u001b[43m(\u001b[49m\u001b[43mstore\u001b[49m\u001b[43m)\u001b[49m\n\u001b[1;32m    312\u001b[0m \u001b[38;5;28;01melse\u001b[39;00m:\n\u001b[1;32m    313\u001b[0m     f(path_or_buf)\n",
      "File \u001b[0;32m/state/partition1/llgrid/pkg/anaconda/python-LLM-2023b/lib/python3.10/site-packages/pandas/io/pytables.py:293\u001b[0m, in \u001b[0;36mto_hdf.<locals>.<lambda>\u001b[0;34m(store)\u001b[0m\n\u001b[1;32m    279\u001b[0m     f \u001b[38;5;241m=\u001b[39m \u001b[38;5;28;01mlambda\u001b[39;00m store: store\u001b[38;5;241m.\u001b[39mappend(\n\u001b[1;32m    280\u001b[0m         key,\n\u001b[1;32m    281\u001b[0m         value,\n\u001b[0;32m   (...)\u001b[0m\n\u001b[1;32m    289\u001b[0m         encoding\u001b[38;5;241m=\u001b[39mencoding,\n\u001b[1;32m    290\u001b[0m     )\n\u001b[1;32m    291\u001b[0m \u001b[38;5;28;01melse\u001b[39;00m:\n\u001b[1;32m    292\u001b[0m     \u001b[38;5;66;03m# NB: dropna is not passed to `put`\u001b[39;00m\n\u001b[0;32m--> 293\u001b[0m     f \u001b[38;5;241m=\u001b[39m \u001b[38;5;28;01mlambda\u001b[39;00m store: \u001b[43mstore\u001b[49m\u001b[38;5;241;43m.\u001b[39;49m\u001b[43mput\u001b[49m\u001b[43m(\u001b[49m\n\u001b[1;32m    294\u001b[0m \u001b[43m        \u001b[49m\u001b[43mkey\u001b[49m\u001b[43m,\u001b[49m\n\u001b[1;32m    295\u001b[0m \u001b[43m        \u001b[49m\u001b[43mvalue\u001b[49m\u001b[43m,\u001b[49m\n\u001b[1;32m    296\u001b[0m \u001b[43m        \u001b[49m\u001b[38;5;28;43mformat\u001b[39;49m\u001b[38;5;241;43m=\u001b[39;49m\u001b[38;5;28;43mformat\u001b[39;49m\u001b[43m,\u001b[49m\n\u001b[1;32m    297\u001b[0m \u001b[43m        \u001b[49m\u001b[43mindex\u001b[49m\u001b[38;5;241;43m=\u001b[39;49m\u001b[43mindex\u001b[49m\u001b[43m,\u001b[49m\n\u001b[1;32m    298\u001b[0m \u001b[43m        \u001b[49m\u001b[43mmin_itemsize\u001b[49m\u001b[38;5;241;43m=\u001b[39;49m\u001b[43mmin_itemsize\u001b[49m\u001b[43m,\u001b[49m\n\u001b[1;32m    299\u001b[0m \u001b[43m        \u001b[49m\u001b[43mnan_rep\u001b[49m\u001b[38;5;241;43m=\u001b[39;49m\u001b[43mnan_rep\u001b[49m\u001b[43m,\u001b[49m\n\u001b[1;32m    300\u001b[0m \u001b[43m        \u001b[49m\u001b[43mdata_columns\u001b[49m\u001b[38;5;241;43m=\u001b[39;49m\u001b[43mdata_columns\u001b[49m\u001b[43m,\u001b[49m\n\u001b[1;32m    301\u001b[0m \u001b[43m        \u001b[49m\u001b[43merrors\u001b[49m\u001b[38;5;241;43m=\u001b[39;49m\u001b[43merrors\u001b[49m\u001b[43m,\u001b[49m\n\u001b[1;32m    302\u001b[0m \u001b[43m        \u001b[49m\u001b[43mencoding\u001b[49m\u001b[38;5;241;43m=\u001b[39;49m\u001b[43mencoding\u001b[49m\u001b[43m,\u001b[49m\n\u001b[1;32m    303\u001b[0m \u001b[43m        \u001b[49m\u001b[43mdropna\u001b[49m\u001b[38;5;241;43m=\u001b[39;49m\u001b[43mdropna\u001b[49m\u001b[43m,\u001b[49m\n\u001b[1;32m    304\u001b[0m \u001b[43m    \u001b[49m\u001b[43m)\u001b[49m\n\u001b[1;32m    306\u001b[0m path_or_buf \u001b[38;5;241m=\u001b[39m stringify_path(path_or_buf)\n\u001b[1;32m    307\u001b[0m \u001b[38;5;28;01mif\u001b[39;00m \u001b[38;5;28misinstance\u001b[39m(path_or_buf, \u001b[38;5;28mstr\u001b[39m):\n",
      "File \u001b[0;32m/state/partition1/llgrid/pkg/anaconda/python-LLM-2023b/lib/python3.10/site-packages/pandas/io/pytables.py:1160\u001b[0m, in \u001b[0;36mHDFStore.put\u001b[0;34m(self, key, value, format, index, append, complib, complevel, min_itemsize, nan_rep, data_columns, encoding, errors, track_times, dropna)\u001b[0m\n\u001b[1;32m   1158\u001b[0m     \u001b[38;5;28mformat\u001b[39m \u001b[38;5;241m=\u001b[39m get_option(\u001b[38;5;124m\"\u001b[39m\u001b[38;5;124mio.hdf.default_format\u001b[39m\u001b[38;5;124m\"\u001b[39m) \u001b[38;5;129;01mor\u001b[39;00m \u001b[38;5;124m\"\u001b[39m\u001b[38;5;124mfixed\u001b[39m\u001b[38;5;124m\"\u001b[39m\n\u001b[1;32m   1159\u001b[0m \u001b[38;5;28mformat\u001b[39m \u001b[38;5;241m=\u001b[39m \u001b[38;5;28mself\u001b[39m\u001b[38;5;241m.\u001b[39m_validate_format(\u001b[38;5;28mformat\u001b[39m)\n\u001b[0;32m-> 1160\u001b[0m \u001b[38;5;28;43mself\u001b[39;49m\u001b[38;5;241;43m.\u001b[39;49m\u001b[43m_write_to_group\u001b[49m\u001b[43m(\u001b[49m\n\u001b[1;32m   1161\u001b[0m \u001b[43m    \u001b[49m\u001b[43mkey\u001b[49m\u001b[43m,\u001b[49m\n\u001b[1;32m   1162\u001b[0m \u001b[43m    \u001b[49m\u001b[43mvalue\u001b[49m\u001b[43m,\u001b[49m\n\u001b[1;32m   1163\u001b[0m \u001b[43m    \u001b[49m\u001b[38;5;28;43mformat\u001b[39;49m\u001b[38;5;241;43m=\u001b[39;49m\u001b[38;5;28;43mformat\u001b[39;49m\u001b[43m,\u001b[49m\n\u001b[1;32m   1164\u001b[0m \u001b[43m    \u001b[49m\u001b[43mindex\u001b[49m\u001b[38;5;241;43m=\u001b[39;49m\u001b[43mindex\u001b[49m\u001b[43m,\u001b[49m\n\u001b[1;32m   1165\u001b[0m \u001b[43m    \u001b[49m\u001b[43mappend\u001b[49m\u001b[38;5;241;43m=\u001b[39;49m\u001b[43mappend\u001b[49m\u001b[43m,\u001b[49m\n\u001b[1;32m   1166\u001b[0m \u001b[43m    \u001b[49m\u001b[43mcomplib\u001b[49m\u001b[38;5;241;43m=\u001b[39;49m\u001b[43mcomplib\u001b[49m\u001b[43m,\u001b[49m\n\u001b[1;32m   1167\u001b[0m \u001b[43m    \u001b[49m\u001b[43mcomplevel\u001b[49m\u001b[38;5;241;43m=\u001b[39;49m\u001b[43mcomplevel\u001b[49m\u001b[43m,\u001b[49m\n\u001b[1;32m   1168\u001b[0m \u001b[43m    \u001b[49m\u001b[43mmin_itemsize\u001b[49m\u001b[38;5;241;43m=\u001b[39;49m\u001b[43mmin_itemsize\u001b[49m\u001b[43m,\u001b[49m\n\u001b[1;32m   1169\u001b[0m \u001b[43m    \u001b[49m\u001b[43mnan_rep\u001b[49m\u001b[38;5;241;43m=\u001b[39;49m\u001b[43mnan_rep\u001b[49m\u001b[43m,\u001b[49m\n\u001b[1;32m   1170\u001b[0m \u001b[43m    \u001b[49m\u001b[43mdata_columns\u001b[49m\u001b[38;5;241;43m=\u001b[39;49m\u001b[43mdata_columns\u001b[49m\u001b[43m,\u001b[49m\n\u001b[1;32m   1171\u001b[0m \u001b[43m    \u001b[49m\u001b[43mencoding\u001b[49m\u001b[38;5;241;43m=\u001b[39;49m\u001b[43mencoding\u001b[49m\u001b[43m,\u001b[49m\n\u001b[1;32m   1172\u001b[0m \u001b[43m    \u001b[49m\u001b[43merrors\u001b[49m\u001b[38;5;241;43m=\u001b[39;49m\u001b[43merrors\u001b[49m\u001b[43m,\u001b[49m\n\u001b[1;32m   1173\u001b[0m \u001b[43m    \u001b[49m\u001b[43mtrack_times\u001b[49m\u001b[38;5;241;43m=\u001b[39;49m\u001b[43mtrack_times\u001b[49m\u001b[43m,\u001b[49m\n\u001b[1;32m   1174\u001b[0m \u001b[43m    \u001b[49m\u001b[43mdropna\u001b[49m\u001b[38;5;241;43m=\u001b[39;49m\u001b[43mdropna\u001b[49m\u001b[43m,\u001b[49m\n\u001b[1;32m   1175\u001b[0m \u001b[43m\u001b[49m\u001b[43m)\u001b[49m\n",
      "File \u001b[0;32m/state/partition1/llgrid/pkg/anaconda/python-LLM-2023b/lib/python3.10/site-packages/pandas/io/pytables.py:1858\u001b[0m, in \u001b[0;36mHDFStore._write_to_group\u001b[0;34m(self, key, value, format, axes, index, append, complib, complevel, fletcher32, min_itemsize, chunksize, expectedrows, dropna, nan_rep, data_columns, encoding, errors, track_times)\u001b[0m\n\u001b[1;32m   1855\u001b[0m     \u001b[38;5;28;01mraise\u001b[39;00m \u001b[38;5;167;01mValueError\u001b[39;00m(\u001b[38;5;124m\"\u001b[39m\u001b[38;5;124mCompression not supported on Fixed format stores\u001b[39m\u001b[38;5;124m\"\u001b[39m)\n\u001b[1;32m   1857\u001b[0m \u001b[38;5;66;03m# write the object\u001b[39;00m\n\u001b[0;32m-> 1858\u001b[0m \u001b[43ms\u001b[49m\u001b[38;5;241;43m.\u001b[39;49m\u001b[43mwrite\u001b[49m\u001b[43m(\u001b[49m\n\u001b[1;32m   1859\u001b[0m \u001b[43m    \u001b[49m\u001b[43mobj\u001b[49m\u001b[38;5;241;43m=\u001b[39;49m\u001b[43mvalue\u001b[49m\u001b[43m,\u001b[49m\n\u001b[1;32m   1860\u001b[0m \u001b[43m    \u001b[49m\u001b[43maxes\u001b[49m\u001b[38;5;241;43m=\u001b[39;49m\u001b[43maxes\u001b[49m\u001b[43m,\u001b[49m\n\u001b[1;32m   1861\u001b[0m \u001b[43m    \u001b[49m\u001b[43mappend\u001b[49m\u001b[38;5;241;43m=\u001b[39;49m\u001b[43mappend\u001b[49m\u001b[43m,\u001b[49m\n\u001b[1;32m   1862\u001b[0m \u001b[43m    \u001b[49m\u001b[43mcomplib\u001b[49m\u001b[38;5;241;43m=\u001b[39;49m\u001b[43mcomplib\u001b[49m\u001b[43m,\u001b[49m\n\u001b[1;32m   1863\u001b[0m \u001b[43m    \u001b[49m\u001b[43mcomplevel\u001b[49m\u001b[38;5;241;43m=\u001b[39;49m\u001b[43mcomplevel\u001b[49m\u001b[43m,\u001b[49m\n\u001b[1;32m   1864\u001b[0m \u001b[43m    \u001b[49m\u001b[43mfletcher32\u001b[49m\u001b[38;5;241;43m=\u001b[39;49m\u001b[43mfletcher32\u001b[49m\u001b[43m,\u001b[49m\n\u001b[1;32m   1865\u001b[0m \u001b[43m    \u001b[49m\u001b[43mmin_itemsize\u001b[49m\u001b[38;5;241;43m=\u001b[39;49m\u001b[43mmin_itemsize\u001b[49m\u001b[43m,\u001b[49m\n\u001b[1;32m   1866\u001b[0m \u001b[43m    \u001b[49m\u001b[43mchunksize\u001b[49m\u001b[38;5;241;43m=\u001b[39;49m\u001b[43mchunksize\u001b[49m\u001b[43m,\u001b[49m\n\u001b[1;32m   1867\u001b[0m \u001b[43m    \u001b[49m\u001b[43mexpectedrows\u001b[49m\u001b[38;5;241;43m=\u001b[39;49m\u001b[43mexpectedrows\u001b[49m\u001b[43m,\u001b[49m\n\u001b[1;32m   1868\u001b[0m \u001b[43m    \u001b[49m\u001b[43mdropna\u001b[49m\u001b[38;5;241;43m=\u001b[39;49m\u001b[43mdropna\u001b[49m\u001b[43m,\u001b[49m\n\u001b[1;32m   1869\u001b[0m \u001b[43m    \u001b[49m\u001b[43mnan_rep\u001b[49m\u001b[38;5;241;43m=\u001b[39;49m\u001b[43mnan_rep\u001b[49m\u001b[43m,\u001b[49m\n\u001b[1;32m   1870\u001b[0m \u001b[43m    \u001b[49m\u001b[43mdata_columns\u001b[49m\u001b[38;5;241;43m=\u001b[39;49m\u001b[43mdata_columns\u001b[49m\u001b[43m,\u001b[49m\n\u001b[1;32m   1871\u001b[0m \u001b[43m    \u001b[49m\u001b[43mtrack_times\u001b[49m\u001b[38;5;241;43m=\u001b[39;49m\u001b[43mtrack_times\u001b[49m\u001b[43m,\u001b[49m\n\u001b[1;32m   1872\u001b[0m \u001b[43m\u001b[49m\u001b[43m)\u001b[49m\n\u001b[1;32m   1874\u001b[0m \u001b[38;5;28;01mif\u001b[39;00m \u001b[38;5;28misinstance\u001b[39m(s, Table) \u001b[38;5;129;01mand\u001b[39;00m index:\n\u001b[1;32m   1875\u001b[0m     s\u001b[38;5;241m.\u001b[39mcreate_index(columns\u001b[38;5;241m=\u001b[39mindex)\n",
      "File \u001b[0;32m/state/partition1/llgrid/pkg/anaconda/python-LLM-2023b/lib/python3.10/site-packages/pandas/io/pytables.py:4393\u001b[0m, in \u001b[0;36mAppendableTable.write\u001b[0;34m(self, obj, axes, append, complib, complevel, fletcher32, min_itemsize, chunksize, expectedrows, dropna, nan_rep, data_columns, track_times)\u001b[0m\n\u001b[1;32m   4390\u001b[0m     \u001b[38;5;28mself\u001b[39m\u001b[38;5;241m.\u001b[39m_handle\u001b[38;5;241m.\u001b[39mremove_node(\u001b[38;5;28mself\u001b[39m\u001b[38;5;241m.\u001b[39mgroup, \u001b[38;5;124m\"\u001b[39m\u001b[38;5;124mtable\u001b[39m\u001b[38;5;124m\"\u001b[39m)\n\u001b[1;32m   4392\u001b[0m \u001b[38;5;66;03m# create the axes\u001b[39;00m\n\u001b[0;32m-> 4393\u001b[0m table \u001b[38;5;241m=\u001b[39m \u001b[38;5;28;43mself\u001b[39;49m\u001b[38;5;241;43m.\u001b[39;49m\u001b[43m_create_axes\u001b[49m\u001b[43m(\u001b[49m\n\u001b[1;32m   4394\u001b[0m \u001b[43m    \u001b[49m\u001b[43maxes\u001b[49m\u001b[38;5;241;43m=\u001b[39;49m\u001b[43maxes\u001b[49m\u001b[43m,\u001b[49m\n\u001b[1;32m   4395\u001b[0m \u001b[43m    \u001b[49m\u001b[43mobj\u001b[49m\u001b[38;5;241;43m=\u001b[39;49m\u001b[43mobj\u001b[49m\u001b[43m,\u001b[49m\n\u001b[1;32m   4396\u001b[0m \u001b[43m    \u001b[49m\u001b[43mvalidate\u001b[49m\u001b[38;5;241;43m=\u001b[39;49m\u001b[43mappend\u001b[49m\u001b[43m,\u001b[49m\n\u001b[1;32m   4397\u001b[0m \u001b[43m    \u001b[49m\u001b[43mmin_itemsize\u001b[49m\u001b[38;5;241;43m=\u001b[39;49m\u001b[43mmin_itemsize\u001b[49m\u001b[43m,\u001b[49m\n\u001b[1;32m   4398\u001b[0m \u001b[43m    \u001b[49m\u001b[43mnan_rep\u001b[49m\u001b[38;5;241;43m=\u001b[39;49m\u001b[43mnan_rep\u001b[49m\u001b[43m,\u001b[49m\n\u001b[1;32m   4399\u001b[0m \u001b[43m    \u001b[49m\u001b[43mdata_columns\u001b[49m\u001b[38;5;241;43m=\u001b[39;49m\u001b[43mdata_columns\u001b[49m\u001b[43m,\u001b[49m\n\u001b[1;32m   4400\u001b[0m \u001b[43m\u001b[49m\u001b[43m)\u001b[49m\n\u001b[1;32m   4402\u001b[0m \u001b[38;5;28;01mfor\u001b[39;00m a \u001b[38;5;129;01min\u001b[39;00m table\u001b[38;5;241m.\u001b[39maxes:\n\u001b[1;32m   4403\u001b[0m     a\u001b[38;5;241m.\u001b[39mvalidate_names()\n",
      "File \u001b[0;32m/state/partition1/llgrid/pkg/anaconda/python-LLM-2023b/lib/python3.10/site-packages/pandas/io/pytables.py:4042\u001b[0m, in \u001b[0;36mTable._create_axes\u001b[0;34m(self, axes, obj, validate, nan_rep, data_columns, min_itemsize)\u001b[0m\n\u001b[1;32m   4039\u001b[0m     existing_col \u001b[38;5;241m=\u001b[39m \u001b[38;5;28;01mNone\u001b[39;00m\n\u001b[1;32m   4041\u001b[0m new_name \u001b[38;5;241m=\u001b[39m name \u001b[38;5;129;01mor\u001b[39;00m \u001b[38;5;124mf\u001b[39m\u001b[38;5;124m\"\u001b[39m\u001b[38;5;124mvalues_block_\u001b[39m\u001b[38;5;132;01m{\u001b[39;00mi\u001b[38;5;132;01m}\u001b[39;00m\u001b[38;5;124m\"\u001b[39m\n\u001b[0;32m-> 4042\u001b[0m data_converted \u001b[38;5;241m=\u001b[39m \u001b[43m_maybe_convert_for_string_atom\u001b[49m\u001b[43m(\u001b[49m\n\u001b[1;32m   4043\u001b[0m \u001b[43m    \u001b[49m\u001b[43mnew_name\u001b[49m\u001b[43m,\u001b[49m\n\u001b[1;32m   4044\u001b[0m \u001b[43m    \u001b[49m\u001b[43mblk\u001b[49m\u001b[38;5;241;43m.\u001b[39;49m\u001b[43mvalues\u001b[49m\u001b[43m,\u001b[49m\n\u001b[1;32m   4045\u001b[0m \u001b[43m    \u001b[49m\u001b[43mexisting_col\u001b[49m\u001b[38;5;241;43m=\u001b[39;49m\u001b[43mexisting_col\u001b[49m\u001b[43m,\u001b[49m\n\u001b[1;32m   4046\u001b[0m \u001b[43m    \u001b[49m\u001b[43mmin_itemsize\u001b[49m\u001b[38;5;241;43m=\u001b[39;49m\u001b[43mmin_itemsize\u001b[49m\u001b[43m,\u001b[49m\n\u001b[1;32m   4047\u001b[0m \u001b[43m    \u001b[49m\u001b[43mnan_rep\u001b[49m\u001b[38;5;241;43m=\u001b[39;49m\u001b[43mnan_rep\u001b[49m\u001b[43m,\u001b[49m\n\u001b[1;32m   4048\u001b[0m \u001b[43m    \u001b[49m\u001b[43mencoding\u001b[49m\u001b[38;5;241;43m=\u001b[39;49m\u001b[38;5;28;43mself\u001b[39;49m\u001b[38;5;241;43m.\u001b[39;49m\u001b[43mencoding\u001b[49m\u001b[43m,\u001b[49m\n\u001b[1;32m   4049\u001b[0m \u001b[43m    \u001b[49m\u001b[43merrors\u001b[49m\u001b[38;5;241;43m=\u001b[39;49m\u001b[38;5;28;43mself\u001b[39;49m\u001b[38;5;241;43m.\u001b[39;49m\u001b[43merrors\u001b[49m\u001b[43m,\u001b[49m\n\u001b[1;32m   4050\u001b[0m \u001b[43m    \u001b[49m\u001b[43mcolumns\u001b[49m\u001b[38;5;241;43m=\u001b[39;49m\u001b[43mb_items\u001b[49m\u001b[43m,\u001b[49m\n\u001b[1;32m   4051\u001b[0m \u001b[43m\u001b[49m\u001b[43m)\u001b[49m\n\u001b[1;32m   4052\u001b[0m adj_name \u001b[38;5;241m=\u001b[39m _maybe_adjust_name(new_name, \u001b[38;5;28mself\u001b[39m\u001b[38;5;241m.\u001b[39mversion)\n\u001b[1;32m   4054\u001b[0m typ \u001b[38;5;241m=\u001b[39m klass\u001b[38;5;241m.\u001b[39m_get_atom(data_converted)\n",
      "File \u001b[0;32m/state/partition1/llgrid/pkg/anaconda/python-LLM-2023b/lib/python3.10/site-packages/pandas/io/pytables.py:5090\u001b[0m, in \u001b[0;36m_maybe_convert_for_string_atom\u001b[0;34m(name, bvalues, existing_col, min_itemsize, nan_rep, encoding, errors, columns)\u001b[0m\n\u001b[1;32m   5088\u001b[0m         \u001b[38;5;28;01mif\u001b[39;00m inferred_type \u001b[38;5;241m!=\u001b[39m \u001b[38;5;124m\"\u001b[39m\u001b[38;5;124mstring\u001b[39m\u001b[38;5;124m\"\u001b[39m:\n\u001b[1;32m   5089\u001b[0m             error_column_label \u001b[38;5;241m=\u001b[39m columns[i] \u001b[38;5;28;01mif\u001b[39;00m \u001b[38;5;28mlen\u001b[39m(columns) \u001b[38;5;241m>\u001b[39m i \u001b[38;5;28;01melse\u001b[39;00m \u001b[38;5;124mf\u001b[39m\u001b[38;5;124m\"\u001b[39m\u001b[38;5;124mNo.\u001b[39m\u001b[38;5;132;01m{\u001b[39;00mi\u001b[38;5;132;01m}\u001b[39;00m\u001b[38;5;124m\"\u001b[39m\n\u001b[0;32m-> 5090\u001b[0m             \u001b[38;5;28;01mraise\u001b[39;00m \u001b[38;5;167;01mTypeError\u001b[39;00m(\n\u001b[1;32m   5091\u001b[0m                 \u001b[38;5;124mf\u001b[39m\u001b[38;5;124m\"\u001b[39m\u001b[38;5;124mCannot serialize the column [\u001b[39m\u001b[38;5;132;01m{\u001b[39;00merror_column_label\u001b[38;5;132;01m}\u001b[39;00m\u001b[38;5;124m]\u001b[39m\u001b[38;5;130;01m\\n\u001b[39;00m\u001b[38;5;124m\"\u001b[39m\n\u001b[1;32m   5092\u001b[0m                 \u001b[38;5;124mf\u001b[39m\u001b[38;5;124m\"\u001b[39m\u001b[38;5;124mbecause its data contents are not [string] but \u001b[39m\u001b[38;5;124m\"\u001b[39m\n\u001b[1;32m   5093\u001b[0m                 \u001b[38;5;124mf\u001b[39m\u001b[38;5;124m\"\u001b[39m\u001b[38;5;124m[\u001b[39m\u001b[38;5;132;01m{\u001b[39;00minferred_type\u001b[38;5;132;01m}\u001b[39;00m\u001b[38;5;124m] object dtype\u001b[39m\u001b[38;5;124m\"\u001b[39m\n\u001b[1;32m   5094\u001b[0m             )\n\u001b[1;32m   5096\u001b[0m \u001b[38;5;66;03m# itemsize is the maximum length of a string (along any dimension)\u001b[39;00m\n\u001b[1;32m   5098\u001b[0m data_converted \u001b[38;5;241m=\u001b[39m _convert_string_array(data, encoding, errors)\u001b[38;5;241m.\u001b[39mreshape(data\u001b[38;5;241m.\u001b[39mshape)\n",
      "\u001b[0;31mTypeError\u001b[0m: Cannot serialize the column [Data]\nbecause its data contents are not [string] but [mixed] object dtype"
     ]
    }
   ],
   "source": [
    "dest_fp = lambda chrom: f'../Zhuohan_Data/embeddings_{chrom}.h5'#'../../data/processed_data.hdf5'\n",
    "embed_df[:1].to_hdf(\n",
    "    dest_fp(chrom),\n",
    "    key='Embeddings',\n",
    "    complevel=0,\n",
    "    format='table',\n",
    "    append=False,\n",
    "    mode='w'\n",
    ")"
   ]
  },
  {
   "cell_type": "code",
   "execution_count": null,
   "id": "50d5fdaa-c17c-4faf-be36-7102720de1d1",
   "metadata": {},
   "outputs": [],
   "source": [
    "embed_df['start_idx'].max()"
   ]
  },
  {
   "cell_type": "code",
   "execution_count": null,
   "id": "095b2d06-6540-4d7b-8dbb-aa8bce25b8cf",
   "metadata": {},
   "outputs": [],
   "source": []
  },
  {
   "cell_type": "code",
   "execution_count": 1,
   "id": "c3e9831a-1fdb-4305-a5ce-a30f1abf23bd",
   "metadata": {},
   "outputs": [
    {
     "data": {
      "text/plain": [
       "40.81873440742493"
      ]
     },
     "execution_count": 1,
     "metadata": {},
     "output_type": "execute_result"
    }
   ],
   "source": [
    "import pandas as pd\n",
    "import time\n",
    "\n",
    "t = -time.time()\n",
    "a = pd.read_pickle('../Zhuohan_Data/embeddings_1.tar.gz')\n",
    "t+= time.time()\n",
    "t"
   ]
  },
  {
   "cell_type": "code",
   "execution_count": 3,
   "id": "16f75880-2982-4fe4-8ed3-f5904ba3b48f",
   "metadata": {},
   "outputs": [
    {
     "data": {
      "text/html": [
       "<div>\n",
       "<style scoped>\n",
       "    .dataframe tbody tr th:only-of-type {\n",
       "        vertical-align: middle;\n",
       "    }\n",
       "\n",
       "    .dataframe tbody tr th {\n",
       "        vertical-align: top;\n",
       "    }\n",
       "\n",
       "    .dataframe thead th {\n",
       "        text-align: right;\n",
       "    }\n",
       "</style>\n",
       "<table border=\"1\" class=\"dataframe\">\n",
       "  <thead>\n",
       "    <tr style=\"text-align: right;\">\n",
       "      <th></th>\n",
       "      <th></th>\n",
       "      <th></th>\n",
       "      <th>Data</th>\n",
       "    </tr>\n",
       "    <tr>\n",
       "      <th>Region_Length</th>\n",
       "      <th>Chromosome</th>\n",
       "      <th>Genomic_Index</th>\n",
       "      <th></th>\n",
       "    </tr>\n",
       "  </thead>\n",
       "  <tbody>\n",
       "    <tr>\n",
       "      <th>1300000</th>\n",
       "      <th>1</th>\n",
       "      <th>780000</th>\n",
       "      <td>[[[tensor(0.0608), tensor(3.5931), tensor(-1.4...</td>\n",
       "    </tr>\n",
       "  </tbody>\n",
       "</table>\n",
       "</div>"
      ],
      "text/plain": [
       "                                                                                     Data\n",
       "Region_Length Chromosome Genomic_Index                                                   \n",
       "1300000       1          780000         [[[tensor(0.0608), tensor(3.5931), tensor(-1.4..."
      ]
     },
     "execution_count": 3,
     "metadata": {},
     "output_type": "execute_result"
    }
   ],
   "source": [
    "a[:1]"
   ]
  },
  {
   "cell_type": "code",
   "execution_count": 24,
   "id": "1bf6756f-19b7-432b-b9cb-42ec32741e66",
   "metadata": {},
   "outputs": [
    {
     "ename": "ValueError",
     "evalue": "only one element tensors can be converted to Python scalars",
     "output_type": "error",
     "traceback": [
      "\u001b[0;31m---------------------------------------------------------------------------\u001b[0m",
      "\u001b[0;31mValueError\u001b[0m                                Traceback (most recent call last)",
      "Cell \u001b[0;32mIn[24], line 2\u001b[0m\n\u001b[1;32m      1\u001b[0m \u001b[38;5;28;01mimport\u001b[39;00m \u001b[38;5;21;01mnumpy\u001b[39;00m \u001b[38;5;28;01mas\u001b[39;00m \u001b[38;5;21;01mnp\u001b[39;00m\n\u001b[0;32m----> 2\u001b[0m b \u001b[38;5;241m=\u001b[39m \u001b[43ma\u001b[49m\u001b[43m[\u001b[49m\u001b[38;5;124;43m'\u001b[39;49m\u001b[38;5;124;43mData\u001b[39;49m\u001b[38;5;124;43m'\u001b[39;49m\u001b[43m]\u001b[49m\u001b[38;5;241;43m.\u001b[39;49m\u001b[43mvalues\u001b[49m\u001b[38;5;241;43m.\u001b[39;49m\u001b[43mastype\u001b[49m\u001b[43m(\u001b[49m\u001b[43mnp\u001b[49m\u001b[38;5;241;43m.\u001b[39;49m\u001b[43mfloat32\u001b[49m\u001b[43m)\u001b[49m\n",
      "\u001b[0;31mValueError\u001b[0m: only one element tensors can be converted to Python scalars"
     ]
    }
   ],
   "source": [
    "import numpy as np\n",
    "b = a['Data'].values.astype(np.float32)"
   ]
  },
  {
   "cell_type": "code",
   "execution_count": 32,
   "id": "8022d039-ac4b-46b1-a901-2b40dcc947d4",
   "metadata": {},
   "outputs": [],
   "source": [
    "import torch\n",
    "\n",
    "b = a.loc[(1300000,'1',780000)].values[0]"
   ]
  },
  {
   "cell_type": "code",
   "execution_count": 58,
   "id": "80adff68-cc89-40f7-b8fc-9baa2d3db8cb",
   "metadata": {},
   "outputs": [
    {
     "data": {
      "text/plain": [
       "Data    [[[tensor(0.0608), tensor(3.5931), tensor(-1.4...\n",
       "Name: (1300000, 1, 780000), dtype: object"
      ]
     },
     "execution_count": 58,
     "metadata": {},
     "output_type": "execute_result"
    }
   ],
   "source": [
    "a.loc[(1300000,'1',780000)]"
   ]
  },
  {
   "cell_type": "code",
   "execution_count": 39,
   "id": "3e498bdd-2ad8-45e1-ac62-4cf5950da08c",
   "metadata": {},
   "outputs": [
    {
     "data": {
      "text/plain": [
       "tensor([[[ 0.0608,  3.5931, -1.4655,  ...,  0.8881, -0.2752, -2.6679],\n",
       "         [-1.0577,  3.9899,  0.2972,  ...,  2.0217,  0.1286, -0.7900],\n",
       "         [-1.1141,  2.9361, -2.5720,  ...,  1.2188, -2.4308,  2.5277],\n",
       "         ...,\n",
       "         [-0.6375,  1.2439,  0.3090,  ..., -1.1241,  1.1532,  2.7986],\n",
       "         [ 1.8492,  1.3955, -2.4614,  ..., -1.2247, -0.7906,  1.1656],\n",
       "         [-1.3701,  0.8691,  1.1013,  ...,  0.1064,  2.1044,  1.5171]]])"
      ]
     },
     "execution_count": 39,
     "metadata": {},
     "output_type": "execute_result"
    }
   ],
   "source": [
    "a.loc[(1300000,'1',780000),'Data']# = a.loc[(1300000,'1',780000)].values[0]"
   ]
  },
  {
   "cell_type": "code",
   "execution_count": 50,
   "id": "926539ea-ee8c-4323-b8bf-31f51de24479",
   "metadata": {},
   "outputs": [
    {
     "ename": "KeyError",
     "evalue": "\"Level ['Chromosome', 'Genomic_Index'] not found\"",
     "output_type": "error",
     "traceback": [
      "\u001b[0;31m---------------------------------------------------------------------------\u001b[0m",
      "\u001b[0;31mValueError\u001b[0m                                Traceback (most recent call last)",
      "File \u001b[0;32m/state/partition1/llgrid/pkg/anaconda/python-LLM-2023b/lib/python3.10/site-packages/pandas/core/indexes/multi.py:1542\u001b[0m, in \u001b[0;36mMultiIndex._get_level_number\u001b[0;34m(self, level)\u001b[0m\n\u001b[1;32m   1541\u001b[0m \u001b[38;5;28;01mtry\u001b[39;00m:\n\u001b[0;32m-> 1542\u001b[0m     level \u001b[38;5;241m=\u001b[39m \u001b[38;5;28;43mself\u001b[39;49m\u001b[38;5;241;43m.\u001b[39;49m\u001b[43mnames\u001b[49m\u001b[38;5;241;43m.\u001b[39;49m\u001b[43mindex\u001b[49m\u001b[43m(\u001b[49m\u001b[43mlevel\u001b[49m\u001b[43m)\u001b[49m\n\u001b[1;32m   1543\u001b[0m \u001b[38;5;28;01mexcept\u001b[39;00m \u001b[38;5;167;01mValueError\u001b[39;00m \u001b[38;5;28;01mas\u001b[39;00m err:\n",
      "\u001b[0;31mValueError\u001b[0m: ['Chromosome', 'Genomic_Index'] is not in list",
      "\nThe above exception was the direct cause of the following exception:\n",
      "\u001b[0;31mKeyError\u001b[0m                                  Traceback (most recent call last)",
      "Cell \u001b[0;32mIn[50], line 1\u001b[0m\n\u001b[0;32m----> 1\u001b[0m \u001b[43ma\u001b[49m\u001b[38;5;241;43m.\u001b[39;49m\u001b[43mindex\u001b[49m\u001b[38;5;241;43m.\u001b[39;49m\u001b[43mget_level_values\u001b[49m\u001b[43m(\u001b[49m\u001b[43m[\u001b[49m\u001b[38;5;124;43m'\u001b[39;49m\u001b[38;5;124;43mChromosome\u001b[39;49m\u001b[38;5;124;43m'\u001b[39;49m\u001b[43m,\u001b[49m\u001b[38;5;124;43m'\u001b[39;49m\u001b[38;5;124;43mGenomic_Index\u001b[39;49m\u001b[38;5;124;43m'\u001b[39;49m\u001b[43m]\u001b[49m\u001b[43m)\u001b[49m\n",
      "File \u001b[0;32m/state/partition1/llgrid/pkg/anaconda/python-LLM-2023b/lib/python3.10/site-packages/pandas/core/indexes/multi.py:1709\u001b[0m, in \u001b[0;36mMultiIndex.get_level_values\u001b[0;34m(self, level)\u001b[0m\n\u001b[1;32m   1661\u001b[0m \u001b[38;5;28;01mdef\u001b[39;00m \u001b[38;5;21mget_level_values\u001b[39m(\u001b[38;5;28mself\u001b[39m, level):\n\u001b[1;32m   1662\u001b[0m \u001b[38;5;250m    \u001b[39m\u001b[38;5;124;03m\"\"\"\u001b[39;00m\n\u001b[1;32m   1663\u001b[0m \u001b[38;5;124;03m    Return vector of label values for requested level.\u001b[39;00m\n\u001b[1;32m   1664\u001b[0m \n\u001b[0;32m   (...)\u001b[0m\n\u001b[1;32m   1707\u001b[0m \u001b[38;5;124;03m    Index([1.0, nan, 2.0], dtype='float64')\u001b[39;00m\n\u001b[1;32m   1708\u001b[0m \u001b[38;5;124;03m    \"\"\"\u001b[39;00m\n\u001b[0;32m-> 1709\u001b[0m     level \u001b[38;5;241m=\u001b[39m \u001b[38;5;28;43mself\u001b[39;49m\u001b[38;5;241;43m.\u001b[39;49m\u001b[43m_get_level_number\u001b[49m\u001b[43m(\u001b[49m\u001b[43mlevel\u001b[49m\u001b[43m)\u001b[49m\n\u001b[1;32m   1710\u001b[0m     values \u001b[38;5;241m=\u001b[39m \u001b[38;5;28mself\u001b[39m\u001b[38;5;241m.\u001b[39m_get_level_values(level)\n\u001b[1;32m   1711\u001b[0m     \u001b[38;5;28;01mreturn\u001b[39;00m values\n",
      "File \u001b[0;32m/state/partition1/llgrid/pkg/anaconda/python-LLM-2023b/lib/python3.10/site-packages/pandas/core/indexes/multi.py:1545\u001b[0m, in \u001b[0;36mMultiIndex._get_level_number\u001b[0;34m(self, level)\u001b[0m\n\u001b[1;32m   1543\u001b[0m \u001b[38;5;28;01mexcept\u001b[39;00m \u001b[38;5;167;01mValueError\u001b[39;00m \u001b[38;5;28;01mas\u001b[39;00m err:\n\u001b[1;32m   1544\u001b[0m     \u001b[38;5;28;01mif\u001b[39;00m \u001b[38;5;129;01mnot\u001b[39;00m is_integer(level):\n\u001b[0;32m-> 1545\u001b[0m         \u001b[38;5;28;01mraise\u001b[39;00m \u001b[38;5;167;01mKeyError\u001b[39;00m(\u001b[38;5;124mf\u001b[39m\u001b[38;5;124m\"\u001b[39m\u001b[38;5;124mLevel \u001b[39m\u001b[38;5;132;01m{\u001b[39;00mlevel\u001b[38;5;132;01m}\u001b[39;00m\u001b[38;5;124m not found\u001b[39m\u001b[38;5;124m\"\u001b[39m) \u001b[38;5;28;01mfrom\u001b[39;00m \u001b[38;5;21;01merr\u001b[39;00m\n\u001b[1;32m   1546\u001b[0m     \u001b[38;5;28;01mif\u001b[39;00m level \u001b[38;5;241m<\u001b[39m \u001b[38;5;241m0\u001b[39m:\n\u001b[1;32m   1547\u001b[0m         level \u001b[38;5;241m+\u001b[39m\u001b[38;5;241m=\u001b[39m \u001b[38;5;28mself\u001b[39m\u001b[38;5;241m.\u001b[39mnlevels\n",
      "\u001b[0;31mKeyError\u001b[0m: \"Level ['Chromosome', 'Genomic_Index'] not found\""
     ]
    }
   ],
   "source": [
    "a.index.get_level_values('Chromosome','Genomic_Index')"
   ]
  },
  {
   "cell_type": "code",
   "execution_count": 10,
   "id": "00a7757c-cebc-45eb-a1d0-151983eb2e68",
   "metadata": {},
   "outputs": [],
   "source": [
    "import pandas as pd\n",
    "\n",
    "def load_embeddings(directory,chroms):\n",
    "    '''\n",
    "    chroms: Either None or list of chromosomes to load. \n",
    "    '''\n",
    "\n",
    "    if chroms is None: \n",
    "        chroms = [f'{k}' for k in range(1,23)]\n",
    "        chroms.append('X')\n",
    "\n",
    "    if directory[-1] != '/':\n",
    "        directory = directory + '/' \n",
    "\n",
    "    filepath = lambda chrom: directory + f'chrom_{chrom}.tar.gz'\n",
    "\n",
    "    dfs = []\n",
    "    for chrom in chroms: \n",
    "        dfs.append( pd.read_pickle(filepath(chrom)) )\n",
    "\n",
    "    return pd.concat(dfs)\n",
    "\n",
    "\n",
    "class EmbeddedRegions:\n",
    "\n",
    "    def __init__(\n",
    "        self,\n",
    "        directory,\n",
    "        chroms=None\n",
    "    ):\n",
    "        self.data = load_embeddings(directory,chroms)\n",
    "\n",
    "    @property\n",
    "    def index(self):\n",
    "        return self.data.index\n",
    "\n",
    "    @property\n",
    "    def chrom_index(self):\n",
    "        return self.index.get_level_values('Chromosome')\n",
    "\n",
    "    @property\n",
    "    def genomic_index(self):\n",
    "        return self.index.get_level_values('Genomic_Index')\n",
    "\n",
    "    @property\n",
    "    def length_index(self):\n",
    "        return self.index.get_level_values('Region_Length')\n",
    "\n",
    "    def __len__(self):\n",
    "        return len(self.data) \n",
    "\n",
    "    def drop(\n",
    "        self,\n",
    "        region_length,\n",
    "        chrom,\n",
    "        genomic_index\n",
    "    ): \n",
    "        # Doing this in place is WAY faster than out of place. \n",
    "        self.data.drop(index=(region_length,chrom,genomic_index),inplace=True)\n",
    "\n",
    "    def append(\n",
    "        self,\n",
    "        new_embedded_regions # EmbeddedRegions object or iterable full of them\n",
    "    ):\n",
    "        y = new_embedded_regions\n",
    "\n",
    "        if type(y) == EmbeddedRegions:\n",
    "            self.data = pd.concat([self.data,y.data])\n",
    "        elif hasattr(y, '__iter__'):\n",
    "            for i,obj in enumerate(y):\n",
    "                assert type(obj) == EmbeddedRegions, \\\n",
    "                f'Expected iterable to contain EmbeddedRegions objects, but it contains {type(obj)} at position {i}.'\n",
    "            self.data = pd.concat([self.data,*[yy.data for yy in y]])\n",
    "        else:\n",
    "            raise Exception('EmbeddedRegions.append must receive another EmbeddedRegions object or an iterable of them')\n",
    "\n",
    "    def fetch(\n",
    "        self,\n",
    "        region_length, # An int. Denotes the lenght of the region being considered \n",
    "        chrom,         # A string\n",
    "        genomic_index  # An int, denotes start of region in bp position (each chromosome indexed independently)\n",
    "    ):\n",
    "        return self.data.loc[(region_length,chrom,genomic_index),'Data']\n",
    "\n",
    "    def ifetch(\n",
    "        self,\n",
    "        idx \n",
    "    ):\n",
    "        '''\n",
    "        Return the data at a specific index\n",
    "        '''\n",
    "        return self.data.iloc[idx].values[0]\n",
    "    "
   ]
  },
  {
   "cell_type": "code",
   "execution_count": 11,
   "id": "2f9437f1-cf59-41d3-9343-75cf08c8da0d",
   "metadata": {},
   "outputs": [],
   "source": [
    "embeddings = EmbeddedRegions('../../../data/embeddings/',chroms=['X'])"
   ]
  },
  {
   "cell_type": "code",
   "execution_count": 12,
   "id": "cdca69dd-2fdf-4fa0-a641-46ad80297757",
   "metadata": {},
   "outputs": [
    {
     "data": {
      "text/plain": [
       "['__class__',\n",
       " '__delattr__',\n",
       " '__dict__',\n",
       " '__dir__',\n",
       " '__doc__',\n",
       " '__eq__',\n",
       " '__format__',\n",
       " '__ge__',\n",
       " '__getattribute__',\n",
       " '__gt__',\n",
       " '__hash__',\n",
       " '__init__',\n",
       " '__init_subclass__',\n",
       " '__le__',\n",
       " '__len__',\n",
       " '__lt__',\n",
       " '__module__',\n",
       " '__ne__',\n",
       " '__new__',\n",
       " '__reduce__',\n",
       " '__reduce_ex__',\n",
       " '__repr__',\n",
       " '__setattr__',\n",
       " '__sizeof__',\n",
       " '__str__',\n",
       " '__subclasshook__',\n",
       " '__weakref__',\n",
       " 'append',\n",
       " 'chrom_index',\n",
       " 'data',\n",
       " 'drop',\n",
       " 'fetch',\n",
       " 'genomic_index',\n",
       " 'ifetch',\n",
       " 'index',\n",
       " 'length_index']"
      ]
     },
     "execution_count": 12,
     "metadata": {},
     "output_type": "execute_result"
    }
   ],
   "source": [
    "dir(embeddings) "
   ]
  },
  {
   "cell_type": "code",
   "execution_count": 13,
   "id": "fe478c18-4863-4c49-ab7f-d67cb82f4fd2",
   "metadata": {},
   "outputs": [
    {
     "ename": "IndexError",
     "evalue": "single positional indexer is out-of-bounds",
     "output_type": "error",
     "traceback": [
      "\u001b[0;31m---------------------------------------------------------------------------\u001b[0m",
      "\u001b[0;31mIndexError\u001b[0m                                Traceback (most recent call last)",
      "Cell \u001b[0;32mIn[13], line 1\u001b[0m\n\u001b[0;32m----> 1\u001b[0m \u001b[43membeddings\u001b[49m\u001b[38;5;241;43m.\u001b[39;49m\u001b[43mifetch\u001b[49m\u001b[43m(\u001b[49m\u001b[38;5;241;43m25000\u001b[39;49m\u001b[43m)\u001b[49m\n",
      "Cell \u001b[0;32mIn[10], line 92\u001b[0m, in \u001b[0;36mEmbeddedRegions.ifetch\u001b[0;34m(self, idx)\u001b[0m\n\u001b[1;32m     85\u001b[0m \u001b[38;5;28;01mdef\u001b[39;00m \u001b[38;5;21mifetch\u001b[39m(\n\u001b[1;32m     86\u001b[0m     \u001b[38;5;28mself\u001b[39m,\n\u001b[1;32m     87\u001b[0m     idx \n\u001b[1;32m     88\u001b[0m ):\n\u001b[1;32m     89\u001b[0m \u001b[38;5;250m    \u001b[39m\u001b[38;5;124;03m'''\u001b[39;00m\n\u001b[1;32m     90\u001b[0m \u001b[38;5;124;03m    Return the data at a specific index\u001b[39;00m\n\u001b[1;32m     91\u001b[0m \u001b[38;5;124;03m    '''\u001b[39;00m\n\u001b[0;32m---> 92\u001b[0m     \u001b[38;5;28;01mreturn\u001b[39;00m \u001b[38;5;28;43mself\u001b[39;49m\u001b[38;5;241;43m.\u001b[39;49m\u001b[43mdata\u001b[49m\u001b[38;5;241;43m.\u001b[39;49m\u001b[43miloc\u001b[49m\u001b[43m[\u001b[49m\u001b[43midx\u001b[49m\u001b[43m]\u001b[49m\u001b[38;5;241m.\u001b[39mvalues[\u001b[38;5;241m0\u001b[39m]\n",
      "File \u001b[0;32m/state/partition1/llgrid/pkg/anaconda/python-LLM-2023b/lib/python3.10/site-packages/pandas/core/indexing.py:1153\u001b[0m, in \u001b[0;36m_LocationIndexer.__getitem__\u001b[0;34m(self, key)\u001b[0m\n\u001b[1;32m   1150\u001b[0m axis \u001b[38;5;241m=\u001b[39m \u001b[38;5;28mself\u001b[39m\u001b[38;5;241m.\u001b[39maxis \u001b[38;5;129;01mor\u001b[39;00m \u001b[38;5;241m0\u001b[39m\n\u001b[1;32m   1152\u001b[0m maybe_callable \u001b[38;5;241m=\u001b[39m com\u001b[38;5;241m.\u001b[39mapply_if_callable(key, \u001b[38;5;28mself\u001b[39m\u001b[38;5;241m.\u001b[39mobj)\n\u001b[0;32m-> 1153\u001b[0m \u001b[38;5;28;01mreturn\u001b[39;00m \u001b[38;5;28;43mself\u001b[39;49m\u001b[38;5;241;43m.\u001b[39;49m\u001b[43m_getitem_axis\u001b[49m\u001b[43m(\u001b[49m\u001b[43mmaybe_callable\u001b[49m\u001b[43m,\u001b[49m\u001b[43m \u001b[49m\u001b[43maxis\u001b[49m\u001b[38;5;241;43m=\u001b[39;49m\u001b[43maxis\u001b[49m\u001b[43m)\u001b[49m\n",
      "File \u001b[0;32m/state/partition1/llgrid/pkg/anaconda/python-LLM-2023b/lib/python3.10/site-packages/pandas/core/indexing.py:1714\u001b[0m, in \u001b[0;36m_iLocIndexer._getitem_axis\u001b[0;34m(self, key, axis)\u001b[0m\n\u001b[1;32m   1711\u001b[0m     \u001b[38;5;28;01mraise\u001b[39;00m \u001b[38;5;167;01mTypeError\u001b[39;00m(\u001b[38;5;124m\"\u001b[39m\u001b[38;5;124mCannot index by location index with a non-integer key\u001b[39m\u001b[38;5;124m\"\u001b[39m)\n\u001b[1;32m   1713\u001b[0m \u001b[38;5;66;03m# validate the location\u001b[39;00m\n\u001b[0;32m-> 1714\u001b[0m \u001b[38;5;28;43mself\u001b[39;49m\u001b[38;5;241;43m.\u001b[39;49m\u001b[43m_validate_integer\u001b[49m\u001b[43m(\u001b[49m\u001b[43mkey\u001b[49m\u001b[43m,\u001b[49m\u001b[43m \u001b[49m\u001b[43maxis\u001b[49m\u001b[43m)\u001b[49m\n\u001b[1;32m   1716\u001b[0m \u001b[38;5;28;01mreturn\u001b[39;00m \u001b[38;5;28mself\u001b[39m\u001b[38;5;241m.\u001b[39mobj\u001b[38;5;241m.\u001b[39m_ixs(key, axis\u001b[38;5;241m=\u001b[39maxis)\n",
      "File \u001b[0;32m/state/partition1/llgrid/pkg/anaconda/python-LLM-2023b/lib/python3.10/site-packages/pandas/core/indexing.py:1647\u001b[0m, in \u001b[0;36m_iLocIndexer._validate_integer\u001b[0;34m(self, key, axis)\u001b[0m\n\u001b[1;32m   1645\u001b[0m len_axis \u001b[38;5;241m=\u001b[39m \u001b[38;5;28mlen\u001b[39m(\u001b[38;5;28mself\u001b[39m\u001b[38;5;241m.\u001b[39mobj\u001b[38;5;241m.\u001b[39m_get_axis(axis))\n\u001b[1;32m   1646\u001b[0m \u001b[38;5;28;01mif\u001b[39;00m key \u001b[38;5;241m>\u001b[39m\u001b[38;5;241m=\u001b[39m len_axis \u001b[38;5;129;01mor\u001b[39;00m key \u001b[38;5;241m<\u001b[39m \u001b[38;5;241m-\u001b[39mlen_axis:\n\u001b[0;32m-> 1647\u001b[0m     \u001b[38;5;28;01mraise\u001b[39;00m \u001b[38;5;167;01mIndexError\u001b[39;00m(\u001b[38;5;124m\"\u001b[39m\u001b[38;5;124msingle positional indexer is out-of-bounds\u001b[39m\u001b[38;5;124m\"\u001b[39m)\n",
      "\u001b[0;31mIndexError\u001b[0m: single positional indexer is out-of-bounds"
     ]
    }
   ],
   "source": [
    "embeddings.ifetch(25000)"
   ]
  },
  {
   "cell_type": "code",
   "execution_count": 95,
   "id": "f0e62010-5106-42bb-8ca5-e0df55d9215e",
   "metadata": {},
   "outputs": [],
   "source": [
    "import time\n",
    "iidx = 100\n",
    "\n",
    "def loc1(idx):\n",
    "    t = -time.time()\n",
    "    data = embeddings.data.loc[idx,'Data']\n",
    "    t+= time.time()\n",
    "    return data, t\n",
    "\n",
    "def loc2(idx):\n",
    "    t = -time.time()\n",
    "    data = embeddings.data.loc[idx].values[0]\n",
    "    t+= time.time()\n",
    "    return data, t\n",
    "\n",
    "def iloc1(idx):\n",
    "    t = -time.time()\n",
    "    data = embeddings.data.loc[embeddings.index[idx]].values[0]\n",
    "    t+= time.time()\n",
    "    return data, t\n",
    "\n",
    "def iloc2(idx):\n",
    "    t = -time.time()\n",
    "    data = embeddings.data.iloc[idx].values[0]\n",
    "    t+= time.time()\n",
    "    return data, t\n",
    "\n",
    "'''\n",
    "\n",
    "idx = embeddings.index[iidx]\n",
    "t = -time.time()\n",
    "a = embeddings.fetch(*idx)\n",
    "t+= time.time()\n",
    "print(f'fetch function: {t}s')\n",
    "\n",
    "import time\n",
    "t = -time.time()\n",
    "b = embeddings.ifetch(iidx)\n",
    "t+= time.time()\n",
    "print(f'ifetch function: {t}s')\n",
    "\n",
    "import time\n",
    "t = -time.time()\n",
    "c = embeddings.data.iloc[iidx].values[0]\n",
    "t+= time.time()\n",
    "print(f'iloc function: {t}s')\n",
    "\n",
    "import time\n",
    "t = -time.time()\n",
    "d = embeddings.data.loc[idx].values[0]\n",
    "t+= time.time()\n",
    "print(f'loc function: {t}s')\n",
    "\n",
    "'''\n",
    "\n",
    "t1 = []\n",
    "t2 = []\n",
    "t3 = []\n",
    "t4 = []\n",
    "t5 = []\n",
    "for i,idx in enumerate(range(0,2000,2)):\n",
    "    iidx = embeddings.index[idx]\n",
    "\n",
    "    a,t = loc1(iidx)\n",
    "    t1.append(t)\n",
    "    b,t = loc2(iidx)\n",
    "    t2.append(t)\n",
    "    c,t = iloc1(idx)\n",
    "    t3.append(t)\n",
    "    d,t = iloc2(idx)\n",
    "    t4.append(t)\n",
    "\n",
    "    iidx = embeddings.index[idx:idx+64].tolist()\n",
    "    t = -time.time()\n",
    "    #e = embeddings.data.loc[iidx,'Data'].values\n",
    "    e = torch.stack([*embeddings.data.loc[iidx,'Data'].values],dim=0)\n",
    "    t+= time.time()\n",
    "    t5.append(t)\n",
    "    \n",
    "    if i < 10:\n",
    "        assert (a == b).all()\n",
    "        assert (a == c).all()\n",
    "        assert (a == d).all()\n"
   ]
  },
  {
   "cell_type": "code",
   "execution_count": 96,
   "id": "7f72b01f-56ae-40a9-9157-cd75120ebbdb",
   "metadata": {},
   "outputs": [
    {
     "name": "stdout",
     "output_type": "stream",
     "text": [
      "0.00016520333290100098 +/- 4.307083823969764e-05\n",
      "0.00019662761688232422 +/- 0.0011688319766802032\n",
      "0.00012700319290161134 +/- 1.220337968651967e-05\n",
      "6.360197067260743e-05 +/- 6.744563020938599e-06\n",
      "0.010893003225326539 +/- 0.012754113277160618\n"
     ]
    }
   ],
   "source": [
    "import numpy as np\n",
    "for t in [t1,t2,t3,t4,t5]:\n",
    "    print(f'{np.mean(t)} +/- {np.std(t)}')"
   ]
  },
  {
   "cell_type": "code",
   "execution_count": 92,
   "id": "6612bc0b-45a5-4536-93ee-d82cc0539f22",
   "metadata": {},
   "outputs": [
    {
     "data": {
      "text/plain": [
       "tensor([[[[ 2.9730e-01,  2.0404e+00,  9.5196e-01,  ...,  1.4283e+00,\n",
       "            1.9611e+00, -1.6810e+00],\n",
       "          [ 1.3662e+00,  1.6283e-01, -3.3016e-01,  ..., -9.3310e-01,\n",
       "            1.2581e+00, -2.3191e+00],\n",
       "          [ 1.4850e+00,  1.3626e+00, -1.1173e+00,  ...,  2.9756e-01,\n",
       "            1.2016e+00, -2.6597e+00],\n",
       "          ...,\n",
       "          [-3.8377e-01,  2.4760e+00,  3.9778e-01,  ...,  7.6479e-01,\n",
       "           -1.0215e-01,  7.4147e-02],\n",
       "          [ 4.3383e-01,  2.0525e+00, -1.1487e-01,  ...,  7.8095e-01,\n",
       "            7.3143e-01, -4.9794e-02],\n",
       "          [-3.5548e-01,  1.0567e+00,  1.1781e+00,  ...,  1.0364e+00,\n",
       "            7.4022e-01, -1.0899e+00]]],\n",
       "\n",
       "\n",
       "        [[[ 9.2275e-01,  3.8659e-01,  4.1845e-01,  ...,  1.1279e+00,\n",
       "            1.4145e+00, -1.0126e+00],\n",
       "          [ 4.3345e-01,  7.3742e-01,  1.1864e+00,  ...,  1.4982e+00,\n",
       "            1.4757e+00,  1.0224e-01],\n",
       "          [-3.6237e-02,  7.7033e-01,  6.4011e-01,  ...,  1.7671e+00,\n",
       "           -1.3215e-01,  8.1368e-01],\n",
       "          ...,\n",
       "          [ 4.2528e-01,  2.6325e+00,  1.1421e+00,  ...,  5.9567e-01,\n",
       "           -7.9277e-01, -1.4178e+00],\n",
       "          [ 9.7189e-01,  1.5501e+00,  7.4806e-01,  ...,  7.1273e-01,\n",
       "            6.5916e-01, -1.3201e+00],\n",
       "          [ 5.1226e-02,  1.2398e+00,  1.0758e+00,  ...,  1.1268e+00,\n",
       "            2.3831e-01, -1.5796e-01]]],\n",
       "\n",
       "\n",
       "        [[[-9.6237e-01,  2.2156e+00,  8.1250e-01,  ...,  1.4486e+00,\n",
       "            2.7123e+00, -1.8479e+00],\n",
       "          [-2.7949e-01,  3.6790e+00,  2.3058e-01,  ...,  1.1824e+00,\n",
       "            1.8389e+00, -1.5044e+00],\n",
       "          [-9.4859e-01,  1.1245e+00,  1.1598e-01,  ..., -1.0062e+00,\n",
       "            4.1796e-01,  5.8216e-01],\n",
       "          ...,\n",
       "          [-1.3200e+00,  2.9205e+00, -1.7140e-01,  ...,  1.3151e+00,\n",
       "            2.5290e-01,  9.3665e-01],\n",
       "          [-6.6996e-01,  6.4218e-01, -9.6922e-03,  ..., -4.9429e-01,\n",
       "            7.8140e-01, -5.7990e-04],\n",
       "          [ 7.1364e-01,  1.8286e+00,  9.7130e-02,  ...,  7.8968e-01,\n",
       "           -2.0031e-01,  1.6439e-01]]],\n",
       "\n",
       "\n",
       "        ...,\n",
       "\n",
       "\n",
       "        [[[ 3.8855e-01,  5.9227e-01,  1.0429e+00,  ...,  2.1888e+00,\n",
       "            1.6096e+00, -1.1636e+00],\n",
       "          [-8.8169e-02,  1.3664e+00,  8.6476e-02,  ...,  1.4148e+00,\n",
       "            9.8503e-01, -1.0076e-01],\n",
       "          [ 7.0480e-01,  2.2808e+00,  3.7934e-01,  ...,  1.5069e+00,\n",
       "            1.2022e+00, -6.0613e-02],\n",
       "          ...,\n",
       "          [ 1.5232e+00,  9.0220e-01,  5.7688e-01,  ..., -8.8504e-01,\n",
       "            1.8116e-01,  1.9016e+00],\n",
       "          [ 3.9440e+00,  6.6878e-01,  1.0399e+00,  ...,  4.2494e-01,\n",
       "            1.2241e+00,  2.4765e+00],\n",
       "          [ 2.3699e+00,  1.6492e+00,  1.0944e+00,  ...,  1.5215e+00,\n",
       "            2.2564e+00,  1.2194e+00]]],\n",
       "\n",
       "\n",
       "        [[[ 1.5878e-01,  5.5135e-01,  1.9065e-01,  ...,  1.6062e+00,\n",
       "            4.3103e-01, -9.4218e-01],\n",
       "          [-1.8240e-01,  2.0653e+00,  8.3602e-01,  ...,  2.1867e+00,\n",
       "            2.1881e+00,  1.6397e-01],\n",
       "          [ 2.0644e+00,  1.2049e+00,  8.4421e-02,  ...,  1.0166e+00,\n",
       "            3.4270e-01,  1.1347e+00],\n",
       "          ...,\n",
       "          [ 1.6054e+00,  6.5032e-01, -7.3009e-01,  ...,  4.7107e-01,\n",
       "            2.2261e-01,  7.0501e-01],\n",
       "          [ 7.5824e-01, -1.3303e-01,  7.2800e-01,  ...,  1.1654e+00,\n",
       "            1.4196e+00,  9.6859e-01],\n",
       "          [-5.1563e-01,  4.3759e-01,  1.2829e+00,  ...,  1.3750e+00,\n",
       "            1.7080e+00,  1.3918e+00]]],\n",
       "\n",
       "\n",
       "        [[[-2.4156e-01,  5.6690e-01,  3.8561e-01,  ...,  1.2709e+00,\n",
       "            1.1465e+00, -9.6659e-01],\n",
       "          [ 4.7182e-01,  7.1291e-01, -1.6111e-01,  ...,  4.7840e-01,\n",
       "            1.4953e+00, -1.4029e+00],\n",
       "          [-1.3052e-01, -4.9749e-01, -8.9402e-02,  ..., -5.5333e-02,\n",
       "            4.8665e-01,  1.4691e+00],\n",
       "          ...,\n",
       "          [ 2.4555e-01, -1.0854e+00,  5.7794e-01,  ...,  1.0560e-01,\n",
       "            4.5746e-01,  1.8204e+00],\n",
       "          [ 1.2109e+00, -6.2713e-01,  1.1312e+00,  ...,  2.0911e-01,\n",
       "            1.6885e+00,  7.2454e-01],\n",
       "          [-1.5966e-01, -5.9666e-01,  6.8860e-01,  ..., -8.3751e-02,\n",
       "            1.9811e+00,  5.4537e-01]]]])"
      ]
     },
     "execution_count": 92,
     "metadata": {},
     "output_type": "execute_result"
    }
   ],
   "source": [
    "import torch\n",
    "torch.stack([*embeddings.data.loc[embeddings.index[100:110].tolist(),'Data'].values],dim=0)"
   ]
  },
  {
   "cell_type": "code",
   "execution_count": 77,
   "id": "a74054b6-8f4f-4da7-ade9-b16fb6d3d1ca",
   "metadata": {},
   "outputs": [
    {
     "data": {
      "text/plain": [
       "[(1300000, 'X', 2220000),\n",
       " (1300000, 'X', 2240000),\n",
       " (1300000, 'X', 2260000),\n",
       " (1300000, 'X', 2280000),\n",
       " (1300000, 'X', 2300000),\n",
       " (1300000, 'X', 2320000),\n",
       " (1300000, 'X', 2340000),\n",
       " (1300000, 'X', 2360000),\n",
       " (1300000, 'X', 2380000),\n",
       " (1300000, 'X', 2400000)]"
      ]
     },
     "execution_count": 77,
     "metadata": {},
     "output_type": "execute_result"
    }
   ],
   "source": [
    "embeddings.index[100:110].tolist()"
   ]
  },
  {
   "cell_type": "code",
   "execution_count": 130,
   "id": "a705ec3f-aa7c-4af9-8478-7bbf2ad77d73",
   "metadata": {},
   "outputs": [
    {
     "data": {
      "text/plain": [
       "0.0015912055969238281"
      ]
     },
     "execution_count": 130,
     "metadata": {},
     "output_type": "execute_result"
    }
   ],
   "source": [
    "idx = embeddings.index[0]\n",
    "t = -time.time()\n",
    "embeddings.data.drop(idx)\n",
    "t+= time.time()\n",
    "t"
   ]
  },
  {
   "cell_type": "code",
   "execution_count": 137,
   "id": "6a501299-f211-4a5f-860a-8bb88b0b7f79",
   "metadata": {},
   "outputs": [
    {
     "data": {
      "text/plain": [
       "True"
      ]
     },
     "execution_count": 137,
     "metadata": {},
     "output_type": "execute_result"
    }
   ],
   "source": [
    "hasattr([], '__iter__')"
   ]
  },
  {
   "cell_type": "code",
   "execution_count": null,
   "id": "56e01bf8-fc74-4b71-b835-577be423674e",
   "metadata": {},
   "outputs": [],
   "source": []
  },
  {
   "cell_type": "code",
   "execution_count": null,
   "id": "7b6737a1-217d-4f3e-a4d9-3caa8bb145a8",
   "metadata": {},
   "outputs": [],
   "source": []
  },
  {
   "cell_type": "code",
   "execution_count": null,
   "id": "69c2d858-6198-425d-97d8-164bc65efc1a",
   "metadata": {},
   "outputs": [],
   "source": []
  },
  {
   "cell_type": "code",
   "execution_count": null,
   "id": "c0082a63-82a9-4ee4-8371-51ecda2fd4a4",
   "metadata": {},
   "outputs": [],
   "source": []
  }
 ],
 "metadata": {
  "kernelspec": {
   "display_name": "Python 3 (ipykernel)",
   "language": "python",
   "name": "python3"
  },
  "language_info": {
   "codemirror_mode": {
    "name": "ipython",
    "version": 3
   },
   "file_extension": ".py",
   "mimetype": "text/x-python",
   "name": "python",
   "nbconvert_exporter": "python",
   "pygments_lexer": "ipython3",
   "version": "3.10.12"
  }
 },
 "nbformat": 4,
 "nbformat_minor": 5
}
