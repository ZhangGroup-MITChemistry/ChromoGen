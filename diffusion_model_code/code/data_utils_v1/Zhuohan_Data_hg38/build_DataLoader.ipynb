{
 "cells": [
  {
   "cell_type": "code",
   "execution_count": 2,
   "id": "53265ce3-dd59-4c6b-8dba-67d3e4bbf841",
   "metadata": {},
   "outputs": [],
   "source": [
    "import pandas as pd"
   ]
  },
  {
   "cell_type": "code",
   "execution_count": null,
   "id": "ba706765-7531-4628-87a1-4aa0159d6459",
   "metadata": {},
   "outputs": [],
   "source": [
    "def load_embeddings(filepath,chroms):\n",
    "    '''\n",
    "    chroms: Either None or list of chromosomes to load. \n",
    "    '''\n",
    "\n",
    "    # Choose restrictions upon loading\n",
    "    if chroms is None or len(chroms)==0:\n",
    "        where = None\n",
    "    else: \n",
    "        where = 'Chromosome in ['\n",
    "        for chrom in chroms: \n",
    "            where+= f\"'{chrom}',\"\n",
    "        where = where[:-1] + ']'\n",
    "        \n",
    "    # Load, process lightly\n",
    "    emb_df = pd.read_hdf(\n",
    "        filepath, \n",
    "        key='embeddings',\n",
    "        where=where\n",
    "    )\n",
    "\n",
    "    index = pd.MultiIndex.from_tuples(\n",
    "        list(map(tuple,emb_df[['Chromosome','Start']].values)),\n",
    "        names=['Chromosome','Start']\n",
    "    )\n",
    "    \n",
    "    emb_df.reset_index()\n"
   ]
  },
  {
   "cell_type": "code",
   "execution_count": 4,
   "id": "59f8f939-8236-4a91-9327-cf9f7b883002",
   "metadata": {},
   "outputs": [],
   "source": [
    "a = None"
   ]
  },
  {
   "cell_type": "code",
   "execution_count": 7,
   "id": "22acf4ec-f683-49f9-8632-0e479c6f9346",
   "metadata": {},
   "outputs": [
    {
     "name": "stdout",
     "output_type": "stream",
     "text": [
      "a\n"
     ]
    }
   ],
   "source": [
    "if a is None or len(a)==0:\n",
    "    print('a')"
   ]
  },
  {
   "cell_type": "code",
   "execution_count": 11,
   "id": "9e838f64-273a-41d7-9f53-a0594e314dc2",
   "metadata": {},
   "outputs": [],
   "source": [
    "a = pd.DataFrame()\n",
    "a['Index'] = [0,1,2,3,4]\n",
    "a['Data'] = [10,11,12,13,14]"
   ]
  },
  {
   "cell_type": "code",
   "execution_count": 16,
   "id": "c276fa08-4347-45ac-ae8e-57b7f6d6dc77",
   "metadata": {},
   "outputs": [
    {
     "data": {
      "text/plain": [
       "(array([ 0, 10]),\n",
       " array([ 1, 11]),\n",
       " array([ 2, 12]),\n",
       " array([ 3, 13]),\n",
       " array([ 4, 14]))"
      ]
     },
     "execution_count": 16,
     "metadata": {},
     "output_type": "execute_result"
    }
   ],
   "source": [
    "tuple(a[['Index','Data']].values)"
   ]
  },
  {
   "cell_type": "code",
   "execution_count": 17,
   "id": "aee671c0-6e23-4192-bbf2-7150aa023094",
   "metadata": {},
   "outputs": [
    {
     "data": {
      "text/plain": [
       "<zip at 0x7f7fdc3f5580>"
      ]
     },
     "execution_count": 17,
     "metadata": {},
     "output_type": "execute_result"
    }
   ],
   "source": [
    "zip(a[['Index','Data']].values)"
   ]
  },
  {
   "cell_type": "code",
   "execution_count": 19,
   "id": "c2597fa9-e18d-495a-9aae-19e78a3903bd",
   "metadata": {},
   "outputs": [
    {
     "data": {
      "text/plain": [
       "[(0, 10), (1, 11), (2, 12), (3, 13), (4, 14)]"
      ]
     },
     "execution_count": 19,
     "metadata": {},
     "output_type": "execute_result"
    }
   ],
   "source": [
    "list(map(tuple,a[['Index','Data']].values))"
   ]
  },
  {
   "cell_type": "code",
   "execution_count": null,
   "id": "4c5521bb-e6a8-49df-8f4c-46b23c43cbea",
   "metadata": {},
   "outputs": [],
   "source": []
  }
 ],
 "metadata": {
  "kernelspec": {
   "display_name": "Python 3 (ipykernel)",
   "language": "python",
   "name": "python3"
  },
  "language_info": {
   "codemirror_mode": {
    "name": "ipython",
    "version": 3
   },
   "file_extension": ".py",
   "mimetype": "text/x-python",
   "name": "python",
   "nbconvert_exporter": "python",
   "pygments_lexer": "ipython3",
   "version": "3.10.12"
  }
 },
 "nbformat": 4,
 "nbformat_minor": 5
}
