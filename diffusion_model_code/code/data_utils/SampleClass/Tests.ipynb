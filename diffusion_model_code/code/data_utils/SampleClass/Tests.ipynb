{
 "cells": [
  {
   "cell_type": "markdown",
   "id": "a0262f90-9f73-4fe1-947a-300786f359fc",
   "metadata": {},
   "source": [
    "Import test modules/modules for testing purposes"
   ]
  },
  {
   "cell_type": "code",
   "execution_count": 1,
   "id": "298575fd-83a9-498a-89dc-10c32eafefd7",
   "metadata": {},
   "outputs": [],
   "source": [
    "import torch\n",
    "import matplotlib.pyplot as plt\n",
    "\n",
    "from Coordinates import Coordinates\n",
    "from Distances import Distances\n",
    "from Trajectory import Trajectory"
   ]
  },
  {
   "cell_type": "markdown",
   "id": "d4db78e5-3b6e-4e1f-b55f-7658d996af21",
   "metadata": {},
   "source": [
    "Load from different file types"
   ]
  },
  {
   "cell_type": "code",
   "execution_count": 2,
   "id": "755f930f-cdbf-4c9c-ba8a-9835596f8f26",
   "metadata": {},
   "outputs": [],
   "source": [
    "dcd_fp = '../../../data/samples/origami_64_no_embed_reduction/dcd_files/sample_unguided_milestone_120_combined.dcd'\n",
    "psf_fp = '../../../data/samples/origami_64_no_embed_reduction/dcd_files/sample_unguided_milestone_120_combined.psf'"
   ]
  },
  {
   "cell_type": "code",
   "execution_count": 3,
   "id": "f2863efe-27ba-4db2-93e1-86a85eaac565",
   "metadata": {},
   "outputs": [],
   "source": [
    "t = Trajectory(dcd_fp,topology_file=psf_fp)"
   ]
  },
  {
   "cell_type": "markdown",
   "id": "8fa5503c-115f-4c61-890b-83c9f59af5b4",
   "metadata": {},
   "source": [
    "Convert between subclasses"
   ]
  },
  {
   "cell_type": "code",
   "execution_count": 4,
   "id": "658eba3e-7df7-4d7c-b90e-71be6da1c98a",
   "metadata": {},
   "outputs": [],
   "source": [
    "c_from_t = t.coordinates\n",
    "d_from_t = t.distances\n",
    "d_from_c = c_from_t.distances\n",
    "c_from_d = d_from_t.coordinates\n",
    "t_from_c = c_from_t.trajectory\n",
    "t_from_d = d_from_t.trajectory"
   ]
  },
  {
   "cell_type": "markdown",
   "id": "4be5df44-9b99-4c62-9685-45ea5c5bbae0",
   "metadata": {},
   "source": [
    "All of the following comparisons should be equal"
   ]
  },
  {
   "cell_type": "code",
   "execution_count": 5,
   "id": "df9724fd-1a25-458a-820c-e53a6a9f90ae",
   "metadata": {},
   "outputs": [],
   "source": [
    "objs = [t,c_from_t,d_from_t,t_from_c,d_from_c]\n",
    "for i,o in enumerate(objs):\n",
    "    for j,o2 in enumerate(objs[i+1:]):\n",
    "        assert o == o2, f'Failed comparison between {i} and {j}'"
   ]
  },
  {
   "cell_type": "code",
   "execution_count": null,
   "id": "616a6a86-f815-42ec-bc3d-111ad92b158f",
   "metadata": {},
   "outputs": [],
   "source": []
  },
  {
   "cell_type": "code",
   "execution_count": null,
   "id": "b5defb76-3b01-4493-86ed-1dd062309fa3",
   "metadata": {},
   "outputs": [],
   "source": []
  }
 ],
 "metadata": {
  "kernelspec": {
   "display_name": "Python 3 (ipykernel)",
   "language": "python",
   "name": "python3"
  },
  "language_info": {
   "codemirror_mode": {
    "name": "ipython",
    "version": 3
   },
   "file_extension": ".py",
   "mimetype": "text/x-python",
   "name": "python",
   "nbconvert_exporter": "python",
   "pygments_lexer": "ipython3",
   "version": "3.10.12"
  }
 },
 "nbformat": 4,
 "nbformat_minor": 5
}
