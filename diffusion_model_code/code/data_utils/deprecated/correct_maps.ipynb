{
 "cells": [
  {
   "cell_type": "code",
   "execution_count": null,
   "id": "0ed368c7-d448-4bc7-afee-8d40745292d2",
   "metadata": {},
   "outputs": [],
   "source": [
    "import torch\n",
    "import matplotlib.pyplot as plt\n",
    "import sys\n",
    "sys.path.insert(0,'../data_utils')\n",
    "from tensor_support import remove_diagonal, add_diagonal\n",
    "from Sample import Sample\n",
    "from OrigamiTransform import OrigamiTransform\n",
    "origami_transform = OrigamiTransform()"
   ]
  },
  {
   "cell_type": "markdown",
   "id": "3fbad70f-1c3f-49e6-a466-3d66d0362926",
   "metadata": {},
   "source": [
    "#### Load a sample to play with "
   ]
  },
  {
   "cell_type": "code",
   "execution_count": null,
   "id": "240b8b33-0ec5-4469-b8e1-c80655ef247e",
   "metadata": {},
   "outputs": [],
   "source": [
    "def load_dist_maps(filepath,map_location='cuda' if torch.cuda.is_available() else 'cpu'):\n",
    "\n",
    "    try:\n",
    "        data = torch.load(filepath,map_location=map_location)\n",
    "    except:\n",
    "        data = pd.read_pickle(filepath).unflatten()\n",
    "\n",
    "        if type(data) != torch.Tensor:\n",
    "            data = torch.tensor(data)\n",
    "            \n",
    "        data = data.to(map_location)\n",
    "    \n",
    "    if len(data.shape) == 2:\n",
    "        data = data.unsqueeze(0)\n",
    "    if len(data.shape) == 3:\n",
    "        if data.shape[0] > 2: # Batch size is in the second channel\n",
    "            data = data.unsqueeze(1)\n",
    "        else: # MOST LIKELY, batch size is 1 & this dimension corresponds to channels\n",
    "            data = data.unsqueeze(0)\n",
    "    assert data.shape[-2] == data.shape[-1], f\"Expected square matrix in final two dimensions, but received shape {data.shape}\"\n",
    "\n",
    "    if data.shape[-3] == 2:\n",
    "        data = origami_transform.inverse(data)\n",
    "        data = remove_diagonal(data)\n",
    "    \n",
    "    sample = Sample(data = data) \n",
    "    sample.unnormalize_()\n",
    "    \n",
    "    return add_diagonal(sample.unflatten())\n",
    "    "
   ]
  },
  {
   "cell_type": "code",
   "execution_count": null,
   "id": "19b00a07-7fae-40f9-89c0-8d36e9a2318c",
   "metadata": {},
   "outputs": [],
   "source": [
    "dists = load_dist_maps('../../data/samples/origami_64_no_embed_reduction/sample_330_3.0_0.2_120_1.pt')"
   ]
  },
  {
   "cell_type": "code",
   "execution_count": null,
   "id": "5fb5a068-dd57-40ac-a372-c23794ef9b1e",
   "metadata": {},
   "outputs": [],
   "source": [
    "def dist_to_coord(dists,device='cuda' if torch.cuda.is_available() else 'cpu'):\n",
    "    '''\n",
    "    Assumes self interactions are excluded from the map \n",
    "    '''\n",
    "\n",
    "    if type(dists) != torch.Tensor:\n",
    "        dists = torch.tensor(dists)\n",
    "    return_dtype = dists.dtype\n",
    "    return_device = dists.device\n",
    "    dists = dists.to(dtype=torch.double,device=device)\n",
    "        \n",
    "    '''\n",
    "    # For covenience...\n",
    "    dists = self.batch[i,0,...]\n",
    "\n",
    "    # Initialize the coordinates object \n",
    "    b,dt,dev = dists.shape[-1]+1, self.dtype, self.device\n",
    "    coords = torch.empty(b,3,dtype=dt,device=dev)\n",
    "    coords[:] = torch.nan\n",
    "    '''\n",
    "    coords = torch.empty_like(dists[...,:3])\n",
    "    coords.fill_(torch.nan)\n",
    "    \n",
    "    # Place bead 0 at the origin \n",
    "    coords[...,0,:] = 0\n",
    "\n",
    "    # Place bead 1 on the x axis \n",
    "    coords[...,1,0] = dists[...,0,1]\n",
    "    coords[...,1,1:] = 0\n",
    "\n",
    "    # Get other x coordinates\n",
    "    #coords[2:,0] = (dists[0,1]**2 + dists[0,2:]**2 - dists[1,2:]**2) / (2*dists[0,1]**2)\n",
    "    coords[...,2:,0] = ( 1 + (dists[...,0,2:]**2 - dists[...,1,2:]**2)/dists[...,0,1:2]**2 ) / 2\n",
    "\n",
    "    # Place bead 2 in the xy plane with positive y \n",
    "    coords[...,2,1] = ( dists[...,0,2]**2 - coords[...,2,0]**2 ).sqrt()\n",
    "    coords[...,2,2] = 0\n",
    "\n",
    "    # Get other y coordinates\n",
    "    coords[...,3:,1] = 1\n",
    "    '''\n",
    "    print(f': {.shape}')\n",
    "    print(f': {.shape}')\n",
    "    print(f': {.shape}')\n",
    "    print(f': {.shape}')\n",
    "    print(f': {.shape}')\n",
    "    print(f': {.shape}')\n",
    "    print(f': {.shape}')\n",
    "    print(f': {.shape}')\n",
    "    '''\n",
    "    \n",
    "    coords[...,3:,1]+= ( dists[...,0,3:]**2 - coords[...,3:,0]**2 - dists[...,2,3:]**2 + (coords[...,3:,0] - coords[...,2,0])**2 ) / (dists[...,0,2]**2 - coords[...,2,0]**2)\n",
    "    #coords[...,3:,1]+= ( dists[...,0,3:]**2 - coords[...,3:,0]**2 - dists[...,2,3:]**2 + (coords[...,3:,0] - coords[...,2:3,0])**2 ) / (dists[...,0,2:3]**2 - coords[...,2:3,0]**2)\n",
    "    coords[...,3:,1]/= 2\n",
    "\n",
    "    # Give bead 3 a positive z value \n",
    "    coords[...,3,2] = ( dists[...,0,3]**2 - coords[...,3,:2].square().sum() ).sqrt()\n",
    "\n",
    "    # Get other z coordinates\n",
    "    coords[...,4:,2] = dists[...,0,4:]**2 - dists[...,3,4:]**2\n",
    "\n",
    "    '''\n",
    "    print(f'coords[...,4:,:2].shape: {coords[...,4:,:2].shape}')\n",
    "    print(f'coords[...,3:4,:2]: {coords[...,3:4,:2].shape}')\n",
    "    print(f'coords[...,4:,:2]: {coords[...,4:,:2].shape}')\n",
    "    print(f'(coords[...,4:,:2] - coords[...,3:4,:2]).square().sum(-1): {(coords[...,4:,:2] - coords[...,3:4,:2]).square().sum(-1).shape}')\n",
    "    print(f'coords[...,4:,:2].square().sum(-1): {coords[...,4:,:2].square().sum(-1).shape}')\n",
    "    '''\n",
    "    coords[...,4:,2]+= (coords[...,4:,:2] - coords[...,3,:2]).square().sum(1) - coords[...,4:,:2].square().sum(1)\n",
    "    #coords[...,4:,2]+= (coords[...,4:,:2] - coords[...,3:4,:2]).square().sum(-1) - coords[...,4:,:2].square().sum(-1)\n",
    "    coords[...,4:,2]/= coords[...,3:4,2]**2\n",
    "    coords[...,4:,2]+= 1\n",
    "    coords[...,4:,2]/= 2\n",
    "\n",
    "    return coords.squeeze().to(device=return_device,dtype=return_dtype)"
   ]
  },
  {
   "cell_type": "code",
   "execution_count": null,
   "id": "dfc0787c-2d79-4422-af71-c3cb2a164f8a",
   "metadata": {},
   "outputs": [],
   "source": [
    "def dist_to_coord(dists,device='cuda' if torch.cuda.is_available() else 'cpu'):\n",
    "    '''\n",
    "    Assumes self interactions are excluded from the map \n",
    "    '''\n",
    "\n",
    "    '''\n",
    "    # Ensure we have distances in their unnormalized form\n",
    "    self.unnormalize_()\n",
    "\n",
    "    # For covenience...\n",
    "    dists = self.batch[i,0,...]\n",
    "    '''\n",
    "    # Initialize the coordinates object \n",
    "    b,dt,dev = dists.shape[-1]+1, dists.dtype,dists.device#self.dtype, self.device\n",
    "    coords = torch.empty(b,3,dtype=dt,device=dev)\n",
    "    coords[:] = torch.nan\n",
    "    \n",
    "\n",
    "    '''\n",
    "    if type(dists) != torch.Tensor:\n",
    "        dists = torch.tensor(dists)\n",
    "    return_dtype = dists.dtype\n",
    "    return_device = dists.device\n",
    "    dists = dists.to(dtype=torch.double,device=device)\n",
    "\n",
    "    #coords = torch.empty_like(dists[...,:3])\n",
    "    coords = torch.empty(\n",
    "        *dists.shape[:-2],dists.shape[-2]+1,3,\n",
    "        dtype=torch.double,\n",
    "        device=device\n",
    "    )\n",
    "    coords.fill_(torch.nan)\n",
    "    '''\n",
    "\n",
    "    # Place bead 0 at the origin \n",
    "    coords[0,:] = 0\n",
    "\n",
    "    # Place bead 1 on the x axis \n",
    "    coords[1,0] = dists[0,0]\n",
    "    coords[1,1:] = 0\n",
    "\n",
    "    # Get other x coordinates\n",
    "    #coords[2:,0] = (dists[0,1]**2 + dists[0,2:]**2 - dists[1,2:]**2) / (2*dists[0,1]**2)\n",
    "    coords[2:,0] = ( 1 + (dists[0,1:]**2 - dists[1,1:]**2)/dists[0,0]**2 ) / 2\n",
    "\n",
    "    # Place bead 2 in the xy plane with positive y \n",
    "    coords[2,1] = ( dists[0,1]**2 - coords[2,0]**2 ).sqrt()\n",
    "    coords[2,2] = 0\n",
    "\n",
    "    # Get other y coordinates\n",
    "    coords[3:,1] = 1\n",
    "    coords[3:,1]+= ( dists[0,2:]**2 - coords[3:,0]**2 - dists[2,2:]**2 + (coords[3:,0] - coords[2,0])**2 ) / (dists[0,1]**2 - coords[2,0]**2)\n",
    "    coords[3:,1]/= 2\n",
    "\n",
    "    # Give bead 3 a positive z value \n",
    "    coords[3,2] = ( dists[0,2]**2 - coords[3,:2].square().sum() ).sqrt()\n",
    "\n",
    "    # Get other z coordinates\n",
    "    coords[4:,2] = dists[0,3:]**2 - dists[3,3:]**2\n",
    "    coords[4:,2]+= (coords[4:,:2] - coords[3,:2]).square().sum(1) - coords[4:,:2].square().sum(1)\n",
    "    coords[4:,2]/= coords[3,2]**2\n",
    "    coords[4:,2]+= 1\n",
    "    coords[4:,2]/= 2\n",
    "\n",
    "    return coords"
   ]
  },
  {
   "cell_type": "code",
   "execution_count": 6,
   "id": "72237e5a-46e8-492e-a149-b37ab5dd73ec",
   "metadata": {},
   "outputs": [],
   "source": [
    "def project_x_onto_y(x_dist_from_origin,dist_between_x_and_y,y_coords):\n",
    "    '''\n",
    "    Compute ( (x\\dot y)/||y||^2 ) \\vec{y} \n",
    "    '''\n",
    "\n",
    "    y_dist_from_origin_squared = y_coords.square().sum(-1,keepdim=True)\n",
    "\n",
    "    coefficients = .5*(x_dist_from_origin**2 - dist_between_x_and_y**2) / y_dist_from_origin_squared + .5\n",
    "    coefficients = coefficients.transpose(-1,-2)\n",
    "    return coefficients * y_coords\n",
    "    \n",
    "\n",
    "def vector_project_x_onto_y(x,y):\n",
    "    return y * ( (x*y).sum(-1,keepdim=True) / y.square().sum(-1,keepdim=True) )\n",
    "\n",
    "'''\n",
    "def fetch_dim(index_selections,tensor,dim):\n",
    "    index_selections = index_selections.flatten()\n",
    "    while len(index_selections.shape) < len(tensor.shape):\n",
    "        if len(index_selections.shape) < dim:\n",
    "            index_selections = index_selections.unsqueeze(0)\n",
    "        else:\n",
    "            index_selections = index_selections.unsqueeze(-1)\n",
    "\n",
    "    index_selections = index_selections.repeat(*tensor.shape[:dim],1,*tensor.shape[dim+1:])\n",
    "\n",
    "    return tensor.gather(dim,index_selections)\n",
    "'''\n",
    "def my_mask(tensor,indices):\n",
    "\n",
    "    # Because I treat the last dimension as a vector that should always stay together...\n",
    "    indices = indices.unsqueeze(-1) \n",
    "    indices = indices.expand(*torch.ones(len(indices.shape)-1,dtype=int),tensor.shape[-1])\n",
    "    \n",
    "    return tensor.gather(-1,indices)\n",
    "    \n",
    "\n",
    "def cumulative_projection(known_coords,dists_from_coords):\n",
    "    '''\n",
    "    Origin should be passed as the first dimension\n",
    "    '''\n",
    "\n",
    "    if len(known_coords.shape) == 1:\n",
    "        known_coords = known_coords.unsqueeze(0)\n",
    "    if len(dists_from_coords.shape) == 1:\n",
    "        dists_from_coords = dists_from_coords.unsqueeze(0)\n",
    "\n",
    "    return_dtype = known_coords.dtype\n",
    "    known_coords = known_coords.double()\n",
    "    dists_from_coords = dists_from_coords.double()\n",
    "\n",
    "    assert (known_coords.shape[:-1] == dists_from_coords.shape[:-1]).all(), \"Size of known coords and distances from them don't match!\"\n",
    "\n",
    "    if known_coords.shape[-2] == 1:\n",
    "        return dists_from_coords # The entire vector must still be accounted for, as we only have the origin\n",
    "\n",
    "    cum_proj = None\n",
    "    x_dist_from_origin = dists_from_coords[...,:1,:]\n",
    "    for i in range(1,known_coords.shape[-2]):\n",
    "        \n",
    "        y_coords = known_coords[...,i:i+1,:]\n",
    "        dist_between_x_and_y = dists_from_coords[...,i:i+1,:]\n",
    "\n",
    "        proj = project_x_onto_y(x_dist_from_origin,dist_between_x_and_y,y_coords)\n",
    "\n",
    "        if cum_proj is None:\n",
    "            cum_proj = proj\n",
    "        else:\n",
    "            proj-= vector_project_x_onto_y(proj,cum_proj)\n",
    "            cum_proj+= proj\n",
    "\n",
    "    return cum_proj.to(return_dtype)\n",
    "\n",
    "def perpendicular_component_magnitude(dist_from_origin,coords):\n",
    "    out = dist_from_origin**2 - coords.square().sum(-1).unsqueeze(-2)\n",
    "    out[out<0] = 0 # Correct for occasional numerical errors\n",
    "    return out.sqrt()\n",
    "    return (dist_from_origin**2 - coords.square().sum(-1).unsqueeze(-2)).sqrt()\n",
    "\n",
    "def dists_to_coords(dists,device='cuda' if torch.cuda.is_available() else 'cpu',num_dimensions=3):\n",
    "\n",
    "    # Use high-precision values throughout calculation, but return same dtype as provided\n",
    "    # Same for device\n",
    "    return_dtype = dists.dtype\n",
    "    return_device = dists.device\n",
    "    dists = dists.double().to(device)\n",
    "\n",
    "    # Initialize the object to hold coordinates\n",
    "    coords = torch.zeros_like(dists[...,:num_dimensions])\n",
    "\n",
    "    # Set the first bead at the origin \n",
    "    dist_from_origin = dists[...,:1,:]\n",
    "    d2 = dist_from_origin[...,1:].clone()\n",
    "    for i in range(num_dimensions):\n",
    "\n",
    "        # How much of each vector is normal to existing dimensions? \n",
    "        perp_remaining = perpendicular_component_magnitude(dist_from_origin,coords)\n",
    "        print(perp_remaining)\n",
    "\n",
    "        # Choose the median component in that direction as the new dimension to minimize numerical issues.\n",
    "        # Using too small of a value leads to issues with division during projection. \n",
    "        # Using the largest value can lead to issues if the NN predicted a non-physical conformation. \n",
    "        new_dim_vals,new_dim_idx = perp_remaining.max(-1)\n",
    "\n",
    "        # Place the bead with the median perpendicular component onto the current axis of interest\n",
    "        coords[...,i].scatter_(-1,new_dim_idx,new_dim_vals)\n",
    "\n",
    "        # Get the coordinates corresponding to this new dimension\n",
    "        new_dim_idx = new_dim_idx.unsqueeze(-1).expand(*torch.ones(new_dim_idx.ndim,dtype=int),num_dimensions)\n",
    "        new_reference_coords = coords.gather(-2,new_dim_idx)\n",
    "\n",
    "        # Get the distance between other vectors and this vector so we can perform the projection\n",
    "        new_dim_idx = new_dim_idx[...,:1].expand(*torch.ones(new_dim_idx.ndim-1,dtype=int),dists.shape[-1])\n",
    "        dist_between_x_and_y = dists.gather(-2,new_dim_idx)\n",
    "\n",
    "        # Project all other vectors onto this vector. \n",
    "        # Don't compute the projection in the origin section to avoid NaN results in that location\n",
    "        proj = project_x_onto_y(\n",
    "            dist_from_origin[...,1:],\n",
    "            dist_between_x_and_y[...,1:],\n",
    "            new_reference_coords\n",
    "        )\n",
    "        #print(proj)\n",
    "\n",
    "        # Subtract the portion of this projection that overlaps with the vector components already accounted for\n",
    "        if i > 0:\n",
    "            proj-= vector_project_x_onto_y(proj,coords[...,1:,:])\n",
    "        #    #proj-= vector_project_x_onto_y(coords[...,1:,:],proj)\n",
    "        #print(proj)\n",
    "\n",
    "        # Update the coordinates based on the component we have now solved\n",
    "        coords[...,1:,:]+= proj\n",
    "        print(coords)\n",
    "\n",
    "        d2 = (d2**2 - proj.square().sum(-1)).sqrt()\n",
    "        print(d2)\n",
    "\n",
    "    return coords.to(dtype=return_dtype,device=return_device)\n",
    "\n",
    "##########################\n",
    "# ANOTHER ATTEMPT\n",
    "##########################\n",
    "def dists_to_coords(dists,device='cuda' if torch.cuda.is_available() else 'cpu',num_dimensions=3):\n",
    "\n",
    "    # Use high-precision values throughout calculation, but return same dtype as provided\n",
    "    # Same for device\n",
    "    return_dtype = dists.dtype\n",
    "    return_device = dists.device\n",
    "    dists = dists.double().to(device)\n",
    "\n",
    "    # Initialize the object to hold coordinates\n",
    "    coords = torch.zeros_like(dists[...,:num_dimensions])\n",
    "\n",
    "    # Set the first bead at the origin \n",
    "    dist_from_origin = dists[...,:1,:]\n",
    "    perp_remaining = dist_from_origin**2\n",
    "    prior_vectors = []\n",
    "    for i in range(num_dimensions):\n",
    "\n",
    "        # How much of each vector is normal to existing dimensions? \n",
    "        #perp_remaining = perpendicular_component_magnitude(dist_from_origin,coords)\n",
    "        #print(perp_remaining)\n",
    "\n",
    "        # Choose the median component in that direction as the new dimension to minimize numerical issues.\n",
    "        # Using too small of a value leads to issues with division during projection. \n",
    "        # Using the largest value can lead to issues if the NN predicted a non-physical conformation. \n",
    "        new_dim_vals,new_dim_idx = perp_remaining.max(-1)\n",
    "        new_dim_vals.sqrt_() # sqrt b/c perp_remaining tracks (unaccounted component)**2\n",
    "\n",
    "        # Place the bead with the median perpendicular component onto the current axis of interest\n",
    "        coords[...,i].scatter_(-1,new_dim_idx,new_dim_vals) \n",
    "\n",
    "        # Get the coordinates corresponding to this new dimension\n",
    "        #new_dim_idx = new_dim_idx.unsqueeze(-1).expand(*torch.ones(new_dim_idx.ndim,dtype=int),num_dimensions)\n",
    "        new_dim_idx = new_dim_idx.unsqueeze(-1).expand(*new_dim_idx.shape,num_dimensions)\n",
    "        new_reference_coords = coords.gather(-2,new_dim_idx)\n",
    "\n",
    "        # Get the distance between other vectors and this vector so we can perform the projection\n",
    "        new_dim_idx = new_dim_idx[...,:1]\n",
    "        new_dim_idx = new_dim_idx.expand(*new_dim_idx.shape[:-1],dists.shape[-1])\n",
    "        #new_dim_idx = new_dim_idx[...,:1].expand(*torch.ones(new_dim_idx.ndim-1,dtype=int),dists.shape[-1])\n",
    "        dist_between_x_and_y = dists.gather(-2,new_dim_idx)\n",
    "\n",
    "        # Project all other vectors onto this vector. \n",
    "        # Don't compute the projection in the origin section to avoid NaN results in that location\n",
    "        proj = project_x_onto_y(\n",
    "            dist_from_origin[...,1:],\n",
    "            dist_between_x_and_y[...,1:],\n",
    "            new_reference_coords\n",
    "        )\n",
    "        #print(proj)\n",
    "\n",
    "        # Subtract the portion of this projection that overlaps with the vector components already accounted for\n",
    "        #proj1 = proj.clone()\n",
    "        #if i > 0:\n",
    "        #    proj-= vector_project_x_onto_y(proj,coords[...,1:,:])\n",
    "            #proj-= vector_project_x_onto_y(coords[...,1:,:],proj)\n",
    "        #print(proj)\n",
    "\n",
    "        #print(dist_from_origin[...,1:] - proj.square().sum(-1).unsqueeze(-2))\n",
    "        #print(proj1.square().sum(-1) - proj.square().sum(-1))\n",
    "        #proj_magnitude = proj.square().sum(-1,keepdim=True)\n",
    "        proj1 = proj.clone()\n",
    "        for vec in prior_vectors:\n",
    "            proj-= vector_project_x_onto_y(proj,vec)\n",
    "            #new_reference_coords-= vector_project_x_onto_y(new_reference_coords,vec)\n",
    "        #prior_vectors.append(new_reference_coords)#/new_reference_coords.square().sum(-1,keepdim=True).sqrt())\n",
    "        # Must rescale vector length! Knowing orthognal & projection components, we have two legs of a right triangle\n",
    "        a_squared = proj1.square().sum(-1,keepdim=True)\n",
    "        b_squared = (proj1 - proj).square().sum(-1,keepdim=True)\n",
    "        c = (a_squared + b_squared).sqrt()\n",
    "        proj/= proj.square().sum(-1,keepdim=True).sqrt()\n",
    "        proj*= c\n",
    "\n",
    "        # Update the coordinates based on the component we have now solved\n",
    "        coords[...,1:,:]+= proj\n",
    "        perp_remaining[...,1:]-= proj.square().sum(-1).unsqueeze(-2)\n",
    "        print(perp_remaining)\n",
    "        \n",
    "    \n",
    "    return coords.to(dtype=return_dtype,device=return_device)\n",
    "\n",
    "\n",
    "##########################\n",
    "# ANOTHER ATTEMPT: Use inversion! \n",
    "##########################\n",
    "def x_dot_y(x_norm,y_norm,x_minus_y_norm):\n",
    "    # From known vector norms\n",
    "    y_norm = y_norm.expand_as(x_norm)\n",
    "    return (x_norm**2 + y_norm**2 - x_minus_y_norm**2) / 2\n",
    "\n",
    "def vector_dot(vec1,vec2,dim=-1):\n",
    "    return (vec1*vec2).sum(-1)\n",
    "\n",
    "def dists_to_coords(dists,device='cuda' if torch.cuda.is_available() else 'cpu',num_dimensions=3):\n",
    "\n",
    "    # Use high-precision values throughout calculation, but return same dtype as provided\n",
    "    # Same for device\n",
    "    return_dtype = dists.dtype\n",
    "    return_device = dists.device\n",
    "    dists = dists.double().to(device)\n",
    "\n",
    "    # Initialize the object to hold coordinates\n",
    "    #coords = torch.zeros_like(dists[...,:num_dimensions])\n",
    "    dot_products = torch.zeros_like(dists[...,:num_dimensions])\n",
    "    reference_vectors = dot_products[...,:num_dimensions,:].clone()\n",
    "\n",
    "    # For convenience in indexing\n",
    "    single_coord_shape = dot_products[...,:1,:].shape\n",
    "    single_dist_shape = dists[...,:1,:].shape\n",
    "    \n",
    "    '''\n",
    "    S1 = S.T\n",
    "    \n",
    "    v = torch.tensor([[2.],[1]])\n",
    "    \n",
    "    torch.linalg.solve(\n",
    "        S.T,\n",
    "        torch.tensor(\n",
    "            [\n",
    "                [(s1*v).sum()],\n",
    "                [(s2*v).sum()]\n",
    "            ]\n",
    "        )\n",
    "    )\n",
    "    '''\n",
    "\n",
    "    \n",
    "    # Set the first bead at the origin. Then the distance from that bead is that vector's L2 norm\n",
    "    vector_norms = dists[...,:1,:]\n",
    "    selection_metric = vector_norms**2\n",
    "    reference_norms = []\n",
    "    reference_difference_norms = []\n",
    "    for i in range(num_dimensions):\n",
    "\n",
    "        # Selection metric ~approximately~ tracks the proportion of the vectors not yet accounted for, indicating\n",
    "        # how far out of the span of already-selected vectors they are. \n",
    "        # Choose the vector with the median component in that direction as the new dimension to minimize numerical issues.\n",
    "        # Using too small of a value leads to issues with division during projection. \n",
    "        # Using the largest value can lead to issues if the NN predicted a non-physical conformation. \n",
    "        new_dim_idx = selection_metric.median(-1,keepdim=True)[-1]\n",
    "\n",
    "        # Get the dot product between this vector and all others\n",
    "        y_norm = vector_norms.gather(-1,new_dim_idx)\n",
    "        x_minus_y_norm = dists.gather(-1,new_dim_idx.expand(*new_dim_idx.shape[:-1],dists.shape[-1]-1))\n",
    "        dot_products[...,1:,i:i+1] = x_dot_y(\n",
    "            vector_norms[...,1:],\n",
    "            y_norm,\n",
    "            x_minus_y_norm\n",
    "        ).transpose(-2,-1)\n",
    "\n",
    "        rv = reference_vectors # ease of notation\n",
    "        if i == 0:\n",
    "            # Fully aline the vector with the positive x-axis\n",
    "            rv[...,i:i+1,:1] = y_norm\n",
    "        else:\n",
    "            for j in range(i):\n",
    "                # basis vector norm & distance from reference norm\n",
    "                bvn = reference_norms[j]\n",
    "                drn = reference_difference_norms[j].gather(-1,new_dim_idx)\n",
    "                #print(f'Target: {rv[...,i,j:j+1].shape}')\n",
    "                #print(f'dot: {x_dot_y(y_norm,bvn,drn).shape}')\n",
    "                rv[...,i:i+1,j:j+1] = x_dot_y(y_norm,bvn,drn)\n",
    "\n",
    "                if j > 0:\n",
    "                    rv[...,i,j]-= vector_dot(\n",
    "                        rv[...,i,:j],     # v_0, ..., v_{j-1} for vector currently being solved\n",
    "                        rv[...,j-1,:j]    # v_0, ..., v_{j-1} for prior reference vector\n",
    "                    )\n",
    "                rv[...,i,j]/= rv[...,j,j]\n",
    "\n",
    "            # Vector component lying orthogonal to already-accounted-for dimensions\n",
    "            #print(f'y_norm: {y_norm.shape}')\n",
    "            #print(f'rv: {rv[...,i:i+1,:i].square().sum(-1,keepdim=True).shape}')\n",
    "            rv[...,i:i+1,i:i+1] = (y_norm.square() - rv[...,i:i+1,:i].square().sum(-1,keepdim=True)).sqrt() \n",
    "        # Save the information for future loop iterations\n",
    "        reference_norms.append(y_norm)\n",
    "        reference_difference_norms.append(x_minus_y_norm)\n",
    "\n",
    "        selection_metric[...,1:]-= (dot_products[...,1:,i:i+1] / y_norm**2 * rv[...,i:i+1,:]).sum(-1).unsqueeze(-2)\n",
    "\n",
    "    print(reference_vectors.shape)\n",
    "    print(dot_products.shape)\n",
    "    coords = torch.linalg.solve(reference_vectors,dot_products.transpose(-2,-1)).transpose(-2,-1)\n",
    "    \n",
    "    return coords.to(dtype=return_dtype,device=return_device)\n",
    "\n",
    "##########################\n",
    "# ANOTHER ATTEMPT: No inversion, more similar to original approach but better generalized\n",
    "##########################\n",
    "def x_dot_y(x_norm,y_norm,x_minus_y_norm):\n",
    "    # From known vector norms\n",
    "    y_norm = y_norm.expand_as(x_norm)\n",
    "    return (x_norm**2 + y_norm**2 - x_minus_y_norm**2) / 2\n",
    "\n",
    "def vector_dot(vec1,vec2,dim=-1):\n",
    "    return (vec1*vec2).sum(-1)\n",
    "\n",
    "def select_new_indices(dists,dist_from_origin,coords):\n",
    "    dist_not_accounted_for = (dist_from_origin.square() - coords.square().sum(-1,keepdim=True).square()).sqrt()\n",
    "\n",
    "    # Select maximum value to minimize numerical errors with division on this value later\n",
    "    return dist_not_accounted_for.max(-2,keepdim=True)\n",
    "    \n",
    "def compute_new_dimension(coords,dists,reference_indices):\n",
    "    # Everything operates in-place\n",
    "    if len(reference_indices) == 0:\n",
    "        # Set a central bead at the origin\n",
    "        idx = torch.tensor(dists.shape[-1]//2).expand_as(dists[...,:1])\n",
    "        reference_indices.append(idx)\n",
    "\n",
    "    ri = reference_indices # ease of notation\n",
    "    x_norm = dists.gather(-1,ri[0]) # Distance from origin\n",
    "\n",
    "    coord_value, idx = select_new_indices(x_norm,coords)\n",
    "    dim = len(ri) - 1\n",
    "    #coords[...,dim:dim+1].scatter_(-2,idx,coord_value)\n",
    "    y_norm = x_norm.gather(-2,idx) # Distance from origin for new reference bead\n",
    "    x_minus_y_norm = dists.gather(-1,idx) # Distance between all beads and the new reference bead\n",
    "    \n",
    "    new_coord_values = x_dot_y(x_norm,y_norm,x_minus_y_norm)\n",
    "    if dim > 0:\n",
    "        selected_coord_prior_values = coords[...,:dim].gather(-2,idx).expand_as(coords[...,:dim])\n",
    "        new_coord_values-= (selected_coord_prior_values * coords[...,:dim]).sum(-1,keepdim=True) # Dot product\n",
    "    new_coord_values/= coord_value\n",
    "    coords[...,dim:dim+1] = new_coord_values\n",
    "\n",
    "    ri.append(idx)\n",
    "    \n",
    "\n",
    "def dists_to_coords(dists,device='cuda' if torch.cuda.is_available() else 'cpu',num_dimensions=3):\n",
    "\n",
    "    # Use high-precision values throughout calculation, but return same dtype as provided\n",
    "    # Same for device\n",
    "    return_dtype = dists.dtype\n",
    "    return_device = dists.device\n",
    "    dists = dists.double().to(device)\n",
    "\n",
    "    # Initialize the object to hold coordinates\n",
    "    #coords = torch.zeros_like(dists[...,:num_dimensions])\n",
    "    coords = torch.zeros_like(dists[...,:num_dimensions])\n",
    "    reference_vectors = dot_products[...,:num_dimensions,:].clone()\n",
    "\n",
    "    # For convenience in indexing\n",
    "    single_coord_shape = dot_products[...,:1,:].shape\n",
    "    single_dist_shape = dists[...,:1,:].shape\n",
    "    \n",
    "    # Set the first bead at the origin. Then the distance from that bead is that vector's L2 norm\n",
    "    vector_norms = dists[...,:1,:]\n",
    "    selection_metric = vector_norms**2\n",
    "    reference_norms = []\n",
    "    reference_difference_norms = []\n",
    "    for i in range(num_dimensions):\n",
    "\n",
    "        # Selection metric ~approximately~ tracks the proportion of the vectors not yet accounted for, indicating\n",
    "        # how far out of the span of already-selected vectors they are. \n",
    "        # Choose the vector with the median component in that direction as the new dimension to minimize numerical issues.\n",
    "        # Using too small of a value leads to issues with division during projection. \n",
    "        # Using the largest value can lead to issues if the NN predicted a non-physical conformation. \n",
    "        new_dim_idx = selection_metric.median(-1,keepdim=True)[-1]\n",
    "\n",
    "        # Get the dot product between this vector and all others\n",
    "        y_norm = vector_norms.gather(-1,new_dim_idx)\n",
    "        x_minus_y_norm = dists.gather(-1,new_dim_idx.expand(*new_dim_idx.shape[:-1],dists.shape[-1]-1))\n",
    "        dot_products[...,1:,i:i+1] = x_dot_y(\n",
    "            vector_norms[...,1:],\n",
    "            y_norm,\n",
    "            x_minus_y_norm\n",
    "        ).transpose(-2,-1)\n",
    "\n",
    "        rv = reference_vectors # ease of notation\n",
    "        if i == 0:\n",
    "            # Fully aline the vector with the positive x-axis\n",
    "            rv[...,i:i+1,:1] = y_norm\n",
    "        else:\n",
    "            for j in range(i):\n",
    "                # basis vector norm & distance from reference norm\n",
    "                bvn = reference_norms[j]\n",
    "                drn = reference_difference_norms[j].gather(-1,new_dim_idx)\n",
    "                #print(f'Target: {rv[...,i,j:j+1].shape}')\n",
    "                #print(f'dot: {x_dot_y(y_norm,bvn,drn).shape}')\n",
    "                rv[...,i:i+1,j:j+1] = x_dot_y(y_norm,bvn,drn)\n",
    "\n",
    "                if j > 0:\n",
    "                    rv[...,i,j]-= vector_dot(\n",
    "                        rv[...,i,:j],     # v_0, ..., v_{j-1} for vector currently being solved\n",
    "                        rv[...,j-1,:j]    # v_0, ..., v_{j-1} for prior reference vector\n",
    "                    )\n",
    "                rv[...,i,j]/= rv[...,j,j]\n",
    "\n",
    "            # Vector component lying orthogonal to already-accounted-for dimensions\n",
    "            #print(f'y_norm: {y_norm.shape}')\n",
    "            #print(f'rv: {rv[...,i:i+1,:i].square().sum(-1,keepdim=True).shape}')\n",
    "            rv[...,i:i+1,i:i+1] = (y_norm.square() - rv[...,i:i+1,:i].square().sum(-1,keepdim=True)).sqrt() \n",
    "        # Save the information for future loop iterations\n",
    "        reference_norms.append(y_norm)\n",
    "        reference_difference_norms.append(x_minus_y_norm)\n",
    "\n",
    "        selection_metric[...,1:]-= (dot_products[...,1:,i:i+1] / y_norm**2 * rv[...,i:i+1,:]).sum(-1).unsqueeze(-2)\n",
    "\n",
    "    print(reference_vectors.shape)\n",
    "    print(dot_products.shape)\n",
    "    coords = torch.linalg.solve(reference_vectors,dot_products.transpose(-2,-1)).transpose(-2,-1)\n",
    "    \n",
    "    return coords.to(dtype=return_dtype,device=return_device)\n",
    "        \n",
    "        \n",
    "        \n",
    "\n",
    "    \n",
    "    \n",
    "    "
   ]
  },
  {
   "cell_type": "code",
   "execution_count": 24,
   "id": "c758a655-4a0b-4f9d-9bec-435edf277197",
   "metadata": {},
   "outputs": [],
   "source": [
    "def x_dot_y(x_norm,y_norm,x_minus_y_norm):\n",
    "    # From known vector norms\n",
    "    y_norm = y_norm.expand_as(x_norm)\n",
    "    return (x_norm**2 + y_norm**2 - x_minus_y_norm**2) / 2\n",
    "\n",
    "def select_new_indices(dist_from_origin,coords):\n",
    "    dist_not_accounted_for = (dist_from_origin.square() - coords.square().sum(-1,keepdim=True))\n",
    "    dist_not_accounted_for[torch.isclose(dist_not_accounted_for,torch.zeros_like(dist_not_accounted_for))] = 0\n",
    "    dist_not_accounted_for.sqrt_()\n",
    "    # Select maximum value to minimize numerical errors with division on this value later\n",
    "    return dist_not_accounted_for.max(-2,keepdim=True)\n",
    "    \n",
    "def compute_new_dimension(coords,dists,reference_indices):\n",
    "    # Everything operates in-place\n",
    "    if len(reference_indices) == 0:\n",
    "        # Set a central bead at the origin\n",
    "        idx = torch.tensor(dists.shape[-1]//2).expand_as(dists[...,:1])\n",
    "        reference_indices.append(idx)\n",
    "\n",
    "    ri = reference_indices # ease of notation\n",
    "    x_norm = dists.gather(-1,ri[0]) # Distance from origin\n",
    "    \n",
    "    coord_value, idx = select_new_indices(x_norm,coords)\n",
    "    idx = idx.expand_as(dists[...,:1])\n",
    "    dim = len(ri) - 1\n",
    "    y_norm = x_norm.gather(-2,idx) # Distance from origin for new reference bead\n",
    "    x_minus_y_norm = dists.gather(-1,idx) # Distance between all beads and the new reference bead\n",
    "    \n",
    "    new_coord_values = x_dot_y(x_norm,y_norm,x_minus_y_norm)\n",
    "    #print(new_coord_values)\n",
    "    if dim > 0:\n",
    "        selected_coord_prior_values = coords[...,:dim].gather(-2,idx.expand_as(coords[...,:dim]))\n",
    "        new_coord_values-= (selected_coord_prior_values * coords[...,:dim]).sum(-1,keepdim=True) # Dot product\n",
    "    new_coord_values/= coord_value\n",
    "    coords[...,dim:dim+1] = new_coord_values\n",
    "    \n",
    "    ri.append(idx)\n",
    "\n",
    "def dists_to_coords(dists,device=None,num_dimensions=3):\n",
    "\n",
    "    # Use high-precision values throughout calculation, but return same dtype as provided\n",
    "    # Same for device\n",
    "    return_dtype = dists.dtype\n",
    "    return_device = dists.device\n",
    "    if device is None:\n",
    "        device = 'cuda' if torch.cuda.is_available() else 'cpu'\n",
    "    dists = dists.double().to(device)\n",
    "\n",
    "    # Initialize the object to hold coordinates\n",
    "    coords = torch.zeros_like(dists[...,:num_dimensions])\n",
    "\n",
    "    # Keep track of reference indices\n",
    "    reference_indices = []\n",
    "\n",
    "    for _ in range(num_dimensions): \n",
    "        compute_new_dimension(coords,dists,reference_indices)\n",
    "\n",
    "    return coords.to(dtype=return_dtype,device=return_device)\n",
    "    \n",
    "\n",
    "    \n",
    "    "
   ]
  },
  {
   "cell_type": "code",
   "execution_count": 25,
   "id": "9d790d8e-91ed-4a4c-8fbe-f8a8bb94e5df",
   "metadata": {},
   "outputs": [],
   "source": [
    "def generate_sample(nbeads,nsamples):\n",
    "\n",
    "    sample = torch.empty(nsamples,nbeads,3)\n",
    "    sample[:,0,:] = 0 \n",
    "    for i in range(1,nbeads):\n",
    "        step = torch.randn_like(sample[:,0,:])\n",
    "        step/= step.square().sum(-1,keepdim=True).sqrt()\n",
    "        sample[:,i,:] = sample[:,i-1,:] + step\n",
    "\n",
    "    sample = sample.squeeze()\n",
    "    if len(sample.shape) == 1:\n",
    "        sample = sample.unsqueeze(0)\n",
    "    \n",
    "    return sample\n",
    "    "
   ]
  },
  {
   "cell_type": "code",
   "execution_count": 30,
   "id": "ad0308e9-1ec0-4539-be40-591fdeb4969c",
   "metadata": {},
   "outputs": [
    {
     "name": "stdout",
     "output_type": "stream",
     "text": [
      "Time 1: 0.002108335494995117 seconds\n",
      "Time 2: 0.007660627365112305 seconds\n",
      "Time 3: 0.002444028854370117 seconds\n",
      "Time 4: 18.105817317962646 seconds\n"
     ]
    },
    {
     "data": {
      "image/png": "[encoded data removed]",
      "text/plain": [
       "<Figure size 640x480 with 1 Axes>"
      ]
     },
     "metadata": {},
     "output_type": "display_data"
    }
   ],
   "source": [
    "import time\n",
    "a = generate_sample(64,100).double()\n",
    "t = time.time()\n",
    "dist1 = torch.cdist(a,a)\n",
    "t-= time.time()\n",
    "print(f'Time 1: {-t} seconds')\n",
    "\n",
    "t = time.time()\n",
    "b = dists_to_coords(dist1)\n",
    "t-= time.time()\n",
    "print(f'Time 2: {-t} seconds')\n",
    "\n",
    "t = time.time()\n",
    "dist2 = torch.cdist(b,b)\n",
    "t-= time.time()\n",
    "print(f'Time 3: {-t} seconds')\n",
    "\n",
    "t = time.time()\n",
    "plt.plot(dist1.flatten().cpu(),dist2.flatten().cpu(),'.')\n",
    "t-= time.time()\n",
    "print(f'Time 4: {-t} seconds')"
   ]
  },
  {
   "cell_type": "code",
   "execution_count": null,
   "id": "1ef66656-aa32-4749-bb77-c47928c2098f",
   "metadata": {},
   "outputs": [],
   "source": []
  },
  {
   "cell_type": "code",
   "execution_count": 97,
   "id": "662908ea-87b3-4cbc-a5fa-afe50b9b9018",
   "metadata": {},
   "outputs": [
    {
     "ename": "RuntimeError",
     "evalue": "index 9 is out of bounds for dimension 2 with size 9",
     "output_type": "error",
     "traceback": [
      "\u001b[0;31m---------------------------------------------------------------------------\u001b[0m",
      "\u001b[0;31mRuntimeError\u001b[0m                              Traceback (most recent call last)",
      "Cell \u001b[0;32mIn[97], line 4\u001b[0m\n\u001b[1;32m      2\u001b[0m a \u001b[38;5;241m=\u001b[39m generate_sample(\u001b[38;5;241m10\u001b[39m,\u001b[38;5;241m3\u001b[39m)\n\u001b[1;32m      3\u001b[0m dist1 \u001b[38;5;241m=\u001b[39m torch\u001b[38;5;241m.\u001b[39mcdist(a,a)\n\u001b[0;32m----> 4\u001b[0m b \u001b[38;5;241m=\u001b[39m \u001b[43mdists_to_coords\u001b[49m\u001b[43m(\u001b[49m\u001b[43mdist1\u001b[49m\u001b[43m)\u001b[49m\n\u001b[1;32m      5\u001b[0m dist2 \u001b[38;5;241m=\u001b[39m torch\u001b[38;5;241m.\u001b[39mcdist(b,b)\n\u001b[1;32m      6\u001b[0m plt\u001b[38;5;241m.\u001b[39mplot(dist1\u001b[38;5;241m.\u001b[39mflatten()\u001b[38;5;241m.\u001b[39mcpu(),dist2\u001b[38;5;241m.\u001b[39mflatten()\u001b[38;5;241m.\u001b[39mcpu(),\u001b[38;5;124m'\u001b[39m\u001b[38;5;124m.\u001b[39m\u001b[38;5;124m'\u001b[39m)\n",
      "Cell \u001b[0;32mIn[96], line 301\u001b[0m, in \u001b[0;36mdists_to_coords\u001b[0;34m(dists, device, num_dimensions)\u001b[0m\n\u001b[1;32m    298\u001b[0m \u001b[38;5;28;01mfor\u001b[39;00m j \u001b[38;5;129;01min\u001b[39;00m \u001b[38;5;28mrange\u001b[39m(i):\n\u001b[1;32m    299\u001b[0m     \u001b[38;5;66;03m# basis vector norm & distance from reference norm\u001b[39;00m\n\u001b[1;32m    300\u001b[0m     bvn \u001b[38;5;241m=\u001b[39m reference_norms[j]\n\u001b[0;32m--> 301\u001b[0m     drn \u001b[38;5;241m=\u001b[39m \u001b[43mreference_difference_norms\u001b[49m\u001b[43m[\u001b[49m\u001b[43mj\u001b[49m\u001b[43m]\u001b[49m\u001b[38;5;241;43m.\u001b[39;49m\u001b[43mgather\u001b[49m\u001b[43m(\u001b[49m\u001b[38;5;241;43m-\u001b[39;49m\u001b[38;5;241;43m1\u001b[39;49m\u001b[43m,\u001b[49m\u001b[43mnew_dim_idx\u001b[49m\u001b[43m)\u001b[49m\n\u001b[1;32m    302\u001b[0m     \u001b[38;5;66;03m#print(f'Target: {rv[...,i,j:j+1].shape}')\u001b[39;00m\n\u001b[1;32m    303\u001b[0m     \u001b[38;5;66;03m#print(f'dot: {x_dot_y(y_norm,bvn,drn).shape}')\u001b[39;00m\n\u001b[1;32m    304\u001b[0m     rv[\u001b[38;5;241m.\u001b[39m\u001b[38;5;241m.\u001b[39m\u001b[38;5;241m.\u001b[39m,i:i\u001b[38;5;241m+\u001b[39m\u001b[38;5;241m1\u001b[39m,j:j\u001b[38;5;241m+\u001b[39m\u001b[38;5;241m1\u001b[39m] \u001b[38;5;241m=\u001b[39m x_dot_y(y_norm,bvn,drn)\n",
      "\u001b[0;31mRuntimeError\u001b[0m: index 9 is out of bounds for dimension 2 with size 9"
     ]
    }
   ],
   "source": [
    "#a = torch.rand(10,3).double()\n",
    "a = generate_sample(10,3)\n",
    "dist1 = torch.cdist(a,a)\n",
    "b = dists_to_coords(dist1)\n",
    "dist2 = torch.cdist(b,b)\n",
    "plt.plot(dist1.flatten().cpu(),dist2.flatten().cpu(),'.')"
   ]
  },
  {
   "cell_type": "code",
   "execution_count": 15,
   "id": "d37b9b35-e938-49df-bc31-cd36b86ec40a",
   "metadata": {},
   "outputs": [
    {
     "name": "stdout",
     "output_type": "stream",
     "text": [
      "tensor([2., 0., 0.], dtype=torch.float64)\n",
      "tensor([2.0000, 3.0619, 0.0000], dtype=torch.float64)\n",
      "tensor([2.0000, 3.0619, 3.8730], dtype=torch.float64)\n"
     ]
    }
   ],
   "source": [
    "v = torch.tensor([2,3,4]).double()\n",
    "'''\n",
    "x = torch.tensor([1.,0,0])\n",
    "y = torch.tensor([0.,1,0])\n",
    "z = torch.tensor([0.,0,1])\n",
    "w = vector_project_x_onto_y(v,x) + vector_project_x_onto_y(v,y) + vector_project_x_onto_y(v,z)\n",
    "w\n",
    "'''\n",
    "x = torch.tensor([1.,0,0]).double()\n",
    "y = torch.tensor([1.,1,0]).double()\n",
    "z = torch.tensor([1.,1,1]).double()\n",
    "w = torch.zeros(3).double()\n",
    "basis = [x,y,z]\n",
    "ortho_basis = []\n",
    "for i,vec in enumerate(basis):\n",
    "    proj = vector_project_x_onto_y(v,vec)\n",
    "    #print(proj)\n",
    "    proj1 = proj.clone()\n",
    "    #if i>0:\n",
    "    #    proj-= vector_project_x_onto_y(proj,w)\n",
    "    #proj1 = proj.clone()\n",
    "    #for vec1 in basis[:i]:\n",
    "    #    proj-= vector_project_x_onto_y(proj,vec1)\n",
    "    #    vec-= vector_project_x_onto_y(vec,vec1)\n",
    "    for vec1 in ortho_basis:\n",
    "        proj-= vector_project_x_onto_y(proj,vec1)\n",
    "        vec-= vector_project_x_onto_y(vec,vec1)\n",
    "    ortho_basis.append(vec/vec.square().sum(-1,keepdim=True).sqrt())\n",
    "    \n",
    "    a_squared = proj1.square().sum(-1,keepdim=True)\n",
    "    b_squared = (proj1-proj).square().sum(-1,keepdim=True)\n",
    "    proj*= (a_squared+b_squared).sqrt() / a_squared.sqrt()\n",
    "    w+= proj\n",
    "    print(w)\n",
    "#w"
   ]
  },
  {
   "cell_type": "code",
   "execution_count": 16,
   "id": "8178a0bf-0297-452b-8ade-b174e0dac827",
   "metadata": {},
   "outputs": [],
   "source": [
    "def projection_length(x_dist_from_origin,dist_between_x_and_y,y_coords):\n",
    "    '''\n",
    "    Compute ( (x\\dot y)/||y||^2 ) \\vec{y} \n",
    "    '''\n",
    "\n",
    "    y_dist_from_origin_squared = y_coords.square().sum(-1,keepdim=True)\n",
    "\n",
    "    coefficients = .5*(x_dist_from_origin**2 - dist_between_x_and_y**2) / y_dist_from_origin_squared + .5\n",
    "    coefficients = coefficients.transpose(-1,-2)\n",
    "    return coefficients"
   ]
  },
  {
   "cell_type": "markdown",
   "id": "0a8c830a-3aa1-4dc9-ac6d-a602548f3866",
   "metadata": {},
   "source": [
    "a = torch.empty(2,3,4)\n",
    "for k in range(4):\n",
    "    a[...,k] = k\n",
    "a = a.unsqueeze(-1).expand(*a.shape,5)\n",
    "a[...,1,:]\n",
    "idx = torch.randint(0,3,a[:,:1,:].shape)\n",
    "b = a.gather(-2,idx)\n",
    "b[:] = -1\n",
    "a"
   ]
  },
  {
   "cell_type": "code",
   "execution_count": 20,
   "id": "8b35b441-b228-401b-a389-7d3bf14e42e8",
   "metadata": {},
   "outputs": [
    {
     "ename": "TypeError",
     "evalue": "expand(): argument 'size' (position 1) must be tuple of ints, but found element of type ellipsis at pos 0",
     "output_type": "error",
     "traceback": [
      "\u001b[0;31m---------------------------------------------------------------------------\u001b[0m",
      "\u001b[0;31mTypeError\u001b[0m                                 Traceback (most recent call last)",
      "Cell \u001b[0;32mIn[20], line 2\u001b[0m\n\u001b[1;32m      1\u001b[0m a \u001b[38;5;241m=\u001b[39m torch\u001b[38;5;241m.\u001b[39mrand(\u001b[38;5;241m10\u001b[39m,\u001b[38;5;241m10\u001b[39m,\u001b[38;5;241m1\u001b[39m)\n\u001b[0;32m----> 2\u001b[0m \u001b[43ma\u001b[49m\u001b[38;5;241;43m.\u001b[39;49m\u001b[43mexpand\u001b[49m\u001b[43m(\u001b[49m\u001b[38;5;241;43m.\u001b[39;49m\u001b[38;5;241;43m.\u001b[39;49m\u001b[38;5;241;43m.\u001b[39;49m\u001b[43m,\u001b[49m\u001b[38;5;241;43m10\u001b[39;49m\u001b[43m)\u001b[49m\u001b[38;5;241m.\u001b[39mshape\n",
      "\u001b[0;31mTypeError\u001b[0m: expand(): argument 'size' (position 1) must be tuple of ints, but found element of type ellipsis at pos 0"
     ]
    }
   ],
   "source": [
    "a = torch.rand(10,10,1)\n",
    "a.expand(...,10).shape"
   ]
  },
  {
   "cell_type": "code",
   "execution_count": null,
   "id": "c0b3d788-d15e-45a6-8360-905a248485f3",
   "metadata": {},
   "outputs": [],
   "source": [
    "x = torch.rand(3,10,3)\n",
    "y = torch.rand(3,10,3)\n",
    "p = vector_project_x_onto_y(x,y)\n",
    "#z = vector_project_x_onto_y(p,y)\n",
    "#torch.allclose(p,z)\n",
    "z = x - p\n",
    "(z*y).sum(-1)"
   ]
  },
  {
   "cell_type": "code",
   "execution_count": null,
   "id": "1073f9da-2e68-4c7a-bf0d-68ed09d377f5",
   "metadata": {},
   "outputs": [],
   "source": [
    "torch.rand(10,10,10).median(-1)[-1].shape"
   ]
  },
  {
   "cell_type": "code",
   "execution_count": null,
   "id": "b1e8b848-6dae-404a-8642-867b6f836613",
   "metadata": {},
   "outputs": [],
   "source": []
  },
  {
   "cell_type": "code",
   "execution_count": 99,
   "id": "e08fc440-6f2d-4036-86b8-9d5298614f2d",
   "metadata": {},
   "outputs": [
    {
     "data": {
      "text/plain": [
       "['a']"
      ]
     },
     "execution_count": 99,
     "metadata": {},
     "output_type": "execute_result"
    }
   ],
   "source": [
    "def test(a):\n",
    "    a.append('a')\n",
    "a = []\n",
    "test(a)\n",
    "a"
   ]
  },
  {
   "cell_type": "code",
   "execution_count": null,
   "id": "1c56057e-79a0-450f-bf06-324dfdb8970f",
   "metadata": {},
   "outputs": [],
   "source": []
  },
  {
   "cell_type": "code",
   "execution_count": 183,
   "id": "154e7b29-0438-41a6-93fb-62367d47bea1",
   "metadata": {},
   "outputs": [
    {
     "data": {
      "image/png": "[encoded data removed]",
      "text/plain": [
       "<Figure size 640x480 with 1 Axes>"
      ]
     },
     "metadata": {},
     "output_type": "display_data"
    }
   ],
   "source": [
    "ax = plt.figure().add_subplot(projection='3d')\n",
    "\n",
    "# Plot a sin curve using the x and y axes.\n",
    "x = a[:,0]\n",
    "y = a[:,1]\n",
    "z = a[:,2]\n",
    "ax.scatter(x, y, zs=z, zdir='y', label='points in (x, z)')\n",
    "\n",
    "# Make legend, set axes limits and labels\n",
    "'''\n",
    "ax.legend()\n",
    "ax.set_xlim(0, 1)\n",
    "ax.set_ylim(0, 1)\n",
    "ax.set_zlim(0, 1)\n",
    "'''\n",
    "ax.set_xlabel('X')\n",
    "ax.set_ylabel('Y')\n",
    "ax.set_zlabel('Z')\n",
    "\n",
    "# Customize the view angle so it's easier to see that the scatter points lie\n",
    "# on the plane y=0\n",
    "#ax.view_init(elev=20., azim=-35, roll=0)\n",
    "\n",
    "plt.show()"
   ]
  },
  {
   "cell_type": "code",
   "execution_count": 157,
   "id": "e0d47082-981d-4141-b4a1-fb6652b05dde",
   "metadata": {},
   "outputs": [
    {
     "data": {
      "text/plain": [
       "Text(0.5, 0, 'Z')"
      ]
     },
     "execution_count": 157,
     "metadata": {},
     "output_type": "execute_result"
    },
    {
     "data": {
      "image/png": "[encoded data removed]",
      "text/plain": [
       "<Figure size 640x480 with 1 Axes>"
      ]
     },
     "metadata": {},
     "output_type": "display_data"
    }
   ],
   "source": [
    "ax = plt.figure().add_subplot(projection='3d')\n",
    "\n",
    "# Plot a sin curve using the x and y axes.\n",
    "x = b[:,0].cpu()\n",
    "y = b[:,1].cpu()\n",
    "z = b[:,2].cpu()\n",
    "ax.scatter(x, y, zs=z, zdir='y', label='points in (x, z)')\n",
    "\n",
    "# Make legend, set axes limits and labels\n",
    "'''\n",
    "ax.legend()\n",
    "ax.set_xlim(0, 1)\n",
    "ax.set_ylim(0, 1)\n",
    "ax.set_zlim(0, 1)\n",
    "'''\n",
    "ax.set_xlabel('X')\n",
    "ax.set_ylabel('Y')\n",
    "ax.set_zlabel('Z')\n",
    "\n",
    "# Customize the view angle so it's easier to see that the scatter points lie\n",
    "# on the plane y=0\n",
    "#ax.view_init(elev=20., azim=-35, roll=0)\n",
    "\n",
    "#plt.show()"
   ]
  },
  {
   "cell_type": "code",
   "execution_count": 158,
   "id": "152e5a49-329d-4aa9-a073-f3142d93da2d",
   "metadata": {},
   "outputs": [
    {
     "data": {
      "text/plain": [
       "tensor([nan, nan, nan, nan, nan, nan, nan, nan, nan], device='cuda:0',\n",
       "       dtype=torch.float64)"
      ]
     },
     "execution_count": 158,
     "metadata": {},
     "output_type": "execute_result"
    }
   ],
   "source": [
    "torch.cdist(b,b)[range(1,10),range(9)]"
   ]
  },
  {
   "cell_type": "code",
   "execution_count": 159,
   "id": "3d871a6f-d380-4a8a-bfab-cab8f82fd16c",
   "metadata": {},
   "outputs": [
    {
     "data": {
      "text/plain": [
       "<matplotlib.image.AxesImage at 0x7f51c5213a90>"
      ]
     },
     "execution_count": 159,
     "metadata": {},
     "output_type": "execute_result"
    },
    {
     "data": {
      "image/png": "[encoded data removed]",
      "text/plain": [
       "<Figure size 480x480 with 1 Axes>"
      ]
     },
     "metadata": {},
     "output_type": "display_data"
    }
   ],
   "source": [
    "plt.matshow(dist1.cpu().numpy())"
   ]
  },
  {
   "cell_type": "code",
   "execution_count": 160,
   "id": "8bd77258-7890-4283-91ef-d6d365864531",
   "metadata": {},
   "outputs": [
    {
     "data": {
      "text/plain": [
       "<matplotlib.image.AxesImage at 0x7f51c529ce50>"
      ]
     },
     "execution_count": 160,
     "metadata": {},
     "output_type": "execute_result"
    },
    {
     "data": {
      "image/png": "[encoded data removed]",
      "text/plain": [
       "<Figure size 480x480 with 1 Axes>"
      ]
     },
     "metadata": {},
     "output_type": "display_data"
    }
   ],
   "source": [
    "plt.matshow(dist2.cpu().numpy())"
   ]
  },
  {
   "cell_type": "code",
   "execution_count": 18,
   "id": "b19a8750-c7e8-4f18-b7db-c2d1b9860970",
   "metadata": {},
   "outputs": [
    {
     "data": {
      "text/plain": [
       "tensor([[[ True,  True,  True,  True,  True],\n",
       "         [False, False, False, False, False],\n",
       "         [False, False, False, False, False],\n",
       "         [False, False, False, False, False],\n",
       "         [False, False, False, False, False]],\n",
       "\n",
       "        [[ True,  True,  True,  True,  True],\n",
       "         [False, False, False, False, False],\n",
       "         [False, False, False, False, False],\n",
       "         [False, False, False, False, False],\n",
       "         [False, False, False, False, False]],\n",
       "\n",
       "        [[ True,  True,  True,  True,  True],\n",
       "         [False, False, False, False, False],\n",
       "         [False, False, False, False, False],\n",
       "         [False, False, False, False, False],\n",
       "         [False, False, False, False, False]],\n",
       "\n",
       "        [[ True,  True,  True,  True,  True],\n",
       "         [False, False, False, False, False],\n",
       "         [False, False, False, False, False],\n",
       "         [False, False, False, False, False],\n",
       "         [False, False, False, False, False]],\n",
       "\n",
       "        [[ True,  True,  True,  True,  True],\n",
       "         [False, False, False, False, False],\n",
       "         [False, False, False, False, False],\n",
       "         [False, False, False, False, False],\n",
       "         [False, False, False, False, False]]])"
      ]
     },
     "execution_count": 18,
     "metadata": {},
     "output_type": "execute_result"
    }
   ],
   "source": [
    "a = torch.rand(5,5,5)\n",
    "b = torch.zeros_like(a).to(bool)\n",
    "b[:,0,:] = True\n",
    "c = a[b].reshape(5,1,5).expand_as(a)\n",
    "a==c"
   ]
  },
  {
   "cell_type": "code",
   "execution_count": 142,
   "id": "62bbdbcf-bde5-4a62-9c2d-70caf95f9bff",
   "metadata": {},
   "outputs": [
    {
     "data": {
      "text/plain": [
       "tensor([[[True, True, True, True, True]],\n",
       "\n",
       "        [[True, True, True, True, True]],\n",
       "\n",
       "        [[True, True, True, True, True]],\n",
       "\n",
       "        [[True, True, True, True, True]],\n",
       "\n",
       "        [[True, True, True, True, True]]])"
      ]
     },
     "execution_count": 142,
     "metadata": {},
     "output_type": "execute_result"
    }
   ],
   "source": [
    "b.gather(1,torch.zeros(5,1,5,dtype=int))#.shape"
   ]
  },
  {
   "cell_type": "code",
   "execution_count": 145,
   "id": "c5cfca32-5caa-4ace-88c8-936a9e643ec7",
   "metadata": {},
   "outputs": [
    {
     "ename": "TypeError",
     "evalue": "'torch.Size' object does not support item assignment",
     "output_type": "error",
     "traceback": [
      "\u001b[0;31m---------------------------------------------------------------------------\u001b[0m",
      "\u001b[0;31mTypeError\u001b[0m                                 Traceback (most recent call last)",
      "Cell \u001b[0;32mIn[145], line 2\u001b[0m\n\u001b[1;32m      1\u001b[0m b \u001b[38;5;241m=\u001b[39m a\u001b[38;5;241m.\u001b[39mshape\n\u001b[0;32m----> 2\u001b[0m \u001b[43mb\u001b[49m\u001b[43m[\u001b[49m\u001b[38;5;241;43m1\u001b[39;49m\u001b[43m]\u001b[49m \u001b[38;5;241m=\u001b[39m \u001b[38;5;241m2\u001b[39m\n\u001b[1;32m      3\u001b[0m b\n",
      "\u001b[0;31mTypeError\u001b[0m: 'torch.Size' object does not support item assignment"
     ]
    }
   ],
   "source": [
    "b = a.shape\n",
    "b[1] = 2\n",
    "b"
   ]
  },
  {
   "cell_type": "code",
   "execution_count": 148,
   "id": "096d091c-7ee5-4a1f-8221-ebb22ed2c9b9",
   "metadata": {},
   "outputs": [
    {
     "data": {
      "text/plain": [
       "torch.Size([])"
      ]
     },
     "execution_count": 148,
     "metadata": {},
     "output_type": "execute_result"
    }
   ],
   "source": [
    "a.shape[:0]"
   ]
  },
  {
   "cell_type": "code",
   "execution_count": 151,
   "id": "24ea4165-9dac-4621-84f0-6a0f36ff955b",
   "metadata": {},
   "outputs": [
    {
     "data": {
      "text/plain": [
       "tensor([3, 4, 5, 6, 7, 8, 9])"
      ]
     },
     "execution_count": 151,
     "metadata": {},
     "output_type": "execute_result"
    }
   ],
   "source": [
    "torch.arange(10)[3::]"
   ]
  },
  {
   "cell_type": "code",
   "execution_count": 153,
   "id": "d39418ea-a2d6-4b46-8aa2-cd74e32fecd0",
   "metadata": {},
   "outputs": [
    {
     "data": {
      "text/plain": [
       "torch.Size([2, 5])"
      ]
     },
     "execution_count": 153,
     "metadata": {},
     "output_type": "execute_result"
    }
   ],
   "source": [
    "torch.arange(5).repeat(2,1).shape"
   ]
  },
  {
   "cell_type": "code",
   "execution_count": 156,
   "id": "482bdfa8-93b0-4cb6-971c-e012d2c648a8",
   "metadata": {},
   "outputs": [
    {
     "data": {
      "text/plain": [
       "tensor([[4, 1, 1, 0, 0, 0, 4, 2, 2, 3],\n",
       "        [0, 3, 3, 4, 1, 1, 0, 1, 4, 1]])"
      ]
     },
     "execution_count": 156,
     "metadata": {},
     "output_type": "execute_result"
    }
   ],
   "source": [
    "torch.rand(2,5,10).max(1)[1]"
   ]
  },
  {
   "cell_type": "code",
   "execution_count": 159,
   "id": "8ae8f950-4701-43ce-b604-fcca9b4ae748",
   "metadata": {},
   "outputs": [
    {
     "data": {
      "text/plain": [
       "tensor([[[0., 0., 0., 0., 0.],\n",
       "         [1., 0., 0., 0., 0.],\n",
       "         [0., 0., 0., 0., 0.],\n",
       "         [0., 0., 0., 0., 0.],\n",
       "         [0., 0., 0., 0., 0.]],\n",
       "\n",
       "        [[0., 0., 0., 0., 0.],\n",
       "         [1., 0., 0., 0., 0.],\n",
       "         [0., 0., 0., 0., 0.],\n",
       "         [0., 0., 0., 0., 0.],\n",
       "         [0., 0., 0., 0., 0.]],\n",
       "\n",
       "        [[0., 0., 0., 0., 0.],\n",
       "         [1., 0., 0., 0., 0.],\n",
       "         [0., 0., 0., 0., 0.],\n",
       "         [0., 0., 0., 0., 0.],\n",
       "         [0., 0., 0., 0., 0.]],\n",
       "\n",
       "        [[0., 0., 0., 0., 0.],\n",
       "         [1., 0., 0., 0., 0.],\n",
       "         [0., 0., 0., 0., 0.],\n",
       "         [0., 0., 0., 0., 0.],\n",
       "         [0., 0., 0., 0., 0.]],\n",
       "\n",
       "        [[0., 0., 0., 0., 0.],\n",
       "         [1., 0., 0., 0., 0.],\n",
       "         [0., 0., 0., 0., 0.],\n",
       "         [0., 0., 0., 0., 0.],\n",
       "         [0., 0., 0., 0., 0.]]])"
      ]
     },
     "execution_count": 159,
     "metadata": {},
     "output_type": "execute_result"
    }
   ],
   "source": [
    "a = torch.zeros(5,5,5)\n",
    "#a[:,3,:][:,1] = 1\n",
    "a[...,0].scatter_(-1,torch.ones(5,5,dtype=int),torch.ones(5,5))\n",
    "\n",
    "a"
   ]
  },
  {
   "cell_type": "code",
   "execution_count": 2,
   "id": "c498eb58-d821-4bf2-aac7-7689ef259b45",
   "metadata": {},
   "outputs": [
    {
     "data": {
      "text/plain": [
       "torch.return_types.median(\n",
       "values=tensor([0.1631, 0.5578, 0.7171, 0.6857, 0.4352]),\n",
       "indices=tensor([2, 0, 4, 4, 2]))"
      ]
     },
     "execution_count": 2,
     "metadata": {},
     "output_type": "execute_result"
    }
   ],
   "source": [
    "import torch\n",
    "torch.rand(5,5).median(1)"
   ]
  },
  {
   "cell_type": "code",
   "execution_count": 4,
   "id": "3f9cc164-1461-4b7c-b5f8-30e2d90e08af",
   "metadata": {},
   "outputs": [
    {
     "data": {
      "text/plain": [
       "2"
      ]
     },
     "execution_count": 4,
     "metadata": {},
     "output_type": "execute_result"
    }
   ],
   "source": [
    "torch.ones(5,5).ndim"
   ]
  },
  {
   "cell_type": "code",
   "execution_count": 182,
   "id": "ababeacc-5cb9-4fe9-9b9a-d21e3bc3582b",
   "metadata": {},
   "outputs": [
    {
     "name": "stdout",
     "output_type": "stream",
     "text": [
      "tensor([[2., 1.],\n",
      "        [1., 3.]])\n"
     ]
    },
    {
     "data": {
      "text/plain": [
       "tensor([[-1.],\n",
       "        [ 2.]])"
      ]
     },
     "execution_count": 182,
     "metadata": {},
     "output_type": "execute_result"
    }
   ],
   "source": [
    "s1 = [2.,1] # basis vectors\n",
    "s2 = [1.,3]\n",
    "v = [-1.,2] # Vector we're trying to solve\n",
    "\n",
    "v = torch.tensor(v).unsqueeze(-1)\n",
    "s1 = torch.tensor(s1).unsqueeze(-1)\n",
    "s2 = torch.tensor(s2).unsqueeze(-1)\n",
    "S = torch.cat([s1,s2],dim=1)\n",
    "print(S)\n",
    "\n",
    "overlap = S.T @ v#( (S.T @ v).flatten() / S.T.square().sum(-1).sqrt() ).unsqueeze(-1)\n",
    "\n",
    "torch.linalg.solve(S.T,overlap)"
   ]
  },
  {
   "cell_type": "code",
   "execution_count": 94,
   "id": "4142bb90-dab4-4108-ac0f-72ac09995368",
   "metadata": {},
   "outputs": [],
   "source": [
    "a = generate_sample(10,3)\n",
    "S = torch.tensor([\n",
    "    [1.,0,0],\n",
    "    [1,1,0],\n",
    "    [1,1,1]\n",
    "])\n",
    "b = torch.linalg.solve(S,S @ a.transpose(-2,-1)).transpose(-2,-1)"
   ]
  },
  {
   "cell_type": "code",
   "execution_count": 95,
   "id": "fb55f3df-e5ec-4602-869e-19eb67115a7e",
   "metadata": {},
   "outputs": [
    {
     "data": {
      "text/plain": [
       "tensor([[[ 0.0000e+00,  0.0000e+00,  0.0000e+00],\n",
       "         [ 0.0000e+00,  2.9802e-08,  0.0000e+00],\n",
       "         [ 0.0000e+00,  0.0000e+00, -5.9605e-08],\n",
       "         [ 0.0000e+00,  0.0000e+00,  0.0000e+00],\n",
       "         [ 0.0000e+00,  0.0000e+00, -1.1921e-07],\n",
       "         [ 0.0000e+00,  0.0000e+00,  2.9802e-08],\n",
       "         [ 0.0000e+00,  0.0000e+00,  0.0000e+00],\n",
       "         [ 0.0000e+00,  5.9605e-08,  0.0000e+00],\n",
       "         [ 0.0000e+00,  0.0000e+00,  2.9802e-08],\n",
       "         [ 0.0000e+00,  1.1921e-07,  0.0000e+00]],\n",
       "\n",
       "        [[ 0.0000e+00,  0.0000e+00,  0.0000e+00],\n",
       "         [ 0.0000e+00,  0.0000e+00,  0.0000e+00],\n",
       "         [ 0.0000e+00,  0.0000e+00,  0.0000e+00],\n",
       "         [ 0.0000e+00,  2.9802e-08, -5.9605e-08],\n",
       "         [ 0.0000e+00,  8.9407e-08,  5.9605e-08],\n",
       "         [ 0.0000e+00,  2.9802e-08, -1.1921e-07],\n",
       "         [ 0.0000e+00,  2.3842e-07,  1.7881e-07],\n",
       "         [ 0.0000e+00,  0.0000e+00,  0.0000e+00],\n",
       "         [ 0.0000e+00,  0.0000e+00, -1.1921e-07],\n",
       "         [ 0.0000e+00, -2.3842e-07,  5.9605e-08]],\n",
       "\n",
       "        [[ 0.0000e+00,  0.0000e+00,  0.0000e+00],\n",
       "         [ 0.0000e+00,  0.0000e+00,  0.0000e+00],\n",
       "         [ 0.0000e+00, -5.9605e-08,  0.0000e+00],\n",
       "         [ 0.0000e+00,  0.0000e+00,  0.0000e+00],\n",
       "         [ 0.0000e+00,  0.0000e+00,  0.0000e+00],\n",
       "         [ 0.0000e+00,  2.9802e-08, -1.1921e-07],\n",
       "         [ 0.0000e+00,  0.0000e+00,  0.0000e+00],\n",
       "         [ 0.0000e+00,  0.0000e+00,  0.0000e+00],\n",
       "         [ 0.0000e+00,  0.0000e+00,  0.0000e+00],\n",
       "         [ 0.0000e+00,  0.0000e+00,  0.0000e+00]]])"
      ]
     },
     "execution_count": 95,
     "metadata": {},
     "output_type": "execute_result"
    }
   ],
   "source": [
    "b-a"
   ]
  },
  {
   "cell_type": "code",
   "execution_count": 3,
   "id": "b728b341-87c1-4452-acd2-c153b1f5aa7a",
   "metadata": {},
   "outputs": [],
   "source": [
    "import torch\n",
    "a = torch.rand(5).cuda()"
   ]
  },
  {
   "cell_type": "code",
   "execution_count": 5,
   "id": "1f65e585-f392-46fb-8f56-f84a7c93d9a3",
   "metadata": {},
   "outputs": [
    {
     "data": {
      "text/plain": [
       "True"
      ]
     },
     "execution_count": 5,
     "metadata": {},
     "output_type": "execute_result"
    }
   ],
   "source": [
    "a.is_cuda"
   ]
  },
  {
   "cell_type": "code",
   "execution_count": 10,
   "id": "cbf64975-1212-4097-b343-e4a9bb3b1814",
   "metadata": {},
   "outputs": [
    {
     "data": {
      "text/plain": [
       "'cuda'"
      ]
     },
     "execution_count": 10,
     "metadata": {},
     "output_type": "execute_result"
    }
   ],
   "source": [
    "a.device.type"
   ]
  },
  {
   "cell_type": "code",
   "execution_count": 11,
   "id": "1fe08275-1983-4901-aa06-fdf5f4eddf77",
   "metadata": {},
   "outputs": [
    {
     "data": {
      "text/plain": [
       "tensor([0.8067, 0.4633, 0.7375, 0.7931, 0.1350], device='cuda:0')"
      ]
     },
     "execution_count": 11,
     "metadata": {},
     "output_type": "execute_result"
    }
   ],
   "source": [
    "a.cuda(0)"
   ]
  },
  {
   "cell_type": "code",
   "execution_count": 15,
   "id": "0359f18e-eff4-4fcd-b8f6-1f8181e07781",
   "metadata": {},
   "outputs": [
    {
     "name": "stdout",
     "output_type": "stream",
     "text": [
      "ah\n"
     ]
    }
   ],
   "source": [
    "if False or\\\n",
    "  True:\n",
    "    print('ah')"
   ]
  },
  {
   "cell_type": "code",
   "execution_count": 17,
   "id": "d9ac1115-ef98-4463-9d93-d833813e7497",
   "metadata": {},
   "outputs": [
    {
     "name": "stdout",
     "output_type": "stream",
     "text": [
      "a\n"
     ]
    }
   ],
   "source": [
    "if True or (False and True):\n",
    "    print('a')"
   ]
  },
  {
   "cell_type": "code",
   "execution_count": 22,
   "id": "5959fc72-c5a7-4425-9930-f72cdf1dbca9",
   "metadata": {},
   "outputs": [
    {
     "name": "stdout",
     "output_type": "stream",
     "text": [
      "a\n"
     ]
    }
   ],
   "source": [
    "if False\\\n",
    "or False or (1==1 and 2==2):\n",
    "    print('a')"
   ]
  },
  {
   "cell_type": "code",
   "execution_count": 27,
   "id": "dec70ce6-6310-4d94-b982-52db21b26b07",
   "metadata": {},
   "outputs": [
    {
     "ename": "SyntaxError",
     "evalue": "unexpected character after line continuation character (2945408504.py, line 2)",
     "output_type": "error",
     "traceback": [
      "\u001b[0;36m  Cell \u001b[0;32mIn[27], line 2\u001b[0;36m\u001b[0m\n\u001b[0;31m    if (False)\\ '''asdf'''\u001b[0m\n\u001b[0m               ^\u001b[0m\n\u001b[0;31mSyntaxError\u001b[0m\u001b[0;31m:\u001b[0m unexpected character after line continuation character\n"
     ]
    }
   ],
   "source": [
    "def test():\n",
    "    if (False)\\ '''asdf'''\n",
    "    or  True:\n",
    "        print('a')\n",
    "test()"
   ]
  },
  {
   "cell_type": "code",
   "execution_count": 37,
   "id": "73c1fd13-d0d5-4c45-b76f-9183521eb2b9",
   "metadata": {},
   "outputs": [
    {
     "data": {
      "text/plain": [
       "tensor([0.5329, 0.5127, 0.4876, 0.5881, 0.4768])"
      ]
     },
     "execution_count": 37,
     "metadata": {},
     "output_type": "execute_result"
    }
   ],
   "source": [
    "a = torch.rand(5,5,5)\n",
    "a.mean(tuple(range(1,a.ndim)))"
   ]
  },
  {
   "cell_type": "code",
   "execution_count": null,
   "id": "5a2ad250-3481-4044-8740-958ab14e5e62",
   "metadata": {},
   "outputs": [],
   "source": []
  }
 ],
 "metadata": {
  "kernelspec": {
   "display_name": "Python 3 (ipykernel)",
   "language": "python",
   "name": "python3"
  },
  "language_info": {
   "codemirror_mode": {
    "name": "ipython",
    "version": 3
   },
   "file_extension": ".py",
   "mimetype": "text/x-python",
   "name": "python",
   "nbconvert_exporter": "python",
   "pygments_lexer": "ipython3",
   "version": "3.10.12"
  }
 },
 "nbformat": 4,
 "nbformat_minor": 5
}
