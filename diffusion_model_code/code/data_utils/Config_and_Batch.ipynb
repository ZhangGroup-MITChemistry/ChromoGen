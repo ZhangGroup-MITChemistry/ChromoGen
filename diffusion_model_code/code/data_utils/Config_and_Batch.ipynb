{
 "cells": [
  {
   "cell_type": "code",
   "execution_count": 21,
   "id": "4c359d3b-8e29-4c36-9929-c19d71f97409",
   "metadata": {},
   "outputs": [],
   "source": [
    "import torch \n",
    "import numpy as np\n",
    "from abc import ABC, abstractmethod \n",
    "import copy \n",
    "\n",
    "import sys\n",
    "sys.path.insert(1,'./')\n",
    "from HiCMap import HiCMap "
   ]
  },
  {
   "cell_type": "markdown",
   "id": "2e49d76a-3b99-474a-83dc-990015c757ce",
   "metadata": {},
   "source": [
    "#### Outline of configuration classes"
   ]
  },
  {
   "cell_type": "code",
   "execution_count": 22,
   "id": "c78d846d-9cbc-48e4-9753-e0c8c06d2541",
   "metadata": {},
   "outputs": [],
   "source": [
    "class Config(ABC):\n",
    "\n",
    "    ########################################################\n",
    "    # Properties \n",
    "    \n",
    "    # The configuration itself\n",
    "    @property\n",
    "    @abstractmethod\n",
    "    def values(self): \n",
    "        pass\n",
    "    \n",
    "    # Report the number of beads\n",
    "    @property\n",
    "    @abstractmethod\n",
    "    def nBeads(self): \n",
    "        pass\n",
    "\n",
    "    # Report device & dtype\n",
    "    @property\n",
    "    def dtype(self):\n",
    "        return self.values.dtype\n",
    "\n",
    "    @property\n",
    "    def device(self):\n",
    "        return self.values.device\n",
    "\n",
    "    @property\n",
    "    def shape(self):\n",
    "        return self.values.shape\n",
    "    \n",
    "    ########################################################\n",
    "    # Functionality \n",
    "    \n",
    "    # Change the datatype & device types, etc., as in pytorch \n",
    "    def to(self,*args,**kwargs):\n",
    "        return type(self)( self.values.to(*args,**kwargs) )\n",
    "\n",
    "    # Allow coords object to be indexed directly\n",
    "    @abstractmethod\n",
    "    def subsetClass(self): # Initialize on \n",
    "        pass\n",
    "        \n",
    "    def __getitem__(self,i): \n",
    "        return type(self).subsetClass(self.values[i])\n",
    "\n",
    "    def clone(self):\n",
    "        return copy.deepcopy(self)\n",
    "\n",
    "    @abstractmethod\n",
    "    def append(self): \n",
    "        pass\n",
    "\n",
    "    ########################################################\n",
    "    # Converting between sample types \n",
    "    \n",
    "    # Always be able to return coordinates object\n",
    "    @abstractmethod\n",
    "    def coordinates(self): \n",
    "        pass\n",
    "\n",
    "    # Always be able to return distance maps \n",
    "    @abstractmethod\n",
    "    def distances(self): \n",
    "        pass"
   ]
  },
  {
   "cell_type": "markdown",
   "id": "6af3a7c8-383d-4a70-a88e-2730b2aeb5cb",
   "metadata": {},
   "source": [
    "#### Coordinate representation"
   ]
  },
  {
   "cell_type": "code",
   "execution_count": 23,
   "id": "9a1e56ff-759e-4428-943a-669e34f723a7",
   "metadata": {},
   "outputs": [],
   "source": [
    "def formatCoordinates(coords):\n",
    "\n",
    "    dt = type(coords) \n",
    "    if dt != torch.Tensor: \n",
    "        try: \n",
    "            coords = torch.tensor(coords)\n",
    "        except: \n",
    "            raise Exception(f'Passed coordinates must have be torch.Tensor or able to be converted to torch.Tensor object. Received type {dt}.')\n",
    "\n",
    "    shape = coords.shape \n",
    "    coords = coords.squeeze() \n",
    "    assert len(coords.shape) == 2, f\"Coordinate must have 2 non-singleton dimensions, but received shape {shape}.\"\n",
    "    assert coords.shape[1] == 3, f\"Expected final non-singleton dimension in coords to be size 3 (X,Y,Z). Received shape {shape}.\"\n",
    "    \n",
    "    return coords\n",
    "    "
   ]
  },
  {
   "cell_type": "code",
   "execution_count": 24,
   "id": "ab8565f1-0e7c-42f6-8ad6-488965be4c08",
   "metadata": {},
   "outputs": [],
   "source": [
    "class Coordinates(Config):\n",
    "    '''\n",
    "    Coordinates for a single configuration. \n",
    "    '''\n",
    "    \n",
    "    def __init__(self,coords):\n",
    "        \n",
    "        self.coords = formatCoordinates(coords)\n",
    "\n",
    "    # Useful properties\n",
    "    @property\n",
    "    def values(self):\n",
    "        return self.coords\n",
    "    \n",
    "    @property\n",
    "    def nBeads(self):\n",
    "        return self.coords.shape[0]\n",
    "\n",
    "    def subsetClass(self):\n",
    "        return Coordinates\n",
    "\n",
    "    ########################################################\n",
    "    # Methods\n",
    "    def append(self):\n",
    "        pass\n",
    "\n",
    "    ########################################################\n",
    "    # Converting between sample types\n",
    "\n",
    "    # Should be \n",
    "    def coordinates(self): \n",
    "        return self.clone()\n",
    "    \n",
    "    def distances(self):\n",
    "        return Distances(torch.cdist(self.coords,self.coords))\n",
    "        "
   ]
  },
  {
   "cell_type": "markdown",
   "id": "9c853930-6ffd-45d7-a6d5-c478150e05fa",
   "metadata": {},
   "source": [
    "#### Distance Representation"
   ]
  },
  {
   "cell_type": "code",
   "execution_count": 25,
   "id": "ccbac497-7cd8-4878-9a6d-7d4e0fb2628e",
   "metadata": {},
   "outputs": [],
   "source": [
    "class DistLoss(torch.nn.Module): \n",
    "\n",
    "    '''\n",
    "    Loss function to use when correcting distance maps\n",
    "    '''\n",
    "    \n",
    "    def __init__(self,dists,self_interaction_included=True):\n",
    "        super().__init__()\n",
    "\n",
    "        # ignore diagonal if it's self-interaction\n",
    "        i,j = torch.triu_indices(dists.shape[-2],dists.shape[-1],\n",
    "                                               int(self_interaction_included)) \n",
    "        self.dists = dists[...,i,j]#.squeeze()\n",
    "\n",
    "        self.triu_indices = torch.triu_indices(\n",
    "            dists.shape[-2]+1-int(self_interaction_included),\n",
    "            dists.shape[-2]+1-int(self_interaction_included),\n",
    "            1\n",
    "        )\n",
    "\n",
    "    def get_dists(self,coords):\n",
    "        return torch.nn.functional.pdist(coords)\n",
    "    \n",
    "    def bond_strength(self):\n",
    "        '''\n",
    "        could add molecular interactions as well\n",
    "        '''\n",
    "\n",
    "    def forward(self,coords):\n",
    "        i,j = self.triu_indices\n",
    "        return (self.dists - torch.cdist(coords,coords)[...,i,j] ).abs().sum()\n",
    "\n",
    "def adjustCoords(\n",
    "    coords,\n",
    "    dists,\n",
    "    n_it=1000,\n",
    "    lr=0.01,\n",
    "    self_interaction_included=True\n",
    "):\n",
    "    '''\n",
    "    Given an initial guess of coordinate locations and the\n",
    "    distance map predicted by the diffusion model, adjust\n",
    "    the coordinates to best match the predicted map. \n",
    "    '''\n",
    "\n",
    "    distLoss = DistLoss(dists,self_interaction_included)\n",
    "\n",
    "    coords.requires_grad_(True)\n",
    "\n",
    "    optimizer = torch.optim.Adam([coords],lr=lr) \n",
    "\n",
    "    for _ in range(n_it):\n",
    "        optimizer.zero_grad()\n",
    "        loss = distLoss(coords)\n",
    "        loss.backward()\n",
    "        optimizer.step()\n",
    "    \n",
    "    return coords.detach()\n",
    "\n",
    "\n",
    "def distToCoord(dists,correctCoords=True,*args,**kwargs):\n",
    "    '''\n",
    "    Assumes self interactions are INcluded in the map(s). \n",
    "    Supply a tensor\n",
    "\n",
    "    args and kwargs are passed to adjustCoords (if correctCoords == True) \n",
    "    '''\n",
    "    \n",
    "    ##################################\n",
    "    # Prepare for the computation\n",
    "    \n",
    "    # Check the input is valid \n",
    "    assert len(dists.shape) > 1, \"The provided data must be of shape\"\n",
    "    s1,s2 = dists.shape[-2], dists.shape[-1]\n",
    "    assert s1 == s2, f\"The final two dimensions of tensors passed to distToCoord must be of the same size. Received sizes {s1} and {s2}.\"\n",
    "    del s1, s2 \n",
    "\n",
    "    # Use high precision here to minimize numerical issues, but return with the original data type (so remember initial data type). \n",
    "    # Note: PyTorch currently doesn't support higher than double, so use numpy \n",
    "    dtype,device = dists.dtype, dists.device\n",
    "    dists = dists.cpu().numpy().astype(np.float128)\n",
    "    #dists = dists.to(torch.double)\n",
    "    \n",
    "    # Initialize the coordinates object. \n",
    "    '''\n",
    "    coords = torch.empty(\n",
    "        *dists.shape[:-1],3,  # (optional dims)x(number of beads)x(3 (b/c Cartesian))\n",
    "        dtype = torch.double,\n",
    "        device = dists.device\n",
    "    ).fill_(torch.nan) # nans just for testing purposes \n",
    "    '''\n",
    "    coords = np.empty(\n",
    "        (*dists.shape[:-1],3), # (optional dims)x(number of beads)x(3 (b/c Cartesian))\n",
    "        dtype = np.float128\n",
    "    )\n",
    "    \n",
    "    ##################################\n",
    "    # Perform the computation \n",
    "\n",
    "    # Place bead 0 at the origin\n",
    "    coords[...,0,:] = 0\n",
    "\n",
    "    #### x coordinates \n",
    "    # Place bead 1 on the x axis\n",
    "    coords[...,1,0] = dists[...,0,1]\n",
    "    coords[...,1,1:] = 0\n",
    "\n",
    "    # Get all other x coordinates \n",
    "    coords[...,2:,0] = ( 1 + (dists[...,0,2:]**2 - dists[...,1,2:]**2)/dists[...,0,1:2]**2 ) / 2\n",
    "\n",
    "    #### y coordinates\n",
    "    # Place bead 2 in the xy plane with positive y \n",
    "    #coords[...,2,1] = ( dists[...,0,1]**2 - coords[...,2,0]**2 ).sqrt()\n",
    "    coords[...,2,1] = np.sqrt( dists[...,0,1]**2 - coords[...,2,0]**2 )\n",
    "    coords[...,2,2] = 0 \n",
    "\n",
    "    # Get other y coordinates\n",
    "    coords[...,3:,1] = 1\n",
    "    coords[...,3:,1]+= ( dists[...,0,3:]**2 - coords[...,3:,0]**2 - dists[...,2,3:]**2 + (coords[...,3:,0] - coords[...,2:3,0])**2 ) / (dists[...,0,2:3]**2 - coords[...,2:3,0]**2)\n",
    "    coords[...,3:,1]/= 2\n",
    "\n",
    "    #### z coordinates\n",
    "    # Give bead 3 a positive z value \n",
    "    #coords[...,3,2] = ( dists[...,0,3]**2 - coords[...,3,:2].square().sum(-1) ).sqrt()\n",
    "    coords[...,3,2] = np.sqrt( dists[...,0,3]**2 - (coords[...,3,:2]**2).sum(-1) )\n",
    "    \n",
    "    # Get other z coordinates\n",
    "    coords[...,4:,2] = dists[...,0,4:]**2 - dists[...,3,4:]**2\n",
    "    #coords[...,4:,2]+= (coords[...,4:,:2] - coords[...,3:4,:2]).square().sum(-1) - coords[...,4:,:2].square().sum(-1)\n",
    "    coords[...,4:,2]+= ( (coords[...,4:,:2] - coords[...,3:4,:2])**2).sum(-1) - np.square(coords[...,4:,:2]**2).sum(-1)\n",
    "    coords[...,4:,2]/= coords[...,3:4,2]**2\n",
    "    coords[...,4:,2]+= 1\n",
    "    coords[...,4:,2]/= 2\n",
    "\n",
    "    coords = torch.from_numpy(coords.astype(np.float64)).to(device) \n",
    "    print(coords.isnan().sum())\n",
    "    print(coords.numel())\n",
    "    \n",
    "    if correctCoords: \n",
    "        coords = adjustCoords(coords,dists)\n",
    "    \n",
    "    return coords.to(dtype) "
   ]
  },
  {
   "cell_type": "code",
   "execution_count": 804,
   "id": "3dd513a1-f394-42e0-be47-eecfaa43dc96",
   "metadata": {},
   "outputs": [],
   "source": [
    "def largest_dist_idx(dists):\n",
    "    return torch.where(dists==dists.max(-1,keepdim=True).values)[-1]\n",
    "\n",
    "def project_via_distances(di,dij,r_j,dj=None):\n",
    "    '''\n",
    "    Get the projection of vector r_i onto r_j using known distance values. \n",
    "    \n",
    "    di: Magnitude of r_i\n",
    "    dj: Magnitude of r_j\n",
    "    dij: Magnitude of (r_i - r_j) \n",
    "    r_j: Coordinate vector onto which r_i is being projected\n",
    "    '''\n",
    "\n",
    "    if dj is None: \n",
    "        dj = r_j.square().sum(-1).sqrt()\n",
    "        \n",
    "    proj = ((dij**2 - di**2)/dj**2 - 1).unsqueeze(-1).expand_as(r_j)\n",
    "    return proj * r_j\n",
    "    \n",
    "    return ((dij**2 - di**2)/dj**2 - 1) * r_j\n",
    "\n",
    "def project_via_dot(r_i,r_j,dj=None): \n",
    "    '''\n",
    "    Typical projection algorithm. Project r_i onto r_j. \n",
    "    '''\n",
    "    #r_j = r_j.unsqueeze(-2).expand_as(r_i) \n",
    "    r_j = r_j.expand_as(r_i)\n",
    "    if dj is None: \n",
    "        dj = r_j.square().sum(-1,keepdim=True).expand_as(r_j)\n",
    "\n",
    "    # Return (0,0,...,0) whenever the origin is passed.\n",
    "    proj = torch.zeros_like(r_i) \n",
    "    idx = dj.expand_as(proj)!=0\n",
    "    proj[idx] = ((r_j[idx]*r_i[idx]).sum(-1) / dj[idx]**2) * r_j[idx]\n",
    "    #proj[idx,:] = ((r_j[idx,:]*r_i[idx,:]).sum(-1) / dj[idx]**2) * r_j[idx,:]\n",
    "\n",
    "    return proj  \n",
    "\n",
    "def get_coords_from_dists(dists,*anchor_coords):\n",
    "    '''\n",
    "    dists here should be size (optional dims, batch etc.)x(ndim+1)x(nbeads whose positions are computed based on distances from those ndim+1 coordinate-defining beads). \n",
    "    It contains the distance between the bead corresponding to that row and the other beads of interest. \n",
    "\n",
    "    There should be ndim anchor_coords arguments of size (optional dims, batch etc.)x(ndim+1). They should be provided in the order of coordinates of interest (e.g. x, y, z)\n",
    "    anchor_coords should be size (optional dims, batch etc.)x(ndim+1)x(ndim). It contains the coordinates of dists, in the same order. \n",
    "    \n",
    "    dim 0 in dists is treated as the origin, dim 1 as the \n",
    "    '''\n",
    "    ndim = anchor_coords[0].shape[-1] \n",
    "    nbeads = dists.shape[-1] \n",
    "    coords = torch.zeros(*dists.shape[:-2],nbeads,ndim,device=dists.device,dtype=dists.dtype)\n",
    "\n",
    "    origin = anchor_coords[0].unsqueeze(-2)\n",
    "    origin = origin.expand(*origin.shape[:-2],nbeads,ndim)\n",
    "    for i,anchor_coords in enumerate(anchor_coords[1:]):\n",
    "        r_j = (anchor_coords[i+1] - origin).expand_as(origin)\n",
    "        proj = project_via_distances(dists[...,0,:],dists[...,i+1,:],r_j) # Projection to vector\n",
    "        proj-= project_via_dot(proj,coords)# Reduce to the orthogonal component\n",
    "        print(f'coords: {coords.shape}')\n",
    "        print(f'proj: {proj.shape}')\n",
    "        coords+= proj\n",
    "\n",
    "    coords+= origin \n",
    "    return coords \n",
    "\n",
    "\n",
    "def distToCoord(dists,correctCoords=True,ndim=3,*args,**kwargs):\n",
    "    ''' At present, assumed ndim==3 \n",
    "    Assumes self interactions are INcluded in the map(s). \n",
    "    Supply a tensor\n",
    "\n",
    "    args and kwargs are passed to adjustCoords (if correctCoords == True) \n",
    "    '''\n",
    "    ##################################\n",
    "    # Prepare for the computation\n",
    "    \n",
    "    # Check the input is valid \n",
    "    assert len(dists.shape) > 1, \"The provided data must be of shape\"\n",
    "    s1,s2 = dists.shape[-2], dists.shape[-1]\n",
    "    assert s1 == s2, f\"The final two dimensions of tensors passed to distToCoord must be of the same size. Received sizes {s1} and {s2}.\"\n",
    "    del s1, s2 \n",
    "\n",
    "    # Use high precision here to minimize numerical issues, but return with the original data type (so remember initial data type). \n",
    "    # Note: PyTorch currently doesn't support higher than double, so use numpy \n",
    "    dtype,device = dists.dtype, dists.device\n",
    "    #dists = dists.cpu().numpy().astype(np.float128)\n",
    "    dists = dists.to(torch.double)\n",
    "    \n",
    "    # Initialize the coordinates object. \n",
    "    \n",
    "    coords = torch.zeros(\n",
    "        *dists.shape[:-1],ndim,  # (optional dims)x(number of beads)x(3 (b/c Cartesian))\n",
    "        dtype = torch.double,\n",
    "        device = dists.device\n",
    "    )#.fill_(torch.nan) # nans just for testing purposes \n",
    "\n",
    "    ##################################\n",
    "    # Computation\n",
    "\n",
    "    # Keep track of which beads still need to have their coordinates computed\n",
    "    beads_to_consider = torch.ones(*dists.shape[:-1],device=device,dtype=bool)\n",
    "    \n",
    "    ###\n",
    "    # Choose four beads to use as the basis for computing all x,y,z positions.\n",
    "    \n",
    "    # Place bead 0 at the origin.\n",
    "    '''\n",
    "    coords[...,0,:] = 0 \n",
    "    beads_to_consider[...,0] = False\n",
    "    remaining_dist_square = dists[...,0,:].square() \n",
    "\n",
    "    # Then, choose the point furthest away as possible and place that on the +x axis. \n",
    "    # This minimizes numerical error later. \n",
    "    \n",
    "\n",
    "    # Do the same for y, z, etc. coordinates. \n",
    "    # Place bead 1 on the x axis\n",
    "    bead1 = remaining_dist_square\n",
    "    \n",
    "    coords[...,1,0] = dists[...,0,1]\n",
    "    coords[...,1,1:] = 0\n",
    "\n",
    "    # Get all other x coordinates \n",
    "    coords[...,2:,0] = ( 1 + (dists[...,0,2:]**2 - dists[...,1,2:]**2)/dists[...,0,1:2]**2 ) / 2\n",
    "\n",
    "    #### y coordinates\n",
    "    # Place bead 2 in the xy plane with positive y \n",
    "    #coords[...,2,1] = ( dists[...,0,1]**2 - coords[...,2,0]**2 ).sqrt()\n",
    "    coords[...,2,1] = np.sqrt( dists[...,0,1]**2 - coords[...,2,0]**2 )\n",
    "    coords[...,2,2] = 0 \n",
    "\n",
    "    # Get other y coordinates\n",
    "    coords[...,3:,1] = 1\n",
    "    coords[...,3:,1]+= ( dists[...,0,3:]**2 - coords[...,3:,0]**2 - dists[...,2,3:]**2 + (coords[...,3:,0] - coords[...,2:3,0])**2 ) / (dists[...,0,2:3]**2 - coords[...,2:3,0]**2)\n",
    "    coords[...,3:,1]/= 2\n",
    "\n",
    "    #### z coordinates\n",
    "    # Give bead 3 a positive z value \n",
    "    #coords[...,3,2] = ( dists[...,0,3]**2 - coords[...,3,:2].square().sum(-1) ).sqrt()\n",
    "    coords[...,3,2] = np.sqrt( dists[...,0,3]**2 - (coords[...,3,:2]**2).sum(-1) )\n",
    "    '''\n",
    "    print(f'Coords: {coords.shape}')\n",
    "    remaining_dist_square = dists[...,0,:]**2\n",
    "    bead_choices = [torch.zeros_like(coords[...,:1,0],dtype=int)]\n",
    "    anchor_coords = [coords[...,0,:]]\n",
    "    for i in range(ndim): ############################\n",
    "        bead_choices.append( largest_dist_idx(remaining_dist_square).unsqueeze(-1) )\n",
    "\n",
    "        # Set the remaining component squarely on the relevant axis for the component chosen to lie\n",
    "        # on that axis \n",
    "        coords[...,i].scatter_(\n",
    "            -1,\n",
    "            bead_choices[-1],\n",
    "            remaining_dist_square.gather(-1,bead_choices[-1]).sqrt()\n",
    "        )\n",
    "        anchor_coords.append(\n",
    "            coords.gather(\n",
    "                -2,\n",
    "                bead_choices[-1].expand_as(anchor_coords[0]).unsqueeze(-2)\n",
    "            )[...,0,:]\n",
    "        )\n",
    "        beads_to_consider.scatter_(-1,bead_choices[-1],0)\n",
    "\n",
    "        # Update remaining_dist_square\n",
    "        #print(f'cat shape: {torch.cat([dists.gather(-2,bc.unsqueeze(-1)) for bc in bead_choices],dim=-1).shape}')\n",
    "        #print(f'Stack shape: {torch.stack(anchor_coords,-1).shape}')\n",
    "        #print(torch.cat([dists.gather(-2,bc.unsqueeze(-1)) for bc in bead_choices],dim=-1).shape)\n",
    "        #print(torch.stack(anchor_coords,-1).shape)\n",
    "\n",
    "        print(f'dists: {torch.cat([dists.gather(-2,bc.unsqueeze(-2)) for bc in bead_choices],dim=-2).shape}')\n",
    "        temp_coords = get_coords_from_dists(\n",
    "            torch.cat([dists.gather(-2,bc.unsqueeze(-2)).expand_as(dists[...,:1,:]) for bc in bead_choices],dim=-2),\n",
    "            *anchor_coords\n",
    "        )\n",
    "        print(f'temp coords: {temp_coords.shape}')\n",
    "        print(f'NaN any: {temp_coords.isnan().any()}')\n",
    "        print(f'NaN all: {temp_coords.isnan().all()}')\n",
    "        \n",
    "        # Update the other coordinates\n",
    "        remaining_dist_square = dists[...,0,:]**2 - temp_coords.square().sum(-1) \n",
    "        #print(dists.shape)\n",
    "        #print(beads_to_consider.shape)\n",
    "        #print(f'gather: {(dists[...,0,:].gather(-1,torch.where(beads_to_consider)[-1].reshape(*dists.shape[:-2],dists.shape[-1]-i-1))**2).shape}')\n",
    "        #remaining_dist_square = dists[...,0,:].gather(-1,torch.where(beads_to_consider)[-1])**2 - temp_coords.square().sum(-1) \n",
    "        #remaining_dist_square = dists[...,0,:].gather(-1,torch.where(beads_to_consider)[-1].\n",
    "        #                                              reshape(*dists.shape[:-2],dists.shape[-1]-i-1))**2) -\\ temp_coords.square().sum(-1)\n",
    "\n",
    "        \n",
    "        '''\n",
    "        di = dists[...,0,:][beads_to_consider]\n",
    "        dj = dists.gather(-1,bead_choices[-1].unsqueeze(-1))[...,0]\n",
    "        dij = dj[beads_to_consider] \n",
    "        dj = dj.gather(-1,beads_to_consider[-1])[...,0] \n",
    "        \n",
    "        \n",
    "        dj = dists[...,0,:].gather(-1,bead_choices[-1])\n",
    "        dij = dists.gather(-1,bead_choices[-1].unsqueeze(-1)).gather(-2,beads_to_consider)[...,0,0]\n",
    "        #di = [dists.gather(-1,bc.unsqueeze(1))[...,0] for bc in bead_choices]\n",
    "        new_proj = project_via_distances(di,dij,r_j,dj=None)\n",
    "        \n",
    "        coords[...,beads_to_consider,:i+1] = get_coords_from_dists(\n",
    "            dists[...,],\n",
    "            *anchor_coords\n",
    "        )\n",
    "        \n",
    "        coords_temp = get_coords_from_dists(dists,*anchor_coords):\n",
    "        \n",
    "        remaining_dist_square.scatter_(\n",
    "            -1,\n",
    "            bead_choices[-1],\n",
    "            torch.zeros_like(remaining_dist_square[...,:1])\n",
    "        )\n",
    "\n",
    "        # Determine how much of each remaining vector resides in orthogonal directions\n",
    "        coords\n",
    "        remaining_dist_square = dists[...,0,:]**2 - \n",
    "        \n",
    "        \n",
    "        beads_to_consider\n",
    "        bead_choices\n",
    "\n",
    "        # \n",
    "\n",
    "        coords[bead_choices[-1],:] = remaining_dist_square[bead_choices[-1]]\n",
    "\n",
    "        di = dists[]\n",
    "        coords[bead_choices[-1],:] = project_via_distances(coords)\n",
    "        coords[bead_choices[-1],:] = remaining_dist_square[bead_choices[-1]].sqrt()\n",
    "        remaining_dist_square-= dists[bead_choices[-1],beads_to_consider]**2\n",
    "        '''\n",
    "    # Now get the distances\n",
    "    #coords = get_coords_from_dists(\n",
    "    #    torch.cat([dists.gather(-2,bc.unsqueeze(-1)) for bc in bead_choices],dim=-1),\n",
    "    #    *anchor_coords\n",
    "    #)\n",
    "    coords = get_coords_from_dists(\n",
    "        torch.cat([dists.gather(-2,bc.unsqueeze(-2)).expand_as(dists[...,:1,:]) for bc in bead_choices],dim=-2),\n",
    "        *anchor_coords\n",
    "    )\n",
    "\n",
    "    return coords\n",
    "    \n"
   ]
  },
  {
   "cell_type": "code",
   "execution_count": 805,
   "id": "54f02e62-c23e-45f7-96ed-2c6ab2eebd3a",
   "metadata": {},
   "outputs": [
    {
     "data": {
      "text/plain": [
       "torch.Size([10, 1, 3])"
      ]
     },
     "execution_count": 805,
     "metadata": {},
     "output_type": "execute_result"
    }
   ],
   "source": [
    "ii = torch.ones(10,1,3,dtype=int)\n",
    "sample.gather(-2,ii).shape"
   ]
  },
  {
   "cell_type": "code",
   "execution_count": 806,
   "id": "51adc080-a227-4fba-9327-3c47f9538c34",
   "metadata": {},
   "outputs": [
    {
     "data": {
      "text/plain": [
       "torch.Size([10, 10, 1])"
      ]
     },
     "execution_count": 806,
     "metadata": {},
     "output_type": "execute_result"
    }
   ],
   "source": [
    "a = torch.rand(10,10,10)\n",
    "a.gather(-2,torch.ones_like(a[...,:1],dtype=int)).shape"
   ]
  },
  {
   "cell_type": "code",
   "execution_count": 807,
   "id": "b88951ff-47b5-4907-8c90-ce5da529df28",
   "metadata": {},
   "outputs": [],
   "source": [
    "import torch"
   ]
  },
  {
   "cell_type": "code",
   "execution_count": 808,
   "id": "3fd9ba7c-544d-4d5d-8009-681c80cb4347",
   "metadata": {},
   "outputs": [],
   "source": [
    "def generateSample(nbeads,nsamples=1,bond_length=1): \n",
    "\n",
    "    coords = torch.empty(nsamples,nbeads,3)\n",
    "    coords[:,0,:] = 0 # Bead 0 at origin \n",
    "    for i in range(1,nbeads): \n",
    "        step = torch.randn(nsamples,3)\n",
    "        step/= (step.square().sum(-1,keepdim=True).sqrt() * bond_length).expand(-1,3) \n",
    "        coords[:,i,:] = coords[:,i-1,:] + step\n",
    "\n",
    "    return coords\n",
    "        "
   ]
  },
  {
   "cell_type": "code",
   "execution_count": null,
   "id": "38bdc1a2-d6a1-4f3f-afc4-921e12c1092e",
   "metadata": {},
   "outputs": [],
   "source": []
  },
  {
   "cell_type": "code",
   "execution_count": 809,
   "id": "c97d828d-b19a-4482-895e-a237b46f67bc",
   "metadata": {},
   "outputs": [],
   "source": [
    "sample = generateSample(100,10)"
   ]
  },
  {
   "cell_type": "code",
   "execution_count": 810,
   "id": "da7c59fe-838d-4629-8426-aabdde179c13",
   "metadata": {},
   "outputs": [],
   "source": [
    "dists = torch.cdist(sample,sample)"
   ]
  },
  {
   "cell_type": "code",
   "execution_count": 811,
   "id": "842891ef-bfff-4e2b-ae68-c5cfc0cc6b70",
   "metadata": {},
   "outputs": [
    {
     "data": {
      "text/plain": [
       "<matplotlib.colorbar.Colorbar at 0x7f07f9b49420>"
      ]
     },
     "execution_count": 811,
     "metadata": {},
     "output_type": "execute_result"
    },
    {
     "data": {
      "image/png": "[encoded data removed]",
      "text/plain": [
       "<Figure size 480x480 with 2 Axes>"
      ]
     },
     "metadata": {},
     "output_type": "display_data"
    }
   ],
   "source": [
    "import matplotlib.pyplot as plt\n",
    "plt.matshow(dists[0,...].numpy())\n",
    "plt.colorbar()"
   ]
  },
  {
   "cell_type": "code",
   "execution_count": 812,
   "id": "75f1bc9e-50f5-4c7f-8af3-725154381cdf",
   "metadata": {},
   "outputs": [
    {
     "name": "stdout",
     "output_type": "stream",
     "text": [
      "Coords: torch.Size([10, 100, 3])\n",
      "dists: torch.Size([10, 2, 1])\n",
      "coords: torch.Size([10, 100, 3])\n",
      "proj: torch.Size([10, 100, 3])\n",
      "temp coords: torch.Size([10, 100, 3])\n",
      "NaN any: False\n",
      "NaN all: False\n",
      "dists: torch.Size([10, 3, 1])\n",
      "coords: torch.Size([10, 100, 3])\n",
      "proj: torch.Size([10, 100, 3])\n",
      "coords: torch.Size([10, 100, 3])\n",
      "proj: torch.Size([10, 100, 3])\n",
      "temp coords: torch.Size([10, 100, 3])\n",
      "NaN any: True\n",
      "NaN all: True\n"
     ]
    },
    {
     "ename": "RuntimeError",
     "evalue": "The expanded size of the tensor (10) must match the existing size (0) at non-singleton dimension 0.  Target sizes: [10, 3].  Tensor sizes: [0, 1]",
     "output_type": "error",
     "traceback": [
      "\u001b[0;31m---------------------------------------------------------------------------\u001b[0m",
      "\u001b[0;31mRuntimeError\u001b[0m                              Traceback (most recent call last)",
      "Cell \u001b[0;32mIn[812], line 1\u001b[0m\n\u001b[0;32m----> 1\u001b[0m coords2 \u001b[38;5;241m=\u001b[39m \u001b[43mdistToCoord\u001b[49m\u001b[43m(\u001b[49m\u001b[43mdists\u001b[49m\u001b[43m,\u001b[49m\u001b[38;5;28;43;01mFalse\u001b[39;49;00m\u001b[43m)\u001b[49m\n",
      "Cell \u001b[0;32mIn[804], line 159\u001b[0m, in \u001b[0;36mdistToCoord\u001b[0;34m(dists, correctCoords, ndim, *args, **kwargs)\u001b[0m\n\u001b[1;32m    149\u001b[0m \u001b[38;5;66;03m# Set the remaining component squarely on the relevant axis for the component chosen to lie\u001b[39;00m\n\u001b[1;32m    150\u001b[0m \u001b[38;5;66;03m# on that axis \u001b[39;00m\n\u001b[1;32m    151\u001b[0m coords[\u001b[38;5;241m.\u001b[39m\u001b[38;5;241m.\u001b[39m\u001b[38;5;241m.\u001b[39m,i]\u001b[38;5;241m.\u001b[39mscatter_(\n\u001b[1;32m    152\u001b[0m     \u001b[38;5;241m-\u001b[39m\u001b[38;5;241m1\u001b[39m,\n\u001b[1;32m    153\u001b[0m     bead_choices[\u001b[38;5;241m-\u001b[39m\u001b[38;5;241m1\u001b[39m],\n\u001b[1;32m    154\u001b[0m     remaining_dist_square\u001b[38;5;241m.\u001b[39mgather(\u001b[38;5;241m-\u001b[39m\u001b[38;5;241m1\u001b[39m,bead_choices[\u001b[38;5;241m-\u001b[39m\u001b[38;5;241m1\u001b[39m])\u001b[38;5;241m.\u001b[39msqrt()\n\u001b[1;32m    155\u001b[0m )\n\u001b[1;32m    156\u001b[0m anchor_coords\u001b[38;5;241m.\u001b[39mappend(\n\u001b[1;32m    157\u001b[0m     coords\u001b[38;5;241m.\u001b[39mgather(\n\u001b[1;32m    158\u001b[0m         \u001b[38;5;241m-\u001b[39m\u001b[38;5;241m2\u001b[39m,\n\u001b[0;32m--> 159\u001b[0m         \u001b[43mbead_choices\u001b[49m\u001b[43m[\u001b[49m\u001b[38;5;241;43m-\u001b[39;49m\u001b[38;5;241;43m1\u001b[39;49m\u001b[43m]\u001b[49m\u001b[38;5;241;43m.\u001b[39;49m\u001b[43mexpand_as\u001b[49m\u001b[43m(\u001b[49m\u001b[43manchor_coords\u001b[49m\u001b[43m[\u001b[49m\u001b[38;5;241;43m0\u001b[39;49m\u001b[43m]\u001b[49m\u001b[43m)\u001b[49m\u001b[38;5;241m.\u001b[39munsqueeze(\u001b[38;5;241m-\u001b[39m\u001b[38;5;241m2\u001b[39m)\n\u001b[1;32m    160\u001b[0m     )[\u001b[38;5;241m.\u001b[39m\u001b[38;5;241m.\u001b[39m\u001b[38;5;241m.\u001b[39m,\u001b[38;5;241m0\u001b[39m,:]\n\u001b[1;32m    161\u001b[0m )\n\u001b[1;32m    162\u001b[0m beads_to_consider\u001b[38;5;241m.\u001b[39mscatter_(\u001b[38;5;241m-\u001b[39m\u001b[38;5;241m1\u001b[39m,bead_choices[\u001b[38;5;241m-\u001b[39m\u001b[38;5;241m1\u001b[39m],\u001b[38;5;241m0\u001b[39m)\n\u001b[1;32m    164\u001b[0m \u001b[38;5;66;03m# Update remaining_dist_square\u001b[39;00m\n\u001b[1;32m    165\u001b[0m \u001b[38;5;66;03m#print(f'cat shape: {torch.cat([dists.gather(-2,bc.unsqueeze(-1)) for bc in bead_choices],dim=-1).shape}')\u001b[39;00m\n\u001b[1;32m    166\u001b[0m \u001b[38;5;66;03m#print(f'Stack shape: {torch.stack(anchor_coords,-1).shape}')\u001b[39;00m\n\u001b[1;32m    167\u001b[0m \u001b[38;5;66;03m#print(torch.cat([dists.gather(-2,bc.unsqueeze(-1)) for bc in bead_choices],dim=-1).shape)\u001b[39;00m\n\u001b[1;32m    168\u001b[0m \u001b[38;5;66;03m#print(torch.stack(anchor_coords,-1).shape)\u001b[39;00m\n",
      "\u001b[0;31mRuntimeError\u001b[0m: The expanded size of the tensor (10) must match the existing size (0) at non-singleton dimension 0.  Target sizes: [10, 3].  Tensor sizes: [0, 1]"
     ]
    }
   ],
   "source": [
    "coords2 = distToCoord(dists,False)"
   ]
  },
  {
   "cell_type": "code",
   "execution_count": 792,
   "id": "78539bd3-5440-4ae0-9a0c-7ed88221a455",
   "metadata": {},
   "outputs": [],
   "source": [
    "real_idx = coords2.isfinite().all(-1).all(-1)\n",
    "\n",
    "dist1 = dists[real_idx,...]\n",
    "\n",
    "dist2 = torch.cdist(coords2[real_idx,...],coords2[real_idx,...]) "
   ]
  },
  {
   "cell_type": "code",
   "execution_count": 793,
   "id": "0511f9bf-7c0d-4c05-bc2d-54beb469de90",
   "metadata": {},
   "outputs": [
    {
     "ename": "IndexError",
     "evalue": "index 0 is out of bounds for dimension 0 with size 0",
     "output_type": "error",
     "traceback": [
      "\u001b[0;31m---------------------------------------------------------------------------\u001b[0m",
      "\u001b[0;31mIndexError\u001b[0m                                Traceback (most recent call last)",
      "Cell \u001b[0;32mIn[793], line 3\u001b[0m\n\u001b[1;32m      1\u001b[0m \u001b[38;5;28;01mimport\u001b[39;00m \u001b[38;5;21;01mmatplotlib\u001b[39;00m\u001b[38;5;21;01m.\u001b[39;00m\u001b[38;5;21;01mpyplot\u001b[39;00m \u001b[38;5;28;01mas\u001b[39;00m \u001b[38;5;21;01mplt\u001b[39;00m\n\u001b[1;32m      2\u001b[0m i \u001b[38;5;241m=\u001b[39m \u001b[38;5;241m0\u001b[39m\n\u001b[0;32m----> 3\u001b[0m plt\u001b[38;5;241m.\u001b[39mmatshow(\u001b[43mdist1\u001b[49m\u001b[43m[\u001b[49m\u001b[43mi\u001b[49m\u001b[43m,\u001b[49m\u001b[38;5;241;43m.\u001b[39;49m\u001b[38;5;241;43m.\u001b[39;49m\u001b[38;5;241;43m.\u001b[39;49m\u001b[43m]\u001b[49m\u001b[38;5;241m.\u001b[39mnumpy())\n\u001b[1;32m      4\u001b[0m plt\u001b[38;5;241m.\u001b[39mcolorbar()\n\u001b[1;32m      5\u001b[0m plt\u001b[38;5;241m.\u001b[39mmatshow(dist2[i,\u001b[38;5;241m.\u001b[39m\u001b[38;5;241m.\u001b[39m\u001b[38;5;241m.\u001b[39m]\u001b[38;5;241m.\u001b[39mnumpy())\n",
      "\u001b[0;31mIndexError\u001b[0m: index 0 is out of bounds for dimension 0 with size 0"
     ]
    }
   ],
   "source": [
    "import matplotlib.pyplot as plt\n",
    "i = 0\n",
    "plt.matshow(dist1[i,...].numpy())\n",
    "plt.colorbar()\n",
    "plt.matshow(dist2[i,...].numpy())\n",
    "plt.colorbar()"
   ]
  },
  {
   "cell_type": "code",
   "execution_count": 794,
   "id": "becc8b55-9e54-4dc2-90f4-b32392619372",
   "metadata": {},
   "outputs": [
    {
     "data": {
      "text/plain": [
       "tensor(True)"
      ]
     },
     "execution_count": 794,
     "metadata": {},
     "output_type": "execute_result"
    }
   ],
   "source": [
    "coords2.isnan().all()"
   ]
  },
  {
   "cell_type": "code",
   "execution_count": null,
   "id": "3a93bc0c-3ae9-4f3d-aa84-0e223987eb17",
   "metadata": {},
   "outputs": [],
   "source": []
  },
  {
   "cell_type": "code",
   "execution_count": null,
   "id": "7355622c-dd03-40ba-9902-2a0efb0135fc",
   "metadata": {},
   "outputs": [],
   "source": []
  },
  {
   "cell_type": "code",
   "execution_count": 82,
   "id": "4928c120-eac5-44cb-8545-d0b49dbc57f9",
   "metadata": {},
   "outputs": [
    {
     "data": {
      "text/plain": [
       "torch.Size([10, 100, 100])"
      ]
     },
     "execution_count": 82,
     "metadata": {},
     "output_type": "execute_result"
    }
   ],
   "source": [
    "dists.shape"
   ]
  },
  {
   "cell_type": "code",
   "execution_count": 49,
   "id": "0f8e770f-8cf6-44ff-994a-8778de7d89a0",
   "metadata": {},
   "outputs": [],
   "source": [
    "class Distances(Config):\n",
    "    '''\n",
    "    Distance map for a single configuration. \n",
    "    '''\n",
    "    \n",
    "    def __init__(self,coords,dtype=None,device=None):\n",
    "        \n",
    "        self.distMap = toCoordinates(coords).to(dtype=dtype,device=device)\n",
    "\n",
    "    # Useful properties\n",
    "    @property\n",
    "    def values(self):\n",
    "        return self.coords\n",
    "    \n",
    "    @property\n",
    "    def nBeads(self):\n",
    "        return self.coords.shape[0]\n",
    "\n",
    "    ########################################################\n",
    "    # Converting between sample types\n",
    "\n",
    "    # Should be \n",
    "    def coordinates(self): \n",
    "        return distToCoord(self.)\n",
    "    \n",
    "    def distances(self):\n",
    "        return Distances(torch.cdist(self.coords,self.coords))\n",
    "    \n",
    "    "
   ]
  },
  {
   "cell_type": "code",
   "execution_count": null,
   "id": "bf924d67-4eb9-4571-b1e0-0a74bd738b16",
   "metadata": {},
   "outputs": [],
   "source": []
  },
  {
   "cell_type": "code",
   "execution_count": 69,
   "id": "8dac2710-b227-40b3-bac3-c917a87ea176",
   "metadata": {},
   "outputs": [
    {
     "data": {
      "text/plain": [
       "tensor([[nan, nan, nan, nan, nan, nan, nan, nan, nan, nan],\n",
       "        [nan, nan, nan, nan, nan, nan, nan, nan, nan, nan],\n",
       "        [nan, nan, nan, nan, nan, nan, nan, nan, nan, nan],\n",
       "        [nan, nan, nan, nan, nan, nan, nan, nan, nan, nan],\n",
       "        [nan, nan, nan, nan, nan, nan, nan, nan, nan, nan],\n",
       "        [nan, nan, nan, nan, nan, nan, nan, nan, nan, nan],\n",
       "        [nan, nan, nan, nan, nan, nan, nan, nan, nan, nan],\n",
       "        [nan, nan, nan, nan, nan, nan, nan, nan, nan, nan],\n",
       "        [nan, nan, nan, nan, nan, nan, nan, nan, nan, nan],\n",
       "        [nan, nan, nan, nan, nan, nan, nan, nan, nan, nan]])"
      ]
     },
     "execution_count": 69,
     "metadata": {},
     "output_type": "execute_result"
    }
   ],
   "source": [
    "a = torch.rand(10,10)\n",
    "a = a.fill_(torch.nan) \n",
    "a"
   ]
  },
  {
   "cell_type": "code",
   "execution_count": 62,
   "id": "81f88721-89a6-4523-b3e7-04f8182a2647",
   "metadata": {},
   "outputs": [
    {
     "data": {
      "text/plain": [
       "torch.float64"
      ]
     },
     "execution_count": 62,
     "metadata": {},
     "output_type": "execute_result"
    }
   ],
   "source": [
    "a = Coordinates(torch.rand(10,3))\n",
    "a.to(torch.double).dtype"
   ]
  },
  {
   "cell_type": "code",
   "execution_count": 64,
   "id": "cc7bac1b-73cb-4d30-8600-d09740b73fe5",
   "metadata": {},
   "outputs": [
    {
     "data": {
      "text/plain": [
       "tensor([[0.9606, 0.6966, 0.2798],\n",
       "        [0.9629, 0.4943, 0.0981],\n",
       "        [0.7420, 0.7462, 0.7877],\n",
       "        [0.8338, 0.8183, 0.0305],\n",
       "        [0.9183, 0.2176, 0.1432],\n",
       "        [0.6269, 0.5522, 0.7841],\n",
       "        [0.5732, 0.8605, 0.2021],\n",
       "        [0.5572, 0.8367, 0.1835],\n",
       "        [0.2326, 0.4193, 0.3688],\n",
       "        [0.6505, 0.8276, 0.5826]])"
      ]
     },
     "execution_count": 64,
     "metadata": {},
     "output_type": "execute_result"
    }
   ],
   "source": [
    "a.values"
   ]
  },
  {
   "cell_type": "code",
   "execution_count": 5,
   "id": "ab8ad62b-f0e8-4023-a7bf-2fdfc5d9918b",
   "metadata": {},
   "outputs": [
    {
     "data": {
      "text/plain": [
       "tensor([[1, 2, 3],\n",
       "        [4, 5, 6]])"
      ]
     },
     "execution_count": 5,
     "metadata": {},
     "output_type": "execute_result"
    }
   ],
   "source": [
    "torch.tensor([[1,2,3],[4,5,6]])"
   ]
  },
  {
   "cell_type": "code",
   "execution_count": 6,
   "id": "5cb7fbe4-3b1b-4304-8a82-1bc77e9a57ca",
   "metadata": {},
   "outputs": [],
   "source": [
    "a = np.ones((4,4))"
   ]
  },
  {
   "cell_type": "code",
   "execution_count": 7,
   "id": "0793de53-32bd-46c2-a723-4f0ef0a3fd6f",
   "metadata": {},
   "outputs": [
    {
     "data": {
      "text/plain": [
       "tensor([[1., 1., 1., 1.],\n",
       "        [1., 1., 1., 1.],\n",
       "        [1., 1., 1., 1.],\n",
       "        [1., 1., 1., 1.]], dtype=torch.float64)"
      ]
     },
     "execution_count": 7,
     "metadata": {},
     "output_type": "execute_result"
    }
   ],
   "source": [
    "torch.tensor(a)"
   ]
  },
  {
   "cell_type": "code",
   "execution_count": 34,
   "id": "1f4968ee-a69f-4c1e-994e-0249d969f2bc",
   "metadata": {},
   "outputs": [],
   "source": [
    "class Test: \n",
    "\n",
    "    def __init__(self,i):\n",
    "        self.i = i"
   ]
  },
  {
   "cell_type": "code",
   "execution_count": 39,
   "id": "60d9e14c-7b70-4e9c-8fbb-b3426f4b7203",
   "metadata": {},
   "outputs": [
    {
     "data": {
      "text/plain": [
       "<__main__.Test at 0x7fb18dea27d0>"
      ]
     },
     "execution_count": 39,
     "metadata": {},
     "output_type": "execute_result"
    }
   ],
   "source": [
    "t = Test(10)\n",
    "tt = type(t)(t.i) \n",
    "tt"
   ]
  },
  {
   "cell_type": "code",
   "execution_count": 40,
   "id": "e93b1fc6-5441-4def-964b-af0c09186000",
   "metadata": {},
   "outputs": [
    {
     "data": {
      "text/plain": [
       "10"
      ]
     },
     "execution_count": 40,
     "metadata": {},
     "output_type": "execute_result"
    }
   ],
   "source": [
    "tt.i"
   ]
  },
  {
   "cell_type": "code",
   "execution_count": null,
   "id": "86334bf8-3f5e-4786-b61e-f071fcfc4163",
   "metadata": {},
   "outputs": [],
   "source": []
  }
 ],
 "metadata": {
  "kernelspec": {
   "display_name": "Python 3 (ipykernel)",
   "language": "python",
   "name": "python3"
  },
  "language_info": {
   "codemirror_mode": {
    "name": "ipython",
    "version": 3
   },
   "file_extension": ".py",
   "mimetype": "text/x-python",
   "name": "python",
   "nbconvert_exporter": "python",
   "pygments_lexer": "ipython3",
   "version": "3.10.12"
  }
 },
 "nbformat": 4,
 "nbformat_minor": 5
}
