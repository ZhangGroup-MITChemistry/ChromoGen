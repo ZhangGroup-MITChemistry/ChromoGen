{
 "cells": [
  {
   "cell_type": "code",
   "execution_count": null,
   "id": "38c5fa95-9ec2-4f2d-90f6-719003098f09",
   "metadata": {},
   "outputs": [],
   "source": [
    "import cooler\n",
    "\n",
    "assembly = 'hg19' \n",
    "\n",
    "dest_filepath = f'../../../data/outside/GM12878_{assembly}.mcool'\n",
    "bins = \n",
    "pixels\n",
    "\n",
    "cooler.create_cooler(\n",
    "    cool_uri = dest_filepath,\n",
    "    bins = bins, \n",
    "    pixels = pixels, \n",
    "    columns=None, \n",
    "    dtypes=None, \n",
    "    metadata=None, \n",
    "    assembly=assembly, \n",
    "    ordered=False, \n",
    "    symmetric_upper=True, \n",
    "    mode='w', \n",
    "    mergebuf=20000000, \n",
    "    delete_temp=True, \n",
    "    temp_dir=None, \n",
    "    max_merge=200, \n",
    "    boundscheck=True, \n",
    "    dupcheck=True, \n",
    "    triucheck=True, \n",
    "    ensure_sorted=False, \n",
    "    h5opts=None, \n",
    "    lock=None\n",
    ")\n",
    "\n"
   ]
  },
  {
   "cell_type": "code",
   "execution_count": 1,
   "id": "3c7fce6a-9d58-476c-83ef-9b5d18f07fde",
   "metadata": {},
   "outputs": [],
   "source": [
    "import cooler "
   ]
  },
  {
   "cell_type": "code",
   "execution_count": null,
   "id": "c5c2ffd1-d82d-42c7-9eb5-85e7e2a1b54e",
   "metadata": {},
   "outputs": [],
   "source": []
  },
  {
   "cell_type": "code",
   "execution_count": null,
   "id": "4c84b5ee-c8d6-4428-8ca3-b325a550c519",
   "metadata": {},
   "outputs": [],
   "source": []
  }
 ],
 "metadata": {
  "kernelspec": {
   "display_name": "Python 3 (ipykernel)",
   "language": "python",
   "name": "python3"
  },
  "language_info": {
   "codemirror_mode": {
    "name": "ipython",
    "version": 3
   },
   "file_extension": ".py",
   "mimetype": "text/x-python",
   "name": "python",
   "nbconvert_exporter": "python",
   "pygments_lexer": "ipython3",
   "version": "3.10.12"
  }
 },
 "nbformat": 4,
 "nbformat_minor": 5
}
