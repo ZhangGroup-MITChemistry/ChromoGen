{
 "cells": [
  {
   "cell_type": "code",
   "execution_count": 1,
   "id": "80ffd2ca-41f5-4576-8625-1081c42c08e4",
   "metadata": {},
   "outputs": [],
   "source": [
    "from ConfigDataset import ConfigDataset\n",
    "from HiCDataset import HiCDataset\n",
    "from HiCMap import HiCMap\n",
    "from DataLoader_HiC import DataLoader\n",
    "import matplotlib.pyplot as plt \n",
    "import torch\n",
    "from Sample import Sample\n",
    "from tqdm.auto import tqdm"
   ]
  },
  {
   "cell_type": "code",
   "execution_count": 2,
   "id": "82bc6022-5bd9-4074-9306-3c5cda6182a3",
   "metadata": {},
   "outputs": [],
   "source": [
    "# Training data locations\n",
    "config_fp = '../../data/processed_data.hdf5'\n",
    "hic_fp = '../../data/outside/GM12878_hg19.mcool'\n",
    "\n",
    "# Supporting data locations \n",
    "mean_dist_fp = '../../data/mean_dists.pt'\n",
    "mean_sq_dist_fp='../../data/squares.pt'\n",
    "\n",
    "training_chroms = ['22']#[str(k) for k in range(1,23)] \n",
    "\n",
    "# Training iteration details \n",
    "segment_length = 64\n",
    "batch_size = 128#16#64\n",
    "shuffle_data = True"
   ]
  },
  {
   "cell_type": "code",
   "execution_count": 3,
   "id": "dfe305e9-a2ea-49b2-8187-97914604999c",
   "metadata": {},
   "outputs": [],
   "source": [
    "config_ds = ConfigDataset(\n",
    "    config_fp,\n",
    "    segment_length=segment_length,\n",
    "    remove_diagonal=False,\n",
    "    batch_size=0,\n",
    "    normalize_distances=False, #True, # Apparently this doesn't work\n",
    "    geos=None,\n",
    "    organisms=None,\n",
    "    cell_types=None,\n",
    "    cell_numbers=None,\n",
    "    chroms=training_chroms,\n",
    "    replicates=None,\n",
    "    shuffle=True,\n",
    "    allow_overlap=False, #True,\n",
    "    two_channels=False,\n",
    "    try_GPU=True,\n",
    "    mean_dist_fp=mean_dist_fp,\n",
    "    mean_sq_dist_fp=mean_sq_dist_fp\n",
    ")"
   ]
  },
  {
   "cell_type": "code",
   "execution_count": 4,
   "id": "cb817d89-08f6-479b-a996-e1247c298c2b",
   "metadata": {},
   "outputs": [],
   "source": [
    "exp_hic = HiCDataset() "
   ]
  },
  {
   "cell_type": "code",
   "execution_count": 5,
   "id": "3c95a440-f73b-421f-a06a-6bbffdc5da41",
   "metadata": {},
   "outputs": [],
   "source": [
    "dl = DataLoader(\n",
    "    config_ds,\n",
    "    exp_hic,\n",
    "    #drop_unmatched_pairs=True,\n",
    "    shuffle = shuffle_data,\n",
    "    batch_size=batch_size,\n",
    "    interp_hic_nans = True\n",
    ")"
   ]
  },
  {
   "cell_type": "code",
   "execution_count": 6,
   "id": "a4930de8-ec5c-438b-9ac6-809e6e08eb1e",
   "metadata": {},
   "outputs": [],
   "source": [
    "def remove_diagonal(mat):\n",
    "    n = mat.shape[-1]\n",
    "    i,j = torch.triu_indices(n,n,1)\n",
    "    mat2 = torch.empty(*mat.shape[:-2],n-1,n-1,dtype=mat.dtype,device=mat.device)\n",
    "    mat2[...,i,j-1] = mat[...,i,j]\n",
    "    mat2[...,j-1,i] = mat[...,j,i] \n",
    "    return mat2\n",
    "\n",
    "def a_in_b(dist_map,all_dist_maps):\n",
    "    for i in range(all_dist_maps.shape[0]):\n",
    "        if torch.allclose(dist_map,all_dist_maps[i]):\n",
    "            return True\n",
    "    return False\n",
    "    #return bool(torch.isclose(dist_map,all_dist_maps).all(-1).all(-1).any())\n",
    "\n",
    "def all_a_in_b():\n",
    "\n",
    "    dl = DataLoader(\n",
    "        config_ds,\n",
    "        exp_hic,\n",
    "        shuffle = shuffle_data,\n",
    "        batch_size=batch_size,\n",
    "        interp_hic_nans = True\n",
    "    )\n",
    "\n",
    "    n_errant_nexts = 0 \n",
    "    n_errant_calls_next = 0 \n",
    "    n_errant_calls_fetch = 0\n",
    "    device = 'cuda' if torch.cuda.is_available() else 'cpu'\n",
    "    for i in tqdm(range(len(dl)), f\"Current errors: {(n_errant_nexts + n_errant_calls_next + n_errant_calls_fetch)}. Progress: \"):\n",
    "        dist_map,_ = next(dl)\n",
    "        \n",
    "        chrom, start_idx = dl.index[['Chromosome','Genomic_Index']].iloc[i].values\n",
    "        dist_map1 = dl.configs.fetch(dl.coord_idx[i:i+1].tolist()).to(device)\n",
    "        n_errant_nexts+= 1 - bool(torch.allclose(dist_map,dist_map1))\n",
    "\n",
    "        # Get all distance maps associated with this region from the ConfigDataset class\n",
    "        all_configs = dl.configs.fetch_specific_coords(chrom,start_idx)[1].to(dist_map.device)\n",
    "        all_configs = torch.cdist(all_configs,all_configs).to(dist_map.dtype)\n",
    "        ii = torch.arange(all_configs.shape[-1])\n",
    "        all_configs[...,ii,ii] = 0 \n",
    "\n",
    "        n_errant_calls_next+= 1 - a_in_b(dist_map,all_configs)\n",
    "        n_errant_calls_fetch+= 1 - a_in_b(dist_map1,all_configs)\n",
    "\n",
    "    print(f'n_errant_nexts: {n_errant_nexts}')\n",
    "    print(f'n_errant_calls_next: {n_errant_calls_next}')\n",
    "    print(f'n_errant_calls_fetch: {n_errant_calls_fetch}')\n",
    "    print(f'Total size: {len(dl)}')        \n",
    "\n",
    "def plot_index(index,dl=dl):\n",
    "\n",
    "    # Get Hi-C data as performed in dl class\n",
    "    i = index \n",
    "    chrom, start_idx = dl.index[['Chromosome','Genomic_Index']].iloc[i].values\n",
    "    dist_map = dl.configs.fetch(dl.coord_idx[i:i+1].tolist())\n",
    "    prob_map = HiCMap(dl.get_hic_map(chrom,start_idx))\n",
    "\n",
    "    # Get all distance maps associated with this region from the ConfigDataset class\n",
    "    all_configs = dl.configs.fetch_specific_coords(chrom,start_idx)[1].to(dist_map.device)\n",
    "    all_configs = torch.cdist(all_configs,all_configs).to(dist_map.dtype)\n",
    "    ii = torch.arange(all_configs.shape[-1])\n",
    "    all_configs[...,ii,ii] = 0 \n",
    "    \n",
    "    # Ensure the og config is in the called configs\n",
    "    assert a_in_b(dist_map,all_configs), \"Configuration doesn't match the stated region!\"\n",
    "\n",
    "    # Convert to probabilities & plot\n",
    "    probs2 = Sample(data=remove_diagonal(torch.cdist(all_configs,all_configs)).unsqueeze(1)).contact_probabilities(r_c=1.6,sigma=6)\n",
    "    _,ax,*_ = prob_map.plot_with(probs2)\n",
    "    ax.set_title(f'NSamples: {all_configs.shape[0]}')\n"
   ]
  },
  {
   "cell_type": "code",
   "execution_count": 7,
   "id": "a7cc183b-ab95-4f6c-a652-6cb26adfdd6a",
   "metadata": {},
   "outputs": [
    {
     "ename": "AssertionError",
     "evalue": "The provided probability map should have exactly two nonsingleton dimensions, but has dimensions torch.Size([1, 1, 2080])",
     "output_type": "error",
     "traceback": [
      "\u001b[0;31m---------------------------------------------------------------------------\u001b[0m",
      "\u001b[0;31mAssertionError\u001b[0m                            Traceback (most recent call last)",
      "Cell \u001b[0;32mIn[7], line 1\u001b[0m\n\u001b[0;32m----> 1\u001b[0m \u001b[43mplot_index\u001b[49m\u001b[43m(\u001b[49m\u001b[38;5;241;43m0\u001b[39;49m\u001b[43m)\u001b[49m\n",
      "Cell \u001b[0;32mIn[6], line 57\u001b[0m, in \u001b[0;36mplot_index\u001b[0;34m(index, dl)\u001b[0m\n\u001b[1;32m     55\u001b[0m chrom, start_idx \u001b[38;5;241m=\u001b[39m dl\u001b[38;5;241m.\u001b[39mindex[[\u001b[38;5;124m'\u001b[39m\u001b[38;5;124mChromosome\u001b[39m\u001b[38;5;124m'\u001b[39m,\u001b[38;5;124m'\u001b[39m\u001b[38;5;124mGenomic_Index\u001b[39m\u001b[38;5;124m'\u001b[39m]]\u001b[38;5;241m.\u001b[39miloc[i]\u001b[38;5;241m.\u001b[39mvalues\n\u001b[1;32m     56\u001b[0m dist_map \u001b[38;5;241m=\u001b[39m dl\u001b[38;5;241m.\u001b[39mconfigs\u001b[38;5;241m.\u001b[39mfetch(dl\u001b[38;5;241m.\u001b[39mcoord_idx[i:i\u001b[38;5;241m+\u001b[39m\u001b[38;5;241m1\u001b[39m]\u001b[38;5;241m.\u001b[39mtolist())\n\u001b[0;32m---> 57\u001b[0m prob_map \u001b[38;5;241m=\u001b[39m \u001b[43mHiCMap\u001b[49m\u001b[43m(\u001b[49m\u001b[43mdl\u001b[49m\u001b[38;5;241;43m.\u001b[39;49m\u001b[43mget_hic_map\u001b[49m\u001b[43m(\u001b[49m\u001b[43mchrom\u001b[49m\u001b[43m,\u001b[49m\u001b[43mstart_idx\u001b[49m\u001b[43m)\u001b[49m\u001b[43m)\u001b[49m\n\u001b[1;32m     59\u001b[0m \u001b[38;5;66;03m# Get all distance maps associated with this region from the ConfigDataset class\u001b[39;00m\n\u001b[1;32m     60\u001b[0m all_configs \u001b[38;5;241m=\u001b[39m dl\u001b[38;5;241m.\u001b[39mconfigs\u001b[38;5;241m.\u001b[39mfetch_specific_coords(chrom,start_idx)[\u001b[38;5;241m1\u001b[39m]\u001b[38;5;241m.\u001b[39mto(dist_map\u001b[38;5;241m.\u001b[39mdevice)\n",
      "File \u001b[0;32m~/refining_scHiC/revamp_with_zhuohan/code/data_utils/HiCMap.py:99\u001b[0m, in \u001b[0;36mHiCMap.__init__\u001b[0;34m(self, prob_map, chrom, start, stop, includes_self_interaction, device, dtype)\u001b[0m\n\u001b[1;32m     97\u001b[0m \u001b[38;5;66;03m# Ensure the probability map is square. Remove any dimensions of 1\u001b[39;00m\n\u001b[1;32m     98\u001b[0m p \u001b[38;5;241m=\u001b[39m prob_map\u001b[38;5;241m.\u001b[39msqueeze()\n\u001b[0;32m---> 99\u001b[0m \u001b[38;5;28;01massert\u001b[39;00m \u001b[38;5;28mlen\u001b[39m(p\u001b[38;5;241m.\u001b[39mshape) \u001b[38;5;241m==\u001b[39m \u001b[38;5;241m2\u001b[39m, \u001b[38;5;124mf\u001b[39m\u001b[38;5;124m'\u001b[39m\u001b[38;5;124mThe provided probability map should have exactly two nonsingleton dimensions, but has dimensions \u001b[39m\u001b[38;5;132;01m{\u001b[39;00mprob_map\u001b[38;5;241m.\u001b[39mshape\u001b[38;5;132;01m}\u001b[39;00m\u001b[38;5;124m'\u001b[39m\n\u001b[1;32m    100\u001b[0m \u001b[38;5;28;01massert\u001b[39;00m prob_map\u001b[38;5;241m.\u001b[39mshape[\u001b[38;5;241m0\u001b[39m]\u001b[38;5;241m==\u001b[39mprob_map\u001b[38;5;241m.\u001b[39mshape[\u001b[38;5;241m1\u001b[39m], \u001b[38;5;124mf\u001b[39m\u001b[38;5;124m'\u001b[39m\u001b[38;5;124mThe provided probability map should be square, but has dimensions \u001b[39m\u001b[38;5;132;01m{\u001b[39;00mprob_map\u001b[38;5;241m.\u001b[39mshape\u001b[38;5;132;01m}\u001b[39;00m\u001b[38;5;124m'\u001b[39m\n\u001b[1;32m    101\u001b[0m prob_map \u001b[38;5;241m=\u001b[39m p \n",
      "\u001b[0;31mAssertionError\u001b[0m: The provided probability map should have exactly two nonsingleton dimensions, but has dimensions torch.Size([1, 1, 2080])"
     ]
    }
   ],
   "source": [
    "plot_index(0)"
   ]
  },
  {
   "cell_type": "code",
   "execution_count": null,
   "id": "1c8147df-9046-4980-a551-db5cb6510b9a",
   "metadata": {},
   "outputs": [],
   "source": [
    "plot_index(1)"
   ]
  },
  {
   "cell_type": "code",
   "execution_count": null,
   "id": "26e0131f-bd81-4661-8206-50499ee021b8",
   "metadata": {},
   "outputs": [],
   "source": [
    "all_a_in_b()"
   ]
  },
  {
   "cell_type": "code",
   "execution_count": 11,
   "id": "7986ccf3-b1ce-4add-aa40-c4cd3bb8b19b",
   "metadata": {},
   "outputs": [
    {
     "name": "stdout",
     "output_type": "stream",
     "text": [
      "256\n",
      "384\n",
      "512\n",
      "640\n",
      "768\n",
      "896\n",
      "1024\n",
      "1152\n",
      "1280\n",
      "1408\n",
      "1536\n",
      "1664\n",
      "1792\n",
      "1920\n",
      "2048\n",
      "2176\n",
      "2304\n",
      "0\n",
      "1.0611422061920166 seconds\n"
     ]
    },
    {
     "data": {
      "text/plain": [
       "18"
      ]
     },
     "execution_count": 11,
     "metadata": {},
     "output_type": "execute_result"
    }
   ],
   "source": [
    "import time\n",
    "dl.internal_idx = 0 \n",
    "_ = next(dl) \n",
    "t = time.time()\n",
    "n=0\n",
    "while dl.internal_idx != 0:\n",
    "    _ = next(dl) \n",
    "    n+=1\n",
    "    print(dl.internal_idx)\n",
    "t-= time.time()\n",
    "print(f'{-t} seconds')\n",
    "n"
   ]
  },
  {
   "cell_type": "code",
   "execution_count": 9,
   "id": "5492851b-987b-4959-9b49-c26e24a8e153",
   "metadata": {},
   "outputs": [],
   "source": [
    "a,b = next(dl) "
   ]
  },
  {
   "cell_type": "code",
   "execution_count": null,
   "id": "6748dd97-9d82-41e2-a32b-76cc056baa90",
   "metadata": {},
   "outputs": [],
   "source": [
    "a.shape"
   ]
  },
  {
   "cell_type": "code",
   "execution_count": null,
   "id": "41a6d60c-99ee-415a-b0cd-d985b4d5296c",
   "metadata": {},
   "outputs": [],
   "source": [
    "b.shape"
   ]
  },
  {
   "cell_type": "code",
   "execution_count": null,
   "id": "40fc1f8c-4cd7-42bf-8b39-6e30980b2d96",
   "metadata": {},
   "outputs": [],
   "source": [
    "c = exp_hic.fetch('1',0,20_000*64)"
   ]
  },
  {
   "cell_type": "code",
   "execution_count": null,
   "id": "0720ff9e-61ac-45e8-9df9-9084783130ba",
   "metadata": {},
   "outputs": [],
   "source": [
    "c.shape"
   ]
  },
  {
   "cell_type": "code",
   "execution_count": null,
   "id": "01b5dec5-a991-47a4-bce9-f833304f2a72",
   "metadata": {},
   "outputs": [],
   "source": [
    "torch.prod((1,2,3))"
   ]
  },
  {
   "cell_type": "code",
   "execution_count": null,
   "id": "549301df-60c6-4a8c-b050-9c22151fa857",
   "metadata": {},
   "outputs": [],
   "source": [
    "int(torch.prod(torch.tensor((1,2,3))))"
   ]
  },
  {
   "cell_type": "code",
   "execution_count": null,
   "id": "bee8d1da-25e6-42f7-95dd-ba0ff1e664dc",
   "metadata": {},
   "outputs": [],
   "source": [
    "import os\n",
    "os.environ['SLURM_CPUS_PER_TASK']"
   ]
  },
  {
   "cell_type": "code",
   "execution_count": null,
   "id": "96f1e9dd-471b-4ca1-a3c1-bc8480d6b4ee",
   "metadata": {},
   "outputs": [],
   "source": [
    "dl.internal_idx"
   ]
  },
  {
   "cell_type": "code",
   "execution_count": null,
   "id": "4725ccbf-d23c-49e0-be42-cde44540ac1d",
   "metadata": {},
   "outputs": [],
   "source": [
    "dl.reset_index()\n",
    "dl.internal_idx"
   ]
  },
  {
   "cell_type": "code",
   "execution_count": null,
   "id": "c32a54fb-7b3d-495a-8354-661d6fa8336e",
   "metadata": {},
   "outputs": [],
   "source": []
  }
 ],
 "metadata": {
  "kernelspec": {
   "display_name": "Python 3 (ipykernel)",
   "language": "python",
   "name": "python3"
  },
  "language_info": {
   "codemirror_mode": {
    "name": "ipython",
    "version": 3
   },
   "file_extension": ".py",
   "mimetype": "text/x-python",
   "name": "python",
   "nbconvert_exporter": "python",
   "pygments_lexer": "ipython3",
   "version": "3.10.12"
  }
 },
 "nbformat": 4,
 "nbformat_minor": 5
}
