{
 "cells": [
  {
   "cell_type": "code",
   "execution_count": 1,
   "id": "2b0073ef-a1b1-4a9a-9bb9-0f4c032d772f",
   "metadata": {},
   "outputs": [],
   "source": [
    "import torch\n",
    "import os\n",
    "from tqdm.auto import tqdm\n",
    "import sys\n",
    "sys.path.insert(0,'../../code/data_utils/SampleClass/')\n",
    "from Coordinates import Coordinates"
   ]
  },
  {
   "cell_type": "code",
   "execution_count": 6,
   "id": "2a1c7a4f-efd6-4373-8b49-7d3830e8159a",
   "metadata": {},
   "outputs": [
    {
     "data": {
      "application/vnd.jupyter.widget-view+json": {
       "model_id": "56c2ca080c4748969e216cff2a40cbdf",
       "version_major": 2,
       "version_minor": 0
      },
      "text/plain": [
       "Loading tan coordinates:   0%|          | 0/2658 [00:00<?, ?it/s]"
      ]
     },
     "metadata": {},
     "output_type": "display_data"
    },
    {
     "data": {
      "application/vnd.jupyter.widget-view+json": {
       "model_id": "271670ce56f64c828c78526b2c437a0c",
       "version_major": 2,
       "version_minor": 0
      },
      "text/plain": [
       "Computing tan r_g values:   0%|          | 0/63 [00:00<?, ?it/s]"
      ]
     },
     "metadata": {},
     "output_type": "display_data"
    },
    {
     "data": {
      "application/vnd.jupyter.widget-view+json": {
       "model_id": "d73f2e20854b4f0f8e2f879877a9e7e3",
       "version_major": 2,
       "version_minor": 0
      },
      "text/plain": [
       "Loading generated coordinates:   0%|          | 0/5316 [00:00<?, ?it/s]"
      ]
     },
     "metadata": {},
     "output_type": "display_data"
    },
    {
     "data": {
      "application/vnd.jupyter.widget-view+json": {
       "model_id": "5ca7f3ded17f454f921b9d3788dd4c18",
       "version_major": 2,
       "version_minor": 0
      },
      "text/plain": [
       "Computing generated r_g values:   0%|          | 0/63 [00:00<?, ?it/s]"
      ]
     },
     "metadata": {},
     "output_type": "display_data"
    }
   ],
   "source": [
    "data_folders = [\n",
    "    (\n",
    "        'tan',\n",
    "        '/home/gridsan/gschuette/binz_group_shared/gkks/with_Zhuohan/tan_full_scan/full_scan/'\n",
    "    ),\n",
    "    (\n",
    "        'generated',\n",
    "        '/home/gridsan/gschuette/binz_group_shared/gkks/with_Zhuohan/produce_samples/GM/full_scan/corrected/'\n",
    "    )\n",
    "]\n",
    "\n",
    "save_folder = './r_g_data/'\n",
    "if not os.path.exists(save_folder):\n",
    "    os.makedirs(save_folder)\n",
    "\n",
    "def parse_file(f):\n",
    "\n",
    "    f1 = f.split('/')[-1].split('_')\n",
    "    region_idx = int(f1[1])\n",
    "    chrom = f1[-1].split('.')[0]\n",
    "\n",
    "    if len(f1) == 6:\n",
    "        cond_scale = f1[2]\n",
    "        return chrom, cond_scale, region_idx\n",
    "    else:\n",
    "        return chrom, region_idx\n",
    "\n",
    "def compute_rg(coords):\n",
    "    return (coords.values - coords.values.mean(-2,keepdim=True)).square().sum(-1).mean(-1).sqrt()\n",
    "\n",
    "def compute_sliding_rg(coords,window_size):\n",
    "\n",
    "    r_gs = []\n",
    "    i = 0\n",
    "    j = window_size\n",
    "    while j <= coords.num_beads:\n",
    "        r_gs.append(compute_rg( coords[...,i:j,:] ))\n",
    "        i+=1\n",
    "        j+=1\n",
    "\n",
    "    return torch.stack(r_gs,dim=-1)\n",
    "\n",
    "\n",
    "window_sizes = list(range(2,65))\n",
    "for label,folder in data_folders:\n",
    "\n",
    "    r_g_dict = {\n",
    "        'regions':[]\n",
    "    }\n",
    "\n",
    "    \n",
    "    # Load all coordinates, concatenate them to accelerate computation\n",
    "    start = 0\n",
    "    coords = []\n",
    "    files = os.listdir(folder)\n",
    "    files.sort()\n",
    "    for f in tqdm(files,desc=f'Loading {label} coordinates'):\n",
    "        coords.append(Coordinates(folder+f))\n",
    "        r_g_dict['regions'].append(\n",
    "            (\n",
    "                *parse_file(f),\n",
    "                start,\n",
    "                start + len(coords[-1])\n",
    "            )\n",
    "        )\n",
    "        start = start + len(coords[-1])\n",
    "\n",
    "    coords = coords[0].append(coords[1:])\n",
    "    if torch.cuda.is_available():\n",
    "        coords = coords.cuda()\n",
    "    \n",
    "    for ws in tqdm(window_sizes,desc=f'Computing {label} r_g values'):\n",
    "        torch.save(\n",
    "            {\n",
    "                'regions':r_g_dict['regions'],\n",
    "                'r_g':compute_sliding_rg(coords,ws).cpu()\n",
    "            },\n",
    "            save_folder + f'r_g_{label}_{ws}.pt'\n",
    "        )\n",
    "    \n",
    "\n"
   ]
  },
  {
   "cell_type": "code",
   "execution_count": 11,
   "id": "6ce51751-648e-4266-ad78-43384877ff7a",
   "metadata": {},
   "outputs": [],
   "source": [
    "save_folder = './r_g_data/'\n",
    "label='tan'\n",
    "ws=63\n",
    "a = torch.load(save_folder + f'r_g_{label}_{ws}.pt')"
   ]
  },
  {
   "cell_type": "code",
   "execution_count": 12,
   "id": "dd62e460-a3d6-4374-b3ba-84111924a97a",
   "metadata": {},
   "outputs": [
    {
     "data": {
      "text/plain": [
       "2658"
      ]
     },
     "execution_count": 12,
     "metadata": {},
     "output_type": "execute_result"
    }
   ],
   "source": [
    "len(a['regions'])"
   ]
  },
  {
   "cell_type": "code",
   "execution_count": 13,
   "id": "82037290-05b0-43d0-9acd-2727126d3217",
   "metadata": {},
   "outputs": [
    {
     "data": {
      "text/plain": [
       "torch.Size([231520, 2])"
      ]
     },
     "execution_count": 13,
     "metadata": {},
     "output_type": "execute_result"
    }
   ],
   "source": [
    "a['r_g'].shape"
   ]
  },
  {
   "cell_type": "code",
   "execution_count": 2,
   "id": "f7553ee9-31d5-4860-a08f-dc3ec1518653",
   "metadata": {},
   "outputs": [
    {
     "data": {
      "text/plain": [
       "torch.Size([1000, 5])"
      ]
     },
     "execution_count": 2,
     "metadata": {},
     "output_type": "execute_result"
    }
   ],
   "source": [
    "coords = Coordinates('../../data/samples/origami_64_no_embed_reduction/eval_mode/corrected/unguided.pt')[:1000]\n",
    "\n",
    "def compute_rg(coords):\n",
    "    return (coords.values - coords.values.mean(-2,keepdim=True)).square().sum(-1).mean(-1).sqrt()\n",
    "\n",
    "def compute_sliding_rg(coords,window_size):\n",
    "\n",
    "    r_gs = []\n",
    "    i = 0\n",
    "    j = window_size\n",
    "    while j <= coords.num_beads:\n",
    "        r_gs.append(compute_rg( coords[...,i:j,:] ))\n",
    "        i+=1\n",
    "        j+=1\n",
    "\n",
    "    return torch.stack(r_gs,dim=-1)\n",
    "\n",
    "a = compute_sliding_rg(coords, 60)\n",
    "\n",
    "a.shape"
   ]
  },
  {
   "cell_type": "code",
   "execution_count": 18,
   "id": "695a4a9e-29b8-4625-9131-f250437e0075",
   "metadata": {},
   "outputs": [],
   "source": [
    "a = torch.load('./r_g_data/r_g_generated_64.pt')"
   ]
  },
  {
   "cell_type": "code",
   "execution_count": 20,
   "id": "1fbeda80-63f6-4f40-b73b-771b1564160f",
   "metadata": {},
   "outputs": [
    {
     "data": {
      "text/plain": [
       "tensor(406.7039)"
      ]
     },
     "execution_count": 20,
     "metadata": {},
     "output_type": "execute_result"
    }
   ],
   "source": [
    "(a['r_g'] * 100).median()"
   ]
  },
  {
   "cell_type": "code",
   "execution_count": 21,
   "id": "2b19351a-3f7e-4e13-be5a-0a1090294a66",
   "metadata": {},
   "outputs": [
    {
     "data": {
      "text/plain": [
       "tensor([389.6393])"
      ]
     },
     "execution_count": 21,
     "metadata": {},
     "output_type": "execute_result"
    }
   ],
   "source": [
    "a['r_g'][:1000,...].mean(0) * 100 "
   ]
  },
  {
   "cell_type": "code",
   "execution_count": 24,
   "id": "49c769fc-d423-4643-8408-6f41b2839cda",
   "metadata": {},
   "outputs": [
    {
     "data": {
      "image/png": "[encoded data removed]",
      "text/plain": [
       "<Figure size 640x480 with 1 Axes>"
      ]
     },
     "metadata": {},
     "output_type": "display_data"
    }
   ],
   "source": [
    "bins = torch.arange(1000).numpy()\n",
    "plt.hist((a['r_g'] * 100).flatten().numpy(),bins=bins);"
   ]
  },
  {
   "cell_type": "code",
   "execution_count": null,
   "id": "7b107e89-7fd5-465b-98f3-68c6bf7cf7a0",
   "metadata": {},
   "outputs": [],
   "source": []
  }
 ],
 "metadata": {
  "kernelspec": {
   "display_name": "Python 3 (ipykernel)",
   "language": "python",
   "name": "python3"
  },
  "language_info": {
   "codemirror_mode": {
    "name": "ipython",
    "version": 3
   },
   "file_extension": ".py",
   "mimetype": "text/x-python",
   "name": "python",
   "nbconvert_exporter": "python",
   "pygments_lexer": "ipython3",
   "version": "3.10.12"
  }
 },
 "nbformat": 4,
 "nbformat_minor": 5
}
