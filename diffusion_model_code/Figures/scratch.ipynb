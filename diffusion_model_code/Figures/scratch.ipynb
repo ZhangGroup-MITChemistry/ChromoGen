{
 "cells": [
  {
   "cell_type": "code",
   "execution_count": 1,
   "id": "a56035f4-5ace-4c00-a9f7-0007726af61a",
   "metadata": {},
   "outputs": [],
   "source": [
    "import sys\n",
    "sys.path.insert(0,'../code/data_utils/')\n",
    "from ConfigDataset import ConfigDataset"
   ]
  },
  {
   "cell_type": "code",
   "execution_count": 2,
   "id": "8bace7b8-0748-4139-8b67-05eae9224e8a",
   "metadata": {},
   "outputs": [],
   "source": [
    "config_fp = '../data/processed_data.hdf5'\n",
    "segment_length = 64\n",
    "training_chroms = [str(k) for k in range(1,23)]\n",
    "\n",
    "config_ds = ConfigDataset(\n",
    "    config_fp,\n",
    "    segment_length=segment_length,\n",
    "    remove_diagonal=False,\n",
    "    batch_size=0,\n",
    "    normalize_distances=False,\n",
    "    geos=None,\n",
    "    organisms=None,\n",
    "    cell_types=None,\n",
    "    cell_numbers=None,\n",
    "    chroms=training_chroms,\n",
    "    replicates=None,\n",
    "    shuffle=True,\n",
    "    allow_overlap=True,\n",
    "    two_channels=False,\n",
    "    try_GPU=True,\n",
    "    mean_dist_fp=None,\n",
    "    mean_sq_dist_fp=None\n",
    ")"
   ]
  },
  {
   "cell_type": "code",
   "execution_count": 5,
   "id": "a63e8ec3-05df-4472-9a10-4b4a61a506ea",
   "metadata": {},
   "outputs": [
    {
     "data": {
      "text/plain": [
       "11461472"
      ]
     },
     "execution_count": 5,
     "metadata": {},
     "output_type": "execute_result"
    }
   ],
   "source": [
    "len(config_ds.start_indices) * 2"
   ]
  },
  {
   "cell_type": "code",
   "execution_count": 4,
   "id": "7c681872-4b7d-4cf2-a68a-dc9e179f85b7",
   "metadata": {},
   "outputs": [
    {
     "data": {
      "text/plain": [
       "torch.Size([6044757, 6])"
      ]
     },
     "execution_count": 4,
     "metadata": {},
     "output_type": "execute_result"
    }
   ],
   "source": [
    "config_ds.coords.shape"
   ]
  },
  {
   "cell_type": "code",
   "execution_count": null,
   "id": "1798100e-d056-4591-9fb6-ea8efd43ef3e",
   "metadata": {},
   "outputs": [],
   "source": []
  }
 ],
 "metadata": {
  "kernelspec": {
   "display_name": "Python 3 (ipykernel)",
   "language": "python",
   "name": "python3"
  },
  "language_info": {
   "codemirror_mode": {
    "name": "ipython",
    "version": 3
   },
   "file_extension": ".py",
   "mimetype": "text/x-python",
   "name": "python",
   "nbconvert_exporter": "python",
   "pygments_lexer": "ipython3",
   "version": "3.10.12"
  }
 },
 "nbformat": 4,
 "nbformat_minor": 5
}
