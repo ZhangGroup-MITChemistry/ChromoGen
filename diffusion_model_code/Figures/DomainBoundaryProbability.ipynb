{
 "cells": [
  {
   "cell_type": "code",
   "execution_count": 1,
   "id": "5df6dea0-2175-403c-b127-b963ebfd475e",
   "metadata": {},
   "outputs": [],
   "source": [
    "import matplotlib.pyplot as plt\n",
    "import matplotlib.patheffects as pe\n",
    "from matplotlib.gridspec import GridSpec\n",
    "import numpy as np\n",
    "import pickle\n",
    "import torch\n",
    "import os\n",
    "import sys\n",
    "sys.path.insert(0,'../code/data_utils/SampleClass/')\n",
    "from Coordinates import Coordinates\n",
    "sys.path.insert(1,'../code/data_utils/')\n",
    "from HiCDataset import HiCDataset\n",
    "sys.path.insert(2,'./support/')\n",
    "# Analysis code from https://github.com/BogdanBintu/ChromatinImaging/blob/master/CommonTools/PostAnalysisTools.py\n",
    "from PostAnalysisTools import StandardBoundaryAnalysis \n",
    "plt.style.use('/home/gridsan/gschuette/universal/matplotlib/plot_style_2.txt')"
   ]
  },
  {
   "cell_type": "markdown",
   "id": "b1d49e36-c9b4-4692-b0ab-5a17be7fc2f9",
   "metadata": {},
   "source": [
    "#### Paths to various data files, names associated with each set of conformations"
   ]
  },
  {
   "cell_type": "markdown",
   "id": "951b5d26-4ad7-41fb-bb89-826e0472c2af",
   "metadata": {},
   "source": [
    "Where to save the figure(s)"
   ]
  },
  {
   "cell_type": "code",
   "execution_count": 2,
   "id": "640e826f-cecc-4891-8889-1188b02ea5a6",
   "metadata": {},
   "outputs": [],
   "source": [
    "save_folder = './domains_no_mix/'"
   ]
  },
  {
   "cell_type": "markdown",
   "id": "f40ac86b-6990-42fa-b192-54c6cdfb885b",
   "metadata": {},
   "source": [
    "Case 1: Look at two regions within GM12878"
   ]
  },
  {
   "cell_type": "code",
   "execution_count": 3,
   "id": "a55bd6a8-f67b-46c0-a8ef-2aee3b3fd448",
   "metadata": {},
   "outputs": [],
   "source": [
    "no_features_fp = '../data/samples/origami_64_no_embed_reduction/eval_mode/sample_1243_5.0_8.0_120_X.pt'\n",
    "features_fp = '../data/samples/origami_64_no_embed_reduction/eval_mode/sample_730_5.0_8.0_120_1.pt'\n",
    "no_features_tag = 'Chromosome X: 25.08-26.36 Mb'\n",
    "features_tag = 'Chromosome 1: 17.12-18.4 Mb'\n",
    "\n",
    "no_features_chrom = 'X'\n",
    "no_features_start = 25_080_000\n",
    "no_features_stop = 26_360_000\n",
    "\n",
    "features_chrom = '1'\n",
    "features_start = 17_120_000\n",
    "features_stop = 18_400_000"
   ]
  },
  {
   "cell_type": "markdown",
   "id": "db70a45f-0d33-4fe9-b8e3-be3956853249",
   "metadata": {},
   "source": [
    "Case 2: Look at the same region in different cell types"
   ]
  },
  {
   "cell_type": "code",
   "execution_count": 4,
   "id": "7d3fea4b-af75-4b38-8ed9-c9b851c3b397",
   "metadata": {},
   "outputs": [],
   "source": [
    "'''\n",
    "gm_conformation_fp = '../data/samples/origami_64_no_embed_reduction/cross_validation/GM/chr_21_693_5.0_8.0.pt'\n",
    "imr_conformation_fp = '../data/samples/origami_64_no_embed_reduction/cross_validation/IMR/chr_21_693_5.0_8.0.pt'\n",
    "gm_tag = 'GM12878'\n",
    "imr_tag = 'IMR-90'\n",
    "\n",
    "gm_imr_chrom = '21'\n",
    "gm_imr_start = 29_000_000\n",
    "gm_imr_stop = 30_280_000\n",
    "'''\n",
    "\n",
    "gm_conformation_fp = '../data/samples/origami_64_no_embed_reduction/cross_validation/GM/chr_21_668_5.0_8.0.pt'\n",
    "imr_conformation_fp = '../data/samples/origami_64_no_embed_reduction/cross_validation/IMR/chr_21_668_5.0_8.0.pt'\n",
    "gm_tag = 'GM12878'\n",
    "imr_tag = 'IMR-90'\n",
    "\n",
    "gm_imr_chrom = '21'\n",
    "gm_imr_start = 28_500_000\n",
    "gm_imr_stop = 29_780_000"
   ]
  },
  {
   "cell_type": "markdown",
   "id": "12de992f-355e-449e-9cb2-66365185c426",
   "metadata": {},
   "source": [
    "Add location information to the IMR vs GM regions to differentiate them in the later dictionaries"
   ]
  },
  {
   "cell_type": "code",
   "execution_count": 5,
   "id": "e0e7c7b2-a8e8-43b6-a973-43e434bc29e9",
   "metadata": {},
   "outputs": [],
   "source": [
    "gm_tag+=  '\\\\' + f'{gm_imr_chrom}_{gm_imr_start}_{gm_imr_stop}'\n",
    "imr_tag+= '\\\\' + f'{gm_imr_chrom}_{gm_imr_start}_{gm_imr_stop}'"
   ]
  },
  {
   "cell_type": "markdown",
   "id": "34cb946d-de27-4c9d-ac83-2966c067ce20",
   "metadata": {},
   "source": [
    "Where to save the processed boundary data"
   ]
  },
  {
   "cell_type": "code",
   "execution_count": 6,
   "id": "568199f2-dff3-443e-a505-0f3e1bbdb262",
   "metadata": {},
   "outputs": [],
   "source": [
    "boundary_file='./support/boundary_file.pkl'\n",
    "#boundary_file='./support/test.pkl'"
   ]
  },
  {
   "cell_type": "markdown",
   "id": "105503fc-47a4-474a-83dc-1ccd06d523bd",
   "metadata": {},
   "source": [
    "Experimental Hi-C filepaths"
   ]
  },
  {
   "cell_type": "code",
   "execution_count": 7,
   "id": "4f87cbbc-110c-468a-8db8-cc5fd7e189a6",
   "metadata": {},
   "outputs": [],
   "source": [
    "gm_mcool_fp = '../data/outside/GM12878_hg19.mcool'\n",
    "imr_mcool_fp = '../data/outside/IMR90_hg19.mcool'"
   ]
  },
  {
   "cell_type": "markdown",
   "id": "5805119a-9e5c-4407-892c-ad716c6c22eb",
   "metadata": {},
   "source": [
    "#### Load the conformation, Hi-C data & place in dictionaries for convenience"
   ]
  },
  {
   "cell_type": "markdown",
   "id": "9d80e047-78a1-4cf2-a142-4987f9c08491",
   "metadata": {},
   "source": [
    "Conformations"
   ]
  },
  {
   "cell_type": "code",
   "execution_count": 8,
   "id": "ecc2f56c-dc2a-4768-8ada-f4bec8d640d2",
   "metadata": {},
   "outputs": [
    {
     "ename": "FileNotFoundError",
     "evalue": "[Errno 2] No such file or directory: '../data/samples/origami_64_no_embed_reduction/cross_validation/IMR/chr_21_668_5.0_8.0.pt'",
     "output_type": "error",
     "traceback": [
      "\u001b[0;31m---------------------------------------------------------------------------\u001b[0m",
      "\u001b[0;31mFileNotFoundError\u001b[0m                         Traceback (most recent call last)",
      "Cell \u001b[0;32mIn[8], line 4\u001b[0m\n\u001b[1;32m      1\u001b[0m coord_dict \u001b[38;5;241m=\u001b[39m {\n\u001b[1;32m      2\u001b[0m     features_tag:Coordinates(features_fp),\n\u001b[1;32m      3\u001b[0m     no_features_tag:Coordinates(no_features_fp),\n\u001b[0;32m----> 4\u001b[0m     imr_tag:\u001b[43mCoordinates\u001b[49m\u001b[43m(\u001b[49m\u001b[43mimr_conformation_fp\u001b[49m\u001b[43m)\u001b[49m,\n\u001b[1;32m      5\u001b[0m     gm_tag:Coordinates(gm_conformation_fp)\n\u001b[1;32m      6\u001b[0m }\n\u001b[1;32m      8\u001b[0m \u001b[38;5;66;03m# Convert to nm\u001b[39;00m\n\u001b[1;32m      9\u001b[0m \u001b[38;5;28;01mfor\u001b[39;00m _,coords \u001b[38;5;129;01min\u001b[39;00m coord_dict\u001b[38;5;241m.\u001b[39mitems():\n",
      "File \u001b[0;32m~/refining_scHiC/revamp_with_zhuohan/Figures/../code/data_utils/SampleClass/Coordinates.py:60\u001b[0m, in \u001b[0;36mCoordinates.__init__\u001b[0;34m(self, coords, drop_invalid_conformations, map_location)\u001b[0m\n\u001b[1;32m     57\u001b[0m \u001b[38;5;28;01mdef\u001b[39;00m \u001b[38;5;21m__init__\u001b[39m(\u001b[38;5;28mself\u001b[39m,coords,drop_invalid_conformations\u001b[38;5;241m=\u001b[39m\u001b[38;5;28;01mTrue\u001b[39;00m,map_location\u001b[38;5;241m=\u001b[39m\u001b[38;5;124m'\u001b[39m\u001b[38;5;124mcpu\u001b[39m\u001b[38;5;124m'\u001b[39m):\n\u001b[1;32m     59\u001b[0m     \u001b[38;5;28;01mif\u001b[39;00m \u001b[38;5;28mtype\u001b[39m(coords) \u001b[38;5;241m==\u001b[39m \u001b[38;5;28mstr\u001b[39m: \u001b[38;5;66;03m# Assume it's a filepath\u001b[39;00m\n\u001b[0;32m---> 60\u001b[0m         \u001b[38;5;28mself\u001b[39m\u001b[38;5;241m.\u001b[39m__coords \u001b[38;5;241m=\u001b[39m format_coords(\u001b[43mt_load\u001b[49m\u001b[43m(\u001b[49m\u001b[43mcoords\u001b[49m\u001b[43m,\u001b[49m\u001b[43mmap_location\u001b[49m\u001b[38;5;241;43m=\u001b[39;49m\u001b[43mmap_location\u001b[49m\u001b[43m)\u001b[49m)\n\u001b[1;32m     61\u001b[0m     \u001b[38;5;28;01melse\u001b[39;00m:\n\u001b[1;32m     62\u001b[0m         \u001b[38;5;28mself\u001b[39m\u001b[38;5;241m.\u001b[39m__coords \u001b[38;5;241m=\u001b[39m format_coords(coords)\n",
      "File \u001b[0;32m/state/partition1/llgrid/pkg/anaconda/python-LLM-2023b/lib/python3.10/site-packages/torch/serialization.py:791\u001b[0m, in \u001b[0;36mload\u001b[0;34m(f, map_location, pickle_module, weights_only, **pickle_load_args)\u001b[0m\n\u001b[1;32m    788\u001b[0m \u001b[38;5;28;01mif\u001b[39;00m \u001b[38;5;124m'\u001b[39m\u001b[38;5;124mencoding\u001b[39m\u001b[38;5;124m'\u001b[39m \u001b[38;5;129;01mnot\u001b[39;00m \u001b[38;5;129;01min\u001b[39;00m pickle_load_args\u001b[38;5;241m.\u001b[39mkeys():\n\u001b[1;32m    789\u001b[0m     pickle_load_args[\u001b[38;5;124m'\u001b[39m\u001b[38;5;124mencoding\u001b[39m\u001b[38;5;124m'\u001b[39m] \u001b[38;5;241m=\u001b[39m \u001b[38;5;124m'\u001b[39m\u001b[38;5;124mutf-8\u001b[39m\u001b[38;5;124m'\u001b[39m\n\u001b[0;32m--> 791\u001b[0m \u001b[38;5;28;01mwith\u001b[39;00m \u001b[43m_open_file_like\u001b[49m\u001b[43m(\u001b[49m\u001b[43mf\u001b[49m\u001b[43m,\u001b[49m\u001b[43m \u001b[49m\u001b[38;5;124;43m'\u001b[39;49m\u001b[38;5;124;43mrb\u001b[39;49m\u001b[38;5;124;43m'\u001b[39;49m\u001b[43m)\u001b[49m \u001b[38;5;28;01mas\u001b[39;00m opened_file:\n\u001b[1;32m    792\u001b[0m     \u001b[38;5;28;01mif\u001b[39;00m _is_zipfile(opened_file):\n\u001b[1;32m    793\u001b[0m         \u001b[38;5;66;03m# The zipfile reader is going to advance the current file position.\u001b[39;00m\n\u001b[1;32m    794\u001b[0m         \u001b[38;5;66;03m# If we want to actually tail call to torch.jit.load, we need to\u001b[39;00m\n\u001b[1;32m    795\u001b[0m         \u001b[38;5;66;03m# reset back to the original position.\u001b[39;00m\n\u001b[1;32m    796\u001b[0m         orig_position \u001b[38;5;241m=\u001b[39m opened_file\u001b[38;5;241m.\u001b[39mtell()\n",
      "File \u001b[0;32m/state/partition1/llgrid/pkg/anaconda/python-LLM-2023b/lib/python3.10/site-packages/torch/serialization.py:271\u001b[0m, in \u001b[0;36m_open_file_like\u001b[0;34m(name_or_buffer, mode)\u001b[0m\n\u001b[1;32m    269\u001b[0m \u001b[38;5;28;01mdef\u001b[39;00m \u001b[38;5;21m_open_file_like\u001b[39m(name_or_buffer, mode):\n\u001b[1;32m    270\u001b[0m     \u001b[38;5;28;01mif\u001b[39;00m _is_path(name_or_buffer):\n\u001b[0;32m--> 271\u001b[0m         \u001b[38;5;28;01mreturn\u001b[39;00m \u001b[43m_open_file\u001b[49m\u001b[43m(\u001b[49m\u001b[43mname_or_buffer\u001b[49m\u001b[43m,\u001b[49m\u001b[43m \u001b[49m\u001b[43mmode\u001b[49m\u001b[43m)\u001b[49m\n\u001b[1;32m    272\u001b[0m     \u001b[38;5;28;01melse\u001b[39;00m:\n\u001b[1;32m    273\u001b[0m         \u001b[38;5;28;01mif\u001b[39;00m \u001b[38;5;124m'\u001b[39m\u001b[38;5;124mw\u001b[39m\u001b[38;5;124m'\u001b[39m \u001b[38;5;129;01min\u001b[39;00m mode:\n",
      "File \u001b[0;32m/state/partition1/llgrid/pkg/anaconda/python-LLM-2023b/lib/python3.10/site-packages/torch/serialization.py:252\u001b[0m, in \u001b[0;36m_open_file.__init__\u001b[0;34m(self, name, mode)\u001b[0m\n\u001b[1;32m    251\u001b[0m \u001b[38;5;28;01mdef\u001b[39;00m \u001b[38;5;21m__init__\u001b[39m(\u001b[38;5;28mself\u001b[39m, name, mode):\n\u001b[0;32m--> 252\u001b[0m     \u001b[38;5;28msuper\u001b[39m()\u001b[38;5;241m.\u001b[39m\u001b[38;5;21m__init__\u001b[39m(\u001b[38;5;28;43mopen\u001b[39;49m\u001b[43m(\u001b[49m\u001b[43mname\u001b[49m\u001b[43m,\u001b[49m\u001b[43m \u001b[49m\u001b[43mmode\u001b[49m\u001b[43m)\u001b[49m)\n",
      "\u001b[0;31mFileNotFoundError\u001b[0m: [Errno 2] No such file or directory: '../data/samples/origami_64_no_embed_reduction/cross_validation/IMR/chr_21_668_5.0_8.0.pt'"
     ]
    }
   ],
   "source": [
    "coord_dict = {\n",
    "    features_tag:Coordinates(features_fp),\n",
    "    no_features_tag:Coordinates(no_features_fp),\n",
    "    imr_tag:Coordinates(imr_conformation_fp),\n",
    "    gm_tag:Coordinates(gm_conformation_fp)\n",
    "}\n",
    "\n",
    "# Convert to nm\n",
    "for _,coords in coord_dict.items():\n",
    "    coords._values*= 100"
   ]
  },
  {
   "cell_type": "code",
   "execution_count": null,
   "id": "7649e10e-d31d-4c9c-927d-e924199c7e8d",
   "metadata": {},
   "outputs": [],
   "source": [
    "gm_hic = HiCDataset(gm_mcool_fp)\n",
    "imr_hic = HiCDataset(imr_mcool_fp)\n",
    "\n",
    "hic_maps = {\n",
    "    features_tag:gm_hic.fetch(features_chrom,features_start,features_stop,interp_nans=True),\n",
    "    no_features_tag:gm_hic.fetch(no_features_chrom,no_features_start,no_features_stop,interp_nans=True),\n",
    "    imr_tag:imr_hic.fetch(gm_imr_chrom,gm_imr_start,gm_imr_stop,interp_nans=True),\n",
    "    gm_tag:gm_hic.fetch(gm_imr_chrom,gm_imr_start,gm_imr_stop,interp_nans=True)\n",
    "}\n"
   ]
  },
  {
   "cell_type": "markdown",
   "id": "5fda75b4-8e9d-4622-887c-0787b9eea415",
   "metadata": {},
   "source": [
    "#### Process (if needed) or load (if possible) results for each region"
   ]
  },
  {
   "cell_type": "markdown",
   "id": "690a0e87-39df-4329-b1de-eb0d17934ce0",
   "metadata": {},
   "source": [
    "Convert coordinate data to NumPy arrays for use with the code written by Bintu et al. "
   ]
  },
  {
   "cell_type": "code",
   "execution_count": null,
   "id": "34aa50a8-f281-4ed6-a850-e9357710fa7e",
   "metadata": {},
   "outputs": [],
   "source": [
    "'''\n",
    "coord_dict_numpy = {\n",
    "    features_tag:coords_f.values.cpu().numpy(),\n",
    "    no_features_tag:coords_nf.values.cpu().numpy(),\n",
    "    imr_tag:imr_coords.values.cpu().numpy(),\n",
    "    gm_tag:gm_coords.values.cpu().numpy()\n",
    "}\n",
    "'''\n",
    "coord_dict_numpy = {\n",
    "    tag:coords.values.cpu().numpy() for tag,coords in coord_dict.items()\n",
    "}"
   ]
  },
  {
   "cell_type": "markdown",
   "id": "884a2ce2-a870-40b6-bafc-98900996b138",
   "metadata": {},
   "source": [
    "Process the data with code from Bintu (https://github.com/BogdanBintu/ChromatinImaging/blob/master/CommonTools/PostAnalysisTools.py)"
   ]
  },
  {
   "cell_type": "code",
   "execution_count": null,
   "id": "f50533b7-09f5-4a6e-b2df-24f8d334eb5c",
   "metadata": {},
   "outputs": [],
   "source": [
    "boundary_data = StandardBoundaryAnalysis(\n",
    "    [gm_tag,imr_tag],#list(coord_dict_numpy.keys()),\n",
    "    coord_dict_numpy,              \n",
    "    boundary_file=boundary_file,      # Save file\n",
    "    cols=[[[0,0,0],[0.5,0.5,0.5]]]*len(coord_dict_numpy), # Color values. Unused since plt_val==False, but necessary due to how StandardBoundaryAnalysis() was written\n",
    "    plt_val=False                     # Don't plot the results \n",
    ")"
   ]
  },
  {
   "cell_type": "markdown",
   "id": "109533f1-5300-4ef8-a774-1c2d62fcb5f3",
   "metadata": {},
   "source": [
    "#### Plot the results"
   ]
  },
  {
   "cell_type": "markdown",
   "id": "b9a5f32a-429f-42db-8961-baee37fee5b2",
   "metadata": {},
   "source": [
    "Plotting functions to avoid writing everything twice"
   ]
  },
  {
   "cell_type": "code",
   "execution_count": null,
   "id": "887a460d-10b1-4b8a-a110-c26a9b7bfa3c",
   "metadata": {},
   "outputs": [],
   "source": [
    "def label_ul_triangles(\n",
    "    ax,\n",
    "    upper_label,\n",
    "    lower_label,\n",
    "    buffer_frac=0.005,\n",
    "    color='black',\n",
    "    foreground='white',\n",
    "    linewidth=1,\n",
    "    fontsize='small'\n",
    "):\n",
    "\n",
    "    # Decide where to anchor the text\n",
    "    minn,maxx = ax.get_xlim()\n",
    "    buffer = (maxx-minn) * buffer_frac\n",
    "    high = maxx - buffer\n",
    "    low = minn + buffer\n",
    "    \n",
    "    # Label the upper triangle\n",
    "    ax.text(high,low,upper_label,horizontalalignment='right',verticalalignment='top',\n",
    "            color=color,path_effects=[pe.withStroke(linewidth=linewidth, foreground=foreground)],\n",
    "            fontsize=fontsize)\n",
    "    \n",
    "    # Label the lower triangle\n",
    "    ax.text(low,high,lower_label,horizontalalignment='left',verticalalignment='baseline',\n",
    "            color=color,path_effects=[pe.withStroke(linewidth=linewidth, foreground=foreground)],\n",
    "            fontsize=fontsize)\n",
    "\n",
    "def padded_lims(vals,pad_frac=0.05):\n",
    "    lims = [np.min(vals),np.max(vals)]\n",
    "    pad = (lims[1]-lims[0]) * pad_frac\n",
    "    return [lims[0]-pad,lims[1]+pad]\n",
    "                \n",
    "def make_plot(\n",
    "    tag1,\n",
    "    tag2,\n",
    "    distmaps1=(0,1), # Index of individual conformations to plot among tag1 data\n",
    "    distmaps2=(0,1), # Index of individual conformations to plot among tag2 data\n",
    "    hic_maps=hic_maps,\n",
    "    coord_dict=coord_dict,\n",
    "    boundary_data=boundary_data,\n",
    "    legend_text_size='medium',\n",
    "    colors = ['red','lightblue'],\n",
    "    chrom=None,\n",
    "    start=None,\n",
    "    stop=None\n",
    "):\n",
    "\n",
    "    # Select the relevant data from each dictionary \n",
    "    hic_map1 = hic_maps[tag1]\n",
    "    hic_map2 = hic_maps[tag2]\n",
    "    coords1 = coord_dict[tag1]\n",
    "    coords2 = coord_dict[tag2]\n",
    "    c1 = colors[0]\n",
    "    c2 = colors[1]\n",
    "\n",
    "    display_tags = [\n",
    "        tag1.split('\\\\')[0],\n",
    "        tag2.split('\\\\')[0]\n",
    "    ]\n",
    "\n",
    "    # Initialize the figure\n",
    "    #fig,axes = plt.subplots(nrows=4,ncols=1,figsize=(6.69291,7.08661/4),layout='constrained')\n",
    "\n",
    "    fig = plt.figure(figsize=(7.08661/4,6.69291),layout='constrained')\n",
    "    gs = GridSpec(8, 2, figure=fig)#,height_ratios=[1,1,1.5,1.5,1,1,1,1])\n",
    "    axes = (\n",
    "        fig.add_subplot(gs[:2, :]),   # Median distance maps\n",
    "        fig.add_subplot(gs[2:4, :]),\n",
    "        #( # Single cell distance maps\n",
    "        #    fig.add_subplot(gs[2,0]), # Tag 1, map 1\n",
    "        #    fig.add_subplot(gs[3,0]), # Tag 1, map 2\n",
    "        #    fig.add_subplot(gs[2,1]), # Tag 2, map 1\n",
    "        #    fig.add_subplot(gs[3,1])  # Tag 2, map 2\n",
    "        #),\n",
    "        fig.add_subplot(gs[4:6, :]),  # Boundary probabilities\n",
    "        fig.add_subplot(gs[6:,:])     # Boundary strength\n",
    "    )\n",
    "\n",
    "    # Hold all cbars to return in here\n",
    "    cbars = []\n",
    "\n",
    "\n",
    "    ######################\n",
    "    # Experimental Hi-C\n",
    "    ax = axes[0]\n",
    "    *_,cbar = hic_map1.plot_with(hic_map2,fig=fig,ax=ax,cbar_orientation='horizontal')\n",
    "    label_ul_triangles(ax,*display_tags)#tag1,tag2)\n",
    "    cbar.set_label(\"\")#Interaction frequency\")\n",
    "    cbars.append(cbar)\n",
    "    \n",
    "    ######################\n",
    "    # Median distance maps\n",
    "    ax = axes[1]\n",
    "    *_,cbar = coords1.distances.median.plot_with(coords2.distances.median,fig=fig,ax=ax,cbar_orientation='horizontal')\n",
    "    label_ul_triangles(ax,*display_tags)#tag1,tag2)\n",
    "    cbar.set_label(\"\")#Distance (nm)\")\n",
    "    cbars.append(cbar)\n",
    "\n",
    "    '''\n",
    "    ######################\n",
    "    # Single cell structures\n",
    "    conformations = [\n",
    "        coords1[distmaps1[0]].distances,\n",
    "        coords1[distmaps1[1]].distances,\n",
    "        coords2[distmaps2[0]].distances,\n",
    "        coords2[distmaps2[1]].distances\n",
    "    ]\n",
    "\n",
    "    vmaxes = [\n",
    "        max([c.values.max() for c in conformations[:2]]),\n",
    "        max([c.values.max() for c in conformations[2:]])\n",
    "    ]\n",
    "\n",
    "    cbars.append([])\n",
    "    for i in range(4):\n",
    "        ax = axes[1][i]\n",
    "        vmax = vmaxes[i//2]\n",
    "        *_,cbar = conformations[i].plot(fig=fig,ax=ax,cbar_orientation='horizontal',vmax=vmax)\n",
    "        ax.margins(.01)\n",
    "        if i % 2 == 0:\n",
    "            cbar.remove()\n",
    "        else:\n",
    "            cbar.set_label(\"Distance (nm)\")\n",
    "            cbars[1].append(cbar)\n",
    "        \n",
    "        if i == 0:\n",
    "            ax.set_title(tag1,fontsize='medium')\n",
    "        elif i==2:\n",
    "            ax.set_title(tag2,fontsize='medium')\n",
    "\n",
    "        ax.set_xlabel('')\n",
    "        ax.set_ylabel('')\n",
    "        cbar.set_label('')\n",
    "    '''\n",
    "\n",
    "    ######################\n",
    "    # Boundary probabilities & strengths (adapted from Bintu's code)\n",
    "\n",
    "    dic = boundary_data\n",
    "    prob_x_extremes = [np.inf,-np.inf]\n",
    "    prob_y_extremes = [np.inf,-np.inf]\n",
    "    hist_y_max = 0\n",
    "    for i,tag in enumerate([tag1,tag2]):\n",
    "\n",
    "        # Fetch the relevant data for this specific set of conformations\n",
    "        xs,means,rs,col = dic[tag]['xs'],dic[tag]['means'],dic[tag]['rs'],dic[tag]['col']\n",
    "        color = colors[i]\n",
    "    \n",
    "        # Probabilities plot\n",
    "        ax = axes[2]\n",
    "        ax.plot(xs,means,'.-',color=color,label=display_tags[i],alpha=.5)\n",
    "        prob_x_extremes[0] = min(prob_x_extremes[0],np.min(xs))\n",
    "        prob_x_extremes[1] = max(prob_x_extremes[1],np.max(xs))\n",
    "        prob_y_extremes[0] = min(prob_y_extremes[0],np.min(means))\n",
    "        prob_y_extremes[1] = max(prob_y_extremes[1],np.max(means))\n",
    "    \n",
    "        # Histogram\n",
    "        ax = axes[3]\n",
    "        vals,borders,_ =ax.hist(rs,bins=np.linspace(0.5,4,20),color=color,edgecolor='none',label=display_tags[i],alpha=.5,density=True)\n",
    "        hist_y_max = max(hist_y_max,np.max(vals))\n",
    "\n",
    "    ########\n",
    "    # Format the last two axes\n",
    "\n",
    "    ####\n",
    "    # Probabilities plot\n",
    "    ax = axes[2]\n",
    "\n",
    "    # Axis labels\n",
    "    ax.set_xlabel('Segment index')\n",
    "    ax.set_ylabel('Probability')\n",
    "\n",
    "    # Axis limits\n",
    "    ax.set_xlim(padded_lims(prob_x_extremes,.05))\n",
    "    ax.set_ylim(padded_lims([prob_y_extremes[0],prob_y_extremes[1]*1.15],.05))\n",
    "\n",
    "    # Legend\n",
    "    ax.legend(framealpha=0,fontsize=legend_text_size,loc='upper left')\n",
    "\n",
    "    ####\n",
    "    # Histogram\n",
    "    ax = axes[3]\n",
    "    vls = np.linspace(0,hist_y_max,5)\n",
    "    ax.set_yticks(vls,np.round(vls/len(rs),2))\n",
    "    ax.set_xlabel('Boundary strength')\n",
    "    ax.set_xlim([0,4])\n",
    "    ax.set_ylabel('Probability')\n",
    "    ax.legend(framealpha=0,fontsize=legend_text_size)\n",
    "\n",
    "    ax.yaxis.set_label_position(\"right\")\n",
    "    ax.yaxis.tick_right()\n",
    "\n",
    "    for ax in [axes[2],axes[3]]:\n",
    "        xlim = ax.get_xlim()\n",
    "        ylim = ax.get_ylim()\n",
    "        ax.set_aspect((xlim[1]-xlim[0])/(ylim[1]-ylim[0]))\n",
    "\n",
    "    suptitle = ''\n",
    "    if chrom is not None:\n",
    "        suptitle+= f'Chromosome {chrom}'\n",
    "\n",
    "    # Simply ignore the case where stop is given and start isn't for now \n",
    "    if start is not None: \n",
    "        if suptitle != '' and (start is not None or stop is not None):\n",
    "            suptitle+= ':\\n'\n",
    "        suptitle+= f'{round(start/1e6,2)}'\n",
    "        if stop is not None:\n",
    "            suptitle+= f'-{round(stop/1e6,2)}'\n",
    "        suptitle+= ' Mb'\n",
    "\n",
    "    if suptitle != '':\n",
    "        axes[0].set_title(suptitle)\n",
    "\n",
    "    return fig, axes, \n",
    "\n",
    "    "
   ]
  },
  {
   "cell_type": "code",
   "execution_count": null,
   "id": "1fe6f697-b0c2-4c61-9298-1f9dacf38143",
   "metadata": {},
   "outputs": [],
   "source": [
    "def label_ul_triangles(\n",
    "    ax,\n",
    "    upper_label,\n",
    "    lower_label,\n",
    "    buffer_frac=0.005,\n",
    "    color='black',\n",
    "    foreground='white',\n",
    "    linewidth=1,\n",
    "    fontsize='small'\n",
    "):\n",
    "\n",
    "    # Decide where to anchor the text\n",
    "    minn,maxx = ax.get_xlim()\n",
    "    buffer = (maxx-minn) * buffer_frac\n",
    "    high = maxx - buffer\n",
    "    low = minn + buffer\n",
    "    \n",
    "    # Label the upper triangle\n",
    "    ax.text(high,low,upper_label,horizontalalignment='right',verticalalignment='top',\n",
    "            color=color,path_effects=[pe.withStroke(linewidth=linewidth, foreground=foreground)],\n",
    "            fontsize=fontsize)\n",
    "    \n",
    "    # Label the lower triangle\n",
    "    ax.text(low,high,lower_label,horizontalalignment='left',verticalalignment='baseline',\n",
    "            color=color,path_effects=[pe.withStroke(linewidth=linewidth, foreground=foreground)],\n",
    "            fontsize=fontsize)\n",
    "\n",
    "def padded_lims(vals,pad_frac=0.05):\n",
    "    lims = [np.min(vals),np.max(vals)]\n",
    "    pad = (lims[1]-lims[0]) * pad_frac\n",
    "    return [lims[0]-pad,lims[1]+pad]\n",
    "                \n",
    "def make_plot(\n",
    "    tag1,\n",
    "    tag2,\n",
    "    distmaps1=(0,1), # Index of individual conformations to plot among tag1 data\n",
    "    distmaps2=(0,1), # Index of individual conformations to plot among tag2 data\n",
    "    hic_maps=hic_maps,\n",
    "    coord_dict=coord_dict,\n",
    "    boundary_data=boundary_data,\n",
    "    legend_text_size='medium',\n",
    "    colors = ['red','lightblue'],\n",
    "    chrom=None,\n",
    "    start=None,\n",
    "    stop=None\n",
    "):\n",
    "\n",
    "    # Select the relevant data from each dictionary \n",
    "    hic_map1 = hic_maps[tag1]\n",
    "    hic_map2 = hic_maps[tag2]\n",
    "    coords1 = coord_dict[tag1]\n",
    "    coords2 = coord_dict[tag2]\n",
    "    c1 = colors[0]\n",
    "    c2 = colors[1]\n",
    "\n",
    "    display_tags = [\n",
    "        tag1.split('\\\\')[0],\n",
    "        tag2.split('\\\\')[0]\n",
    "    ]\n",
    "\n",
    "    # Initialize the figure\n",
    "    fig,axes = plt.subplots(nrows=2,ncols=2,figsize=(6.69291*.4,6.69291*.5),layout='constrained')\n",
    "    \n",
    "    # Hold all cbars to return in here\n",
    "    cbars = []\n",
    "\n",
    "    ######################\n",
    "    # Experimental Hi-C\n",
    "    ax = axes[0][0]\n",
    "    *_,cbar = hic_map1.plot_with(hic_map2,fig=fig,ax=ax,cbar_orientation='horizontal')\n",
    "    label_ul_triangles(ax,*display_tags)#tag1,tag2)\n",
    "    cbar.set_label(\"Interaction frequency\")\n",
    "    cbars.append(cbar)\n",
    "    #print(cbar.get_yticklabels())\n",
    "    cbar.set_ticks([1.e-02,1.e+00])#,labels=[])\n",
    "    cbar.ax.minorticks_off()\n",
    "    \n",
    "    ######################\n",
    "    # Median distance maps\n",
    "    ax = axes[0][1]\n",
    "\n",
    "    d1 = coords1.distances.median\n",
    "    d2 = coords2.distances.median\n",
    "    n = d1.num_beads\n",
    "    i,j = torch.triu_indices(n,n,1)\n",
    "    vmin = min(d1.values[0,i,j].min(),d2.values[0,i,j].min())\n",
    "    vmax = max(d1.values[0,i,j].max(),d2.values[0,i,j].max())\n",
    "    _,_,_,cbar=d1.plot_with(d2,fig=fig,ax=ax,cbar_orientation='horizontal',vmin=vmin)\n",
    "    #*_,cbar = coords1.distances.median.plot_with(coords2.distances.median,fig=fig,ax=ax,cbar_orientation='horizontal')\n",
    "    label_ul_triangles(ax,*display_tags)#tag1,tag2)\n",
    "    cbar.set_label(\"Distance (nm)\")\n",
    "    vmax = vmax//100 * 100\n",
    "    vmin1 = vmin//100 * 100\n",
    "    while vmin1 < vmin:\n",
    "        vmin1+=50\n",
    "    vmax = int(vmax)\n",
    "    vmin1 = int(vmin1)\n",
    "    cbar.set_ticks([vmin1,vmax],labels=['$\\\\mathdefault{'+f'{vmin1}'+'}$','$\\\\mathdefault{'+f'{vmax}'+'}$'])\n",
    "    ax.set_ylabel('')\n",
    "    cbars.append(cbar)\n",
    "\n",
    "    '''\n",
    "    ######################\n",
    "    # Single cell structures\n",
    "    conformations = [\n",
    "        coords1[distmaps1[0]].distances,\n",
    "        coords1[distmaps1[1]].distances,\n",
    "        coords2[distmaps2[0]].distances,\n",
    "        coords2[distmaps2[1]].distances\n",
    "    ]\n",
    "\n",
    "    vmaxes = [\n",
    "        max([c.values.max() for c in conformations[:2]]),\n",
    "        max([c.values.max() for c in conformations[2:]])\n",
    "    ]\n",
    "\n",
    "    cbars.append([])\n",
    "    for i in range(4):\n",
    "        ax = axes[1][i]\n",
    "        vmax = vmaxes[i//2]\n",
    "        *_,cbar = conformations[i].plot(fig=fig,ax=ax,cbar_orientation='horizontal',vmax=vmax)\n",
    "        ax.margins(.01)\n",
    "        if i % 2 == 0:\n",
    "            cbar.remove()\n",
    "        else:\n",
    "            cbar.set_label(\"Distance (nm)\")\n",
    "            cbars[1].append(cbar)\n",
    "        \n",
    "        if i == 0:\n",
    "            ax.set_title(tag1,fontsize='medium')\n",
    "        elif i==2:\n",
    "            ax.set_title(tag2,fontsize='medium')\n",
    "\n",
    "        ax.set_xlabel('')\n",
    "        ax.set_ylabel('')\n",
    "        cbar.set_label('')\n",
    "    '''\n",
    "\n",
    "    ######################\n",
    "    # Boundary probabilities & strengths (adapted from Bintu's code)\n",
    "\n",
    "    dic = boundary_data\n",
    "    prob_x_extremes = [np.inf,-np.inf]\n",
    "    prob_y_extremes = [np.inf,-np.inf]\n",
    "    hist_y_max = 0\n",
    "    for i,tag in enumerate([tag1,tag2]):\n",
    "\n",
    "        # Fetch the relevant data for this specific set of conformations\n",
    "        xs,means,rs,col = dic[tag]['xs'],dic[tag]['means'],dic[tag]['rs'],dic[tag]['col']\n",
    "        color = colors[i]\n",
    "    \n",
    "        # Probabilities plot\n",
    "        ax = axes[1][0]\n",
    "        ax.plot(xs,means,'.-',color=color,label=display_tags[i],alpha=.5)\n",
    "        prob_x_extremes[0] = min(prob_x_extremes[0],np.min(xs))\n",
    "        prob_x_extremes[1] = max(prob_x_extremes[1],np.max(xs))\n",
    "        prob_y_extremes[0] = min(prob_y_extremes[0],np.min(means))\n",
    "        prob_y_extremes[1] = max(prob_y_extremes[1],np.max(means))\n",
    "    \n",
    "        # Histogram\n",
    "        ax = axes[1][1]\n",
    "        vals,borders,_ =ax.hist(rs,bins=np.linspace(0.5,4,20),color=color,edgecolor='none',label=display_tags[i],alpha=.5)#,\n",
    "                               #density=True)\n",
    "        hist_y_max = max(hist_y_max,np.max(vals))\n",
    "\n",
    "    ########\n",
    "    # Format the last two axes\n",
    "\n",
    "    ####\n",
    "    # Probabilities plot\n",
    "    ax = axes[1][0]\n",
    "\n",
    "    # Axis labels\n",
    "    ax.set_xlabel('Segment index')\n",
    "    ax.set_ylabel('Probability')\n",
    "\n",
    "    # Axis limits\n",
    "    ax.set_xlim(padded_lims(prob_x_extremes,.05)) # ymax=1.15*extreme in the other region\n",
    "    ax.set_ylim(padded_lims([prob_y_extremes[0],prob_y_extremes[1]*1.35],.05))\n",
    "\n",
    "    # Legend\n",
    "    ax.legend(framealpha=0,fontsize=legend_text_size,loc='upper left')\n",
    "\n",
    "    ####\n",
    "    # Histogram\n",
    "    ax = axes[1][1]\n",
    "    vls = np.linspace(0,hist_y_max,5)\n",
    "    ax.set_yticks(vls,np.round(vls/len(rs),2))\n",
    "    ax.set_xlabel('Boundary strength')\n",
    "    ax.set_xlim([0,4])\n",
    "    ax.set_ylabel('Probability')\n",
    "    ax.legend(framealpha=0,fontsize=legend_text_size)\n",
    "\n",
    "    ax.yaxis.set_label_position(\"right\")\n",
    "    ax.yaxis.tick_right()\n",
    "\n",
    "    for ax in [axes[1][0],axes[1][1]]:\n",
    "        xlim = ax.get_xlim()\n",
    "        ylim = ax.get_ylim()\n",
    "        ax.set_aspect((xlim[1]-xlim[0])/(ylim[1]-ylim[0]))\n",
    "\n",
    "    suptitle = ''\n",
    "    if chrom is not None:\n",
    "        suptitle+= f'Chromosome {chrom}'\n",
    "\n",
    "    # Simply ignore the case where stop is given and start isn't for now \n",
    "    if start is not None:\n",
    "        if suptitle != '':\n",
    "            suptitle+= ': '\n",
    "        suptitle+= f'{round(start/1e6,2)}'\n",
    "        if stop is not None:\n",
    "            suptitle+= f'-{round(stop/1e6,2)}'\n",
    "        suptitle+= ' Mb'\n",
    "\n",
    "    if suptitle != '':\n",
    "        #axes[0].set_title(suptitle)\n",
    "        fig.suptitle(suptitle)\n",
    "\n",
    "    return fig, axes, \n",
    "\n",
    "    "
   ]
  },
  {
   "cell_type": "code",
   "execution_count": null,
   "id": "e60f1fc1-35a7-4571-bf82-488ebeeafeb2",
   "metadata": {},
   "outputs": [],
   "source": [
    "if not os.path.exists(save_folder):\n",
    "    os.makedirs(save_folder)"
   ]
  },
  {
   "cell_type": "code",
   "execution_count": null,
   "id": "4511c012-9e89-4858-bcfe-eeef57b2b7c9",
   "metadata": {},
   "outputs": [],
   "source": [
    "fig,axes=make_plot(gm_tag,imr_tag,legend_text_size='small',chrom=gm_imr_chrom,start=gm_imr_start,stop=gm_imr_stop)\n",
    "\n",
    "fig.savefig(save_folder + f'GM_IMR_comparison_{gm_imr_chrom}_{gm_imr_start}.pdf')"
   ]
  },
  {
   "cell_type": "markdown",
   "id": "bed08799-35c2-4265-9893-b10fff0699ed",
   "metadata": {},
   "source": [
    "#### Show distance maps, as well"
   ]
  },
  {
   "cell_type": "markdown",
   "id": "e38f4caf-4035-45e9-82fc-593a1f70d309",
   "metadata": {},
   "source": [
    "Identify the cells with the strongest boundaries"
   ]
  },
  {
   "cell_type": "code",
   "execution_count": null,
   "id": "feec7fec-1bfd-4116-868a-633fbf098aad",
   "metadata": {},
   "outputs": [],
   "source": [
    "all_gm_scores = []\n",
    "[all_gm_scores.extend(scores_) for scores_ in boundary_data[gm_tag]['scorebds_cells']]\n",
    "all_imr_scores = []\n",
    "[all_imr_scores.extend(scores_) for scores_ in boundary_data[imr_tag]['scorebds_cells']]\n",
    "\n",
    "all_gm_scores = torch.tensor(all_gm_scores)\n",
    "all_imr_scores = torch.tensor(all_imr_scores)\n",
    "\n",
    "'''\n",
    "nbins = 100\n",
    "maxx = max(scores1.max(),scores2.max())\n",
    "minn = min(scores1.min(),scores2.min())\n",
    "delta = (maxx - minn) / nbins\n",
    "bins = torch.arange(minn,maxx+delta/2,delta)\n",
    "\n",
    "plt.hist(scores1,bins=bins,alpha=.5,density=True)\n",
    "plt.hist(scores2,bins=bins,alpha=.5,density=True);\n",
    "''';"
   ]
  },
  {
   "cell_type": "code",
   "execution_count": null,
   "id": "25297508-de4b-4707-9a39-8c55626cf7a3",
   "metadata": {},
   "outputs": [],
   "source": [
    "scores1 = torch.tensor([\n",
    "    torch.tensor( v ).sort(descending=True).values[:2].tolist() for v in boundary_data[gm_tag]['scorebds_cells']\n",
    "])\n",
    "scores2 = torch.tensor([\n",
    "    torch.tensor( v ).sort(descending=True).values[:2].tolist() for v in boundary_data[imr_tag]['scorebds_cells']\n",
    "])"
   ]
  },
  {
   "cell_type": "code",
   "execution_count": null,
   "id": "18f3cb56-6ced-4fe0-872f-c5098e30ae69",
   "metadata": {},
   "outputs": [],
   "source": [
    "gm_scores = torch.tensor([\n",
    "    torch.tensor(v).mean() for v in boundary_data[gm_tag]['scorebds_cells']\n",
    "])\n",
    "imr_scores = torch.tensor([\n",
    "    torch.tensor( v ).mean() for v in boundary_data[imr_tag]['scorebds_cells']\n",
    "])\n",
    "\n",
    "nbounds_gm = torch.tensor([\n",
    "    len(v) for v in boundary_data[gm_tag]['scorebds_cells']\n",
    "])\n",
    "nbounds_imr = torch.tensor([\n",
    "    len(v) for v in boundary_data[imr_tag]['scorebds_cells']\n",
    "])\n",
    "\n"
   ]
  },
  {
   "cell_type": "code",
   "execution_count": null,
   "id": "b0f99ef3-9981-4d0a-8c7d-daa03b1ee986",
   "metadata": {},
   "outputs": [],
   "source": [
    "gm_dists = coord_dict[gm_tag].distances\n",
    "imr_dists = coord_dict[imr_tag].distances"
   ]
  },
  {
   "cell_type": "code",
   "execution_count": null,
   "id": "d65aeaec-fc17-452a-8adb-f5beeea8c401",
   "metadata": {},
   "outputs": [],
   "source": []
  },
  {
   "cell_type": "code",
   "execution_count": null,
   "id": "1c9fc03c-9105-4391-a180-63edfa8e21d1",
   "metadata": {},
   "outputs": [],
   "source": [
    "gm_idx = torch.where( nbounds_gm == 3 )[0]\n",
    "gm_idx = gm_idx[ gm_scores[gm_idx].sort(descending=True).indices ][:3:2]\n",
    "\n",
    "imr_idx = torch.where( nbounds_imr == 3 )[0]\n",
    "imr_idx = imr_idx[ imr_scores[imr_idx].sort(descending=True).indices ][:2]\n",
    "\n",
    "fig,axes = plt.subplots(ncols=2,nrows=2,figsize=(8,8),layout='constrained')\n",
    "\n",
    "gm_dists[gm_idx[0]].plot(fig=fig,ax=axes[0][0],vmax=1500)\n",
    "gm_dists[gm_idx[1]].plot(fig=fig,ax=axes[0][1],vmax=1500)\n",
    "imr_dists[imr_idx[0]].plot(fig=fig,ax=axes[1][0],vmax=1500)\n",
    "imr_dists[imr_idx[1]].plot(fig=fig,ax=axes[1][1],vmax=1500)"
   ]
  },
  {
   "cell_type": "code",
   "execution_count": null,
   "id": "dbac5bc5-3700-4eec-92ea-2a26a505d91e",
   "metadata": {},
   "outputs": [],
   "source": [
    "scores1[:,1].sort(descending=True)"
   ]
  },
  {
   "cell_type": "code",
   "execution_count": null,
   "id": "2688e24a-ff88-4380-bfd4-7863caf002ac",
   "metadata": {},
   "outputs": [],
   "source": [
    "#gm_dists = coord_dict[gm_tag][scores1.sort(descending=True).indices[4:6]].distances\n",
    "#imr_dists = coord_dict[imr_tag][scores2.sort(descending=True).indices[4:6]].distances\n",
    "\n",
    "gm_dists = coord_dict[gm_tag][scores1.mean(1).sort(descending=True).indices[2::7]].distances\n",
    "imr_dists = coord_dict[imr_tag][scores2.mean(1).sort(descending=True).indices[1:4:2]].distances\n",
    "\n",
    "fig,axes = plt.subplots(ncols=2,nrows=2,figsize=(3,3),layout='constrained')\n",
    "vmax = 1500\n",
    "vmin = 0\n",
    "####\n",
    "# GM12878\n",
    "# Upper left\n",
    "_,ax,_,cbar = gm_dists[0].plot(fig=fig,ax=axes[0][0],vmin=vmin,vmax=vmax,cbar_orientation='horizontal')\n",
    "cbar.remove()\n",
    "ax.set_xlabel('')\n",
    "ax.set_title('GM12878')\n",
    "\n",
    "# Lower left\n",
    "_,ax,_,cbar = gm_dists[1].plot(fig=fig,ax=axes[1][0],vmin=vmin,vmax=vmax,cbar_orientation='horizontal')\n",
    "ax.set_xlabel('')\n",
    "#ax.set_ylabel('')\n",
    "cbar.set_label(\"Distance (nm)\")\n",
    "cbar.set_ticks([vmin,vmax],labels=['$\\\\mathdefault{'+f'{vmin}'+'}$','$\\\\mathdefault{'+f'{vmax}'+'}$'])\n",
    "\n",
    "####\n",
    "# IMR-90\n",
    "# Upper right\n",
    "_,ax,_,cbar = imr_dists[0].plot(fig=fig,ax=axes[0][1],vmin=vmin,vmax=vmax,cbar_orientation='horizontal')\n",
    "cbar.remove()\n",
    "ax.set_ylabel('')\n",
    "ax.set_title('IMR-90')\n",
    "\n",
    "# Lower right\n",
    "_,ax,_,cbar = imr_dists[1].plot(fig=fig,ax=axes[1][1],vmin=vmin,vmax=vmax,cbar_orientation='horizontal')\n",
    "ax.set_ylabel('')\n",
    "cbar.set_ticks([vmin,vmax],labels=['$\\\\mathdefault{'+f'{vmin}'+'}$','$\\\\mathdefault{'+f'{vmax}'+'}$'])\n",
    "cbar.set_label('Distance (nm)')\n",
    "\n",
    "fig.savefig(save_folder + 'distance_maps.pdf',transparent=True)"
   ]
  },
  {
   "cell_type": "code",
   "execution_count": null,
   "id": "e0e88cf3-9482-41d4-8395-8af43c9bc9c8",
   "metadata": {},
   "outputs": [],
   "source": []
  },
  {
   "cell_type": "code",
   "execution_count": null,
   "id": "654bbe36-d3eb-4d95-ba45-d83d3f15f0ba",
   "metadata": {},
   "outputs": [],
   "source": [
    "gm_dists = coord_dict[gm_tag].distances\n",
    "\n",
    "best_gm = (gm_dists.values - imr_dists[1].values).square().sum((-1,-2)).sort(descending=False).indices\n",
    "\n",
    "fig,axes = plt.subplots(ncols=2,nrows=2,figsize=(8,8),layout='constrained')\n",
    "gm_dists[best_gm[0]].plot(fig=fig,ax=axes[0][0])#,vmax=1000)\n",
    "gm_dists[best_gm[1]].plot(fig=fig,ax=axes[0][1])#,vmax=1000)\n",
    "imr_dists[0].plot(fig=fig,ax=axes[1][0])#,vmax=1000)\n",
    "imr_dists[1].plot(fig=fig,ax=axes[1][1])#,vmax=1001)"
   ]
  },
  {
   "cell_type": "code",
   "execution_count": null,
   "id": "1878a5bd-df1f-4570-a37d-667ae463b823",
   "metadata": {},
   "outputs": [],
   "source": [
    "imr_dists = coord_dict[imr_tag].distances\n",
    "imr_mean = imr_dists.mean\n",
    "best_imr = (imr_dists.values - imr_mean.values).square().sum((-1,-2)).sort(descending=False).indices\n",
    "\n",
    "gm_dists = coord_dict[gm_tag].distances\n",
    "best_gm = (gm_dists.values - imr_mean.values).square().sum((-1,-2)).sort(descending=False).indices"
   ]
  },
  {
   "cell_type": "code",
   "execution_count": null,
   "id": "efc59eb0-a34a-4fba-844a-02c40a9c051e",
   "metadata": {},
   "outputs": [],
   "source": [
    "fig,axes = plt.subplots(ncols=2,nrows=2,figsize=(8,8),layout='constrained')\n",
    "gm_dists[best_gm[0]].plot(fig=fig,ax=axes[0][0])#,vmax=1000)\n",
    "gm_dists[best_gm[1]].plot(fig=fig,ax=axes[0][1])#,vmax=1000)\n",
    "imr_dists[best_imr[0]].plot(fig=fig,ax=axes[1][0])#,vmax=1000)\n",
    "imr_dists[best_imr[1]].plot(fig=fig,ax=axes[1][1])#,vmax=1001)"
   ]
  },
  {
   "cell_type": "code",
   "execution_count": null,
   "id": "f9c55b57-a3af-42eb-9c8a-a1f5b48ed9ec",
   "metadata": {},
   "outputs": [],
   "source": [
    "m1 = all_gm_scores.median()\n",
    "m2 = all_imr_scores.median()\n",
    "(m1-m2)/m2"
   ]
  },
  {
   "cell_type": "code",
   "execution_count": null,
   "id": "bc4c5d22-9df0-4141-8518-6c8348961858",
   "metadata": {},
   "outputs": [],
   "source": [
    "m1,m2"
   ]
  },
  {
   "cell_type": "code",
   "execution_count": null,
   "id": "afa2b078-dfb1-43a1-91a7-88fcd318c452",
   "metadata": {},
   "outputs": [],
   "source": []
  },
  {
   "cell_type": "code",
   "execution_count": null,
   "id": "ff4258e7-6520-42df-be41-b078510ab9d8",
   "metadata": {},
   "outputs": [],
   "source": []
  },
  {
   "cell_type": "code",
   "execution_count": null,
   "id": "3f0c8d95-4d4c-4e93-b8f1-17c4ebf74e4a",
   "metadata": {},
   "outputs": [],
   "source": [
    "gm_dists = Coordinates(gm_conformation_fp).float().distances\n",
    "imr_dists = Coordinates(imr_conformation_fp).float().distances\n",
    "gm_dists._values*= 100\n",
    "imr_dists._values*= 100"
   ]
  },
  {
   "cell_type": "code",
   "execution_count": null,
   "id": "05e36432-d0fc-45bd-9854-9d924602acfa",
   "metadata": {},
   "outputs": [],
   "source": []
  },
  {
   "cell_type": "code",
   "execution_count": null,
   "id": "e2941c98-09fa-4005-82b4-079cc1f61e3c",
   "metadata": {},
   "outputs": [],
   "source": [
    "a = Coordinates(features_fp).float().distances\n",
    "a._values*= 100\n",
    "a.median.plot(vmax=800,vmin=125)\n",
    "a.median.plot()"
   ]
  },
  {
   "cell_type": "code",
   "execution_count": null,
   "id": "5e596b1a-ccc8-47a1-a11d-a9c8d944b235",
   "metadata": {},
   "outputs": [],
   "source": [
    "hic_maps['Chromosome 1: 17.12-18.4 Mb'].plot()"
   ]
  },
  {
   "cell_type": "code",
   "execution_count": null,
   "id": "cb46c1a5-e9d6-42c0-a9d4-8634a5f2f25e",
   "metadata": {},
   "outputs": [],
   "source": []
  },
  {
   "cell_type": "code",
   "execution_count": null,
   "id": "11a46005-c15d-4ab3-84ee-b0083ca06faf",
   "metadata": {},
   "outputs": [],
   "source": []
  },
  {
   "cell_type": "code",
   "execution_count": null,
   "id": "537b6e7a-dfcf-420c-845d-a49d761b426a",
   "metadata": {},
   "outputs": [],
   "source": []
  },
  {
   "cell_type": "code",
   "execution_count": null,
   "id": "6ad56b93-b839-4ffa-aca5-0b492e13b573",
   "metadata": {},
   "outputs": [],
   "source": []
  },
  {
   "cell_type": "code",
   "execution_count": null,
   "id": "52c49acf-a432-47ec-b4ad-cada429fc298",
   "metadata": {},
   "outputs": [],
   "source": []
  },
  {
   "cell_type": "code",
   "execution_count": null,
   "id": "521be4e8-b61d-4ee2-aaf2-f9fa2336319a",
   "metadata": {},
   "outputs": [],
   "source": [
    "asdf"
   ]
  },
  {
   "cell_type": "code",
   "execution_count": null,
   "id": "580e1471-1f54-4714-b9dd-01662a3dd90a",
   "metadata": {},
   "outputs": [],
   "source": [
    "#a = Coordinates('/home/gridsan/gschuette/binz_group_shared/gkks/with_Zhuohan/conformations/unguided.pt')\n",
    "a = Coordinates('/home/gridsan/gschuette/binz_group_shared/gkks/with_Zhuohan/conformations/Tan/unguided_equivalent.pt')"
   ]
  },
  {
   "cell_type": "code",
   "execution_count": null,
   "id": "5818d08c-8974-4304-9d65-434d9d452633",
   "metadata": {},
   "outputs": [],
   "source": [
    "d = a.distances"
   ]
  },
  {
   "cell_type": "code",
   "execution_count": null,
   "id": "ced48078-dc10-4b42-b8b1-4f8d87b33fd6",
   "metadata": {},
   "outputs": [],
   "source": [
    "dm = d.mean_by_bond_separation"
   ]
  },
  {
   "cell_type": "code",
   "execution_count": null,
   "id": "581c8b11-8f47-4109-9b56-daaa17b87b4c",
   "metadata": {},
   "outputs": [],
   "source": [
    "i,j = torch.triu_indices(64,64,1)"
   ]
  },
  {
   "cell_type": "code",
   "execution_count": null,
   "id": "36fd9c8f-7af4-4581-92a5-71f4d75608f6",
   "metadata": {},
   "outputs": [],
   "source": [
    "x = torch.arange(20,64)\n",
    "y = dm.values[0,0,x]"
   ]
  },
  {
   "cell_type": "code",
   "execution_count": null,
   "id": "77dbbe4a-4603-4910-90fd-ebbe39cfdeaa",
   "metadata": {},
   "outputs": [],
   "source": [
    "plt.plot(x,y)\n",
    "plt.xscale('log')\n",
    "plt.yscale('log')"
   ]
  },
  {
   "cell_type": "code",
   "execution_count": null,
   "id": "b29da6d7-5772-4490-85b5-df77b7b89348",
   "metadata": {},
   "outputs": [],
   "source": [
    "np.polyfit(x.log().numpy(),y.log().numpy(),1)"
   ]
  },
  {
   "cell_type": "code",
   "execution_count": null,
   "id": "80bfd4b6-4e26-4490-8982-5413dc8b2b22",
   "metadata": {},
   "outputs": [],
   "source": [
    "1/0.35970244"
   ]
  },
  {
   "cell_type": "code",
   "execution_count": null,
   "id": "1842ecb2-ad5e-4687-9454-d57016fd9d37",
   "metadata": {},
   "outputs": [],
   "source": [
    "sys.path.insert(2,'../code/data_utils/')\n",
    "from ConfigDataset import ConfigDataset"
   ]
  },
  {
   "cell_type": "code",
   "execution_count": null,
   "id": "c9090721-a57e-4c0a-8546-d391b791b459",
   "metadata": {},
   "outputs": [],
   "source": [
    "config_ds = ConfigDataset(\n",
    "    '../data/processed_data.hdf5',\n",
    "    segment_length=64,\n",
    "    remove_diagonal=False,\n",
    "    batch_size=0,\n",
    "    normalize_distances=False,\n",
    "    geos=None,\n",
    "    organisms=None,\n",
    "    cell_types=None,\n",
    "    cell_numbers=None,\n",
    "    chroms=['1','2','3','4','5'],\n",
    "    replicates=None,\n",
    "    shuffle=True,\n",
    "    allow_overlap=False,\n",
    "    two_channels=False,\n",
    "    try_GPU=True,\n",
    "    mean_dist_fp='../data/mean_dists.pt',\n",
    "    mean_sq_dist_fp='../data/squares.pt'\n",
    ")"
   ]
  },
  {
   "cell_type": "code",
   "execution_count": null,
   "id": "ae8fa0ca-85c9-4f26-b637-d3b25fa37e75",
   "metadata": {},
   "outputs": [],
   "source": [
    "genomic_regions = config_ds.get_genomic_regions()"
   ]
  },
  {
   "cell_type": "code",
   "execution_count": null,
   "id": "429b16a2-b54c-4858-8c6d-fb097a264e4b",
   "metadata": {},
   "outputs": [],
   "source": [
    "hic = []\n",
    "dist = []\n",
    "i,j = torch.triu_indices(64,64,10)\n",
    "for _,row in genomic_regions.iterrows():\n",
    "\n",
    "    hic_map = gm_hic.fetch( row.Chromosome, row.Start, row.Stop )\n",
    "\n",
    "    hic_data = hic_map.prob_map[i,j]\n",
    "    idx = torch.where(hic_data.isfinite())[0]\n",
    "\n",
    "    hic.append(hic_data[idx])\n",
    "    dist.append(\n",
    "        Coordinates(\n",
    "            config_ds.fetch_specific_coords(row.Chromosome,row.Start)[1]\n",
    "        ).distances.median.values[0,i,j][idx]\n",
    "    )\n",
    "\n",
    "hic = torch.cat(hic)\n",
    "dist = torch.cat(dist)"
   ]
  },
  {
   "cell_type": "code",
   "execution_count": null,
   "id": "60c683ad-0c91-4e45-a63b-1295e3a98c26",
   "metadata": {},
   "outputs": [],
   "source": [
    "np.polyfit(hic.log().numpy(),dist.log().numpy(),1)"
   ]
  },
  {
   "cell_type": "code",
   "execution_count": null,
   "id": "ffe8e609-932e-4c91-894b-b1248bcd5518",
   "metadata": {},
   "outputs": [],
   "source": [
    "(torch.randn(1_000_000) * .2).std()"
   ]
  },
  {
   "cell_type": "code",
   "execution_count": null,
   "id": "8700573f-cdde-45b8-90cb-4d8e4ee9efc0",
   "metadata": {},
   "outputs": [],
   "source": [
    "sys.path.insert(2,'../code/diffusion_compartmental/model_files')\n",
    "sys.path.insert(3,'../code/Sampler/')\n",
    "from Sampler import Sampler"
   ]
  },
  {
   "cell_type": "code",
   "execution_count": null,
   "id": "5b4b0ec7-19f2-40ee-8da9-cff297f4e3db",
   "metadata": {},
   "outputs": [],
   "source": [
    "sampler = Sampler(\n",
    "    model_dir='../data/models/diffusion_origami_64_no_embed_reduction/',\n",
    "    save_file=None,\n",
    "    samples_device=torch.device('cpu'),\n",
    "    # U-Net options\n",
    "    dim=64,\n",
    "    cond_drop_prob = 0.,\n",
    "    init_dim = None,\n",
    "    out_dim = None,\n",
    "    dim_mults=(1, 2, 4, 8),\n",
    "    channels = 2,\n",
    "    resnet_block_groups = 8,\n",
    "    learned_variance = False,\n",
    "    learned_sinusoidal_cond = False,\n",
    "    random_fourier_features = False,\n",
    "    learned_sinusoidal_dim = 16,\n",
    "    attn_dim_head = 32,\n",
    "    attn_heads = 4,\n",
    "    embedding_dimensions=(1,256,256),\n",
    "    # Diffusion model options\n",
    "    image_size=32,\n",
    "    timesteps = 1000,\n",
    "    sampling_timesteps = None,\n",
    "    objective = 'pred_noise',\n",
    "    beta_schedule = 'cosine',\n",
    "    ddim_sampling_eta = 1.,\n",
    "    offset_noise_strength = 0.,\n",
    "    min_snr_loss_weight = False,\n",
    "    min_snr_gamma = 5,\n",
    "    cond_scale=None,\n",
    "    rescaled_phi=None\n",
    ")\n"
   ]
  },
  {
   "cell_type": "code",
   "execution_count": null,
   "id": "cab69de0-e0d4-4cf4-bfbd-30cc12d39321",
   "metadata": {},
   "outputs": [],
   "source": [
    "dists = Coordinates('../data/samples/origami_64_no_embed_reduction/eval_mode/unused/sample_395_1.0_0.0_120_1.pt').distances"
   ]
  },
  {
   "cell_type": "code",
   "execution_count": null,
   "id": "6581bb19-96e2-4e34-bd28-356ad4ce90c3",
   "metadata": {},
   "outputs": [],
   "source": [
    "dists.median.plot()"
   ]
  },
  {
   "cell_type": "code",
   "execution_count": null,
   "id": "ce1881ac-3097-421e-827d-726f7a5372f6",
   "metadata": {},
   "outputs": [],
   "source": [
    "from Distances import Distances\n",
    "from HiCMap import HiCMap\n",
    "def conformations_to_probs(conformations,sigma=3.72,r_c=1.5,return_map=True):\n",
    "\n",
    "    if type(conformations) == torch.Tensor:\n",
    "        try:\n",
    "            conformations = Coordinates(conformations)\n",
    "        except:\n",
    "            conformations = Distances(conformations).unfold().unnormalize()\n",
    "    \n",
    "    p = conformations.distances.values.clone()\n",
    "    \n",
    "    mask = p < r_c\n",
    "    p[mask] = ( (sigma*(r_c-p[mask])).tanh() + 1 )/2\n",
    "    mask^= True\n",
    "    p[mask] = (r_c/p[mask])**3.45 / 2\n",
    "    if return_map:\n",
    "        p = p.mean(0)\n",
    "        return HiCMap(p)\n",
    "    else:\n",
    "        return p"
   ]
  },
  {
   "cell_type": "code",
   "execution_count": null,
   "id": "721b421b-57b0-4197-bf2f-85d9ea89ec93",
   "metadata": {},
   "outputs": [],
   "source": [
    "gen_map = conformations_to_probs(dists)\n",
    "exp_map = gm_hic.fetch('1',7_380_000,8_660_000)\n",
    "\n",
    "exp_map.prob_map/= torch.nanmean(exp_map.prob_map[range(63),range(1,64)])\n",
    "exp_map.plot_with(gen_map)"
   ]
  },
  {
   "cell_type": "code",
   "execution_count": null,
   "id": "a67eb63a-0554-4070-b8ac-9f0b5e2bdba2",
   "metadata": {},
   "outputs": [],
   "source": [
    "from tqdm.auto import tqdm\n",
    "from torcheval.metrics.functional import r2_score\n",
    "\n",
    "def optimize_subset(conformations,target_map,num_iterations=25_000,lr=.001):\n",
    "\n",
    "    n = conformations.num_beads\n",
    "    assert n == target_map.prob_map.shape[-1]\n",
    "\n",
    "    i,j = torch.triu_indices(n,n,1)\n",
    "    \n",
    "    probs = conformations_to_probs(conformations,sigma=3.72,r_c=1.5,return_map=False)[:,i,j].float()\n",
    "\n",
    "    target = target_map.prob_map.float()\n",
    "    target = target[i,j] / torch.nanmean(target[range(n-1),range(1,n)])\n",
    "\n",
    "    N = len(conformations)\n",
    "    weights = torch.ones(N,1)#.fill_(1/N)\n",
    "\n",
    "    with tqdm(total=num_iterations,initial=0) as pbar:\n",
    "        \n",
    "        for i in range(num_iterations):\n",
    "\n",
    "            temp_weights = weights.clone()\n",
    "            temp_weights.requires_grad_(True)\n",
    "\n",
    "            mean_probs = (temp_weights/temp_weights.sum() * probs).sum(0)\n",
    "\n",
    "            #loss = 1 - r2_score(mean_probs,target)\n",
    "            loss = (mean_probs - target).square().sum()\n",
    "            loss.backward()\n",
    "\n",
    "            weights-= lr * temp_weights.grad.data\n",
    "\n",
    "            weights.clip_(min=0)\n",
    "            #weights/= weights.sum()\n",
    "\n",
    "            if i==0:\n",
    "                pbar.set_description(f'loss: {loss:.4f}')\n",
    "                \n",
    "            if (i+1)%100 == 0:\n",
    "                pbar.set_description(f'loss: {loss:.4f}')\n",
    "                pbar.update(100)\n",
    "\n",
    "    return weights\n",
    "    "
   ]
  },
  {
   "cell_type": "code",
   "execution_count": null,
   "id": "f673523c-a933-4131-9430-3d11fdaa82bb",
   "metadata": {},
   "outputs": [],
   "source": [
    "from tqdm.auto import tqdm\n",
    "from torcheval.metrics.functional import r2_score\n",
    "\n",
    "def optimize_subset(conformations,target_map,num_iterations=1000,lr=.05):\n",
    "\n",
    "    n = conformations.num_beads\n",
    "    assert n == target_map.prob_map.shape[-1]\n",
    "\n",
    "    i,j = torch.triu_indices(n,n,1)\n",
    "    \n",
    "    probs = conformations_to_probs(conformations,sigma=3.72,r_c=1.5,return_map=False)[:,i,j].float()\n",
    "\n",
    "    target = target_map.prob_map.float()\n",
    "    target = target[i,j] / torch.nanmean(target[range(n-1),range(1,n)])\n",
    "    \n",
    "    N = len(conformations)\n",
    "    weights = torch.ones(N,1).requires_grad_(True)\n",
    "    \n",
    "    optimizer = torch.optim.LBFGS(\n",
    "        [weights], \n",
    "        lr=lr, \n",
    "        max_iter=20, \n",
    "        max_eval=None, \n",
    "        tolerance_grad=1e-08, \n",
    "        tolerance_change=1e-10, \n",
    "        history_size=100, \n",
    "        line_search_fn=None\n",
    "    )\n",
    "\n",
    "    with tqdm(total=num_iterations,initial=0) as pbar:\n",
    "        \n",
    "        def closure():\n",
    "            \n",
    "            optimizer.zero_grad()\n",
    "    \n",
    "            mean_probs = (weights/weights.sum() * probs).sum(0)\n",
    "    \n",
    "            loss = (mean_probs - target).square().sum()\n",
    "            loss = loss - (1_000_000 * weights[weights < 0]).sum()\n",
    "            loss.backward()\n",
    "\n",
    "            pbar.set_description(f'loss: {loss:.4f}')\n",
    "            \n",
    "            return loss\n",
    "    \n",
    "        for i in range(num_iterations):\n",
    "            optimizer.step(closure)\n",
    "            pbar.update(1)\n",
    "\n",
    "    return weights.detach()\n",
    "    "
   ]
  },
  {
   "cell_type": "code",
   "execution_count": null,
   "id": "b1119d02-67fa-4b24-9e2e-ea34e89987cb",
   "metadata": {},
   "outputs": [],
   "source": [
    "exp_map = gm_hic.fetch('1',7_380_000,8_660_000)\n",
    "#dists = Coordinates('../data/samples/origami_64_no_embed_reduction/eval_mode/unused/sample_395_1.0_0.0_120_1.pt').distances\n",
    "dists = Coordinates('../data/samples/origami_64_no_embed_reduction/eval_mode/unused/sample_395_2.5_0.1_120_1.pt').distances\n",
    "weights = optimize_subset(dists,exp_map,lr=.001)"
   ]
  },
  {
   "cell_type": "code",
   "execution_count": null,
   "id": "25e833c6-6a6b-4859-8920-c923624e6ccb",
   "metadata": {},
   "outputs": [],
   "source": [
    "probs = conformations_to_probs(dists,sigma=3.72,r_c=1.5,return_map=False)\n",
    "#HiCMap( ((weights.unsqueeze(-1)) * probs).mean(0) ).plot()\n",
    "HiCMap( ((weights.unsqueeze(-1)/weights.sum()) * probs).sum(0) ).plot()"
   ]
  },
  {
   "cell_type": "code",
   "execution_count": null,
   "id": "db62139b-da64-4e5b-b2de-1265a93227dd",
   "metadata": {},
   "outputs": [],
   "source": [
    "raw = conformations_to_probs(dists,sigma=3.72,r_c=1.5,return_map=True)\n",
    "weighted = HiCMap( ((weights.unsqueeze(-1)/weights.sum()) * probs).sum(0) )\n",
    "\n",
    "raw.plot_with(weighted)\n",
    "\n",
    "plt.matshow( (weighted.prob_map-raw.prob_map) )\n",
    "plt.colorbar()"
   ]
  },
  {
   "cell_type": "code",
   "execution_count": null,
   "id": "dcd23cef-8669-4eda-82e8-4aeeb59d9665",
   "metadata": {},
   "outputs": [],
   "source": [
    "plt.hist((weights/weights.sum()).flatten().numpy())"
   ]
  },
  {
   "cell_type": "code",
   "execution_count": null,
   "id": "53e8ad5b-a927-473c-b516-241dd87170bd",
   "metadata": {},
   "outputs": [],
   "source": [
    "24.729/20.41*21.644"
   ]
  },
  {
   "cell_type": "code",
   "execution_count": null,
   "id": "01455c39-6855-46c2-9505-5b252f6f974d",
   "metadata": {},
   "outputs": [],
   "source": [
    "import pandas as pd\n",
    "rosetta = pd.read_pickle('../data/embeddings_64_after_transformer/rosetta_stone.pkl')\n",
    "i=0\n",
    "while rosetta['21'][i][-1] != 28_500_000:\n",
    "    i+=1\n",
    "i,rosetta['21'][i][-1]"
   ]
  },
  {
   "cell_type": "code",
   "execution_count": null,
   "id": "189a6147-8530-4421-b09d-946487ae9796",
   "metadata": {},
   "outputs": [],
   "source": [
    "5.586/4.715 * "
   ]
  },
  {
   "cell_type": "code",
   "execution_count": null,
   "id": "cd03674e-0c1a-4566-8d11-25daff0330c7",
   "metadata": {},
   "outputs": [],
   "source": []
  },
  {
   "cell_type": "code",
   "execution_count": null,
   "id": "ddea2ab8-6fec-4c21-9327-e924c7819397",
   "metadata": {},
   "outputs": [],
   "source": []
  },
  {
   "cell_type": "code",
   "execution_count": null,
   "id": "26aed78a-2a74-41ed-a314-539c34b7c7ed",
   "metadata": {},
   "outputs": [],
   "source": []
  }
 ],
 "metadata": {
  "kernelspec": {
   "display_name": "Python 3 (ipykernel)",
   "language": "python",
   "name": "python3"
  },
  "language_info": {
   "codemirror_mode": {
    "name": "ipython",
    "version": 3
   },
   "file_extension": ".py",
   "mimetype": "text/x-python",
   "name": "python",
   "nbconvert_exporter": "python",
   "pygments_lexer": "ipython3",
   "version": "3.10.12"
  }
 },
 "nbformat": 4,
 "nbformat_minor": 5
}
