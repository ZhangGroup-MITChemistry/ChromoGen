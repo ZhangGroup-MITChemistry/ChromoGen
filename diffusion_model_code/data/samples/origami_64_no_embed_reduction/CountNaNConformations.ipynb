{
 "cells": [
  {
   "cell_type": "code",
   "execution_count": 2,
   "id": "2118ca91-5d58-4383-8848-ef58ab883c4c",
   "metadata": {},
   "outputs": [],
   "source": [
    "import os\n",
    "import sys\n",
    "sys.path.insert(0,'../../../code/data_utils/SampleClass/')\n",
    "from Coordinates import Coordinates"
   ]
  },
  {
   "cell_type": "code",
   "execution_count": 10,
   "id": "d68fe98e-585b-40e7-93c8-401eb09e5c84",
   "metadata": {},
   "outputs": [
    {
     "name": "stdout",
     "output_type": "stream",
     "text": [
      "./cross_validation/IMR/chr_11_2687_5.0_8.0.pt\n",
      "./eval_mode/sample_1325_5.0_8.0_120_1.pt\n",
      "./eval_mode/sample_1243_5.0_8.0_120_X.pt\n"
     ]
    }
   ],
   "source": [
    "num_missing_configs = 0 \n",
    "total_configs = 0 \n",
    "for d in [\n",
    "    #'multiple_milestones/corrected/',\n",
    "    './cross_validation/IMR/',\n",
    "    './cross_validation/GM/',\n",
    "    './eval_mode/'\n",
    "]:\n",
    "    files = [f for f in os.listdir(d) if os.path.isfile(d+f) and ('sample_' in f or 'chr_' in f)]\n",
    "\n",
    "    assert len(files) > 0\n",
    "    #print(d)\n",
    "    for f in files: \n",
    "        coords = Coordinates(d+f,False)\n",
    "        total_configs+= len(coords)\n",
    "        num_missing_configs+= len(coords) - len(Coordinates(coords.values))\n",
    "        if len(coords) - len(Coordinates(coords.values)) > 2:\n",
    "            print(d+f)\n",
    "        #n = len(Coordinates(d+f))\n",
    "        #num_missing_configs = 10_000 - \n",
    "        #print('\\t' + f + '\\t' + f'{len(Coordinates(d+f))}')\n",
    "        \n",
    "    "
   ]
  },
  {
   "cell_type": "code",
   "execution_count": 9,
   "id": "102e0a98-9179-47d5-b96f-aa463923761b",
   "metadata": {},
   "outputs": [
    {
     "name": "stdout",
     "output_type": "stream",
     "text": [
      "1240000\n",
      "48\n",
      "3.870967741935484e-05\n"
     ]
    }
   ],
   "source": [
    "print(total_configs)\n",
    "print(num_missing_configs)\n",
    "print(num_missing_configs/total_configs) "
   ]
  },
  {
   "cell_type": "code",
   "execution_count": null,
   "id": "fce115b5-a507-4a68-91f4-d168d400ef39",
   "metadata": {},
   "outputs": [],
   "source": []
  }
 ],
 "metadata": {
  "kernelspec": {
   "display_name": "Python 3 (ipykernel)",
   "language": "python",
   "name": "python3"
  },
  "language_info": {
   "codemirror_mode": {
    "name": "ipython",
    "version": 3
   },
   "file_extension": ".py",
   "mimetype": "text/x-python",
   "name": "python",
   "nbconvert_exporter": "python",
   "pygments_lexer": "ipython3",
   "version": "3.10.12"
  }
 },
 "nbformat": 4,
 "nbformat_minor": 5
}
