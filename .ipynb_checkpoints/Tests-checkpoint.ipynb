{
 "cells": [
  {
   "cell_type": "code",
   "execution_count": 18,
   "id": "5b6b9210-5407-49b8-8ca4-429b05a1bc61",
   "metadata": {},
   "outputs": [],
   "source": [
    "import sys\n",
    "import torch \n",
    "sys.path.insert(0,'/home/gridsan/gschuette/refining_scHiC/revamp_with_zhuohan/code/data_utils/')\n",
    "from HiCDataset import HiCDataset"
   ]
  },
  {
   "cell_type": "code",
   "execution_count": 19,
   "id": "b3885bb5-f2d1-4b40-90a4-25c8974c075c",
   "metadata": {},
   "outputs": [],
   "source": [
    "a = HiCDataset('/home/gridsan/gschuette/refining_scHiC/revamp_with_zhuohan/data/outside/GM12878_hg19.mcool')\n",
    "b = HiCDataset('/home/gridsan/gschuette/ChromoGen_temp/recreate_results/outside_data/hic/GM12878_hg19.mcool')"
   ]
  },
  {
   "cell_type": "code",
   "execution_count": null,
   "id": "3dc6af86-13d1-449f-88cf-b15916081001",
   "metadata": {},
   "outputs": [
    {
     "name": "stdout",
     "output_type": "stream",
     "text": [
      "1\n",
      "2\n",
      "3\n",
      "4\n",
      "5\n",
      "6\n"
     ]
    }
   ],
   "source": [
    "for chrom in [str(k) for k in range(1,23)] + ['X']:\n",
    "    print(chrom)\n",
    "    aa = a.fetch(chrom).prob_map\n",
    "    bb = b.fetch(chrom).prob_map\n",
    "    agree = torch.isclose(aa,bb) | (aa.isnan() & bb.isnan())\n",
    "    assert agree.all(), chrom"
   ]
  },
  {
   "cell_type": "code",
   "execution_count": null,
   "id": "851c3fe5-72e3-40a7-872d-e3c83601b0ba",
   "metadata": {},
   "outputs": [],
   "source": [
    "a = HiCDataset('/home/gridsan/gschuette/refining_scHiC/revamp_with_zhuohan/data/outside/IMR90_hg19.mcool')\n",
    "b = HiCDataset('/home/gridsan/gschuette/ChromoGen_temp/recreate_results/outside_data/hic/IMR90_hg19.mcool')"
   ]
  },
  {
   "cell_type": "code",
   "execution_count": null,
   "id": "ce651781-a6b2-4a30-ae9d-b140c39bb16d",
   "metadata": {},
   "outputs": [],
   "source": [
    "for chrom in [str(k) for k in range(1,23)] + ['X']:\n",
    "    print(chrom)\n",
    "    aa = a.fetch(chrom).prob_map\n",
    "    bb = b.fetch(chrom).prob_map\n",
    "    agree = torch.isclose(aa,bb) | (aa.isnan() & bb.isnan())\n",
    "    assert agree.all(), chrom"
   ]
  },
  {
   "cell_type": "code",
   "execution_count": null,
   "id": "d7d11771-5311-42b4-8260-525a4784590b",
   "metadata": {},
   "outputs": [],
   "source": []
  }
 ],
 "metadata": {
  "kernelspec": {
   "display_name": "Python 3 (ipykernel)",
   "language": "python",
   "name": "python3"
  },
  "language_info": {
   "codemirror_mode": {
    "name": "ipython",
    "version": 3
   },
   "file_extension": ".py",
   "mimetype": "text/x-python",
   "name": "python",
   "nbconvert_exporter": "python",
   "pygments_lexer": "ipython3",
   "version": "3.10.12"
  }
 },
 "nbformat": 4,
 "nbformat_minor": 5
}
